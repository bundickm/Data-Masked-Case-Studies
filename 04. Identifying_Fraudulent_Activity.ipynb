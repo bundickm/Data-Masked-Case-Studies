{
  "nbformat": 4,
  "nbformat_minor": 0,
  "metadata": {
    "colab": {
      "name": "Identifying_Fraudulent_Activity.ipynb",
      "provenance": [],
      "collapsed_sections": [],
      "authorship_tag": "ABX9TyNb+jd9Yw7mKhqK4gTTVHL0"
    },
    "kernelspec": {
      "name": "python3",
      "display_name": "Python 3"
    }
  },
  "cells": [
    {
      "cell_type": "markdown",
      "metadata": {
        "id": "M-iFJnCojzrh"
      },
      "source": [
        "# Identifying Fraudulent Activity\r\n",
        "\r\n",
        "Company XYZ is an e-commerce site that sells hand-made clothes.\r\n",
        "\r\n",
        "You have to build a model that predicts whether a user has a high probability of using the site to perform some illegal activity or not. This is a super common task for data scientists.\r\n",
        "\r\n",
        "You only have information about the user first transaction on the site and based on that you have to make your classification (“fraud/no fraud”).\r\n",
        "\r\n",
        "These are the tasks you are asked to do:\r\n",
        "1. For each user, determine their country based on the IP address\r\n",
        "2. Build a model to predict whether an activity is fraudulent or not. Explain how different assumptions about the cost of false positives vs false negatives would impact the model\r\n",
        "3. Your boss is a bit worried about using a model she doesn’t understand for something as important as fraud detection. How would you explain her how the model is making the predictions? Not from a mathematical perspective (she couldn’t care less about that), but from a user perspective. What kinds of users are more likely to be classified as at risk? What are their characteristics?\r\n",
        "4. Let’s say you now have this model which can be used live to predict in real time if an activity is fraudulent or not. From a product perspective, how would you use it? That is, what kind of different user experiences would you build based on the model output?"
      ]
    },
    {
      "cell_type": "markdown",
      "metadata": {
        "id": "9iTEOYWVmABR"
      },
      "source": [
        "# Data Description\r\n",
        "\r\n",
        "- **user_id:** Id of the user. Unique by user\r\n",
        "- **signup_time:** the time when the user created her account (GMT time)\r\n",
        "- **purchase_time:** the time when the user bought the item (GMT time)\r\n",
        "- **purchase_value:** the cost of the item purchased (USD)\r\n",
        "- **device_id:** the device id. You can assume that it is unique by device. I.e., same device ID means that the same physical device was used for the transaction\r\n",
        "- **source:** user marketing channel: ads, SEO, Direct (i.e. came to the site by directly typing the site address on the browser)\r\n",
        "- **browser:** the browser used by the user\r\n",
        "- **sex:** user sex: Male/Female\r\n",
        "- **age:** user age\r\n",
        "- **ip_address:** user numeric ip address\r\n",
        "- **class:** this is what we are trying to predict: whether the activity was fraudulent (1) or not (0)"
      ]
    },
    {
      "cell_type": "markdown",
      "metadata": {
        "id": "qXKOmcNPvH0W"
      },
      "source": [
        "# Navigation\r\n",
        "1. [Initial Exploration](#Initial)\r\n",
        "2. Case Study Questions\r\n",
        "    1. [Determine User Country](#Country)\r\n",
        "    2. [Model to Predict Fraud](#Model)\r\n",
        "        - [Feature Engineering](#Engineering)\r\n",
        "        - [Modeling](#Modeling)\r\n",
        "    3. [Model Explanation](#Explanation)\r\n",
        "    4. [Using the Model in Production](#Production)\r\n",
        "3. [Conclusion](#Conclusion)"
      ]
    },
    {
      "cell_type": "markdown",
      "metadata": {
        "id": "2--kttdd1e_G"
      },
      "source": [
        "<a name='Initial'></a>\r\n",
        "# Initial Exploration"
      ]
    },
    {
      "cell_type": "code",
      "metadata": {
        "colab": {
          "base_uri": "https://localhost:8080/"
        },
        "id": "V14o3psm7Lli",
        "outputId": "5f9d6af8-797c-4989-f26c-a5c4f156d441"
      },
      "source": [
        "!pip install category_encoders\r\n",
        "!pip install pdpbox"
      ],
      "execution_count": null,
      "outputs": [
        {
          "output_type": "stream",
          "text": [
            "Requirement already satisfied: category_encoders in /usr/local/lib/python3.6/dist-packages (2.2.2)\n",
            "Requirement already satisfied: pandas>=0.21.1 in /usr/local/lib/python3.6/dist-packages (from category_encoders) (1.1.5)\n",
            "Requirement already satisfied: scikit-learn>=0.20.0 in /usr/local/lib/python3.6/dist-packages (from category_encoders) (0.22.2.post1)\n",
            "Requirement already satisfied: scipy>=1.0.0 in /usr/local/lib/python3.6/dist-packages (from category_encoders) (1.4.1)\n",
            "Requirement already satisfied: numpy>=1.14.0 in /usr/local/lib/python3.6/dist-packages (from category_encoders) (1.18.5)\n",
            "Requirement already satisfied: patsy>=0.5.1 in /usr/local/lib/python3.6/dist-packages (from category_encoders) (0.5.1)\n",
            "Requirement already satisfied: statsmodels>=0.9.0 in /usr/local/lib/python3.6/dist-packages (from category_encoders) (0.10.2)\n",
            "Requirement already satisfied: pytz>=2017.2 in /usr/local/lib/python3.6/dist-packages (from pandas>=0.21.1->category_encoders) (2018.9)\n",
            "Requirement already satisfied: python-dateutil>=2.7.3 in /usr/local/lib/python3.6/dist-packages (from pandas>=0.21.1->category_encoders) (2.8.1)\n",
            "Requirement already satisfied: joblib>=0.11 in /usr/local/lib/python3.6/dist-packages (from scikit-learn>=0.20.0->category_encoders) (0.17.0)\n",
            "Requirement already satisfied: six in /usr/local/lib/python3.6/dist-packages (from patsy>=0.5.1->category_encoders) (1.15.0)\n",
            "Requirement already satisfied: pdpbox in /usr/local/lib/python3.6/dist-packages (0.2.0)\n",
            "Requirement already satisfied: numpy in /usr/local/lib/python3.6/dist-packages (from pdpbox) (1.18.5)\n",
            "Requirement already satisfied: scikit-learn in /usr/local/lib/python3.6/dist-packages (from pdpbox) (0.22.2.post1)\n",
            "Requirement already satisfied: joblib in /usr/local/lib/python3.6/dist-packages (from pdpbox) (0.17.0)\n",
            "Requirement already satisfied: psutil in /usr/local/lib/python3.6/dist-packages (from pdpbox) (5.4.8)\n",
            "Requirement already satisfied: pandas in /usr/local/lib/python3.6/dist-packages (from pdpbox) (1.1.5)\n",
            "Requirement already satisfied: matplotlib>=2.1.2 in /usr/local/lib/python3.6/dist-packages (from pdpbox) (3.2.2)\n",
            "Requirement already satisfied: scipy in /usr/local/lib/python3.6/dist-packages (from pdpbox) (1.4.1)\n",
            "Requirement already satisfied: python-dateutil>=2.7.3 in /usr/local/lib/python3.6/dist-packages (from pandas->pdpbox) (2.8.1)\n",
            "Requirement already satisfied: pytz>=2017.2 in /usr/local/lib/python3.6/dist-packages (from pandas->pdpbox) (2018.9)\n",
            "Requirement already satisfied: pyparsing!=2.0.4,!=2.1.2,!=2.1.6,>=2.0.1 in /usr/local/lib/python3.6/dist-packages (from matplotlib>=2.1.2->pdpbox) (2.4.7)\n",
            "Requirement already satisfied: kiwisolver>=1.0.1 in /usr/local/lib/python3.6/dist-packages (from matplotlib>=2.1.2->pdpbox) (1.3.1)\n",
            "Requirement already satisfied: cycler>=0.10 in /usr/local/lib/python3.6/dist-packages (from matplotlib>=2.1.2->pdpbox) (0.10.0)\n",
            "Requirement already satisfied: six>=1.5 in /usr/local/lib/python3.6/dist-packages (from python-dateutil>=2.7.3->pandas->pdpbox) (1.15.0)\n"
          ],
          "name": "stdout"
        }
      ]
    },
    {
      "cell_type": "code",
      "metadata": {
        "id": "4pkuOAxgOlnZ"
      },
      "source": [
        "import pandas as pd\r\n",
        "from sklearn.ensemble import RandomForestClassifier\r\n",
        "from sklearn.metrics import confusion_matrix\r\n",
        "from sklearn.model_selection import train_test_split\r\n",
        "import category_encoders as ce\r\n",
        "from sklearn.metrics import roc_curve\r\n",
        "import matplotlib.pyplot as plt\r\n",
        "from pdpbox import pdp\r\n",
        "from pdpbox import info_plots"
      ],
      "execution_count": null,
      "outputs": []
    },
    {
      "cell_type": "code",
      "metadata": {
        "colab": {
          "base_uri": "https://localhost:8080/",
          "height": 214
        },
        "id": "7L9nHvSOkG4G",
        "outputId": "2382ccbd-8a4c-4fe4-a728-2ef41c3237ce"
      },
      "source": [
        "df =  pd.read_csv('https://raw.githubusercontent.com/bundickm/DataMasked/main/CSVs/Fraud_Data.csv?token=ALJ4RG42JZZOL5UNUW7Y5PK74J3TS')\r\n",
        "\r\n",
        "df['ip_address'] = df['ip_address'].astype(int)\r\n",
        "df['signup_time'] = pd.to_datetime(df['signup_time'])\r\n",
        "df['purchase_time'] = pd.to_datetime(df['purchase_time'])\r\n",
        "\r\n",
        "print(df.shape)\r\n",
        "df.head()"
      ],
      "execution_count": null,
      "outputs": [
        {
          "output_type": "stream",
          "text": [
            "(151112, 11)\n"
          ],
          "name": "stdout"
        },
        {
          "output_type": "execute_result",
          "data": {
            "text/html": [
              "<div>\n",
              "<style scoped>\n",
              "    .dataframe tbody tr th:only-of-type {\n",
              "        vertical-align: middle;\n",
              "    }\n",
              "\n",
              "    .dataframe tbody tr th {\n",
              "        vertical-align: top;\n",
              "    }\n",
              "\n",
              "    .dataframe thead th {\n",
              "        text-align: right;\n",
              "    }\n",
              "</style>\n",
              "<table border=\"1\" class=\"dataframe\">\n",
              "  <thead>\n",
              "    <tr style=\"text-align: right;\">\n",
              "      <th></th>\n",
              "      <th>user_id</th>\n",
              "      <th>signup_time</th>\n",
              "      <th>purchase_time</th>\n",
              "      <th>purchase_value</th>\n",
              "      <th>device_id</th>\n",
              "      <th>source</th>\n",
              "      <th>browser</th>\n",
              "      <th>sex</th>\n",
              "      <th>age</th>\n",
              "      <th>ip_address</th>\n",
              "      <th>class</th>\n",
              "    </tr>\n",
              "  </thead>\n",
              "  <tbody>\n",
              "    <tr>\n",
              "      <th>0</th>\n",
              "      <td>22058</td>\n",
              "      <td>2015-02-24 22:55:49</td>\n",
              "      <td>2015-04-18 02:47:11</td>\n",
              "      <td>34</td>\n",
              "      <td>QVPSPJUOCKZAR</td>\n",
              "      <td>SEO</td>\n",
              "      <td>Chrome</td>\n",
              "      <td>M</td>\n",
              "      <td>39</td>\n",
              "      <td>732758368</td>\n",
              "      <td>0</td>\n",
              "    </tr>\n",
              "    <tr>\n",
              "      <th>1</th>\n",
              "      <td>333320</td>\n",
              "      <td>2015-06-07 20:39:50</td>\n",
              "      <td>2015-06-08 01:38:54</td>\n",
              "      <td>16</td>\n",
              "      <td>EOGFQPIZPYXFZ</td>\n",
              "      <td>Ads</td>\n",
              "      <td>Chrome</td>\n",
              "      <td>F</td>\n",
              "      <td>53</td>\n",
              "      <td>350311387</td>\n",
              "      <td>0</td>\n",
              "    </tr>\n",
              "    <tr>\n",
              "      <th>2</th>\n",
              "      <td>1359</td>\n",
              "      <td>2015-01-01 18:52:44</td>\n",
              "      <td>2015-01-01 18:52:45</td>\n",
              "      <td>15</td>\n",
              "      <td>YSSKYOSJHPPLJ</td>\n",
              "      <td>SEO</td>\n",
              "      <td>Opera</td>\n",
              "      <td>M</td>\n",
              "      <td>53</td>\n",
              "      <td>2621473820</td>\n",
              "      <td>1</td>\n",
              "    </tr>\n",
              "    <tr>\n",
              "      <th>3</th>\n",
              "      <td>150084</td>\n",
              "      <td>2015-04-28 21:13:25</td>\n",
              "      <td>2015-05-04 13:54:50</td>\n",
              "      <td>44</td>\n",
              "      <td>ATGTXKYKUDUQN</td>\n",
              "      <td>SEO</td>\n",
              "      <td>Safari</td>\n",
              "      <td>M</td>\n",
              "      <td>41</td>\n",
              "      <td>3840542443</td>\n",
              "      <td>0</td>\n",
              "    </tr>\n",
              "    <tr>\n",
              "      <th>4</th>\n",
              "      <td>221365</td>\n",
              "      <td>2015-07-21 07:09:52</td>\n",
              "      <td>2015-09-09 18:40:53</td>\n",
              "      <td>39</td>\n",
              "      <td>NAUITBZFJKHWW</td>\n",
              "      <td>Ads</td>\n",
              "      <td>Safari</td>\n",
              "      <td>M</td>\n",
              "      <td>45</td>\n",
              "      <td>415583117</td>\n",
              "      <td>0</td>\n",
              "    </tr>\n",
              "  </tbody>\n",
              "</table>\n",
              "</div>"
            ],
            "text/plain": [
              "   user_id         signup_time       purchase_time  ...  age  ip_address class\n",
              "0    22058 2015-02-24 22:55:49 2015-04-18 02:47:11  ...   39   732758368     0\n",
              "1   333320 2015-06-07 20:39:50 2015-06-08 01:38:54  ...   53   350311387     0\n",
              "2     1359 2015-01-01 18:52:44 2015-01-01 18:52:45  ...   53  2621473820     1\n",
              "3   150084 2015-04-28 21:13:25 2015-05-04 13:54:50  ...   41  3840542443     0\n",
              "4   221365 2015-07-21 07:09:52 2015-09-09 18:40:53  ...   45   415583117     0\n",
              "\n",
              "[5 rows x 11 columns]"
            ]
          },
          "metadata": {
            "tags": []
          },
          "execution_count": 122
        }
      ]
    },
    {
      "cell_type": "code",
      "metadata": {
        "colab": {
          "base_uri": "https://localhost:8080/"
        },
        "id": "Lcq4MpZ8ldPF",
        "outputId": "e0f4a354-ef3a-4242-fe1d-319336b5ba09"
      },
      "source": [
        "df.info()"
      ],
      "execution_count": null,
      "outputs": [
        {
          "output_type": "stream",
          "text": [
            "<class 'pandas.core.frame.DataFrame'>\n",
            "RangeIndex: 151112 entries, 0 to 151111\n",
            "Data columns (total 11 columns):\n",
            " #   Column          Non-Null Count   Dtype         \n",
            "---  ------          --------------   -----         \n",
            " 0   user_id         151112 non-null  int64         \n",
            " 1   signup_time     151112 non-null  datetime64[ns]\n",
            " 2   purchase_time   151112 non-null  datetime64[ns]\n",
            " 3   purchase_value  151112 non-null  int64         \n",
            " 4   device_id       151112 non-null  object        \n",
            " 5   source          151112 non-null  object        \n",
            " 6   browser         151112 non-null  object        \n",
            " 7   sex             151112 non-null  object        \n",
            " 8   age             151112 non-null  int64         \n",
            " 9   ip_address      151112 non-null  int64         \n",
            " 10  class           151112 non-null  int64         \n",
            "dtypes: datetime64[ns](2), int64(5), object(4)\n",
            "memory usage: 12.7+ MB\n"
          ],
          "name": "stdout"
        }
      ]
    },
    {
      "cell_type": "code",
      "metadata": {
        "colab": {
          "base_uri": "https://localhost:8080/",
          "height": 214
        },
        "id": "8RrCu-mXluwu",
        "outputId": "ba5e4eec-f878-482c-cc9c-c32bf4d102ba"
      },
      "source": [
        "ip_bounds_and_country = pd.read_csv('https://raw.githubusercontent.com/bundickm/DataMasked/main/CSVs/IpAddress_to_Country.csv?token=ALJ4RG3QK5GYLHYNPSVQ6I274J4J6')\r\n",
        "\r\n",
        "print(ip_bounds_and_country.shape)\r\n",
        "ip_bounds_and_country.head()"
      ],
      "execution_count": null,
      "outputs": [
        {
          "output_type": "stream",
          "text": [
            "(138846, 3)\n"
          ],
          "name": "stdout"
        },
        {
          "output_type": "execute_result",
          "data": {
            "text/html": [
              "<div>\n",
              "<style scoped>\n",
              "    .dataframe tbody tr th:only-of-type {\n",
              "        vertical-align: middle;\n",
              "    }\n",
              "\n",
              "    .dataframe tbody tr th {\n",
              "        vertical-align: top;\n",
              "    }\n",
              "\n",
              "    .dataframe thead th {\n",
              "        text-align: right;\n",
              "    }\n",
              "</style>\n",
              "<table border=\"1\" class=\"dataframe\">\n",
              "  <thead>\n",
              "    <tr style=\"text-align: right;\">\n",
              "      <th></th>\n",
              "      <th>lower_bound_ip_address</th>\n",
              "      <th>upper_bound_ip_address</th>\n",
              "      <th>country</th>\n",
              "    </tr>\n",
              "  </thead>\n",
              "  <tbody>\n",
              "    <tr>\n",
              "      <th>0</th>\n",
              "      <td>16777216.0</td>\n",
              "      <td>16777471</td>\n",
              "      <td>Australia</td>\n",
              "    </tr>\n",
              "    <tr>\n",
              "      <th>1</th>\n",
              "      <td>16777472.0</td>\n",
              "      <td>16777727</td>\n",
              "      <td>China</td>\n",
              "    </tr>\n",
              "    <tr>\n",
              "      <th>2</th>\n",
              "      <td>16777728.0</td>\n",
              "      <td>16778239</td>\n",
              "      <td>China</td>\n",
              "    </tr>\n",
              "    <tr>\n",
              "      <th>3</th>\n",
              "      <td>16778240.0</td>\n",
              "      <td>16779263</td>\n",
              "      <td>Australia</td>\n",
              "    </tr>\n",
              "    <tr>\n",
              "      <th>4</th>\n",
              "      <td>16779264.0</td>\n",
              "      <td>16781311</td>\n",
              "      <td>China</td>\n",
              "    </tr>\n",
              "  </tbody>\n",
              "</table>\n",
              "</div>"
            ],
            "text/plain": [
              "   lower_bound_ip_address  upper_bound_ip_address    country\n",
              "0              16777216.0                16777471  Australia\n",
              "1              16777472.0                16777727      China\n",
              "2              16777728.0                16778239      China\n",
              "3              16778240.0                16779263  Australia\n",
              "4              16779264.0                16781311      China"
            ]
          },
          "metadata": {
            "tags": []
          },
          "execution_count": 124
        }
      ]
    },
    {
      "cell_type": "code",
      "metadata": {
        "id": "trx747UbmvbB"
      },
      "source": [
        "ip_bounds_and_country['lower_bound_ip_address'] = ip_bounds_and_country['lower_bound_ip_address'].astype(int)"
      ],
      "execution_count": null,
      "outputs": []
    },
    {
      "cell_type": "markdown",
      "metadata": {
        "id": "H77tbZLjm_PB"
      },
      "source": [
        "<a name='Country'></a>\r\n",
        "# Identify Each User's Country"
      ]
    },
    {
      "cell_type": "code",
      "metadata": {
        "colab": {
          "base_uri": "https://localhost:8080/",
          "height": 196
        },
        "id": "dpj0bA1Hm4fW",
        "outputId": "0207e09d-be24-4ac5-adeb-ddb3ff457713"
      },
      "source": [
        "def find_country_by_ip_address(ip_address):\r\n",
        "    country = list(ip_bounds_and_country[\r\n",
        "            (ip_bounds_and_country['lower_bound_ip_address'] <= ip_address) & \r\n",
        "            (ip_address <= ip_bounds_and_country['upper_bound_ip_address'])\r\n",
        "            ]['country'])\r\n",
        "    if len(country) == 1:\r\n",
        "        return country[0]\r\n",
        "    return 'Not Found'\r\n",
        "\r\n",
        "df['country'] = df['ip_address'].apply(find_country_by_ip_address)\r\n",
        "df.head()"
      ],
      "execution_count": null,
      "outputs": [
        {
          "output_type": "execute_result",
          "data": {
            "text/html": [
              "<div>\n",
              "<style scoped>\n",
              "    .dataframe tbody tr th:only-of-type {\n",
              "        vertical-align: middle;\n",
              "    }\n",
              "\n",
              "    .dataframe tbody tr th {\n",
              "        vertical-align: top;\n",
              "    }\n",
              "\n",
              "    .dataframe thead th {\n",
              "        text-align: right;\n",
              "    }\n",
              "</style>\n",
              "<table border=\"1\" class=\"dataframe\">\n",
              "  <thead>\n",
              "    <tr style=\"text-align: right;\">\n",
              "      <th></th>\n",
              "      <th>user_id</th>\n",
              "      <th>signup_time</th>\n",
              "      <th>purchase_time</th>\n",
              "      <th>purchase_value</th>\n",
              "      <th>device_id</th>\n",
              "      <th>source</th>\n",
              "      <th>browser</th>\n",
              "      <th>sex</th>\n",
              "      <th>age</th>\n",
              "      <th>ip_address</th>\n",
              "      <th>class</th>\n",
              "      <th>country</th>\n",
              "    </tr>\n",
              "  </thead>\n",
              "  <tbody>\n",
              "    <tr>\n",
              "      <th>0</th>\n",
              "      <td>22058</td>\n",
              "      <td>2015-02-24 22:55:49</td>\n",
              "      <td>2015-04-18 02:47:11</td>\n",
              "      <td>34</td>\n",
              "      <td>QVPSPJUOCKZAR</td>\n",
              "      <td>SEO</td>\n",
              "      <td>Chrome</td>\n",
              "      <td>M</td>\n",
              "      <td>39</td>\n",
              "      <td>732758368</td>\n",
              "      <td>0</td>\n",
              "      <td>Japan</td>\n",
              "    </tr>\n",
              "    <tr>\n",
              "      <th>1</th>\n",
              "      <td>333320</td>\n",
              "      <td>2015-06-07 20:39:50</td>\n",
              "      <td>2015-06-08 01:38:54</td>\n",
              "      <td>16</td>\n",
              "      <td>EOGFQPIZPYXFZ</td>\n",
              "      <td>Ads</td>\n",
              "      <td>Chrome</td>\n",
              "      <td>F</td>\n",
              "      <td>53</td>\n",
              "      <td>350311387</td>\n",
              "      <td>0</td>\n",
              "      <td>United States</td>\n",
              "    </tr>\n",
              "    <tr>\n",
              "      <th>2</th>\n",
              "      <td>1359</td>\n",
              "      <td>2015-01-01 18:52:44</td>\n",
              "      <td>2015-01-01 18:52:45</td>\n",
              "      <td>15</td>\n",
              "      <td>YSSKYOSJHPPLJ</td>\n",
              "      <td>SEO</td>\n",
              "      <td>Opera</td>\n",
              "      <td>M</td>\n",
              "      <td>53</td>\n",
              "      <td>2621473820</td>\n",
              "      <td>1</td>\n",
              "      <td>United States</td>\n",
              "    </tr>\n",
              "    <tr>\n",
              "      <th>3</th>\n",
              "      <td>150084</td>\n",
              "      <td>2015-04-28 21:13:25</td>\n",
              "      <td>2015-05-04 13:54:50</td>\n",
              "      <td>44</td>\n",
              "      <td>ATGTXKYKUDUQN</td>\n",
              "      <td>SEO</td>\n",
              "      <td>Safari</td>\n",
              "      <td>M</td>\n",
              "      <td>41</td>\n",
              "      <td>3840542443</td>\n",
              "      <td>0</td>\n",
              "      <td>Not Found</td>\n",
              "    </tr>\n",
              "    <tr>\n",
              "      <th>4</th>\n",
              "      <td>221365</td>\n",
              "      <td>2015-07-21 07:09:52</td>\n",
              "      <td>2015-09-09 18:40:53</td>\n",
              "      <td>39</td>\n",
              "      <td>NAUITBZFJKHWW</td>\n",
              "      <td>Ads</td>\n",
              "      <td>Safari</td>\n",
              "      <td>M</td>\n",
              "      <td>45</td>\n",
              "      <td>415583117</td>\n",
              "      <td>0</td>\n",
              "      <td>United States</td>\n",
              "    </tr>\n",
              "  </tbody>\n",
              "</table>\n",
              "</div>"
            ],
            "text/plain": [
              "   user_id         signup_time  ... class        country\n",
              "0    22058 2015-02-24 22:55:49  ...     0          Japan\n",
              "1   333320 2015-06-07 20:39:50  ...     0  United States\n",
              "2     1359 2015-01-01 18:52:44  ...     1  United States\n",
              "3   150084 2015-04-28 21:13:25  ...     0      Not Found\n",
              "4   221365 2015-07-21 07:09:52  ...     0  United States\n",
              "\n",
              "[5 rows x 12 columns]"
            ]
          },
          "metadata": {
            "tags": []
          },
          "execution_count": 126
        }
      ]
    },
    {
      "cell_type": "code",
      "metadata": {
        "colab": {
          "base_uri": "https://localhost:8080/"
        },
        "id": "4jf3cwPXnpoc",
        "outputId": "50e0c622-f4b9-47f4-f8b5-6f4b48ea2922"
      },
      "source": [
        "df['country'].value_counts(dropna=False)"
      ],
      "execution_count": null,
      "outputs": [
        {
          "output_type": "execute_result",
          "data": {
            "text/plain": [
              "United States                    58049\n",
              "Not Found                        21966\n",
              "China                            12038\n",
              "Japan                             7306\n",
              "United Kingdom                    4490\n",
              "                                 ...  \n",
              "Bonaire; Sint Eustatius; Saba        1\n",
              "Yemen                                1\n",
              "Turkmenistan                         1\n",
              "Guadeloupe                           1\n",
              "San Marino                           1\n",
              "Name: country, Length: 182, dtype: int64"
            ]
          },
          "metadata": {
            "tags": []
          },
          "execution_count": 127
        }
      ]
    },
    {
      "cell_type": "markdown",
      "metadata": {
        "id": "ULReOXwEuHSq"
      },
      "source": [
        "<a name='Model'></a>\r\n",
        "# Build a Model to Predict Fraud"
      ]
    },
    {
      "cell_type": "markdown",
      "metadata": {
        "id": "ZX5XYH6k1whg"
      },
      "source": [
        "<a name='Engineering'></a>\r\n",
        "## Feature Engineering"
      ]
    },
    {
      "cell_type": "code",
      "metadata": {
        "id": "DvSP3ksBrri-"
      },
      "source": [
        "df['time_to_purchase'] = (df['purchase_time'] - df['signup_time']).astype(int)"
      ],
      "execution_count": null,
      "outputs": []
    },
    {
      "cell_type": "code",
      "metadata": {
        "id": "Vi6mR0OPvjIY"
      },
      "source": [
        "def unique_ip(ip_address):\r\n",
        "    return ip_counts[ip_address]\r\n",
        "\r\n",
        "ip_counts = df['ip_address'].value_counts()\r\n",
        "df['unique_ip'] = df['ip_address'].apply(unique_ip)"
      ],
      "execution_count": null,
      "outputs": []
    },
    {
      "cell_type": "code",
      "metadata": {
        "id": "vTaxQsn008Vp"
      },
      "source": [
        "def unique_device(device_id):\r\n",
        "    return device_counts[device_id]\r\n",
        "\r\n",
        "device_counts = df['device_id'].value_counts()\r\n",
        "df['unique_device'] = df['device_id'].apply(unique_device)"
      ],
      "execution_count": null,
      "outputs": []
    },
    {
      "cell_type": "code",
      "metadata": {
        "id": "4GxFwSHvv0Aj"
      },
      "source": [
        "def day_of_week(date):\r\n",
        "    return date.dayofweek\r\n",
        "\r\n",
        "def week_of_year(date):\r\n",
        "    return date.week\r\n",
        "\r\n",
        "df['signup_day'] = df['signup_time'].apply(day_of_week)\r\n",
        "df['signup_week'] = df['signup_time'].apply(week_of_year)\r\n",
        "df['purchase_day'] = df['purchase_time'].apply(day_of_week)\r\n",
        "df['purchase_week'] = df['purchase_time'].apply(week_of_year)"
      ],
      "execution_count": null,
      "outputs": []
    },
    {
      "cell_type": "code",
      "metadata": {
        "colab": {
          "base_uri": "https://localhost:8080/",
          "height": 300
        },
        "id": "Lc_wvhL3v5kB",
        "outputId": "9eda7d99-372a-400c-c94d-e44437d6f304"
      },
      "source": [
        "df.head()"
      ],
      "execution_count": null,
      "outputs": [
        {
          "output_type": "execute_result",
          "data": {
            "text/html": [
              "<div>\n",
              "<style scoped>\n",
              "    .dataframe tbody tr th:only-of-type {\n",
              "        vertical-align: middle;\n",
              "    }\n",
              "\n",
              "    .dataframe tbody tr th {\n",
              "        vertical-align: top;\n",
              "    }\n",
              "\n",
              "    .dataframe thead th {\n",
              "        text-align: right;\n",
              "    }\n",
              "</style>\n",
              "<table border=\"1\" class=\"dataframe\">\n",
              "  <thead>\n",
              "    <tr style=\"text-align: right;\">\n",
              "      <th></th>\n",
              "      <th>user_id</th>\n",
              "      <th>signup_time</th>\n",
              "      <th>purchase_time</th>\n",
              "      <th>purchase_value</th>\n",
              "      <th>device_id</th>\n",
              "      <th>source</th>\n",
              "      <th>browser</th>\n",
              "      <th>sex</th>\n",
              "      <th>age</th>\n",
              "      <th>ip_address</th>\n",
              "      <th>class</th>\n",
              "      <th>country</th>\n",
              "      <th>time_to_purchase</th>\n",
              "      <th>unique_ip</th>\n",
              "      <th>unique_device</th>\n",
              "      <th>signup_day</th>\n",
              "      <th>signup_week</th>\n",
              "      <th>purchase_day</th>\n",
              "      <th>purchase_week</th>\n",
              "    </tr>\n",
              "  </thead>\n",
              "  <tbody>\n",
              "    <tr>\n",
              "      <th>0</th>\n",
              "      <td>22058</td>\n",
              "      <td>2015-02-24 22:55:49</td>\n",
              "      <td>2015-04-18 02:47:11</td>\n",
              "      <td>34</td>\n",
              "      <td>QVPSPJUOCKZAR</td>\n",
              "      <td>SEO</td>\n",
              "      <td>Chrome</td>\n",
              "      <td>M</td>\n",
              "      <td>39</td>\n",
              "      <td>732758368</td>\n",
              "      <td>0</td>\n",
              "      <td>Japan</td>\n",
              "      <td>4506682000000000</td>\n",
              "      <td>1</td>\n",
              "      <td>1</td>\n",
              "      <td>1</td>\n",
              "      <td>9</td>\n",
              "      <td>5</td>\n",
              "      <td>16</td>\n",
              "    </tr>\n",
              "    <tr>\n",
              "      <th>1</th>\n",
              "      <td>333320</td>\n",
              "      <td>2015-06-07 20:39:50</td>\n",
              "      <td>2015-06-08 01:38:54</td>\n",
              "      <td>16</td>\n",
              "      <td>EOGFQPIZPYXFZ</td>\n",
              "      <td>Ads</td>\n",
              "      <td>Chrome</td>\n",
              "      <td>F</td>\n",
              "      <td>53</td>\n",
              "      <td>350311387</td>\n",
              "      <td>0</td>\n",
              "      <td>United States</td>\n",
              "      <td>17944000000000</td>\n",
              "      <td>1</td>\n",
              "      <td>1</td>\n",
              "      <td>6</td>\n",
              "      <td>23</td>\n",
              "      <td>0</td>\n",
              "      <td>24</td>\n",
              "    </tr>\n",
              "    <tr>\n",
              "      <th>2</th>\n",
              "      <td>1359</td>\n",
              "      <td>2015-01-01 18:52:44</td>\n",
              "      <td>2015-01-01 18:52:45</td>\n",
              "      <td>15</td>\n",
              "      <td>YSSKYOSJHPPLJ</td>\n",
              "      <td>SEO</td>\n",
              "      <td>Opera</td>\n",
              "      <td>M</td>\n",
              "      <td>53</td>\n",
              "      <td>2621473820</td>\n",
              "      <td>1</td>\n",
              "      <td>United States</td>\n",
              "      <td>1000000000</td>\n",
              "      <td>12</td>\n",
              "      <td>12</td>\n",
              "      <td>3</td>\n",
              "      <td>1</td>\n",
              "      <td>3</td>\n",
              "      <td>1</td>\n",
              "    </tr>\n",
              "    <tr>\n",
              "      <th>3</th>\n",
              "      <td>150084</td>\n",
              "      <td>2015-04-28 21:13:25</td>\n",
              "      <td>2015-05-04 13:54:50</td>\n",
              "      <td>44</td>\n",
              "      <td>ATGTXKYKUDUQN</td>\n",
              "      <td>SEO</td>\n",
              "      <td>Safari</td>\n",
              "      <td>M</td>\n",
              "      <td>41</td>\n",
              "      <td>3840542443</td>\n",
              "      <td>0</td>\n",
              "      <td>Not Found</td>\n",
              "      <td>492085000000000</td>\n",
              "      <td>1</td>\n",
              "      <td>1</td>\n",
              "      <td>1</td>\n",
              "      <td>18</td>\n",
              "      <td>0</td>\n",
              "      <td>19</td>\n",
              "    </tr>\n",
              "    <tr>\n",
              "      <th>4</th>\n",
              "      <td>221365</td>\n",
              "      <td>2015-07-21 07:09:52</td>\n",
              "      <td>2015-09-09 18:40:53</td>\n",
              "      <td>39</td>\n",
              "      <td>NAUITBZFJKHWW</td>\n",
              "      <td>Ads</td>\n",
              "      <td>Safari</td>\n",
              "      <td>M</td>\n",
              "      <td>45</td>\n",
              "      <td>415583117</td>\n",
              "      <td>0</td>\n",
              "      <td>United States</td>\n",
              "      <td>4361461000000000</td>\n",
              "      <td>1</td>\n",
              "      <td>1</td>\n",
              "      <td>1</td>\n",
              "      <td>30</td>\n",
              "      <td>2</td>\n",
              "      <td>37</td>\n",
              "    </tr>\n",
              "  </tbody>\n",
              "</table>\n",
              "</div>"
            ],
            "text/plain": [
              "   user_id         signup_time  ... purchase_day  purchase_week\n",
              "0    22058 2015-02-24 22:55:49  ...            5             16\n",
              "1   333320 2015-06-07 20:39:50  ...            0             24\n",
              "2     1359 2015-01-01 18:52:44  ...            3              1\n",
              "3   150084 2015-04-28 21:13:25  ...            0             19\n",
              "4   221365 2015-07-21 07:09:52  ...            2             37\n",
              "\n",
              "[5 rows x 19 columns]"
            ]
          },
          "metadata": {
            "tags": []
          },
          "execution_count": 132
        }
      ]
    },
    {
      "cell_type": "markdown",
      "metadata": {
        "id": "ZJINdos_2zoz"
      },
      "source": [
        "<a name='Modeling'></a>\r\n",
        "## Model Building"
      ]
    },
    {
      "cell_type": "code",
      "metadata": {
        "id": "0W2rK-Wu2ndL"
      },
      "source": [
        "bottom_countries = df.groupby('country').size().sort_values(ascending=False)[50:].index\r\n",
        "x = dict.fromkeys(bottom_countries, 'Other')\r\n",
        "df['country'] = df['country'].replace(x)\r\n",
        "\r\n",
        "X, y = df.drop(['class', 'signup_time',\r\n",
        "                'purchase_time', 'device_id',], axis='columns'), df['class']\r\n",
        "X_train, X_test, y_train, y_test = train_test_split(X, y, test_size=0.33,\r\n",
        "                                                    random_state=42)"
      ],
      "execution_count": null,
      "outputs": []
    },
    {
      "cell_type": "markdown",
      "metadata": {
        "id": "2K_E8sMk4Ho-"
      },
      "source": [
        "Get a baseline accuracy by looking at the majority classifier. 90.6% is our baseline. Not surprisingly most people don't commit fraud, but 9.4%% fraud rate does seem high."
      ]
    },
    {
      "cell_type": "code",
      "metadata": {
        "colab": {
          "base_uri": "https://localhost:8080/"
        },
        "id": "HZfyAwoK3G6L",
        "outputId": "17963873-8e1d-4486-e92a-abbfd6529836"
      },
      "source": [
        "y_train.value_counts(normalize=True, dropna=False)"
      ],
      "execution_count": null,
      "outputs": [
        {
          "output_type": "execute_result",
          "data": {
            "text/plain": [
              "0    0.90602\n",
              "1    0.09398\n",
              "Name: class, dtype: float64"
            ]
          },
          "metadata": {
            "tags": []
          },
          "execution_count": 134
        }
      ]
    },
    {
      "cell_type": "code",
      "metadata": {
        "id": "4J4vTaC9-lP2"
      },
      "source": [
        "def one_hot_encode(df, cols):\r\n",
        "    df = df.copy()\r\n",
        "    cols.insert(0, 'user_id')\r\n",
        "    one_hot_encoder = ce.OneHotEncoder(use_cat_names=True)\r\n",
        "    one_hots = one_hot_encoder.fit_transform(df[cols])\r\n",
        "    df = df.drop(cols[1:], axis='columns')\r\n",
        "    df = df.merge(one_hots, on='user_id')\r\n",
        "    return df\r\n",
        "\r\n",
        "X_train = one_hot_encode(X_train, ['browser', 'source', 'sex', 'country'])\r\n",
        "X_test = one_hot_encode(X_test, ['browser', 'source', 'sex', 'country'])"
      ],
      "execution_count": null,
      "outputs": []
    },
    {
      "cell_type": "code",
      "metadata": {
        "colab": {
          "base_uri": "https://localhost:8080/"
        },
        "id": "7QPX-7_Z_7qi",
        "outputId": "fbbb30a2-4b63-47bb-ac37-fa199939510c"
      },
      "source": [
        "rf_model = RandomForestClassifier(n_estimators=100, max_features=3,\r\n",
        "                                  oob_score=True)\r\n",
        "rf_model.fit(X_train, y_train)"
      ],
      "execution_count": null,
      "outputs": [
        {
          "output_type": "execute_result",
          "data": {
            "text/plain": [
              "RandomForestClassifier(bootstrap=True, ccp_alpha=0.0, class_weight=None,\n",
              "                       criterion='gini', max_depth=None, max_features=3,\n",
              "                       max_leaf_nodes=None, max_samples=None,\n",
              "                       min_impurity_decrease=0.0, min_impurity_split=None,\n",
              "                       min_samples_leaf=1, min_samples_split=2,\n",
              "                       min_weight_fraction_leaf=0.0, n_estimators=100,\n",
              "                       n_jobs=None, oob_score=True, random_state=None,\n",
              "                       verbose=0, warm_start=False)"
            ]
          },
          "metadata": {
            "tags": []
          },
          "execution_count": 136
        }
      ]
    },
    {
      "cell_type": "code",
      "metadata": {
        "colab": {
          "base_uri": "https://localhost:8080/"
        },
        "id": "PKcMs9QZCBAr",
        "outputId": "9457a678-69c3-4a18-d6e8-c70b8fdad110"
      },
      "source": [
        "print('OOB accuracy:', rf_model.oob_score_)\r\n",
        "print('OOB Confusion Matrix\\n')\r\n",
        "print(pd.DataFrame(confusion_matrix(y_train, \r\n",
        "                                  rf_model.oob_decision_function_[:,1].round(),\r\n",
        "                                  labels=[0, 1])))"
      ],
      "execution_count": null,
      "outputs": [
        {
          "output_type": "stream",
          "text": [
            "OOB accuracy: 0.9562348757963356\n",
            "OOB Confusion Matrix\n",
            "\n",
            "       0     1\n",
            "0  91722     8\n",
            "1   4423  5092\n"
          ],
          "name": "stdout"
        }
      ]
    },
    {
      "cell_type": "code",
      "metadata": {
        "colab": {
          "base_uri": "https://localhost:8080/"
        },
        "id": "e4G_-WypDjF9",
        "outputId": "0e8f39b8-9719-4a2d-f78a-54faf327eb03"
      },
      "source": [
        "print('Test accuracy:', rf_model.score(X_test, y_test))\r\n",
        "print('Test Set Confusion Matrix\\n')\r\n",
        "print(pd.DataFrame(confusion_matrix(y_test, rf_model.predict(X_test),\r\n",
        "                                    labels=[0, 1])))"
      ],
      "execution_count": null,
      "outputs": [
        {
          "output_type": "stream",
          "text": [
            "Test accuracy: 0.9573665951430806\n",
            "Test Set Confusion Matrix\n",
            "\n",
            "       0     1\n",
            "0  45230     1\n",
            "1   2125  2511\n"
          ],
          "name": "stdout"
        }
      ]
    },
    {
      "cell_type": "code",
      "metadata": {
        "colab": {
          "base_uri": "https://localhost:8080/",
          "height": 295
        },
        "id": "KyZ3UUJdXPaj",
        "outputId": "e66767b7-3b6f-4bfa-e85f-bee038209859"
      },
      "source": [
        "pred_prob = rf_model.predict_proba(X_test)[:,1]\r\n",
        "fpr, tpr, thresholds = roc_curve(y_test, pred_prob)\r\n",
        "\r\n",
        "plt.plot(fpr, tpr)\r\n",
        "plt.plot([0, 1], [0, 1])\r\n",
        "plt.ylim([0, 1.0])\r\n",
        "plt.xlabel('False Positive Rate')\r\n",
        "plt.ylabel('True Positive Rate')\r\n",
        "plt.title('ROC')\r\n",
        "plt.show()"
      ],
      "execution_count": null,
      "outputs": [
        {
          "output_type": "display_data",
          "data": {
            "image/png": "[encoded data removed]",
            "text/plain": [
              "<Figure size 432x288 with 1 Axes>"
            ]
          },
          "metadata": {
            "tags": [],
            "needs_background": "light"
          }
        }
      ]
    },
    {
      "cell_type": "code",
      "metadata": {
        "colab": {
          "base_uri": "https://localhost:8080/"
        },
        "id": "cCWLr95GZJop",
        "outputId": "a61ec013-35a5-4588-b303-28248fe51738"
      },
      "source": [
        "error_cutoff = pd.DataFrame({'cutoff': pd.Series(thresholds),\r\n",
        "                             'class0_error(fpr)': pd.Series(fpr),\r\n",
        "                             'class1_error(fnr)': 1 - pd.Series(tpr)})\r\n",
        "error_cutoff['optimal_value'] = 1 - error_cutoff['class1_error(fnr)'] - error_cutoff['class0_error(fpr)']\r\n",
        "print(error_cutoff.sort_values('optimal_value', ascending=False).head(1))"
      ],
      "execution_count": null,
      "outputs": [
        {
          "output_type": "stream",
          "text": [
            "    cutoff  class0_error(fpr)  class1_error(fnr)  optimal_value\n",
            "52    0.13            0.07769           0.308671       0.613639\n"
          ],
          "name": "stdout"
        }
      ]
    },
    {
      "cell_type": "code",
      "metadata": {
        "id": "VcDr7gvlcsba"
      },
      "source": [
        "pdp_dict = {'Country': [],\r\n",
        "            'Age': 'age',\r\n",
        "            'Purchase Value': 'purchase_value',\r\n",
        "            'Time to Purchase': 'time_to_purchase',\r\n",
        "            'Unique IP': 'unique_ip',\r\n",
        "            'Unique Device': 'unique_device',\r\n",
        "            'Signup Day': 'signup_day',\r\n",
        "            'Signup Week': 'signup_week',\r\n",
        "            'Purchase Day': 'purchase_day',\r\n",
        "            'Purchase Week': 'purchase_week',\r\n",
        "            'Browser': [],\r\n",
        "            'Source': [],\r\n",
        "            'Sex': []}\r\n",
        "\r\n",
        "for col in X_train.columns:\r\n",
        "    if 'country' in col:\r\n",
        "        pdp_dict['Country'].append(col)\r\n",
        "    elif 'browser' in col:\r\n",
        "        pdp_dict['Browser'].append(col)\r\n",
        "    elif 'source' in col:\r\n",
        "        pdp_dict['Source'].append(col)\r\n",
        "    elif 'sex' in col:\r\n",
        "        pdp_dict['Sex'].append(col)"
      ],
      "execution_count": null,
      "outputs": []
    },
    {
      "cell_type": "code",
      "metadata": {
        "colab": {
          "base_uri": "https://localhost:8080/",
          "height": 1000
        },
        "id": "JRQbBqG-bIBF",
        "outputId": "9cac20cc-f2f8-4d92-f218-d292ee8aa7f3"
      },
      "source": [
        "# singles = ['Age', 'Purchase Value', 'Time to Purchase', 'Unique IP', \r\n",
        "#            'Unique Device', ' Signup Day', 'Signup Week', \r\n",
        "#            'Purchase Day', 'Purchase Week']\r\n",
        "\r\n",
        "# for key, value in pdp_dict.items():\r\n",
        "#     pdp_iso = pdp.pdp_isolate(\r\n",
        "#                 model=rf_model, \r\n",
        "#                 dataset=X_train,      \r\n",
        "#                 model_features=list(X_train), \r\n",
        "#                 feature=pdp_dict[key], \r\n",
        "#                 num_grid_points=50)\r\n",
        "#     if key in singles:\r\n",
        "#         pdp_dataset = pd.Series(pdp_iso.pdp, index=pdp_iso.feature_grids)\r\n",
        "#         pdp_dataset.plot(title=key)\r\n",
        "#     else:\r\n",
        "#         pdp_dataset = pd.Series(pdp_iso.pdp, index=pdp_iso.display_columns)\r\n",
        "#         pdp_dataset.sort_values(ascending=False).plot(kind='bar', title=key)\r\n",
        "#     plt.show()"
      ],
      "execution_count": null,
      "outputs": [
        {
          "output_type": "display_data",
          "data": {
            "image/png": "[encoded data removed]",
            "text/plain": [
              "<Figure size 432x288 with 1 Axes>"
            ]
          },
          "metadata": {
            "tags": [],
            "needs_background": "light"
          }
        },
        {
          "output_type": "display_data",
          "data": {
            "image/png": "[encoded data removed]",
            "text/plain": [
              "<Figure size 432x288 with 1 Axes>"
            ]
          },
          "metadata": {
            "tags": [],
            "needs_background": "light"
          }
        },
        {
          "output_type": "display_data",
          "data": {
            "image/png": "[encoded data removed]",
            "text/plain": [
              "<Figure size 432x288 with 1 Axes>"
            ]
          },
          "metadata": {
            "tags": [],
            "needs_background": "light"
          }
        },
        {
          "output_type": "display_data",
          "data": {
            "image/png": "[encoded data removed]",
            "text/plain": [
              "<Figure size 432x288 with 1 Axes>"
            ]
          },
          "metadata": {
            "tags": [],
            "needs_background": "light"
          }
        },
        {
          "output_type": "display_data",
          "data": {
            "image/png": "[encoded data removed]",
            "text/plain": [
              "<Figure size 432x288 with 1 Axes>"
            ]
          },
          "metadata": {
            "tags": [],
            "needs_background": "light"
          }
        },
        {
          "output_type": "display_data",
          "data": {
            "image/png": "[encoded data removed]",
            "text/plain": [
              "<Figure size 432x288 with 1 Axes>"
            ]
          },
          "metadata": {
            "tags": [],
            "needs_background": "light"
          }
        },
        {
          "output_type": "display_data",
          "data": {
            "image/png": "[encoded data removed]",
            "text/plain": [
              "<Figure size 432x288 with 1 Axes>"
            ]
          },
          "metadata": {
            "tags": [],
            "needs_background": "light"
          }
        },
        {
          "output_type": "display_data",
          "data": {
            "image/png": "[encoded data removed]",
            "text/plain": [
              "<Figure size 432x288 with 1 Axes>"
            ]
          },
          "metadata": {
            "tags": [],
            "needs_background": "light"
          }
        },
        {
          "output_type": "display_data",
          "data": {
            "image/png": "[encoded data removed]",
            "text/plain": [
              "<Figure size 432x288 with 1 Axes>"
            ]
          },
          "metadata": {
            "tags": [],
            "needs_background": "light"
          }
        },
        {
          "output_type": "display_data",
          "data": {
            "image/png": "[encoded data removed]",
            "text/plain": [
              "<Figure size 432x288 with 1 Axes>"
            ]
          },
          "metadata": {
            "tags": [],
            "needs_background": "light"
          }
        },
        {
          "output_type": "display_data",
          "data": {
            "image/png": "[encoded data removed]",
            "text/plain": [
              "<Figure size 432x288 with 1 Axes>"
            ]
          },
          "metadata": {
            "tags": [],
            "needs_background": "light"
          }
        },
        {
          "output_type": "display_data",
          "data": {
            "image/png": "[encoded data removed]",
            "text/plain": [
              "<Figure size 432x288 with 1 Axes>"
            ]
          },
          "metadata": {
            "tags": [],
            "needs_background": "light"
          }
        },
        {
          "output_type": "display_data",
          "data": {
            "image/png": "[encoded data removed]",
            "text/plain": [
              "<Figure size 432x288 with 1 Axes>"
            ]
          },
          "metadata": {
            "tags": [],
            "needs_background": "light"
          }
        }
      ]
    },
    {
      "cell_type": "markdown",
      "metadata": {
        "id": "-fLr_B2uwrTe"
      },
      "source": [
        "<a name='Explanation'></a>\r\n",
        "# Explanation of the Model's Descision Process"
      ]
    },
    {
      "cell_type": "markdown",
      "metadata": {
        "id": "yhcVlGxnxTxv"
      },
      "source": [
        "<a name='Production'></a>\r\n",
        "# Using the Model in Production"
      ]
    },
    {
      "cell_type": "markdown",
      "metadata": {
        "id": "mPpT2c36xdpd"
      },
      "source": [
        "<a name='Conclusion'></a>\r\n",
        "# Conclusion"
      ]
    }
  ]
}