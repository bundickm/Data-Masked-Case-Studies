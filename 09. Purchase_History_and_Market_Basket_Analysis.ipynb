{
  "nbformat": 4,
  "nbformat_minor": 0,
  "metadata": {
    "colab": {
      "name": "Purchase History and Market Basket Analysis.ipynb",
      "provenance": [],
      "collapsed_sections": [],
      "authorship_tag": "ABX9TyOhsihpbYgBvH/fqsihV9qK"
    },
    "kernelspec": {
      "name": "python3",
      "display_name": "Python 3"
    }
  },
  "cells": [
    {
      "cell_type": "markdown",
      "metadata": {
        "id": "iRJpB8Y7SH7A"
      },
      "source": [
        "Company XYZ is an online grocery store. In the current version of the website, they have manually grouped the items into a few categories based on their experience.\r\n",
        "\r\n",
        "However, they now have a lot of data about user purchase history. Therefore, they would like to put the data into use!\r\n",
        "\r\n",
        "This is what they asked you to do:\r\n",
        "\r\n",
        "- The company founder wants to meet with some of the best customers to go through a focus group with them. You are asked to send the ID of the following customers to the founder:\r\n",
        " - the customer who bought the most items overall in her lifetime\r\n",
        " - for each item, the customer who bought that product the most\r\n",
        "- Cluster items based on user co-purchase history. That is, create clusters of products that have the highest probability of being bought together. The goal of this is to replace the old/manually created categories with these new ones. Each item can belong to just one cluster."
      ]
    },
    {
      "cell_type": "code",
      "metadata": {
        "id": "yk8-veXtMypM"
      },
      "source": [
        "import pandas as pd\r\n",
        "import matplotlib.pyplot as plt\r\n",
        "from sklearn.cluster import KMeans\r\n",
        "from sklearn.metrics import silhouette_score"
      ],
      "execution_count": 10,
      "outputs": []
    },
    {
      "cell_type": "code",
      "metadata": {
        "colab": {
          "base_uri": "https://localhost:8080/",
          "height": 216
        },
        "id": "L3bx2e2jNa-O",
        "outputId": "ba872ee2-5236-4119-b1a9-b253808e5043"
      },
      "source": [
        "item_ids = pd.read_csv('https://raw.githubusercontent.com/bundickm/DataMasked---Private/main/CSVs/item_to_id.csv?token=ALJ4RG4IP3QTKM476RRVIUDADM2H4')\r\n",
        "print(item_ids.shape)\r\n",
        "item_ids.head()"
      ],
      "execution_count": 2,
      "outputs": [
        {
          "output_type": "stream",
          "text": [
            "(48, 2)\n"
          ],
          "name": "stdout"
        },
        {
          "output_type": "execute_result",
          "data": {
            "text/html": [
              "<div>\n",
              "<style scoped>\n",
              "    .dataframe tbody tr th:only-of-type {\n",
              "        vertical-align: middle;\n",
              "    }\n",
              "\n",
              "    .dataframe tbody tr th {\n",
              "        vertical-align: top;\n",
              "    }\n",
              "\n",
              "    .dataframe thead th {\n",
              "        text-align: right;\n",
              "    }\n",
              "</style>\n",
              "<table border=\"1\" class=\"dataframe\">\n",
              "  <thead>\n",
              "    <tr style=\"text-align: right;\">\n",
              "      <th></th>\n",
              "      <th>Item_name</th>\n",
              "      <th>Item_id</th>\n",
              "    </tr>\n",
              "  </thead>\n",
              "  <tbody>\n",
              "    <tr>\n",
              "      <th>0</th>\n",
              "      <td>coffee</td>\n",
              "      <td>43</td>\n",
              "    </tr>\n",
              "    <tr>\n",
              "      <th>1</th>\n",
              "      <td>tea</td>\n",
              "      <td>23</td>\n",
              "    </tr>\n",
              "    <tr>\n",
              "      <th>2</th>\n",
              "      <td>juice</td>\n",
              "      <td>38</td>\n",
              "    </tr>\n",
              "    <tr>\n",
              "      <th>3</th>\n",
              "      <td>soda</td>\n",
              "      <td>9</td>\n",
              "    </tr>\n",
              "    <tr>\n",
              "      <th>4</th>\n",
              "      <td>sandwich loaves</td>\n",
              "      <td>39</td>\n",
              "    </tr>\n",
              "  </tbody>\n",
              "</table>\n",
              "</div>"
            ],
            "text/plain": [
              "         Item_name  Item_id\n",
              "0           coffee       43\n",
              "1              tea       23\n",
              "2            juice       38\n",
              "3             soda        9\n",
              "4  sandwich loaves       39"
            ]
          },
          "metadata": {
            "tags": []
          },
          "execution_count": 2
        }
      ]
    },
    {
      "cell_type": "code",
      "metadata": {
        "colab": {
          "base_uri": "https://localhost:8080/",
          "height": 216
        },
        "id": "4GhMkYCCOR9j",
        "outputId": "f84f3e9d-c172-49b5-c830-f1317ef16070"
      },
      "source": [
        "purchases = pd.read_csv('https://raw.githubusercontent.com/bundickm/DataMasked---Private/main/CSVs/purchase_history.csv?token=ALJ4RG42IZXKV6HHLXKJRQLADM2K4')\r\n",
        "print(purchases.shape)\r\n",
        "purchases.head()"
      ],
      "execution_count": 3,
      "outputs": [
        {
          "output_type": "stream",
          "text": [
            "(39474, 2)\n"
          ],
          "name": "stdout"
        },
        {
          "output_type": "execute_result",
          "data": {
            "text/html": [
              "<div>\n",
              "<style scoped>\n",
              "    .dataframe tbody tr th:only-of-type {\n",
              "        vertical-align: middle;\n",
              "    }\n",
              "\n",
              "    .dataframe tbody tr th {\n",
              "        vertical-align: top;\n",
              "    }\n",
              "\n",
              "    .dataframe thead th {\n",
              "        text-align: right;\n",
              "    }\n",
              "</style>\n",
              "<table border=\"1\" class=\"dataframe\">\n",
              "  <thead>\n",
              "    <tr style=\"text-align: right;\">\n",
              "      <th></th>\n",
              "      <th>user_id</th>\n",
              "      <th>id</th>\n",
              "    </tr>\n",
              "  </thead>\n",
              "  <tbody>\n",
              "    <tr>\n",
              "      <th>0</th>\n",
              "      <td>222087</td>\n",
              "      <td>27,26</td>\n",
              "    </tr>\n",
              "    <tr>\n",
              "      <th>1</th>\n",
              "      <td>1343649</td>\n",
              "      <td>6,47,17</td>\n",
              "    </tr>\n",
              "    <tr>\n",
              "      <th>2</th>\n",
              "      <td>404134</td>\n",
              "      <td>18,12,23,22,27,43,38,20,35,1</td>\n",
              "    </tr>\n",
              "    <tr>\n",
              "      <th>3</th>\n",
              "      <td>1110200</td>\n",
              "      <td>9,23,2,20,26,47,37</td>\n",
              "    </tr>\n",
              "    <tr>\n",
              "      <th>4</th>\n",
              "      <td>224107</td>\n",
              "      <td>31,18,5,13,1,21,48,16,26,2,44,32,20,37,42,35,4...</td>\n",
              "    </tr>\n",
              "  </tbody>\n",
              "</table>\n",
              "</div>"
            ],
            "text/plain": [
              "   user_id                                                 id\n",
              "0   222087                                              27,26\n",
              "1  1343649                                            6,47,17\n",
              "2   404134                       18,12,23,22,27,43,38,20,35,1\n",
              "3  1110200                                 9,23,2,20,26,47,37\n",
              "4   224107  31,18,5,13,1,21,48,16,26,2,44,32,20,37,42,35,4..."
            ]
          },
          "metadata": {
            "tags": []
          },
          "execution_count": 3
        }
      ]
    },
    {
      "cell_type": "markdown",
      "metadata": {
        "id": "kmKtU8ZASnaq"
      },
      "source": [
        "We need to split the item ID's into individual columns, then rename them to their item names, and combine the purchase history of individual users."
      ]
    },
    {
      "cell_type": "code",
      "metadata": {
        "id": "dXUns_KQOit7"
      },
      "source": [
        "onehots = purchases['id'].str.split('\\s*,\\s*',\r\n",
        "                            expand=True).stack().str.get_dummies().sum(level=0)\r\n",
        "purchases = purchases.drop('id', axis='columns').merge(onehots, \r\n",
        "                                            left_index=True, right_index=True)"
      ],
      "execution_count": 4,
      "outputs": []
    },
    {
      "cell_type": "code",
      "metadata": {
        "id": "AtUcuo_zJYZB"
      },
      "source": [
        "item_map = {str(key): value for key, value in \r\n",
        "            item_ids.set_index('Item_id').to_dict()['Item_name'].items()}\r\n",
        "purchases = purchases.rename(item_map, axis='columns').set_index('user_id')\r\n",
        "purchases = purchases.groupby('user_id').sum()"
      ],
      "execution_count": 5,
      "outputs": []
    },
    {
      "cell_type": "markdown",
      "metadata": {
        "id": "7keZuttNTAPf"
      },
      "source": [
        "To get the customer who purchased the most items we simply need to sum all of the counts and sort in descending order.\r\n",
        "\r\n",
        "We see that customer 269335 has purchased the most items with 72."
      ]
    },
    {
      "cell_type": "code",
      "metadata": {
        "colab": {
          "base_uri": "https://localhost:8080/",
          "height": 78
        },
        "id": "bkNBjt_VRQrB",
        "outputId": "ecd90505-b3a3-4936-9cc7-9a0554264435"
      },
      "source": [
        "purchases.T.sum().sort_values(ascending=False).reset_index().rename({0:'count'},\r\n",
        "                                                             axis='columns')[:1]"
      ],
      "execution_count": 6,
      "outputs": [
        {
          "output_type": "execute_result",
          "data": {
            "text/html": [
              "<div>\n",
              "<style scoped>\n",
              "    .dataframe tbody tr th:only-of-type {\n",
              "        vertical-align: middle;\n",
              "    }\n",
              "\n",
              "    .dataframe tbody tr th {\n",
              "        vertical-align: top;\n",
              "    }\n",
              "\n",
              "    .dataframe thead th {\n",
              "        text-align: right;\n",
              "    }\n",
              "</style>\n",
              "<table border=\"1\" class=\"dataframe\">\n",
              "  <thead>\n",
              "    <tr style=\"text-align: right;\">\n",
              "      <th></th>\n",
              "      <th>user_id</th>\n",
              "      <th>count</th>\n",
              "    </tr>\n",
              "  </thead>\n",
              "  <tbody>\n",
              "    <tr>\n",
              "      <th>0</th>\n",
              "      <td>269335</td>\n",
              "      <td>72</td>\n",
              "    </tr>\n",
              "  </tbody>\n",
              "</table>\n",
              "</div>"
            ],
            "text/plain": [
              "   user_id  count\n",
              "0   269335     72"
            ]
          },
          "metadata": {
            "tags": []
          },
          "execution_count": 6
        }
      ]
    },
    {
      "cell_type": "markdown",
      "metadata": {
        "id": "Zs-f8KRaXKq_"
      },
      "source": [
        "Gettting the customer who purchased each item the most is a simple call to `idxmax` which gives us the first occurence of the maximum value over the defined axis."
      ]
    },
    {
      "cell_type": "code",
      "metadata": {
        "colab": {
          "base_uri": "https://localhost:8080/",
          "height": 1000
        },
        "id": "2x3CrhjNR1B1",
        "outputId": "4a7fa20d-180b-40d5-bb24-cbd6115b8524"
      },
      "source": [
        "pd.DataFrame(purchases.idxmax().T).rename({0:'customer'}, axis='columns')"
      ],
      "execution_count": 7,
      "outputs": [
        {
          "output_type": "execute_result",
          "data": {
            "text/html": [
              "<div>\n",
              "<style scoped>\n",
              "    .dataframe tbody tr th:only-of-type {\n",
              "        vertical-align: middle;\n",
              "    }\n",
              "\n",
              "    .dataframe tbody tr th {\n",
              "        vertical-align: top;\n",
              "    }\n",
              "\n",
              "    .dataframe thead th {\n",
              "        text-align: right;\n",
              "    }\n",
              "</style>\n",
              "<table border=\"1\" class=\"dataframe\">\n",
              "  <thead>\n",
              "    <tr style=\"text-align: right;\">\n",
              "      <th></th>\n",
              "      <th>customer</th>\n",
              "    </tr>\n",
              "  </thead>\n",
              "  <tbody>\n",
              "    <tr>\n",
              "      <th>sugar</th>\n",
              "      <td>31625</td>\n",
              "    </tr>\n",
              "    <tr>\n",
              "      <th>carrots</th>\n",
              "      <td>618914</td>\n",
              "    </tr>\n",
              "    <tr>\n",
              "      <th>cereals</th>\n",
              "      <td>367872</td>\n",
              "    </tr>\n",
              "    <tr>\n",
              "      <th>shampoo</th>\n",
              "      <td>557904</td>\n",
              "    </tr>\n",
              "    <tr>\n",
              "      <th>bagels</th>\n",
              "      <td>653800</td>\n",
              "    </tr>\n",
              "    <tr>\n",
              "      <th>eggs</th>\n",
              "      <td>172120</td>\n",
              "    </tr>\n",
              "    <tr>\n",
              "      <th>aluminum foil</th>\n",
              "      <td>143741</td>\n",
              "    </tr>\n",
              "    <tr>\n",
              "      <th>milk</th>\n",
              "      <td>73071</td>\n",
              "    </tr>\n",
              "    <tr>\n",
              "      <th>beef</th>\n",
              "      <td>366155</td>\n",
              "    </tr>\n",
              "    <tr>\n",
              "      <th>laundry detergent</th>\n",
              "      <td>917199</td>\n",
              "    </tr>\n",
              "    <tr>\n",
              "      <th>shaving cream</th>\n",
              "      <td>31625</td>\n",
              "    </tr>\n",
              "    <tr>\n",
              "      <th>lettuce</th>\n",
              "      <td>31625</td>\n",
              "    </tr>\n",
              "    <tr>\n",
              "      <th>grapefruit</th>\n",
              "      <td>885474</td>\n",
              "    </tr>\n",
              "    <tr>\n",
              "      <th>cheeses</th>\n",
              "      <td>884172</td>\n",
              "    </tr>\n",
              "    <tr>\n",
              "      <th>frozen vegetables</th>\n",
              "      <td>1199670</td>\n",
              "    </tr>\n",
              "    <tr>\n",
              "      <th>tea</th>\n",
              "      <td>920002</td>\n",
              "    </tr>\n",
              "    <tr>\n",
              "      <th>paper towels</th>\n",
              "      <td>189913</td>\n",
              "    </tr>\n",
              "    <tr>\n",
              "      <th>cherries</th>\n",
              "      <td>68282</td>\n",
              "    </tr>\n",
              "    <tr>\n",
              "      <th>spaghetti sauce</th>\n",
              "      <td>967573</td>\n",
              "    </tr>\n",
              "    <tr>\n",
              "      <th>dishwashing</th>\n",
              "      <td>956666</td>\n",
              "    </tr>\n",
              "    <tr>\n",
              "      <th>canned vegetables</th>\n",
              "      <td>204624</td>\n",
              "    </tr>\n",
              "    <tr>\n",
              "      <th>hand soap</th>\n",
              "      <td>394348</td>\n",
              "    </tr>\n",
              "    <tr>\n",
              "      <th>pet items</th>\n",
              "      <td>154960</td>\n",
              "    </tr>\n",
              "    <tr>\n",
              "      <th>flour</th>\n",
              "      <td>21779</td>\n",
              "    </tr>\n",
              "    <tr>\n",
              "      <th>pasta</th>\n",
              "      <td>289360</td>\n",
              "    </tr>\n",
              "    <tr>\n",
              "      <th>apples</th>\n",
              "      <td>109578</td>\n",
              "    </tr>\n",
              "    <tr>\n",
              "      <th>toilet paper</th>\n",
              "      <td>1310207</td>\n",
              "    </tr>\n",
              "    <tr>\n",
              "      <th>tortillas</th>\n",
              "      <td>305916</td>\n",
              "    </tr>\n",
              "    <tr>\n",
              "      <th>soap</th>\n",
              "      <td>450482</td>\n",
              "    </tr>\n",
              "    <tr>\n",
              "      <th>ice cream</th>\n",
              "      <td>269335</td>\n",
              "    </tr>\n",
              "    <tr>\n",
              "      <th>dinner rolls</th>\n",
              "      <td>46757</td>\n",
              "    </tr>\n",
              "    <tr>\n",
              "      <th>juice</th>\n",
              "      <td>255546</td>\n",
              "    </tr>\n",
              "    <tr>\n",
              "      <th>sandwich loaves</th>\n",
              "      <td>599172</td>\n",
              "    </tr>\n",
              "    <tr>\n",
              "      <th>baby items</th>\n",
              "      <td>5289</td>\n",
              "    </tr>\n",
              "    <tr>\n",
              "      <th>berries</th>\n",
              "      <td>38872</td>\n",
              "    </tr>\n",
              "    <tr>\n",
              "      <th>ketchup</th>\n",
              "      <td>133355</td>\n",
              "    </tr>\n",
              "    <tr>\n",
              "      <th>cucumbers</th>\n",
              "      <td>80215</td>\n",
              "    </tr>\n",
              "    <tr>\n",
              "      <th>coffee</th>\n",
              "      <td>996380</td>\n",
              "    </tr>\n",
              "    <tr>\n",
              "      <th>broccoli</th>\n",
              "      <td>31625</td>\n",
              "    </tr>\n",
              "    <tr>\n",
              "      <th>cauliflower</th>\n",
              "      <td>1198106</td>\n",
              "    </tr>\n",
              "    <tr>\n",
              "      <th>bananas</th>\n",
              "      <td>1218645</td>\n",
              "    </tr>\n",
              "    <tr>\n",
              "      <th>pork</th>\n",
              "      <td>384935</td>\n",
              "    </tr>\n",
              "    <tr>\n",
              "      <th>yogurt</th>\n",
              "      <td>335841</td>\n",
              "    </tr>\n",
              "    <tr>\n",
              "      <th>waffles</th>\n",
              "      <td>217277</td>\n",
              "    </tr>\n",
              "    <tr>\n",
              "      <th>poultry</th>\n",
              "      <td>334664</td>\n",
              "    </tr>\n",
              "    <tr>\n",
              "      <th>sandwich bags</th>\n",
              "      <td>175865</td>\n",
              "    </tr>\n",
              "    <tr>\n",
              "      <th>butter</th>\n",
              "      <td>151926</td>\n",
              "    </tr>\n",
              "    <tr>\n",
              "      <th>soda</th>\n",
              "      <td>269335</td>\n",
              "    </tr>\n",
              "  </tbody>\n",
              "</table>\n",
              "</div>"
            ],
            "text/plain": [
              "                   customer\n",
              "sugar                 31625\n",
              "carrots              618914\n",
              "cereals              367872\n",
              "shampoo              557904\n",
              "bagels               653800\n",
              "eggs                 172120\n",
              "aluminum foil        143741\n",
              "milk                  73071\n",
              "beef                 366155\n",
              "laundry detergent    917199\n",
              "shaving cream         31625\n",
              "lettuce               31625\n",
              "grapefruit           885474\n",
              "cheeses              884172\n",
              "frozen vegetables   1199670\n",
              "tea                  920002\n",
              "paper towels         189913\n",
              "cherries              68282\n",
              "spaghetti sauce      967573\n",
              "dishwashing          956666\n",
              "canned vegetables    204624\n",
              "hand soap            394348\n",
              "pet items            154960\n",
              "flour                 21779\n",
              "pasta                289360\n",
              "apples               109578\n",
              "toilet paper        1310207\n",
              "tortillas            305916\n",
              "soap                 450482\n",
              "ice cream            269335\n",
              "dinner rolls          46757\n",
              "juice                255546\n",
              "sandwich loaves      599172\n",
              "baby items             5289\n",
              "berries               38872\n",
              "ketchup              133355\n",
              "cucumbers             80215\n",
              "coffee               996380\n",
              "broccoli              31625\n",
              "cauliflower         1198106\n",
              "bananas             1218645\n",
              "pork                 384935\n",
              "yogurt               335841\n",
              "waffles              217277\n",
              "poultry              334664\n",
              "sandwich bags        175865\n",
              "butter               151926\n",
              "soda                 269335"
            ]
          },
          "metadata": {
            "tags": []
          },
          "execution_count": 7
        }
      ]
    },
    {
      "cell_type": "markdown",
      "metadata": {
        "id": "OFcqY6G_9QH-"
      },
      "source": [
        "Clustering"
      ]
    },
    {
      "cell_type": "code",
      "metadata": {
        "colab": {
          "base_uri": "https://localhost:8080/",
          "height": 513
        },
        "id": "F61IVkuH3Krg",
        "outputId": "76bfdf9e-ace4-41e0-9875-2823b7618492"
      },
      "source": [
        "# determine the best number of clusters\r\n",
        "clusters = range(2, 48)\r\n",
        "inertias = []\r\n",
        "silhouettes = []\r\n",
        "\r\n",
        "for n_clusters in clusters:\r\n",
        "    kmeans = KMeans(n_clusters=n_clusters, init='k-means++',\r\n",
        "                    random_state=42, n_jobs=-1)\r\n",
        "    kmeans = kmeans.fit(purchases.T)\r\n",
        "    label = kmeans.predict(purchases.T)\r\n",
        "    \r\n",
        "    inertias.append(kmeans.inertia_)\r\n",
        "    silhouettes.append(silhouette_score(purchases.T, label))\r\n",
        "\r\n",
        "plt.plot(clusters, inertias, 'o-', label='Sum of Squared Distances')\r\n",
        "plt.show()\r\n",
        "plt.plot(clusters, silhouettes, 'o-', label='Silhouette Coefficient')\r\n",
        "plt.show()"
      ],
      "execution_count": 422,
      "outputs": [
        {
          "output_type": "display_data",
          "data": {
            "image/png": "[encoded data removed]",
            "text/plain": [
              "<Figure size 432x288 with 1 Axes>"
            ]
          },
          "metadata": {
            "tags": [],
            "needs_background": "light"
          }
        },
        {
          "output_type": "display_data",
          "data": {
            "image/png": "[encoded data removed]",
            "text/plain": [
              "<Figure size 432x288 with 1 Axes>"
            ]
          },
          "metadata": {
            "tags": [],
            "needs_background": "light"
          }
        }
      ]
    },
    {
      "cell_type": "code",
      "metadata": {
        "id": "JX9LetVt3teK"
      },
      "source": [
        "GROUPS = 11\r\n",
        "\r\n",
        "# build K-Means model\r\n",
        "kmeans = KMeans(n_clusters=GROUPS, random_state=13, n_jobs=-1)\r\n",
        "kmeans = kmeans.fit(purchases.T)\r\n",
        "label = kmeans.predict(purchases.T)"
      ],
      "execution_count": 423,
      "outputs": []
    },
    {
      "cell_type": "code",
      "metadata": {
        "colab": {
          "base_uri": "https://localhost:8080/"
        },
        "id": "E4Ie7FMm5SB7",
        "outputId": "d05fd9bb-9c98-4e50-be98-aaf0ece336c3"
      },
      "source": [
        "df = pd.DataFrame({'Item Name': purchases.columns, 'Group': label})\r\n",
        "for i in range(GROUPS):\r\n",
        "    print('\\nGroup:', i)\r\n",
        "    print(list(df[df['Group'] == i]['Item Name']))"
      ],
      "execution_count": 424,
      "outputs": [
        {
          "output_type": "stream",
          "text": [
            "\n",
            "Group: 0\n",
            "['shampoo', 'shaving cream', 'hand soap', 'soap']\n",
            "\n",
            "Group: 1\n",
            "['lettuce']\n",
            "\n",
            "Group: 2\n",
            "['bananas']\n",
            "\n",
            "Group: 3\n",
            "['berries']\n",
            "\n",
            "Group: 4\n",
            "['sugar', 'cereals', 'eggs', 'aluminum foil', 'milk', 'laundry detergent', 'cheeses', 'frozen vegetables', 'paper towels', 'spaghetti sauce', 'dishwashing\\xa0', 'canned vegetables', 'pet items', 'flour', 'pasta', 'toilet paper', 'ice cream', 'baby items', 'ketchup', 'broccoli', 'cauliflower', 'yogurt', 'waffles', 'sandwich bags', 'butter']\n",
            "\n",
            "Group: 5\n",
            "['bagels', 'tortillas', 'dinner rolls', 'sandwich loaves']\n",
            "\n",
            "Group: 6\n",
            "['beef', 'pork', 'poultry']\n",
            "\n",
            "Group: 7\n",
            "['grapefruit', 'cherries']\n",
            "\n",
            "Group: 8\n",
            "['apples']\n",
            "\n",
            "Group: 9\n",
            "['tea', 'juice', 'coffee', 'soda']\n",
            "\n",
            "Group: 10\n",
            "['carrots', 'cucumbers']\n"
          ],
          "name": "stdout"
        }
      ]
    },
    {
      "cell_type": "code",
      "metadata": {
        "id": "xX6TFGxQicSY"
      },
      "source": [
        "def create_groups(items, df):\r\n",
        "    groups = dict()\r\n",
        "    cats = set()\r\n",
        "\r\n",
        "    for col in items:\r\n",
        "        groups[col] = set(df.corr()[col].sort_values(ascending=False)[0:5].index)\r\n",
        "\r\n",
        "    for col in items:\r\n",
        "        for col2 in items:\r\n",
        "            if (groups[col] == groups[col2]) and (col != col2):\r\n",
        "                cats.add(frozenset(groups[col]))\r\n",
        "    \r\n",
        "    return cats"
      ],
      "execution_count": 425,
      "outputs": []
    },
    {
      "cell_type": "code",
      "metadata": {
        "id": "GomFrTT6jPxv"
      },
      "source": [
        "def filter_groups(groups):\r\n",
        "    unique_groups = set()\r\n",
        "    items = []\r\n",
        "\r\n",
        "    for group in groups:\r\n",
        "        temp = set(group)\r\n",
        "        for group2 in groups:\r\n",
        "            if group != group2:\r\n",
        "                temp.difference_update(set(group2))\r\n",
        "        unique_groups.add(frozenset(temp))\r\n",
        "        items += list(temp)\r\n",
        "\r\n",
        "    return unique_groups, items"
      ],
      "execution_count": 426,
      "outputs": []
    },
    {
      "cell_type": "code",
      "metadata": {
        "colab": {
          "base_uri": "https://localhost:8080/"
        },
        "id": "irPS29ACjB9L",
        "outputId": "2e65f1e6-7b26-43da-80ca-81092ba1e728"
      },
      "source": [
        "unique_groups, items = filter_groups(create_groups(purchases.columns, purchases))\r\n",
        "misc = list(set(purchases.columns).difference(set(items)))\r\n",
        "\r\n",
        "misc_groups, items2 = filter_groups(create_groups(misc, purchases[misc]))\r\n",
        "misc = list(set(purchases.columns).difference(set(items + items2)))\r\n",
        "\r\n",
        "for group in misc_groups:\r\n",
        "    unique_groups.add(group)\r\n",
        "unique_groups.add(frozenset(misc))\r\n",
        "\r\n",
        "unique_groups"
      ],
      "execution_count": 427,
      "outputs": [
        {
          "output_type": "execute_result",
          "data": {
            "text/plain": [
              "{frozenset({'aluminum foil', 'paper towels', 'sandwich bags', 'toilet paper'}),\n",
              " frozenset({'poultry'}),\n",
              " frozenset({'canned vegetables', 'ketchup', 'spaghetti sauce'}),\n",
              " frozenset({'beef',\n",
              "            'cereals',\n",
              "            'dishwashing\\xa0',\n",
              "            'laundry detergent',\n",
              "            'lettuce',\n",
              "            'pork',\n",
              "            'sugar'}),\n",
              " frozenset({'apples', 'bananas', 'berries', 'cherries', 'grapefruit'}),\n",
              " frozenset({'bagels', 'dinner rolls', 'sandwich loaves', 'tortillas'}),\n",
              " frozenset({'baby items', 'pet items'}),\n",
              " frozenset({'frozen vegetables', 'ice cream'}),\n",
              " frozenset({'butter', 'cheeses', 'eggs', 'milk', 'yogurt'}),\n",
              " frozenset({'hand soap', 'shampoo', 'shaving cream', 'soap'}),\n",
              " frozenset({'flour', 'pasta', 'waffles'}),\n",
              " frozenset({'broccoli', 'carrots', 'cauliflower', 'cucumbers'}),\n",
              " frozenset({'coffee', 'juice', 'soda', 'tea'})}"
            ]
          },
          "metadata": {
            "tags": []
          },
          "execution_count": 427
        }
      ]
    },
    {
      "cell_type": "code",
      "metadata": {
        "id": "-873nyEKpUyG"
      },
      "source": [
        ""
      ],
      "execution_count": 427,
      "outputs": []
    }
  ]
}