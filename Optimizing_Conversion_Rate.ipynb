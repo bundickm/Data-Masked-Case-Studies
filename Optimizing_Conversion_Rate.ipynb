{
  "nbformat": 4,
  "nbformat_minor": 0,
  "metadata": {
    "colab": {
      "name": "Optimizing Conversion Rate",
      "provenance": [],
      "collapsed_sections": [],
      "authorship_tag": "ABX9TyPPHcckVTvqs8gWgS8kgZRj",
      "include_colab_link": true
    },
    "kernelspec": {
      "name": "python3",
      "display_name": "Python 3"
    }
  },
  "cells": [
    {
      "cell_type": "markdown",
      "metadata": {
        "id": "view-in-github",
        "colab_type": "text"
      },
      "source": [
        "<a href=\"https://colab.research.google.com/github/bundickm/Data-Masked-Case-Studies/blob/main/Optimizing_Conversion_Rate.ipynb\" target=\"_parent\"><img src=\"https://colab.research.google.com/assets/colab-badge.svg\" alt=\"Open In Colab\"/></a>"
      ]
    },
    {
      "cell_type": "markdown",
      "metadata": {
        "id": "HHsGm8HWmEpz"
      },
      "source": [
        "# Optimizing Conversion Rate\r\n",
        "Understanding a sites conversion rate can make or break a company. By knowing what affects the conversion rate you can lower customer acquisition costs, acquire new customers, and increase revenue per visitor.\r\n",
        "\r\n",
        "We've been asked in this case study to use the company's website data to predict the conversion rate. Additionally, we'll need to provide recommendations for the product and marketing teams."
      ]
    },
    {
      "cell_type": "markdown",
      "metadata": {
        "id": "eJ1GJNWvuFyF"
      },
      "source": [
        "## Data Description\r\n",
        "- **country:** user country based on the IP address\r\n",
        "- **age:** user age. Self-reported at sign-up step\r\n",
        "- **new_user:** whether the user created the account during this session or had already an account and simply came back to the site\r\n",
        "- **source:** marketing channel source\r\n",
        " - Ads: came to the site by clicking on an advertisement\r\n",
        " - Seo: came to the site by clicking on search results\r\n",
        " - Direct: came to the site by directly typing the URL on the browser\r\n",
        "- **total_pages_visited:** number of total pages visited during the session. This can be seen as a proxy for time spent on site and engagement\r\n",
        "- **converted:** this is our label. 1 means they converted within the session, 0 means they left without buying anything. The company goal is to increase \r\n",
        "- **conversion rate:** # conversions / total sessions"
      ]
    },
    {
      "cell_type": "markdown",
      "metadata": {
        "id": "OlssamZBofC4"
      },
      "source": [
        "# Imports and Settings"
      ]
    },
    {
      "cell_type": "code",
      "metadata": {
        "colab": {
          "base_uri": "https://localhost:8080/"
        },
        "id": "RxdBsxjzyOO6",
        "outputId": "956f4c16-14b5-42a3-c65e-345de0c8356c"
      },
      "source": [
        "!pip install pdpbox"
      ],
      "execution_count": 1,
      "outputs": [
        {
          "output_type": "stream",
          "text": [
            "Collecting pdpbox\n",
            "\u001b[?25l  Downloading https://files.pythonhosted.org/packages/87/23/ac7da5ba1c6c03a87c412e7e7b6e91a10d6ecf4474906c3e736f93940d49/PDPbox-0.2.0.tar.gz (57.7MB)\n",
            "\u001b[K     |████████████████████████████████| 57.7MB 75kB/s \n",
            "\u001b[?25hRequirement already satisfied: pandas in /usr/local/lib/python3.6/dist-packages (from pdpbox) (1.1.5)\n",
            "Requirement already satisfied: numpy in /usr/local/lib/python3.6/dist-packages (from pdpbox) (1.19.5)\n",
            "Requirement already satisfied: scipy in /usr/local/lib/python3.6/dist-packages (from pdpbox) (1.4.1)\n",
            "Requirement already satisfied: matplotlib>=2.1.2 in /usr/local/lib/python3.6/dist-packages (from pdpbox) (3.2.2)\n",
            "Requirement already satisfied: joblib in /usr/local/lib/python3.6/dist-packages (from pdpbox) (1.0.0)\n",
            "Requirement already satisfied: psutil in /usr/local/lib/python3.6/dist-packages (from pdpbox) (5.4.8)\n",
            "Requirement already satisfied: scikit-learn in /usr/local/lib/python3.6/dist-packages (from pdpbox) (0.22.2.post1)\n",
            "Requirement already satisfied: pytz>=2017.2 in /usr/local/lib/python3.6/dist-packages (from pandas->pdpbox) (2018.9)\n",
            "Requirement already satisfied: python-dateutil>=2.7.3 in /usr/local/lib/python3.6/dist-packages (from pandas->pdpbox) (2.8.1)\n",
            "Requirement already satisfied: cycler>=0.10 in /usr/local/lib/python3.6/dist-packages (from matplotlib>=2.1.2->pdpbox) (0.10.0)\n",
            "Requirement already satisfied: kiwisolver>=1.0.1 in /usr/local/lib/python3.6/dist-packages (from matplotlib>=2.1.2->pdpbox) (1.3.1)\n",
            "Requirement already satisfied: pyparsing!=2.0.4,!=2.1.2,!=2.1.6,>=2.0.1 in /usr/local/lib/python3.6/dist-packages (from matplotlib>=2.1.2->pdpbox) (2.4.7)\n",
            "Requirement already satisfied: six>=1.5 in /usr/local/lib/python3.6/dist-packages (from python-dateutil>=2.7.3->pandas->pdpbox) (1.15.0)\n",
            "Building wheels for collected packages: pdpbox\n",
            "  Building wheel for pdpbox (setup.py) ... \u001b[?25l\u001b[?25hdone\n",
            "  Created wheel for pdpbox: filename=PDPbox-0.2.0-cp36-none-any.whl size=57690724 sha256=fe24130bb64da95d4e2312178d7b19f3d65e435f48a629e096195e9cf5f77839\n",
            "  Stored in directory: /root/.cache/pip/wheels/7d/08/51/63fd122b04a2c87d780464eeffb94867c75bd96a64d500a3fe\n",
            "Successfully built pdpbox\n",
            "Installing collected packages: pdpbox\n",
            "Successfully installed pdpbox-0.2.0\n"
          ],
          "name": "stdout"
        }
      ]
    },
    {
      "cell_type": "code",
      "metadata": {
        "id": "UV4SZjl3mLFW"
      },
      "source": [
        "import numpy as np\r\n",
        "import pandas as pd\r\n",
        "import matplotlib.pyplot as plt\r\n",
        "from matplotlib import rcParams\r\n",
        "import seaborn as sns\r\n",
        "from sklearn.model_selection import train_test_split\r\n",
        "from sklearn.ensemble import RandomForestClassifier\r\n",
        "from sklearn.tree import DecisionTreeClassifier\r\n",
        "from sklearn.tree import export_graphviz\r\n",
        "from sklearn.metrics import confusion_matrix\r\n",
        "from pdpbox import pdp\r\n",
        "from pdpbox import info_plots\r\n",
        "import graphviz\r\n",
        "from graphviz import Source"
      ],
      "execution_count": 2,
      "outputs": []
    },
    {
      "cell_type": "markdown",
      "metadata": {
        "id": "v2WO6XB_oh51"
      },
      "source": [
        "# Initial Exploration"
      ]
    },
    {
      "cell_type": "code",
      "metadata": {
        "colab": {
          "base_uri": "https://localhost:8080/",
          "height": 216
        },
        "id": "fMjkXynRn_G2",
        "outputId": "7a7e9fab-e21f-4798-ec15-70c1c8ca11da"
      },
      "source": [
        "df = pd.read_csv('PRIVATE CSV')\r\n",
        "\r\n",
        "print(df.shape)\r\n",
        "df.head()"
      ],
      "execution_count": 3,
      "outputs": [
        {
          "output_type": "stream",
          "text": [
            "(316200, 6)\n"
          ],
          "name": "stdout"
        },
        {
          "output_type": "execute_result",
          "data": {
            "text/html": [
              "<div>\n",
              "<style scoped>\n",
              "    .dataframe tbody tr th:only-of-type {\n",
              "        vertical-align: middle;\n",
              "    }\n",
              "\n",
              "    .dataframe tbody tr th {\n",
              "        vertical-align: top;\n",
              "    }\n",
              "\n",
              "    .dataframe thead th {\n",
              "        text-align: right;\n",
              "    }\n",
              "</style>\n",
              "<table border=\"1\" class=\"dataframe\">\n",
              "  <thead>\n",
              "    <tr style=\"text-align: right;\">\n",
              "      <th></th>\n",
              "      <th>country</th>\n",
              "      <th>age</th>\n",
              "      <th>new_user</th>\n",
              "      <th>source</th>\n",
              "      <th>total_pages_visited</th>\n",
              "      <th>converted</th>\n",
              "    </tr>\n",
              "  </thead>\n",
              "  <tbody>\n",
              "    <tr>\n",
              "      <th>0</th>\n",
              "      <td>UK</td>\n",
              "      <td>25</td>\n",
              "      <td>1</td>\n",
              "      <td>Ads</td>\n",
              "      <td>1</td>\n",
              "      <td>0</td>\n",
              "    </tr>\n",
              "    <tr>\n",
              "      <th>1</th>\n",
              "      <td>US</td>\n",
              "      <td>23</td>\n",
              "      <td>1</td>\n",
              "      <td>Seo</td>\n",
              "      <td>5</td>\n",
              "      <td>0</td>\n",
              "    </tr>\n",
              "    <tr>\n",
              "      <th>2</th>\n",
              "      <td>US</td>\n",
              "      <td>28</td>\n",
              "      <td>1</td>\n",
              "      <td>Seo</td>\n",
              "      <td>4</td>\n",
              "      <td>0</td>\n",
              "    </tr>\n",
              "    <tr>\n",
              "      <th>3</th>\n",
              "      <td>China</td>\n",
              "      <td>39</td>\n",
              "      <td>1</td>\n",
              "      <td>Seo</td>\n",
              "      <td>5</td>\n",
              "      <td>0</td>\n",
              "    </tr>\n",
              "    <tr>\n",
              "      <th>4</th>\n",
              "      <td>US</td>\n",
              "      <td>30</td>\n",
              "      <td>1</td>\n",
              "      <td>Seo</td>\n",
              "      <td>6</td>\n",
              "      <td>0</td>\n",
              "    </tr>\n",
              "  </tbody>\n",
              "</table>\n",
              "</div>"
            ],
            "text/plain": [
              "  country  age  new_user source  total_pages_visited  converted\n",
              "0      UK   25         1    Ads                    1          0\n",
              "1      US   23         1    Seo                    5          0\n",
              "2      US   28         1    Seo                    4          0\n",
              "3   China   39         1    Seo                    5          0\n",
              "4      US   30         1    Seo                    6          0"
            ]
          },
          "metadata": {
            "tags": []
          },
          "execution_count": 3
        }
      ]
    },
    {
      "cell_type": "code",
      "metadata": {
        "colab": {
          "base_uri": "https://localhost:8080/"
        },
        "id": "ILYP02f3oJlZ",
        "outputId": "98f29317-94ab-4375-dd38-9188fef88683"
      },
      "source": [
        "df.info()"
      ],
      "execution_count": 4,
      "outputs": [
        {
          "output_type": "stream",
          "text": [
            "<class 'pandas.core.frame.DataFrame'>\n",
            "RangeIndex: 316200 entries, 0 to 316199\n",
            "Data columns (total 6 columns):\n",
            " #   Column               Non-Null Count   Dtype \n",
            "---  ------               --------------   ----- \n",
            " 0   country              316200 non-null  object\n",
            " 1   age                  316200 non-null  int64 \n",
            " 2   new_user             316200 non-null  int64 \n",
            " 3   source               316200 non-null  object\n",
            " 4   total_pages_visited  316200 non-null  int64 \n",
            " 5   converted            316200 non-null  int64 \n",
            "dtypes: int64(4), object(2)\n",
            "memory usage: 14.5+ MB\n"
          ],
          "name": "stdout"
        }
      ]
    },
    {
      "cell_type": "markdown",
      "metadata": {
        "id": "E_JcnLwxvnbB"
      },
      "source": [
        "Takeaways from `df.describe`\r\n",
        "- Conversion Rate is 3.2%, about average for ecommerce <sub>[source](https://www.invespcro.com/blog/the-average-website-conversion-rate-by-industry/)</sub>\r\n",
        "- Age skews young, but there is an extreme outlier of 123\r\n",
        "- Most users are visiting 4-5 pages so an outlier of 29 is interesting\r\n",
        "- The site sees quite a few new users, need a value_count to see distribution\r\n",
        "- The site is majority new users (69%)"
      ]
    },
    {
      "cell_type": "code",
      "metadata": {
        "colab": {
          "base_uri": "https://localhost:8080/",
          "height": 288
        },
        "id": "1LKVULNAoQTw",
        "outputId": "1d6c247b-3e87-4771-9ccb-d920145dea4c"
      },
      "source": [
        "df.describe()"
      ],
      "execution_count": 5,
      "outputs": [
        {
          "output_type": "execute_result",
          "data": {
            "text/html": [
              "<div>\n",
              "<style scoped>\n",
              "    .dataframe tbody tr th:only-of-type {\n",
              "        vertical-align: middle;\n",
              "    }\n",
              "\n",
              "    .dataframe tbody tr th {\n",
              "        vertical-align: top;\n",
              "    }\n",
              "\n",
              "    .dataframe thead th {\n",
              "        text-align: right;\n",
              "    }\n",
              "</style>\n",
              "<table border=\"1\" class=\"dataframe\">\n",
              "  <thead>\n",
              "    <tr style=\"text-align: right;\">\n",
              "      <th></th>\n",
              "      <th>age</th>\n",
              "      <th>new_user</th>\n",
              "      <th>total_pages_visited</th>\n",
              "      <th>converted</th>\n",
              "    </tr>\n",
              "  </thead>\n",
              "  <tbody>\n",
              "    <tr>\n",
              "      <th>count</th>\n",
              "      <td>316200.000000</td>\n",
              "      <td>316200.000000</td>\n",
              "      <td>316200.000000</td>\n",
              "      <td>316200.000000</td>\n",
              "    </tr>\n",
              "    <tr>\n",
              "      <th>mean</th>\n",
              "      <td>30.569858</td>\n",
              "      <td>0.685465</td>\n",
              "      <td>4.872966</td>\n",
              "      <td>0.032258</td>\n",
              "    </tr>\n",
              "    <tr>\n",
              "      <th>std</th>\n",
              "      <td>8.271802</td>\n",
              "      <td>0.464331</td>\n",
              "      <td>3.341104</td>\n",
              "      <td>0.176685</td>\n",
              "    </tr>\n",
              "    <tr>\n",
              "      <th>min</th>\n",
              "      <td>17.000000</td>\n",
              "      <td>0.000000</td>\n",
              "      <td>1.000000</td>\n",
              "      <td>0.000000</td>\n",
              "    </tr>\n",
              "    <tr>\n",
              "      <th>25%</th>\n",
              "      <td>24.000000</td>\n",
              "      <td>0.000000</td>\n",
              "      <td>2.000000</td>\n",
              "      <td>0.000000</td>\n",
              "    </tr>\n",
              "    <tr>\n",
              "      <th>50%</th>\n",
              "      <td>30.000000</td>\n",
              "      <td>1.000000</td>\n",
              "      <td>4.000000</td>\n",
              "      <td>0.000000</td>\n",
              "    </tr>\n",
              "    <tr>\n",
              "      <th>75%</th>\n",
              "      <td>36.000000</td>\n",
              "      <td>1.000000</td>\n",
              "      <td>7.000000</td>\n",
              "      <td>0.000000</td>\n",
              "    </tr>\n",
              "    <tr>\n",
              "      <th>max</th>\n",
              "      <td>123.000000</td>\n",
              "      <td>1.000000</td>\n",
              "      <td>29.000000</td>\n",
              "      <td>1.000000</td>\n",
              "    </tr>\n",
              "  </tbody>\n",
              "</table>\n",
              "</div>"
            ],
            "text/plain": [
              "                 age       new_user  total_pages_visited      converted\n",
              "count  316200.000000  316200.000000        316200.000000  316200.000000\n",
              "mean       30.569858       0.685465             4.872966       0.032258\n",
              "std         8.271802       0.464331             3.341104       0.176685\n",
              "min        17.000000       0.000000             1.000000       0.000000\n",
              "25%        24.000000       0.000000             2.000000       0.000000\n",
              "50%        30.000000       1.000000             4.000000       0.000000\n",
              "75%        36.000000       1.000000             7.000000       0.000000\n",
              "max       123.000000       1.000000            29.000000       1.000000"
            ]
          },
          "metadata": {
            "tags": []
          },
          "execution_count": 5
        }
      ]
    },
    {
      "cell_type": "markdown",
      "metadata": {
        "id": "1JSoJmlzxUp3"
      },
      "source": [
        "Value Count Takeaways\r\n",
        "- US based site (56%) with a large secondary market in China (24%)\r\n",
        "- Biggest driver of traffic is SEO (49%)"
      ]
    },
    {
      "cell_type": "code",
      "metadata": {
        "colab": {
          "base_uri": "https://localhost:8080/"
        },
        "id": "0DKOk_AzpSNr",
        "outputId": "837ababc-5cf0-4b9e-8866-d526937e0139"
      },
      "source": [
        "for col in ['new_user', 'country', 'source']:\r\n",
        "    print(df[col].value_counts(normalize=True))\r\n",
        "    print()"
      ],
      "execution_count": 6,
      "outputs": [
        {
          "output_type": "stream",
          "text": [
            "1    0.685465\n",
            "0    0.314535\n",
            "Name: new_user, dtype: float64\n",
            "\n",
            "US         0.563226\n",
            "China      0.242258\n",
            "UK         0.153226\n",
            "Germany    0.041290\n",
            "Name: country, dtype: float64\n",
            "\n",
            "Seo       0.490323\n",
            "Ads       0.280645\n",
            "Direct    0.229032\n",
            "Name: source, dtype: float64\n",
            "\n"
          ],
          "name": "stdout"
        }
      ]
    },
    {
      "cell_type": "markdown",
      "metadata": {
        "id": "dROmTDhPry1s"
      },
      "source": [
        "Compared to the other features, `converted` and `total_pages_visited` have a high correlation. Nothing high enough on it's own to take action but worth noting, may be useful later."
      ]
    },
    {
      "cell_type": "code",
      "metadata": {
        "colab": {
          "base_uri": "https://localhost:8080/",
          "height": 168
        },
        "id": "Jo59mRCbvFZf",
        "outputId": "b416e011-72bd-47e1-eb9b-45dcd0c516f0"
      },
      "source": [
        "df.corr()"
      ],
      "execution_count": 7,
      "outputs": [
        {
          "output_type": "execute_result",
          "data": {
            "text/html": [
              "<div>\n",
              "<style scoped>\n",
              "    .dataframe tbody tr th:only-of-type {\n",
              "        vertical-align: middle;\n",
              "    }\n",
              "\n",
              "    .dataframe tbody tr th {\n",
              "        vertical-align: top;\n",
              "    }\n",
              "\n",
              "    .dataframe thead th {\n",
              "        text-align: right;\n",
              "    }\n",
              "</style>\n",
              "<table border=\"1\" class=\"dataframe\">\n",
              "  <thead>\n",
              "    <tr style=\"text-align: right;\">\n",
              "      <th></th>\n",
              "      <th>age</th>\n",
              "      <th>new_user</th>\n",
              "      <th>total_pages_visited</th>\n",
              "      <th>converted</th>\n",
              "    </tr>\n",
              "  </thead>\n",
              "  <tbody>\n",
              "    <tr>\n",
              "      <th>age</th>\n",
              "      <td>1.000000</td>\n",
              "      <td>0.012343</td>\n",
              "      <td>-0.045922</td>\n",
              "      <td>-0.088797</td>\n",
              "    </tr>\n",
              "    <tr>\n",
              "      <th>new_user</th>\n",
              "      <td>0.012343</td>\n",
              "      <td>1.000000</td>\n",
              "      <td>-0.082541</td>\n",
              "      <td>-0.152374</td>\n",
              "    </tr>\n",
              "    <tr>\n",
              "      <th>total_pages_visited</th>\n",
              "      <td>-0.045922</td>\n",
              "      <td>-0.082541</td>\n",
              "      <td>1.000000</td>\n",
              "      <td>0.528994</td>\n",
              "    </tr>\n",
              "    <tr>\n",
              "      <th>converted</th>\n",
              "      <td>-0.088797</td>\n",
              "      <td>-0.152374</td>\n",
              "      <td>0.528994</td>\n",
              "      <td>1.000000</td>\n",
              "    </tr>\n",
              "  </tbody>\n",
              "</table>\n",
              "</div>"
            ],
            "text/plain": [
              "                          age  new_user  total_pages_visited  converted\n",
              "age                  1.000000  0.012343            -0.045922  -0.088797\n",
              "new_user             0.012343  1.000000            -0.082541  -0.152374\n",
              "total_pages_visited -0.045922 -0.082541             1.000000   0.528994\n",
              "converted           -0.088797 -0.152374             0.528994   1.000000"
            ]
          },
          "metadata": {
            "tags": []
          },
          "execution_count": 7
        }
      ]
    },
    {
      "cell_type": "markdown",
      "metadata": {
        "id": "RDkvDHz-ywx5"
      },
      "source": [
        "Removing the two age outliers because they don't pass the sniff test and it will have minimal effect on the data. Curious how two extreme outliers snuck in, worth passing along to the data engineer who is in charge of logging so they can check for issues."
      ]
    },
    {
      "cell_type": "code",
      "metadata": {
        "colab": {
          "base_uri": "https://localhost:8080/"
        },
        "id": "XCvDcELus5zb",
        "outputId": "84f8a76d-2e15-4e0e-e505-5b3d8e0baec3"
      },
      "source": [
        "print(df[df['age'] > 100])\r\n",
        "df = df[df['age'] < 100]"
      ],
      "execution_count": 8,
      "outputs": [
        {
          "output_type": "stream",
          "text": [
            "        country  age  new_user source  total_pages_visited  converted\n",
            "90928   Germany  123         0    Seo                   15          1\n",
            "295581       UK  111         0    Ads                   10          1\n"
          ],
          "name": "stdout"
        }
      ]
    },
    {
      "cell_type": "markdown",
      "metadata": {
        "id": "NkNVJVadzgCU"
      },
      "source": [
        "Checking the page visits, we see that the high page views are not uncommon. No need to do anything further."
      ]
    },
    {
      "cell_type": "code",
      "metadata": {
        "colab": {
          "base_uri": "https://localhost:8080/"
        },
        "id": "kh64jdUHyoft",
        "outputId": "e26c3eef-ceae-419c-d5fc-1924af1c4ed2"
      },
      "source": [
        "df[df['total_pages_visited'] > 20]['total_pages_visited'].value_counts()"
      ],
      "execution_count": 9,
      "outputs": [
        {
          "output_type": "execute_result",
          "data": {
            "text/plain": [
              "21    296\n",
              "22    180\n",
              "23    113\n",
              "24     46\n",
              "25     39\n",
              "26     17\n",
              "27      7\n",
              "29      2\n",
              "28      1\n",
              "Name: total_pages_visited, dtype: int64"
            ]
          },
          "metadata": {
            "tags": []
          },
          "execution_count": 9
        }
      ]
    },
    {
      "cell_type": "markdown",
      "metadata": {
        "id": "kkLxDLZm2AQy"
      },
      "source": [
        "Plotting Takeaways\r\n",
        "- While it looked like China was a strong secondary market, the conversion rate for it is near 0 for conversion rate. Something is driving Chinese users to the site but they aren't being monetized. Possible localization issues.\r\n",
        "- Germany is a small percent of the site visits but has a conversion rate of almost double the average. Might be a growth opportunity to localize the site or dedicate ad revenue towards Germans.\r\n",
        "- The site skews young and this is clearly by design with a higher conversion rate for the lower age ranges\r\n",
        "- Returning users have a 7% conversion rate vs 1% for new users. Returning users are a proxy for product interest so it makes sense that they are higher.\r\n",
        "- The more pages the user views, the more likely they are to purchase. Possible issue of data leakage here since the user has to view more pages to make a purchase."
      ]
    },
    {
      "cell_type": "code",
      "metadata": {
        "colab": {
          "base_uri": "https://localhost:8080/",
          "height": 1000
        },
        "id": "YuPUGB7ozPHc",
        "outputId": "bf7a5b61-f59e-4c21-9c6a-08387a5d194e"
      },
      "source": [
        "for col in df.columns:\r\n",
        "    if col == 'converted':\r\n",
        "        continue\r\n",
        "    elif col == 'total_pages_visited':\r\n",
        "        print(df.groupby([col])['converted'].mean())\r\n",
        "        df.groupby([col])['converted'].mean().plot()\r\n",
        "    else:\r\n",
        "        print(df.groupby([col])['converted'].mean())\r\n",
        "        df.groupby([col])['converted'].mean().plot.bar()\r\n",
        "    plt.show()"
      ],
      "execution_count": 10,
      "outputs": [
        {
          "output_type": "stream",
          "text": [
            "country\n",
            "China      0.001332\n",
            "Germany    0.062428\n",
            "UK         0.052612\n",
            "US         0.037801\n",
            "Name: converted, dtype: float64\n"
          ],
          "name": "stdout"
        },
        {
          "output_type": "display_data",
          "data": {
            "image/png": "[encoded data removed]",
            "text/plain": [
              "<Figure size 432x288 with 1 Axes>"
            ]
          },
          "metadata": {
            "tags": [],
            "needs_background": "light"
          }
        },
        {
          "output_type": "stream",
          "text": [
            "age\n",
            "17    0.071607\n",
            "18    0.066029\n",
            "19    0.058616\n",
            "20    0.057109\n",
            "21    0.053985\n",
            "22    0.053243\n",
            "23    0.047990\n",
            "24    0.045448\n",
            "25    0.038782\n",
            "26    0.039767\n",
            "27    0.033513\n",
            "28    0.032564\n",
            "29    0.033621\n",
            "30    0.028998\n",
            "31    0.027461\n",
            "32    0.024802\n",
            "33    0.023989\n",
            "34    0.021556\n",
            "35    0.018394\n",
            "36    0.019297\n",
            "37    0.018953\n",
            "38    0.014158\n",
            "39    0.017313\n",
            "40    0.014270\n",
            "41    0.012342\n",
            "42    0.013243\n",
            "43    0.011623\n",
            "44    0.009943\n",
            "45    0.012383\n",
            "46    0.011356\n",
            "47    0.007987\n",
            "48    0.009430\n",
            "49    0.007366\n",
            "50    0.005900\n",
            "51    0.006404\n",
            "52    0.005348\n",
            "53    0.003190\n",
            "54    0.001923\n",
            "55    0.007614\n",
            "56    0.000000\n",
            "57    0.000000\n",
            "58    0.012121\n",
            "59    0.000000\n",
            "60    0.021277\n",
            "61    0.014085\n",
            "62    0.000000\n",
            "63    0.000000\n",
            "64    0.000000\n",
            "65    0.000000\n",
            "66    0.000000\n",
            "67    0.000000\n",
            "68    0.000000\n",
            "69    0.000000\n",
            "70    0.000000\n",
            "72    0.000000\n",
            "73    0.000000\n",
            "77    0.000000\n",
            "79    0.000000\n",
            "Name: converted, dtype: float64\n"
          ],
          "name": "stdout"
        },
        {
          "output_type": "display_data",
          "data": {
            "image/png": "[encoded data removed]",
            "text/plain": [
              "<Figure size 432x288 with 1 Axes>"
            ]
          },
          "metadata": {
            "tags": [],
            "needs_background": "light"
          }
        },
        {
          "output_type": "stream",
          "text": [
            "new_user\n",
            "0    0.071983\n",
            "1    0.014021\n",
            "Name: converted, dtype: float64\n"
          ],
          "name": "stdout"
        },
        {
          "output_type": "display_data",
          "data": {
            "image/png": "[encoded data removed]",
            "text/plain": [
              "<Figure size 432x288 with 1 Axes>"
            ]
          },
          "metadata": {
            "tags": [],
            "needs_background": "light"
          }
        },
        {
          "output_type": "stream",
          "text": [
            "source\n",
            "Ads       0.034472\n",
            "Direct    0.028169\n",
            "Seo       0.032888\n",
            "Name: converted, dtype: float64\n"
          ],
          "name": "stdout"
        },
        {
          "output_type": "display_data",
          "data": {
            "image/png": "[encoded data removed]",
            "text/plain": [
              "<Figure size 432x288 with 1 Axes>"
            ]
          },
          "metadata": {
            "tags": [],
            "needs_background": "light"
          }
        },
        {
          "output_type": "stream",
          "text": [
            "total_pages_visited\n",
            "1     0.000000\n",
            "2     0.000228\n",
            "3     0.000251\n",
            "4     0.000780\n",
            "5     0.001570\n",
            "6     0.003437\n",
            "7     0.006769\n",
            "8     0.015238\n",
            "9     0.033067\n",
            "10    0.061068\n",
            "11    0.123471\n",
            "12    0.244537\n",
            "13    0.400825\n",
            "14    0.587521\n",
            "15    0.740181\n",
            "16    0.871818\n",
            "17    0.923077\n",
            "18    0.961219\n",
            "19    0.989381\n",
            "20    0.997531\n",
            "21    1.000000\n",
            "22    1.000000\n",
            "23    1.000000\n",
            "24    1.000000\n",
            "25    1.000000\n",
            "26    1.000000\n",
            "27    1.000000\n",
            "28    1.000000\n",
            "29    1.000000\n",
            "Name: converted, dtype: float64\n"
          ],
          "name": "stdout"
        },
        {
          "output_type": "display_data",
          "data": {
            "image/png": "[encoded data removed]",
            "text/plain": [
              "<Figure size 432x288 with 1 Axes>"
            ]
          },
          "metadata": {
            "tags": [],
            "needs_background": "light"
          }
        }
      ]
    },
    {
      "cell_type": "markdown",
      "metadata": {
        "id": "4dadz6-V8yXX"
      },
      "source": [
        "# Modeling and Insights"
      ]
    },
    {
      "cell_type": "markdown",
      "metadata": {
        "id": "NibKFyssaR1C"
      },
      "source": [
        "Start by getting a baseline accuracy by looking at the majority classifier. If we simply guess the majority label (not converted) we score 96.8%. Ideally, any model we make should beat that."
      ]
    },
    {
      "cell_type": "code",
      "metadata": {
        "colab": {
          "base_uri": "https://localhost:8080/"
        },
        "id": "yGiNHW0cXGsp",
        "outputId": "a4e4ea05-05c3-48c5-cef5-f0dddee2d282"
      },
      "source": [
        "baseline_accuracy = df['converted'].value_counts(normalize=True)[0]\r\n",
        "print('Baseline Accuracy:', baseline_accuracy)"
      ],
      "execution_count": 11,
      "outputs": [
        {
          "output_type": "stream",
          "text": [
            "Baseline Accuracy: 0.9677480565974484\n"
          ],
          "name": "stdout"
        }
      ]
    },
    {
      "cell_type": "markdown",
      "metadata": {
        "id": "jgzRqp2haqMm"
      },
      "source": [
        "One Hot Encode all of the categorical variables"
      ]
    },
    {
      "cell_type": "code",
      "metadata": {
        "id": "AcBa1Pt41WOG"
      },
      "source": [
        "df_one_hot = pd.get_dummies(df, drop_first=False)"
      ],
      "execution_count": 12,
      "outputs": []
    },
    {
      "cell_type": "markdown",
      "metadata": {
        "id": "IuCeI3Dbaxd_"
      },
      "source": [
        "A Random Forest Classifier was chosen because of its quick training and prediction time, and it is moderately interpretable through the use of a single decision tree. Interpretability is key since we are making recommendations to other departments."
      ]
    },
    {
      "cell_type": "code",
      "metadata": {
        "id": "m41DtFsU8XOK",
        "colab": {
          "base_uri": "https://localhost:8080/"
        },
        "outputId": "f74b467a-fedd-41f7-d13e-39ecf2cf8b4d"
      },
      "source": [
        "X, y = df_one_hot.drop('converted', axis='columns'), df_one_hot['converted']\r\n",
        "X_train, X_test, y_train, y_test = train_test_split(X, y, test_size=.33)\r\n",
        "\r\n",
        "rf_model = RandomForestClassifier(max_features=3, oob_score=True)\r\n",
        "rf_model.fit(X_train, y_train)"
      ],
      "execution_count": 13,
      "outputs": [
        {
          "output_type": "execute_result",
          "data": {
            "text/plain": [
              "RandomForestClassifier(bootstrap=True, ccp_alpha=0.0, class_weight=None,\n",
              "                       criterion='gini', max_depth=None, max_features=3,\n",
              "                       max_leaf_nodes=None, max_samples=None,\n",
              "                       min_impurity_decrease=0.0, min_impurity_split=None,\n",
              "                       min_samples_leaf=1, min_samples_split=2,\n",
              "                       min_weight_fraction_leaf=0.0, n_estimators=100,\n",
              "                       n_jobs=None, oob_score=True, random_state=None,\n",
              "                       verbose=0, warm_start=False)"
            ]
          },
          "metadata": {
            "tags": []
          },
          "execution_count": 13
        }
      ]
    },
    {
      "cell_type": "markdown",
      "metadata": {
        "id": "StxB66RdbCQf"
      },
      "source": [
        "OOB Accuracy is better than the baseline but nearly a third of conversions are False Negatives."
      ]
    },
    {
      "cell_type": "code",
      "metadata": {
        "colab": {
          "base_uri": "https://localhost:8080/"
        },
        "id": "Sdi0UxROV2a_",
        "outputId": "2b0faf85-27a2-4ce9-8f34-d1f0d6d0e041"
      },
      "source": [
        "print('OOB accuracy:', rf_model.oob_score_)\r\n",
        "print('\\nConfusion Matrix')\r\n",
        "print(pd.DataFrame(confusion_matrix(y_train, \r\n",
        "                   rf_model.oob_decision_function_[:,1].round(),\r\n",
        "                   labels=[0, 1])))"
      ],
      "execution_count": 14,
      "outputs": [
        {
          "output_type": "stream",
          "text": [
            "OOB accuracy: 0.9842106753771501\n",
            "\n",
            "Confusion Matrix\n",
            "        0     1\n",
            "0  203863  1155\n",
            "1    2190  4644\n"
          ],
          "name": "stdout"
        }
      ]
    },
    {
      "cell_type": "markdown",
      "metadata": {
        "id": "2IWxozIGb1X0"
      },
      "source": [
        "Similar results against the test case. Between the OOB and Test Accuracy, we know we are probably not overfitting with our model. Ideally, once all stakeholders are comfortable with the model we would pull more recent data as a validation set and verify one last time that the model is working as expected."
      ]
    },
    {
      "cell_type": "code",
      "metadata": {
        "colab": {
          "base_uri": "https://localhost:8080/"
        },
        "id": "QS2rrPMLW34w",
        "outputId": "03568ed7-71f5-4f8f-8c20-b4f94e528a86"
      },
      "source": [
        "print('Test accuracy:', rf_model.score(X_test, y_test))\r\n",
        "print('\\nConfusion Matrix')\r\n",
        "print(pd.DataFrame(confusion_matrix(y_test, \r\n",
        "                   rf_model.predict(X_test),\r\n",
        "                   labels=[0, 1])))"
      ],
      "execution_count": 15,
      "outputs": [
        {
          "output_type": "stream",
          "text": [
            "Test accuracy: 0.9843309757920764\n",
            "\n",
            "Confusion Matrix\n",
            "        0     1\n",
            "0  100436   546\n",
            "1    1089  2275\n"
          ],
          "name": "stdout"
        }
      ]
    },
    {
      "cell_type": "markdown",
      "metadata": {
        "id": "agP_8781cUnX"
      },
      "source": [
        "Our first goal was to predict conversion rate which we have accomplished with this model. We could tweak the threshold to minimize false positives or negatives but the real immediate value is in deriving actionable insights for the product and marketing teams. Below, in the recommendations, we will also discuss possible uses for predicting conversion rate in real time."
      ]
    },
    {
      "cell_type": "markdown",
      "metadata": {
        "id": "YQmqkWn1eDYN"
      },
      "source": [
        "By a large margin, we see `total_pages_visited` is the most important variable. This makes sense because purchasing requires additional page views and people looking to buy are more likely to stick around/browse before checkout."
      ]
    },
    {
      "cell_type": "code",
      "metadata": {
        "colab": {
          "base_uri": "https://localhost:8080/",
          "height": 265
        },
        "id": "f_ekAj82YOR2",
        "outputId": "6967dc80-1eb7-45d7-adc1-ad23f8e9569d"
      },
      "source": [
        "feature_importances = pd.Series(rf_model.feature_importances_, \r\n",
        "                                index=X_train.columns)\r\n",
        "feature_importances.sort_values().plot(kind='barh')\r\n",
        "plt.show()"
      ],
      "execution_count": 16,
      "outputs": [
        {
          "output_type": "display_data",
          "data": {
            "image/png": "[encoded data removed]",
            "text/plain": [
              "<Figure size 432x288 with 1 Axes>"
            ]
          },
          "metadata": {
            "tags": [],
            "needs_background": "light"
          }
        }
      ]
    },
    {
      "cell_type": "markdown",
      "metadata": {
        "id": "tZ5ceNwwgEJK"
      },
      "source": [
        "Drop `total_pages_visited` to get better insights into the over variables and to prevent possible unintended data leakage. Viewing more pages including the checkout pages makes it easier for our model to predict conversion but we may want to know subtler cues to act on sooner. Without the `total_pages_visited` we need to adjust the weights so the model predicts some conversions."
      ]
    },
    {
      "cell_type": "code",
      "metadata": {
        "colab": {
          "base_uri": "https://localhost:8080/"
        },
        "id": "lkgU4cBnd7Vp",
        "outputId": "73c017d5-0e7f-443d-cf8f-1ad3b8c36464"
      },
      "source": [
        "rf_model_no_views = RandomForestClassifier(n_estimators=100, max_features=3, \r\n",
        "                                           oob_score=True, \r\n",
        "                                           class_weight={0:1, 1:10})\r\n",
        "rf_model_no_views.fit(X_train.drop(['total_pages_visited'], axis='columns'), \r\n",
        "                      y_train)"
      ],
      "execution_count": 17,
      "outputs": [
        {
          "output_type": "execute_result",
          "data": {
            "text/plain": [
              "RandomForestClassifier(bootstrap=True, ccp_alpha=0.0,\n",
              "                       class_weight={0: 1, 1: 10}, criterion='gini',\n",
              "                       max_depth=None, max_features=3, max_leaf_nodes=None,\n",
              "                       max_samples=None, min_impurity_decrease=0.0,\n",
              "                       min_impurity_split=None, min_samples_leaf=1,\n",
              "                       min_samples_split=2, min_weight_fraction_leaf=0.0,\n",
              "                       n_estimators=100, n_jobs=None, oob_score=True,\n",
              "                       random_state=None, verbose=0, warm_start=False)"
            ]
          },
          "metadata": {
            "tags": []
          },
          "execution_count": 17
        }
      ]
    },
    {
      "cell_type": "code",
      "metadata": {
        "colab": {
          "base_uri": "https://localhost:8080/"
        },
        "id": "OlC-nl_Efwnn",
        "outputId": "237fde62-2cc8-4301-eedd-d95188c5fdd2"
      },
      "source": [
        "print('OOB accuracy:', rf_model_no_views.oob_score_)\r\n",
        "print('\\nConfusion Matrix')\r\n",
        "print(pd.DataFrame(confusion_matrix(y_train, \r\n",
        "                   rf_model_no_views.oob_decision_function_[:,1].round(),\r\n",
        "                   labels=[0, 1])))"
      ],
      "execution_count": 18,
      "outputs": [
        {
          "output_type": "stream",
          "text": [
            "OOB accuracy: 0.8829890678398127\n",
            "\n",
            "Confusion Matrix\n",
            "        0      1\n",
            "0  183888  21130\n",
            "1    3659   3175\n"
          ],
          "name": "stdout"
        }
      ]
    },
    {
      "cell_type": "markdown",
      "metadata": {
        "id": "jZqwjwWTp-z9"
      },
      "source": [
        "We see about a 10% drop in accuracy by dropping the `total_pages_visited`. Understandable considering how dominate the feature was. We might be able to eek out another percentage point of accuracy with hyperparameter tuning but this also might be an opportunity for additional recommendations around collecting more data points per visitor."
      ]
    },
    {
      "cell_type": "code",
      "metadata": {
        "colab": {
          "base_uri": "https://localhost:8080/"
        },
        "id": "PoSqFwc2f3J4",
        "outputId": "2b97ebca-6965-4171-8069-b271f8b12987"
      },
      "source": [
        "print('Test accuracy:', rf_model_no_views.score(X_test.drop('total_pages_visited',\r\n",
        "                                                   axis='columns'), y_test))\r\n",
        "print('\\nConfusion Matrix')\r\n",
        "print(pd.DataFrame(confusion_matrix(y_test, \r\n",
        "                   rf_model_no_views.predict(X_test.drop('total_pages_visited',\r\n",
        "                                                          axis='columns')),\r\n",
        "                                             labels=[0, 1])))"
      ],
      "execution_count": 19,
      "outputs": [
        {
          "output_type": "stream",
          "text": [
            "Test accuracy: 0.8836467138174918\n",
            "\n",
            "Confusion Matrix\n",
            "       0      1\n",
            "0  90590  10392\n",
            "1   1749   1615\n"
          ],
          "name": "stdout"
        }
      ]
    },
    {
      "cell_type": "markdown",
      "metadata": {
        "id": "zUIKg560tzxq"
      },
      "source": [
        "Without `total_pages_visited`, `new_user` is now the most important variable, followed by `age` and `country_China`. Quite a few actionable recommendations can come from this chart alone but we'll discuss those below. Interestingly, the source of the site visit doesn't seem to matter much at all."
      ]
    },
    {
      "cell_type": "code",
      "metadata": {
        "colab": {
          "base_uri": "https://localhost:8080/",
          "height": 297
        },
        "id": "Af0Z6eRRhzyx",
        "outputId": "ea3e0da0-d6ea-40d7-8704-f33e1b7b64bd"
      },
      "source": [
        "feature_importances = pd.Series(rf_model_no_views.feature_importances_, \r\n",
        "                                index=X_train.drop('total_pages_visited', \r\n",
        "                                                   axis='columns').columns)\r\n",
        "feature_importances.sort_values().plot(kind='barh')\r\n",
        "plt.show()"
      ],
      "execution_count": null,
      "outputs": [
        {
          "output_type": "display_data",
          "data": {
            "image/png": "[encoded data removed]",
            "text/plain": [
              "<Figure size 432x288 with 1 Axes>"
            ]
          },
          "metadata": {
            "tags": [],
            "needs_background": "light"
          }
        }
      ]
    },
    {
      "cell_type": "markdown",
      "metadata": {
        "id": "qSTuQTZ34NHz"
      },
      "source": [
        "PDP Takeaways\r\n",
        "- Germany and UK have high value with the US right behind. China is nearly inconsequential and should be looked at further\r\n",
        "- Age is a clear factor for conversion and drops off pretty fast. We can take a look at the decision tree to see what age cut off we should optimize the site for, likely between 25 and 30.\r\n",
        "- Existing users are where a large chunk of the sales are at. This makes sense, if you are returning you are familiar with the product and found something compelling about the product or site.\r\n",
        "- Source is about even between the three"
      ]
    },
    {
      "cell_type": "code",
      "metadata": {
        "colab": {
          "base_uri": "https://localhost:8080/",
          "height": 1000
        },
        "id": "htJamxApjxOD",
        "outputId": "9c5de32b-7d5a-4378-e56b-1229be6908b7"
      },
      "source": [
        "pdp_dict = {'Country': ['country_China', 'country_Germany', \r\n",
        "                       'country_UK', 'country_US'],\r\n",
        "            'Age': 'age',\r\n",
        "            'New User': 'new_user',\r\n",
        "            'Source': ['source_Direct', 'source_Seo', 'source_Ads']}\r\n",
        "\r\n",
        "for key, value in pdp_dict.items():\r\n",
        "    pdp_iso = pdp.pdp_isolate(\r\n",
        "                model=rf_model_no_views, \r\n",
        "                dataset=X_train.drop('total_pages_visited', axis='columns'),      \r\n",
        "                model_features=list(X_train.drop('total_pages_visited', \r\n",
        "                                                axis='columns')), \r\n",
        "                feature=pdp_dict[key], \r\n",
        "                num_grid_points=50)\r\n",
        "    if key == 'Age':\r\n",
        "        pdp_dataset = pandas.Series(pdp_iso.pdp, index=pdp_iso.feature_grids)\r\n",
        "        pdp_dataset.plot(title=key)\r\n",
        "    else:\r\n",
        "        pdp_dataset = pandas.Series(pdp_iso.pdp, index=pdp_iso.display_columns)\r\n",
        "        pdp_dataset.sort_values(ascending=False).plot(kind='bar', title=key)\r\n",
        "    plt.show()"
      ],
      "execution_count": null,
      "outputs": [
        {
          "output_type": "display_data",
          "data": {
            "image/png": "[encoded data removed]",
            "text/plain": [
              "<Figure size 432x288 with 1 Axes>"
            ]
          },
          "metadata": {
            "tags": [],
            "needs_background": "light"
          }
        },
        {
          "output_type": "display_data",
          "data": {
            "image/png": "[encoded data removed]",
            "text/plain": [
              "<Figure size 432x288 with 1 Axes>"
            ]
          },
          "metadata": {
            "tags": [],
            "needs_background": "light"
          }
        },
        {
          "output_type": "display_data",
          "data": {
            "image/png": "[encoded data removed]",
            "text/plain": [
              "<Figure size 432x288 with 1 Axes>"
            ]
          },
          "metadata": {
            "tags": [],
            "needs_background": "light"
          }
        },
        {
          "output_type": "display_data",
          "data": {
            "image/png": "[encoded data removed]",
            "text/plain": [
              "<Figure size 432x288 with 1 Axes>"
            ]
          },
          "metadata": {
            "tags": [],
            "needs_background": "light"
          }
        }
      ]
    },
    {
      "cell_type": "markdown",
      "metadata": {
        "id": "JSUdefZN8QS9"
      },
      "source": [
        "Next we can build a decision tree to understand the most important segments of our data.\r\n",
        "\r\n",
        "Tree Takeaways\r\n",
        "- Looking at the tree splits confirms much of what we have already seen\r\n",
        "- The age split is 30 for non-Chinese users, and 28 for Chinese users. Playing it safe, we can optimize the website for 30 and under"
      ]
    },
    {
      "cell_type": "code",
      "metadata": {
        "colab": {
          "base_uri": "https://localhost:8080/",
          "height": 518
        },
        "id": "wZM9Q0trzXrS",
        "outputId": "50947d1b-b5cb-4ead-b19c-abc70ecc6c99"
      },
      "source": [
        "# Train a Decision Tree\r\n",
        "tree_model = DecisionTreeClassifier(max_depth=3,class_weight={0:1, 1:10},\r\n",
        "                                    min_impurity_decrease = 0.001)\r\n",
        "tree_model.fit(X_train.drop('total_pages_visited', axis='columns'), y_train)\r\n",
        "\r\n",
        "# Visualize the Decision Tree\r\n",
        "export_graphviz(tree_model, out_file=\"tree_model.dot\", \r\n",
        "                feature_names=X_train.drop('total_pages_visited', \r\n",
        "                                           axis='columns').columns, \r\n",
        "                proportion=True, rotate=False)\r\n",
        "with open(\"tree_model.dot\") as file:\r\n",
        "    dot_graph = file.read()\r\n",
        "  \r\n",
        "tree_source = Source.from_file(\"tree_model.dot\")\r\n",
        "tree_source"
      ],
      "execution_count": null,
      "outputs": [
        {
          "output_type": "execute_result",
          "data": {
            "text/plain": [
              "<graphviz.files.Source at 0x7f98dc40eb00>"
            ],
            "image/svg+xml": "<?xml version=\"1.0\" encoding=\"UTF-8\" standalone=\"no\"?>\n<!DOCTYPE svg PUBLIC \"-//W3C//DTD SVG 1.1//EN\"\n \"http://www.w3.org/Graphics/SVG/1.1/DTD/svg11.dtd\">\n<!-- Generated by graphviz version 2.40.1 (20161225.0304)\n -->\n<!-- Title: Tree Pages: 1 -->\n<svg width=\"725pt\" height=\"373pt\"\n viewBox=\"0.00 0.00 725.00 373.00\" xmlns=\"http://www.w3.org/2000/svg\" xmlns:xlink=\"http://www.w3.org/1999/xlink\">\n<g id=\"graph0\" class=\"graph\" transform=\"scale(1 1) rotate(0) translate(4 369)\">\n<title>Tree</title>\n<polygon fill=\"#ffffff\" stroke=\"transparent\" points=\"-4,4 -4,-369 721,-369 721,4 -4,4\"/>\n<!-- 0 -->\n<g id=\"node1\" class=\"node\">\n<title>0</title>\n<polygon fill=\"none\" stroke=\"#000000\" points=\"469,-365 322,-365 322,-297 469,-297 469,-365\"/>\n<text text-anchor=\"middle\" x=\"395.5\" y=\"-349.8\" font-family=\"Times,serif\" font-size=\"14.00\" fill=\"#000000\">new_user &lt;= 0.5</text>\n<text text-anchor=\"middle\" x=\"395.5\" y=\"-334.8\" font-family=\"Times,serif\" font-size=\"14.00\" fill=\"#000000\">gini = 0.371</text>\n<text text-anchor=\"middle\" x=\"395.5\" y=\"-319.8\" font-family=\"Times,serif\" font-size=\"14.00\" fill=\"#000000\">samples = 100.0%</text>\n<text text-anchor=\"middle\" x=\"395.5\" y=\"-304.8\" font-family=\"Times,serif\" font-size=\"14.00\" fill=\"#000000\">value = [0.754, 0.246]</text>\n</g>\n<!-- 1 -->\n<g id=\"node2\" class=\"node\">\n<title>1</title>\n<polygon fill=\"none\" stroke=\"#000000\" points=\"387,-261 240,-261 240,-193 387,-193 387,-261\"/>\n<text text-anchor=\"middle\" x=\"313.5\" y=\"-245.8\" font-family=\"Times,serif\" font-size=\"14.00\" fill=\"#000000\">country_China &lt;= 0.5</text>\n<text text-anchor=\"middle\" x=\"313.5\" y=\"-230.8\" font-family=\"Times,serif\" font-size=\"14.00\" fill=\"#000000\">gini = 0.49</text>\n<text text-anchor=\"middle\" x=\"313.5\" y=\"-215.8\" font-family=\"Times,serif\" font-size=\"14.00\" fill=\"#000000\">samples = 31.4%</text>\n<text text-anchor=\"middle\" x=\"313.5\" y=\"-200.8\" font-family=\"Times,serif\" font-size=\"14.00\" fill=\"#000000\">value = [0.571, 0.429]</text>\n</g>\n<!-- 0&#45;&gt;1 -->\n<g id=\"edge1\" class=\"edge\">\n<title>0&#45;&gt;1</title>\n<path fill=\"none\" stroke=\"#000000\" d=\"M368.6501,-296.9465C361.6417,-288.0578 354.0045,-278.3716 346.709,-269.1188\"/>\n<polygon fill=\"#000000\" stroke=\"#000000\" points=\"349.3502,-266.8157 340.4102,-261.13 343.8533,-271.1498 349.3502,-266.8157\"/>\n<text text-anchor=\"middle\" x=\"337.4737\" y=\"-282.2569\" font-family=\"Times,serif\" font-size=\"14.00\" fill=\"#000000\">True</text>\n</g>\n<!-- 6 -->\n<g id=\"node7\" class=\"node\">\n<title>6</title>\n<polygon fill=\"none\" stroke=\"#000000\" points=\"552,-261 405,-261 405,-193 552,-193 552,-261\"/>\n<text text-anchor=\"middle\" x=\"478.5\" y=\"-245.8\" font-family=\"Times,serif\" font-size=\"14.00\" fill=\"#000000\">country_China &lt;= 0.5</text>\n<text text-anchor=\"middle\" x=\"478.5\" y=\"-230.8\" font-family=\"Times,serif\" font-size=\"14.00\" fill=\"#000000\">gini = 0.218</text>\n<text text-anchor=\"middle\" x=\"478.5\" y=\"-215.8\" font-family=\"Times,serif\" font-size=\"14.00\" fill=\"#000000\">samples = 68.6%</text>\n<text text-anchor=\"middle\" x=\"478.5\" y=\"-200.8\" font-family=\"Times,serif\" font-size=\"14.00\" fill=\"#000000\">value = [0.876, 0.124]</text>\n</g>\n<!-- 0&#45;&gt;6 -->\n<g id=\"edge6\" class=\"edge\">\n<title>0&#45;&gt;6</title>\n<path fill=\"none\" stroke=\"#000000\" d=\"M422.6773,-296.9465C429.7712,-288.0578 437.5015,-278.3716 444.886,-269.1188\"/>\n<polygon fill=\"#000000\" stroke=\"#000000\" points=\"447.7594,-271.1293 451.2616,-261.13 442.2882,-266.7628 447.7594,-271.1293\"/>\n<text text-anchor=\"middle\" x=\"454.0516\" y=\"-282.2738\" font-family=\"Times,serif\" font-size=\"14.00\" fill=\"#000000\">False</text>\n</g>\n<!-- 2 -->\n<g id=\"node3\" class=\"node\">\n<title>2</title>\n<polygon fill=\"none\" stroke=\"#000000\" points=\"222,-157 75,-157 75,-89 222,-89 222,-157\"/>\n<text text-anchor=\"middle\" x=\"148.5\" y=\"-141.8\" font-family=\"Times,serif\" font-size=\"14.00\" fill=\"#000000\">age &lt;= 29.5</text>\n<text text-anchor=\"middle\" x=\"148.5\" y=\"-126.8\" font-family=\"Times,serif\" font-size=\"14.00\" fill=\"#000000\">gini = 0.5</text>\n<text text-anchor=\"middle\" x=\"148.5\" y=\"-111.8\" font-family=\"Times,serif\" font-size=\"14.00\" fill=\"#000000\">samples = 24.1%</text>\n<text text-anchor=\"middle\" x=\"148.5\" y=\"-96.8\" font-family=\"Times,serif\" font-size=\"14.00\" fill=\"#000000\">value = [0.502, 0.498]</text>\n</g>\n<!-- 1&#45;&gt;2 -->\n<g id=\"edge2\" class=\"edge\">\n<title>1&#45;&gt;2</title>\n<path fill=\"none\" stroke=\"#000000\" d=\"M259.4728,-192.9465C244.0885,-183.2497 227.1984,-172.6039 211.3379,-162.6069\"/>\n<polygon fill=\"#000000\" stroke=\"#000000\" points=\"212.9746,-159.5013 202.6486,-157.13 209.242,-165.4232 212.9746,-159.5013\"/>\n</g>\n<!-- 5 -->\n<g id=\"node6\" class=\"node\">\n<title>5</title>\n<polygon fill=\"none\" stroke=\"#000000\" points=\"387,-149.5 240,-149.5 240,-96.5 387,-96.5 387,-149.5\"/>\n<text text-anchor=\"middle\" x=\"313.5\" y=\"-134.3\" font-family=\"Times,serif\" font-size=\"14.00\" fill=\"#000000\">gini = 0.054</text>\n<text text-anchor=\"middle\" x=\"313.5\" y=\"-119.3\" font-family=\"Times,serif\" font-size=\"14.00\" fill=\"#000000\">samples = 7.4%</text>\n<text text-anchor=\"middle\" x=\"313.5\" y=\"-104.3\" font-family=\"Times,serif\" font-size=\"14.00\" fill=\"#000000\">value = [0.972, 0.028]</text>\n</g>\n<!-- 1&#45;&gt;5 -->\n<g id=\"edge5\" class=\"edge\">\n<title>1&#45;&gt;5</title>\n<path fill=\"none\" stroke=\"#000000\" d=\"M313.5,-192.9465C313.5,-182.2621 313.5,-170.4254 313.5,-159.5742\"/>\n<polygon fill=\"#000000\" stroke=\"#000000\" points=\"317.0001,-159.5421 313.5,-149.5422 310.0001,-159.5422 317.0001,-159.5421\"/>\n</g>\n<!-- 3 -->\n<g id=\"node4\" class=\"node\">\n<title>3</title>\n<polygon fill=\"none\" stroke=\"#000000\" points=\"147,-53 0,-53 0,0 147,0 147,-53\"/>\n<text text-anchor=\"middle\" x=\"73.5\" y=\"-37.8\" font-family=\"Times,serif\" font-size=\"14.00\" fill=\"#000000\">gini = 0.482</text>\n<text text-anchor=\"middle\" x=\"73.5\" y=\"-22.8\" font-family=\"Times,serif\" font-size=\"14.00\" fill=\"#000000\">samples = 11.9%</text>\n<text text-anchor=\"middle\" x=\"73.5\" y=\"-7.8\" font-family=\"Times,serif\" font-size=\"14.00\" fill=\"#000000\">value = [0.405, 0.595]</text>\n</g>\n<!-- 2&#45;&gt;3 -->\n<g id=\"edge3\" class=\"edge\">\n<title>2&#45;&gt;3</title>\n<path fill=\"none\" stroke=\"#000000\" d=\"M122.0578,-88.9777C115.0833,-80.0039 107.5484,-70.3089 100.5427,-61.295\"/>\n<polygon fill=\"#000000\" stroke=\"#000000\" points=\"103.1891,-58.9964 94.289,-53.2485 97.6621,-63.292 103.1891,-58.9964\"/>\n</g>\n<!-- 4 -->\n<g id=\"node5\" class=\"node\">\n<title>4</title>\n<polygon fill=\"none\" stroke=\"#000000\" points=\"297.5,-53 165.5,-53 165.5,0 297.5,0 297.5,-53\"/>\n<text text-anchor=\"middle\" x=\"231.5\" y=\"-37.8\" font-family=\"Times,serif\" font-size=\"14.00\" fill=\"#000000\">gini = 0.461</text>\n<text text-anchor=\"middle\" x=\"231.5\" y=\"-22.8\" font-family=\"Times,serif\" font-size=\"14.00\" fill=\"#000000\">samples = 12.2%</text>\n<text text-anchor=\"middle\" x=\"231.5\" y=\"-7.8\" font-family=\"Times,serif\" font-size=\"14.00\" fill=\"#000000\">value = [0.64, 0.36]</text>\n</g>\n<!-- 2&#45;&gt;4 -->\n<g id=\"edge4\" class=\"edge\">\n<title>2&#45;&gt;4</title>\n<path fill=\"none\" stroke=\"#000000\" d=\"M177.7627,-88.9777C185.5599,-79.9123 193.99,-70.111 201.8099,-61.0192\"/>\n<polygon fill=\"#000000\" stroke=\"#000000\" points=\"204.6262,-63.1123 208.4935,-53.2485 199.3191,-58.5477 204.6262,-63.1123\"/>\n</g>\n<!-- 7 -->\n<g id=\"node8\" class=\"node\">\n<title>7</title>\n<polygon fill=\"none\" stroke=\"#000000\" points=\"552,-157 405,-157 405,-89 552,-89 552,-157\"/>\n<text text-anchor=\"middle\" x=\"478.5\" y=\"-141.8\" font-family=\"Times,serif\" font-size=\"14.00\" fill=\"#000000\">age &lt;= 27.5</text>\n<text text-anchor=\"middle\" x=\"478.5\" y=\"-126.8\" font-family=\"Times,serif\" font-size=\"14.00\" fill=\"#000000\">gini = 0.267</text>\n<text text-anchor=\"middle\" x=\"478.5\" y=\"-111.8\" font-family=\"Times,serif\" font-size=\"14.00\" fill=\"#000000\">samples = 51.5%</text>\n<text text-anchor=\"middle\" x=\"478.5\" y=\"-96.8\" font-family=\"Times,serif\" font-size=\"14.00\" fill=\"#000000\">value = [0.842, 0.158]</text>\n</g>\n<!-- 6&#45;&gt;7 -->\n<g id=\"edge7\" class=\"edge\">\n<title>6&#45;&gt;7</title>\n<path fill=\"none\" stroke=\"#000000\" d=\"M478.5,-192.9465C478.5,-184.776 478.5,-175.9318 478.5,-167.3697\"/>\n<polygon fill=\"#000000\" stroke=\"#000000\" points=\"482.0001,-167.13 478.5,-157.13 475.0001,-167.13 482.0001,-167.13\"/>\n</g>\n<!-- 10 -->\n<g id=\"node11\" class=\"node\">\n<title>10</title>\n<polygon fill=\"none\" stroke=\"#000000\" points=\"717,-149.5 570,-149.5 570,-96.5 717,-96.5 717,-149.5\"/>\n<text text-anchor=\"middle\" x=\"643.5\" y=\"-134.3\" font-family=\"Times,serif\" font-size=\"14.00\" fill=\"#000000\">gini = 0.011</text>\n<text text-anchor=\"middle\" x=\"643.5\" y=\"-119.3\" font-family=\"Times,serif\" font-size=\"14.00\" fill=\"#000000\">samples = 17.0%</text>\n<text text-anchor=\"middle\" x=\"643.5\" y=\"-104.3\" font-family=\"Times,serif\" font-size=\"14.00\" fill=\"#000000\">value = [0.994, 0.006]</text>\n</g>\n<!-- 6&#45;&gt;10 -->\n<g id=\"edge10\" class=\"edge\">\n<title>6&#45;&gt;10</title>\n<path fill=\"none\" stroke=\"#000000\" d=\"M532.5272,-192.9465C551.9251,-180.72 573.7166,-166.9847 592.82,-154.9437\"/>\n<polygon fill=\"#000000\" stroke=\"#000000\" points=\"594.7964,-157.8353 601.3898,-149.5422 591.0638,-151.9135 594.7964,-157.8353\"/>\n</g>\n<!-- 8 -->\n<g id=\"node9\" class=\"node\">\n<title>8</title>\n<polygon fill=\"none\" stroke=\"#000000\" points=\"507,-53 360,-53 360,0 507,0 507,-53\"/>\n<text text-anchor=\"middle\" x=\"433.5\" y=\"-37.8\" font-family=\"Times,serif\" font-size=\"14.00\" fill=\"#000000\">gini = 0.351</text>\n<text text-anchor=\"middle\" x=\"433.5\" y=\"-22.8\" font-family=\"Times,serif\" font-size=\"14.00\" fill=\"#000000\">samples = 20.2%</text>\n<text text-anchor=\"middle\" x=\"433.5\" y=\"-7.8\" font-family=\"Times,serif\" font-size=\"14.00\" fill=\"#000000\">value = [0.773, 0.227]</text>\n</g>\n<!-- 7&#45;&gt;8 -->\n<g id=\"edge8\" class=\"edge\">\n<title>7&#45;&gt;8</title>\n<path fill=\"none\" stroke=\"#000000\" d=\"M462.6347,-88.9777C458.6208,-80.3702 454.2975,-71.0992 450.2419,-62.402\"/>\n<polygon fill=\"#000000\" stroke=\"#000000\" points=\"453.3718,-60.8323 445.9734,-53.2485 447.0277,-63.7907 453.3718,-60.8323\"/>\n</g>\n<!-- 9 -->\n<g id=\"node10\" class=\"node\">\n<title>9</title>\n<polygon fill=\"none\" stroke=\"#000000\" points=\"672,-53 525,-53 525,0 672,0 672,-53\"/>\n<text text-anchor=\"middle\" x=\"598.5\" y=\"-37.8\" font-family=\"Times,serif\" font-size=\"14.00\" fill=\"#000000\">gini = 0.193</text>\n<text text-anchor=\"middle\" x=\"598.5\" y=\"-22.8\" font-family=\"Times,serif\" font-size=\"14.00\" fill=\"#000000\">samples = 31.3%</text>\n<text text-anchor=\"middle\" x=\"598.5\" y=\"-7.8\" font-family=\"Times,serif\" font-size=\"14.00\" fill=\"#000000\">value = [0.892, 0.108]</text>\n</g>\n<!-- 7&#45;&gt;9 -->\n<g id=\"edge9\" class=\"edge\">\n<title>7&#45;&gt;9</title>\n<path fill=\"none\" stroke=\"#000000\" d=\"M520.8075,-88.9777C532.6499,-79.4545 545.5021,-69.1191 557.2805,-59.6473\"/>\n<polygon fill=\"#000000\" stroke=\"#000000\" points=\"559.6382,-62.2427 565.2376,-53.2485 555.2514,-56.7877 559.6382,-62.2427\"/>\n</g>\n</g>\n</svg>\n"
          },
          "metadata": {
            "tags": []
          },
          "execution_count": 193
        }
      ]
    },
    {
      "cell_type": "markdown",
      "metadata": {
        "id": "HYUE7cWF9QoB"
      },
      "source": [
        "# Recommendations for Marketing and Product Teams\r\n",
        "\r\n",
        "1. There is an issue with converting Chinese users. The product team should take a look at it and test possible issues like translation and localization, or payment problems. With such a large market and user base (24% of visitors), this should be a top priority.\r\n",
        "\r\n",
        "2. The site performs very well for German users but the user base of Germans is small (4% of visitors). Localization and marketing for the German market should be worthwhile; the upside is large if the conversion rate (25%) holds for them.\r\n",
        "\r\n",
        "3. The site is well optimized for young people, so outreach and advertising to target the 17-30 year old demographic would likely show a solid ROI with minimal effort.\r\n",
        "\r\n",
        "4. Existing users are more likely to purchase. Email targeting existing users to return to the site would be a low budget idea to potentially drive further sales.\r\n",
        "\r\n",
        "5. The site performs poorly for users over 30. Likely this is due to the product but it would be worthwhile to test methods of capturing such a large demographic as ages 30+.\r\n",
        "\r\n",
        "6. A/B testing email collection for new users might be worthwhile so that they can be contacted and incentivized to return to the site. Ad tracking like Facebook Pixel might be another way to go about this if it is not already in place.\r\n",
        "\r\n",
        "# Recommendations for the Data Team\r\n",
        "\r\n",
        "1. Refining the model further and then using it on the website to attempt to increase conversion rate would be worthwhile. Ideally, the model would help find users that are on the verge of conversion and offer them some incentive to convert such as a 10% discount code. Finding the ideal tipping point and incentive would be done through A/B Testing\r\n",
        "\r\n",
        "2. The model loses 10% accuracy once we drop `total_pages_visited`. While it could be included in our model, the feature is a bit of a lagging indicator. Having the data team collect additional features (time on site, gender, pages visited, etc.) will likely increase model accuracy without relying on `total_pages_visited`.\r\n",
        "\r\n",
        "3. Setting up monitoring and a dashboard for site KPI's should be built so that all stakeholders can see site performance in near-real time and streamline the process stepped through above."
      ]
    }
  ]
}