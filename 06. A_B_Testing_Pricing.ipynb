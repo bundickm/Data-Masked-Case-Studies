{
  "nbformat": 4,
  "nbformat_minor": 0,
  "metadata": {
    "colab": {
      "name": "A/B Testing Pricing.ipynb",
      "provenance": [],
      "collapsed_sections": [],
      "authorship_tag": "ABX9TyPGGV5XKiUgsf/JJ6QW/LbE"
    },
    "kernelspec": {
      "name": "python3",
      "display_name": "Python 3"
    }
  },
  "cells": [
    {
      "cell_type": "markdown",
      "metadata": {
        "id": "j0RYiR51eVZT"
      },
      "source": [
        "# A/B Testing Pricing\r\n",
        "\r\n",
        "Company XYZ sells a software for \\$39. Since revenue has been flat for some time, the VP of Product has decided to run a test increasing the price. She hopes that this would increase revenue. In the experiment, 66% of the users have seen the old price (\\$39), while a random sample of 33% users a higher price (\\$59).\r\n",
        "\r\n",
        "The test has been running for some time and the VP of Product is interested in understanding how it went and whether it would make sense to increase the price for all the users.\r\n",
        "\r\n",
        "Especially, you were asked the following questions:\r\n",
        "- Should the company sell its software for \\$39 or \\$59?\r\n",
        "- The VP of Product is interested in having a holistic view into user behavior, especially focusing on actionable insights that might increase conversion rate. What are your main findings looking at the data?\r\n",
        "- [Bonus] The VP of Product feels that the test has been running for too long and they should have been able to get statistically significant results in a shorter time. Do you agree with this? After how many days you would have stopped the test? Please, explain why."
      ]
    },
    {
      "cell_type": "markdown",
      "metadata": {
        "id": "5VtMu0tQejqE"
      },
      "source": [
        "# Data Description\r\n",
        "\r\n",
        "The two tables are:\r\n",
        "\r\n",
        "## test_results - data about the test\r\n",
        "\r\n",
        "Columns:\r\n",
        "- user_id: the Id of the user. Can be joined to user_id in user_table\r\n",
        "- timestamp: the date and time when the user hit for the first time company XYZ webpage. It is in user local time\r\n",
        "- source: marketing channel that led to the user coming to the site. It can be:\r\n",
        " - ads: [“google”, “facebook”, “bing”, “yahoo”, “other”]. That is, user coming from google ads, yahoo ads, etc.\r\n",
        " - seo: [“google”, “facebook”, “bing”, “yahoo”, “other”]. That is, user coming from google search, yahoo, facebook, etc.\r\n",
        " - friend_referral: user coming from a referral link of another user\r\n",
        " - direct_traffic: user coming by directly typing the address of the site on the browser\r\n",
        "- device: user device. Can be mobile or web.\r\n",
        "- operative_system: user operative system. Can be: “windows”, “linux”, “mac” for web, and “android”, “iOS” for mobile. \"Other\" if it is none of the above\r\n",
        "- test: whether the user was in the test (i.e. 1 -> higher price) or in control (0 -> old/lower price)\r\n",
        "- price: the price the user sees. It should match test\r\n",
        "- converted: whether the user converted (i.e. 1 -> bought the software) or not (0 -> left the site without buying it).\r\n",
        "\r\n",
        "## user_table - Information about the user\r\n",
        "\r\n",
        "Columns:\r\n",
        "- user_id: the Id of the user. Can be joined to user_id in test_results table\r\n",
        "- city: the city where the user is located. Comes from the user ip address\r\n",
        "- country: in which country the city is located\r\n",
        "- lat: city latitude - should match user city\r\n",
        "- long: city longitude - should match user city"
      ]
    },
    {
      "cell_type": "code",
      "metadata": {
        "id": "lOhG6O2Nf9-K"
      },
      "source": [
        "import pandas as pd\r\n",
        "import matplotlib.pyplot as plt\r\n",
        "from sklearn.preprocessing import LabelEncoder\r\n",
        "from sklearn.feature_selection import chi2\r\n",
        "from scipy.stats import ttest_ind"
      ],
      "execution_count": 1,
      "outputs": []
    },
    {
      "cell_type": "markdown",
      "metadata": {
        "id": "k097PbwXO3JC"
      },
      "source": [
        "# Index\r\n",
        "1. [Exploration of Test Results](#explore_test)\r\n",
        "    1. [Evaluating Test Results](#test_results)\r\n",
        "2. [Exploration of User Behavior](#explore_users)\r\n",
        "    1. [Evaluating User Behavior](#user_results)\r\n",
        "3. [Shorter Testing Time](#shorter_test)"
      ]
    },
    {
      "cell_type": "markdown",
      "metadata": {
        "id": "qZXw58L8s0ML"
      },
      "source": [
        "<a name='explore_test'></a>\r\n",
        "# Initial Exploration of Test Results"
      ]
    },
    {
      "cell_type": "code",
      "metadata": {
        "colab": {
          "base_uri": "https://localhost:8080/",
          "height": 216
        },
        "id": "nbdkATmQx5fL",
        "outputId": "29972745-b1aa-46b9-d849-ea39c16f5e26"
      },
      "source": [
        "test_results = pd.read_csv('https://raw.githubusercontent.com/bundickm/DataMasked---Private/main/CSVs/pricing_test_results.csv?token=ALJ4RGZSZU2VON7BNOV75VLACCHFY')\r\n",
        "print(test_results.shape)\r\n",
        "test_results.head()"
      ],
      "execution_count": 2,
      "outputs": [
        {
          "output_type": "stream",
          "text": [
            "(316800, 8)\n"
          ],
          "name": "stdout"
        },
        {
          "output_type": "execute_result",
          "data": {
            "text/html": [
              "<div>\n",
              "<style scoped>\n",
              "    .dataframe tbody tr th:only-of-type {\n",
              "        vertical-align: middle;\n",
              "    }\n",
              "\n",
              "    .dataframe tbody tr th {\n",
              "        vertical-align: top;\n",
              "    }\n",
              "\n",
              "    .dataframe thead th {\n",
              "        text-align: right;\n",
              "    }\n",
              "</style>\n",
              "<table border=\"1\" class=\"dataframe\">\n",
              "  <thead>\n",
              "    <tr style=\"text-align: right;\">\n",
              "      <th></th>\n",
              "      <th>user_id</th>\n",
              "      <th>timestamp</th>\n",
              "      <th>source</th>\n",
              "      <th>device</th>\n",
              "      <th>operative_system</th>\n",
              "      <th>test</th>\n",
              "      <th>price</th>\n",
              "      <th>converted</th>\n",
              "    </tr>\n",
              "  </thead>\n",
              "  <tbody>\n",
              "    <tr>\n",
              "      <th>0</th>\n",
              "      <td>604839</td>\n",
              "      <td>2015-05-08 03:38:34</td>\n",
              "      <td>ads_facebook</td>\n",
              "      <td>mobile</td>\n",
              "      <td>iOS</td>\n",
              "      <td>0</td>\n",
              "      <td>39</td>\n",
              "      <td>0</td>\n",
              "    </tr>\n",
              "    <tr>\n",
              "      <th>1</th>\n",
              "      <td>624057</td>\n",
              "      <td>2015-05-10 21:08:46</td>\n",
              "      <td>seo-google</td>\n",
              "      <td>mobile</td>\n",
              "      <td>android</td>\n",
              "      <td>0</td>\n",
              "      <td>39</td>\n",
              "      <td>0</td>\n",
              "    </tr>\n",
              "    <tr>\n",
              "      <th>2</th>\n",
              "      <td>317970</td>\n",
              "      <td>2015-04-04 15:01:23</td>\n",
              "      <td>ads-bing</td>\n",
              "      <td>mobile</td>\n",
              "      <td>android</td>\n",
              "      <td>0</td>\n",
              "      <td>39</td>\n",
              "      <td>0</td>\n",
              "    </tr>\n",
              "    <tr>\n",
              "      <th>3</th>\n",
              "      <td>685636</td>\n",
              "      <td>2015-05-07 07:26:01</td>\n",
              "      <td>direct_traffic</td>\n",
              "      <td>mobile</td>\n",
              "      <td>iOS</td>\n",
              "      <td>1</td>\n",
              "      <td>59</td>\n",
              "      <td>0</td>\n",
              "    </tr>\n",
              "    <tr>\n",
              "      <th>4</th>\n",
              "      <td>820854</td>\n",
              "      <td>2015-05-24 11:04:40</td>\n",
              "      <td>ads_facebook</td>\n",
              "      <td>web</td>\n",
              "      <td>mac</td>\n",
              "      <td>0</td>\n",
              "      <td>39</td>\n",
              "      <td>0</td>\n",
              "    </tr>\n",
              "  </tbody>\n",
              "</table>\n",
              "</div>"
            ],
            "text/plain": [
              "   user_id            timestamp          source  ... test price  converted\n",
              "0   604839  2015-05-08 03:38:34    ads_facebook  ...    0    39          0\n",
              "1   624057  2015-05-10 21:08:46      seo-google  ...    0    39          0\n",
              "2   317970  2015-04-04 15:01:23        ads-bing  ...    0    39          0\n",
              "3   685636  2015-05-07 07:26:01  direct_traffic  ...    1    59          0\n",
              "4   820854  2015-05-24 11:04:40    ads_facebook  ...    0    39          0\n",
              "\n",
              "[5 rows x 8 columns]"
            ]
          },
          "metadata": {
            "tags": []
          },
          "execution_count": 2
        }
      ]
    },
    {
      "cell_type": "markdown",
      "metadata": {
        "id": "1baaSYCx411q"
      },
      "source": [
        "Some of the timestamp have the value `60` in the minutes and seconds positions. To correct it we'll just zero out the minutes and seconds values for those timestamps. Ideally, the cause of the error would be found and corrected while also informing how to properly correct the timestamps."
      ]
    },
    {
      "cell_type": "code",
      "metadata": {
        "id": "A0tw-UMh3VFe"
      },
      "source": [
        "def correct_timestamps(timestamp):\r\n",
        "    if ':60' in timestamp:\r\n",
        "        return timestamp[:-5]+'00:00'\r\n",
        "    else:\r\n",
        "        return timestamp\r\n",
        "\r\n",
        "test_results['timestamp'] = test_results['timestamp'].apply(correct_timestamps)\r\n",
        "test_results['timestamp'] = pd.to_datetime(test_results['timestamp'])"
      ],
      "execution_count": 3,
      "outputs": []
    },
    {
      "cell_type": "code",
      "metadata": {
        "colab": {
          "base_uri": "https://localhost:8080/"
        },
        "id": "FFtDj6p1zjkJ",
        "outputId": "0d3f7ae8-9710-42c9-9233-2dc53df955c4"
      },
      "source": [
        "test_results.info()"
      ],
      "execution_count": 4,
      "outputs": [
        {
          "output_type": "stream",
          "text": [
            "<class 'pandas.core.frame.DataFrame'>\n",
            "RangeIndex: 316800 entries, 0 to 316799\n",
            "Data columns (total 8 columns):\n",
            " #   Column            Non-Null Count   Dtype         \n",
            "---  ------            --------------   -----         \n",
            " 0   user_id           316800 non-null  int64         \n",
            " 1   timestamp         316800 non-null  datetime64[ns]\n",
            " 2   source            316800 non-null  object        \n",
            " 3   device            316800 non-null  object        \n",
            " 4   operative_system  316800 non-null  object        \n",
            " 5   test              316800 non-null  int64         \n",
            " 6   price             316800 non-null  int64         \n",
            " 7   converted         316800 non-null  int64         \n",
            "dtypes: datetime64[ns](1), int64(4), object(3)\n",
            "memory usage: 19.3+ MB\n"
          ],
          "name": "stdout"
        }
      ]
    },
    {
      "cell_type": "code",
      "metadata": {
        "colab": {
          "base_uri": "https://localhost:8080/",
          "height": 495
        },
        "id": "0A1mM8Iu5dQv",
        "outputId": "8f1753f8-3aec-4638-ead4-48249610e7e0"
      },
      "source": [
        "test_results.describe(include='all')"
      ],
      "execution_count": 5,
      "outputs": [
        {
          "output_type": "stream",
          "text": [
            "/usr/local/lib/python3.6/dist-packages/ipykernel_launcher.py:1: FutureWarning: Treating datetime data as categorical rather than numeric in `.describe` is deprecated and will be removed in a future version of pandas. Specify `datetime_is_numeric=True` to silence this warning and adopt the future behavior now.\n",
            "  \"\"\"Entry point for launching an IPython kernel.\n"
          ],
          "name": "stderr"
        },
        {
          "output_type": "execute_result",
          "data": {
            "text/html": [
              "<div>\n",
              "<style scoped>\n",
              "    .dataframe tbody tr th:only-of-type {\n",
              "        vertical-align: middle;\n",
              "    }\n",
              "\n",
              "    .dataframe tbody tr th {\n",
              "        vertical-align: top;\n",
              "    }\n",
              "\n",
              "    .dataframe thead th {\n",
              "        text-align: right;\n",
              "    }\n",
              "</style>\n",
              "<table border=\"1\" class=\"dataframe\">\n",
              "  <thead>\n",
              "    <tr style=\"text-align: right;\">\n",
              "      <th></th>\n",
              "      <th>user_id</th>\n",
              "      <th>timestamp</th>\n",
              "      <th>source</th>\n",
              "      <th>device</th>\n",
              "      <th>operative_system</th>\n",
              "      <th>test</th>\n",
              "      <th>price</th>\n",
              "      <th>converted</th>\n",
              "    </tr>\n",
              "  </thead>\n",
              "  <tbody>\n",
              "    <tr>\n",
              "      <th>count</th>\n",
              "      <td>316800.000000</td>\n",
              "      <td>316800</td>\n",
              "      <td>316800</td>\n",
              "      <td>316800</td>\n",
              "      <td>316800</td>\n",
              "      <td>316800.000000</td>\n",
              "      <td>316800.000000</td>\n",
              "      <td>316800.000000</td>\n",
              "    </tr>\n",
              "    <tr>\n",
              "      <th>unique</th>\n",
              "      <td>NaN</td>\n",
              "      <td>137922</td>\n",
              "      <td>12</td>\n",
              "      <td>2</td>\n",
              "      <td>6</td>\n",
              "      <td>NaN</td>\n",
              "      <td>NaN</td>\n",
              "      <td>NaN</td>\n",
              "    </tr>\n",
              "    <tr>\n",
              "      <th>top</th>\n",
              "      <td>NaN</td>\n",
              "      <td>2015-04-24 11:00:00</td>\n",
              "      <td>direct_traffic</td>\n",
              "      <td>mobile</td>\n",
              "      <td>windows</td>\n",
              "      <td>NaN</td>\n",
              "      <td>NaN</td>\n",
              "      <td>NaN</td>\n",
              "    </tr>\n",
              "    <tr>\n",
              "      <th>freq</th>\n",
              "      <td>NaN</td>\n",
              "      <td>45</td>\n",
              "      <td>60357</td>\n",
              "      <td>186471</td>\n",
              "      <td>100976</td>\n",
              "      <td>NaN</td>\n",
              "      <td>NaN</td>\n",
              "      <td>NaN</td>\n",
              "    </tr>\n",
              "    <tr>\n",
              "      <th>first</th>\n",
              "      <td>NaN</td>\n",
              "      <td>2015-03-02 00:04:12</td>\n",
              "      <td>NaN</td>\n",
              "      <td>NaN</td>\n",
              "      <td>NaN</td>\n",
              "      <td>NaN</td>\n",
              "      <td>NaN</td>\n",
              "      <td>NaN</td>\n",
              "    </tr>\n",
              "    <tr>\n",
              "      <th>last</th>\n",
              "      <td>NaN</td>\n",
              "      <td>2015-05-31 23:59:45</td>\n",
              "      <td>NaN</td>\n",
              "      <td>NaN</td>\n",
              "      <td>NaN</td>\n",
              "      <td>NaN</td>\n",
              "      <td>NaN</td>\n",
              "      <td>NaN</td>\n",
              "    </tr>\n",
              "    <tr>\n",
              "      <th>mean</th>\n",
              "      <td>499281.341840</td>\n",
              "      <td>NaN</td>\n",
              "      <td>NaN</td>\n",
              "      <td>NaN</td>\n",
              "      <td>NaN</td>\n",
              "      <td>0.360079</td>\n",
              "      <td>46.205051</td>\n",
              "      <td>0.018333</td>\n",
              "    </tr>\n",
              "    <tr>\n",
              "      <th>std</th>\n",
              "      <td>288591.154044</td>\n",
              "      <td>NaN</td>\n",
              "      <td>NaN</td>\n",
              "      <td>NaN</td>\n",
              "      <td>NaN</td>\n",
              "      <td>0.480024</td>\n",
              "      <td>9.601487</td>\n",
              "      <td>0.134154</td>\n",
              "    </tr>\n",
              "    <tr>\n",
              "      <th>min</th>\n",
              "      <td>3.000000</td>\n",
              "      <td>NaN</td>\n",
              "      <td>NaN</td>\n",
              "      <td>NaN</td>\n",
              "      <td>NaN</td>\n",
              "      <td>0.000000</td>\n",
              "      <td>39.000000</td>\n",
              "      <td>0.000000</td>\n",
              "    </tr>\n",
              "    <tr>\n",
              "      <th>25%</th>\n",
              "      <td>249525.750000</td>\n",
              "      <td>NaN</td>\n",
              "      <td>NaN</td>\n",
              "      <td>NaN</td>\n",
              "      <td>NaN</td>\n",
              "      <td>0.000000</td>\n",
              "      <td>39.000000</td>\n",
              "      <td>0.000000</td>\n",
              "    </tr>\n",
              "    <tr>\n",
              "      <th>50%</th>\n",
              "      <td>499021.500000</td>\n",
              "      <td>NaN</td>\n",
              "      <td>NaN</td>\n",
              "      <td>NaN</td>\n",
              "      <td>NaN</td>\n",
              "      <td>0.000000</td>\n",
              "      <td>39.000000</td>\n",
              "      <td>0.000000</td>\n",
              "    </tr>\n",
              "    <tr>\n",
              "      <th>75%</th>\n",
              "      <td>749025.500000</td>\n",
              "      <td>NaN</td>\n",
              "      <td>NaN</td>\n",
              "      <td>NaN</td>\n",
              "      <td>NaN</td>\n",
              "      <td>1.000000</td>\n",
              "      <td>59.000000</td>\n",
              "      <td>0.000000</td>\n",
              "    </tr>\n",
              "    <tr>\n",
              "      <th>max</th>\n",
              "      <td>1000000.000000</td>\n",
              "      <td>NaN</td>\n",
              "      <td>NaN</td>\n",
              "      <td>NaN</td>\n",
              "      <td>NaN</td>\n",
              "      <td>1.000000</td>\n",
              "      <td>59.000000</td>\n",
              "      <td>1.000000</td>\n",
              "    </tr>\n",
              "  </tbody>\n",
              "</table>\n",
              "</div>"
            ],
            "text/plain": [
              "               user_id            timestamp  ...          price      converted\n",
              "count    316800.000000               316800  ...  316800.000000  316800.000000\n",
              "unique             NaN               137922  ...            NaN            NaN\n",
              "top                NaN  2015-04-24 11:00:00  ...            NaN            NaN\n",
              "freq               NaN                   45  ...            NaN            NaN\n",
              "first              NaN  2015-03-02 00:04:12  ...            NaN            NaN\n",
              "last               NaN  2015-05-31 23:59:45  ...            NaN            NaN\n",
              "mean     499281.341840                  NaN  ...      46.205051       0.018333\n",
              "std      288591.154044                  NaN  ...       9.601487       0.134154\n",
              "min           3.000000                  NaN  ...      39.000000       0.000000\n",
              "25%      249525.750000                  NaN  ...      39.000000       0.000000\n",
              "50%      499021.500000                  NaN  ...      39.000000       0.000000\n",
              "75%      749025.500000                  NaN  ...      59.000000       0.000000\n",
              "max     1000000.000000                  NaN  ...      59.000000       1.000000\n",
              "\n",
              "[13 rows x 8 columns]"
            ]
          },
          "metadata": {
            "tags": []
          },
          "execution_count": 5
        }
      ]
    },
    {
      "cell_type": "code",
      "metadata": {
        "colab": {
          "base_uri": "https://localhost:8080/"
        },
        "id": "hK3d1urWyPzR",
        "outputId": "d37b4e16-2c9c-4498-92c2-24213544f026"
      },
      "source": [
        "test_results['source'].value_counts(normalize=True)"
      ],
      "execution_count": 6,
      "outputs": [
        {
          "output_type": "execute_result",
          "data": {
            "text/plain": [
              "direct_traffic     0.190521\n",
              "ads-google         0.187434\n",
              "ads_facebook       0.168548\n",
              "ads_other          0.094306\n",
              "seo-google         0.073153\n",
              "ads-bing           0.072200\n",
              "seo_facebook       0.066935\n",
              "friend_referral    0.065325\n",
              "seo-other          0.029230\n",
              "ads-yahoo          0.023936\n",
              "seo-yahoo          0.021616\n",
              "seo-bing           0.006796\n",
              "Name: source, dtype: float64"
            ]
          },
          "metadata": {
            "tags": []
          },
          "execution_count": 6
        }
      ]
    },
    {
      "cell_type": "code",
      "metadata": {
        "colab": {
          "base_uri": "https://localhost:8080/"
        },
        "id": "APQyEoB-zF3j",
        "outputId": "f583433c-5aac-494a-e8ce-d31acffc409e"
      },
      "source": [
        "test_results['device'].value_counts(normalize=True)"
      ],
      "execution_count": 7,
      "outputs": [
        {
          "output_type": "execute_result",
          "data": {
            "text/plain": [
              "mobile    0.588608\n",
              "web       0.411392\n",
              "Name: device, dtype: float64"
            ]
          },
          "metadata": {
            "tags": []
          },
          "execution_count": 7
        }
      ]
    },
    {
      "cell_type": "markdown",
      "metadata": {
        "id": "j08bAHfQ5sE7"
      },
      "source": [
        "Before we evaluate the test we need to confirm the test is randomly distributed. Looking at the distributions, we see a couple of issues.\r\n",
        "\r\n",
        "First the test price point is not homogenous; both the test and control groups contain both price points. We can fix that by dropping those values for our evaluation.\r\n",
        "\r\n",
        "The other issue is that OS and possibly device are not evenly split either. We'll confirm this with a chi-squared test below."
      ]
    },
    {
      "cell_type": "code",
      "metadata": {
        "colab": {
          "base_uri": "https://localhost:8080/",
          "height": 1000
        },
        "id": "tLEoOzQ2tjr5",
        "outputId": "08b479a6-32b5-40f8-84d4-d31c93e225f3"
      },
      "source": [
        "for col in ['source', 'device', 'operative_system', 'price']:\r\n",
        "    temp = pd.crosstab(test_results[col], test_results['test'],\r\n",
        "                       normalize='index')\r\n",
        "    print(temp)\r\n",
        "    temp.sort_values([0,1]).plot.bar()\r\n",
        "    plt.title('Distribution of ' + col +' in the Test and Control Groups')\r\n",
        "    plt.show()"
      ],
      "execution_count": 8,
      "outputs": [
        {
          "output_type": "stream",
          "text": [
            "test                    0         1\n",
            "source                             \n",
            "ads-bing         0.638701  0.361299\n",
            "ads-google       0.637667  0.362333\n",
            "ads-yahoo        0.635369  0.364631\n",
            "ads_facebook     0.638606  0.361394\n",
            "ads_other        0.645468  0.354532\n",
            "direct_traffic   0.642162  0.357838\n",
            "friend_referral  0.634694  0.365306\n",
            "seo-bing         0.619601  0.380399\n",
            "seo-google       0.651650  0.348350\n",
            "seo-other        0.635961  0.364039\n",
            "seo-yahoo        0.637120  0.362880\n",
            "seo_facebook     0.635275  0.364725\n"
          ],
          "name": "stdout"
        },
        {
          "output_type": "display_data",
          "data": {
            "image/png": "[encoded data removed]",
            "text/plain": [
              "<Figure size 432x288 with 1 Axes>"
            ]
          },
          "metadata": {
            "tags": [],
            "needs_background": "light"
          }
        },
        {
          "output_type": "stream",
          "text": [
            "test           0         1\n",
            "device                    \n",
            "mobile  0.646111  0.353889\n",
            "web     0.631064  0.368936\n"
          ],
          "name": "stdout"
        },
        {
          "output_type": "display_data",
          "data": {
            "image/png": "[encoded data removed]",
            "text/plain": [
              "<Figure size 432x288 with 1 Axes>"
            ]
          },
          "metadata": {
            "tags": [],
            "needs_background": "light"
          }
        },
        {
          "output_type": "stream",
          "text": [
            "test                     0         1\n",
            "operative_system                    \n",
            "android           0.643358  0.356642\n",
            "iOS               0.647934  0.352066\n",
            "linux             0.533736  0.466264\n",
            "mac               0.652422  0.347578\n",
            "other             0.647865  0.352135\n",
            "windows           0.629764  0.370236\n"
          ],
          "name": "stdout"
        },
        {
          "output_type": "display_data",
          "data": {
            "image/png": "[encoded data removed]",
            "text/plain": [
              "<Figure size 432x288 with 1 Axes>"
            ]
          },
          "metadata": {
            "tags": [],
            "needs_background": "light"
          }
        },
        {
          "output_type": "stream",
          "text": [
            "test          0         1\n",
            "price                    \n",
            "39     0.999235  0.000765\n",
            "59     0.001840  0.998160\n"
          ],
          "name": "stdout"
        },
        {
          "output_type": "display_data",
          "data": {
            "image/png": "[encoded data removed]",
            "text/plain": [
              "<Figure size 432x288 with 1 Axes>"
            ]
          },
          "metadata": {
            "tags": [],
            "needs_background": "light"
          }
        }
      ]
    },
    {
      "cell_type": "markdown",
      "metadata": {
        "id": "aRM5AOzlHJl0"
      },
      "source": [
        "Through the chi-squared test we've confirmed that `operative_system` and `device` are not split randomly."
      ]
    },
    {
      "cell_type": "code",
      "metadata": {
        "colab": {
          "base_uri": "https://localhost:8080/",
          "height": 138
        },
        "id": "_z8Z-7jsDsXh",
        "outputId": "b963c45d-520c-4ed4-b595-dc80cf5405ca"
      },
      "source": [
        "chi_df = test_results.drop('timestamp', axis='columns').copy()\r\n",
        "cols = ['source', 'device', 'operative_system']\r\n",
        "\r\n",
        "for col in cols:\r\n",
        "    chi_df[col] = LabelEncoder().fit_transform(test_results[col])\r\n",
        "\r\n",
        "chi_values, p_values = chi2(chi_df.loc[:, cols], chi_df[\"test\"])\r\n",
        "pd.DataFrame({'chi2_value':chi_values, 'p_value':p_values}, \r\n",
        "             index=cols).sort_values(by='p_value')"
      ],
      "execution_count": 9,
      "outputs": [
        {
          "output_type": "execute_result",
          "data": {
            "text/html": [
              "<div>\n",
              "<style scoped>\n",
              "    .dataframe tbody tr th:only-of-type {\n",
              "        vertical-align: middle;\n",
              "    }\n",
              "\n",
              "    .dataframe tbody tr th {\n",
              "        vertical-align: top;\n",
              "    }\n",
              "\n",
              "    .dataframe thead th {\n",
              "        text-align: right;\n",
              "    }\n",
              "</style>\n",
              "<table border=\"1\" class=\"dataframe\">\n",
              "  <thead>\n",
              "    <tr style=\"text-align: right;\">\n",
              "      <th></th>\n",
              "      <th>chi2_value</th>\n",
              "      <th>p_value</th>\n",
              "    </tr>\n",
              "  </thead>\n",
              "  <tbody>\n",
              "    <tr>\n",
              "      <th>operative_system</th>\n",
              "      <td>83.085986</td>\n",
              "      <td>7.856065e-20</td>\n",
              "    </tr>\n",
              "    <tr>\n",
              "      <th>device</th>\n",
              "      <td>44.366335</td>\n",
              "      <td>2.723301e-11</td>\n",
              "    </tr>\n",
              "    <tr>\n",
              "      <th>source</th>\n",
              "      <td>0.924742</td>\n",
              "      <td>3.362329e-01</td>\n",
              "    </tr>\n",
              "  </tbody>\n",
              "</table>\n",
              "</div>"
            ],
            "text/plain": [
              "                  chi2_value       p_value\n",
              "operative_system   83.085986  7.856065e-20\n",
              "device             44.366335  2.723301e-11\n",
              "source              0.924742  3.362329e-01"
            ]
          },
          "metadata": {
            "tags": []
          },
          "execution_count": 9
        }
      ]
    },
    {
      "cell_type": "markdown",
      "metadata": {
        "id": "29azI5cYKpF_"
      },
      "source": [
        "Correct the test and control observations with the wrong price points."
      ]
    },
    {
      "cell_type": "code",
      "metadata": {
        "colab": {
          "base_uri": "https://localhost:8080/"
        },
        "id": "QQoYZA-YKE-I",
        "outputId": "5e9e7702-e737-4a39-ed42-f563ae9baee0"
      },
      "source": [
        "test_results = test_results[((test_results['test']==0)\r\n",
        "                           & (test_results['price']==39))\r\n",
        "                           | ((test_results['test']==1)\r\n",
        "                           & (test_results['price']==59))]\r\n",
        "                           \r\n",
        "test_results.groupby('test')['price'].value_counts(normalize=True)"
      ],
      "execution_count": 10,
      "outputs": [
        {
          "output_type": "execute_result",
          "data": {
            "text/plain": [
              "test  price\n",
              "0     39       1.0\n",
              "1     59       1.0\n",
              "Name: price, dtype: float64"
            ]
          },
          "metadata": {
            "tags": []
          },
          "execution_count": 10
        }
      ]
    },
    {
      "cell_type": "markdown",
      "metadata": {
        "id": "MGqXn4j2Oedn"
      },
      "source": [
        "<a name='test_results'></a>\r\n",
        "## Evaluating Test Results"
      ]
    },
    {
      "cell_type": "markdown",
      "metadata": {
        "id": "ug4OfXnNPUHH"
      },
      "source": [
        "Before running the test we can see that the test group has a higher average revenue even though it has a lower conversion rate than the control group."
      ]
    },
    {
      "cell_type": "code",
      "metadata": {
        "colab": {
          "base_uri": "https://localhost:8080/",
          "height": 224
        },
        "id": "5Gqi3irFKv1q",
        "outputId": "137af3a5-99ef-461b-a196-05892ebaf05e"
      },
      "source": [
        "test_results['revenue'] = test_results['price'] * test_results['converted']\r\n",
        "test_results.groupby('test')['converted', 'revenue'].agg(\r\n",
        "        {'converted':['count', 'mean'], 'revenue': ['mean', 'sum']})"
      ],
      "execution_count": 11,
      "outputs": [
        {
          "output_type": "stream",
          "text": [
            "/usr/local/lib/python3.6/dist-packages/ipykernel_launcher.py:2: FutureWarning: Indexing with multiple keys (implicitly converted to a tuple of keys) will be deprecated, use a list instead.\n",
            "  \n"
          ],
          "name": "stderr"
        },
        {
          "output_type": "execute_result",
          "data": {
            "text/html": [
              "<div>\n",
              "<style scoped>\n",
              "    .dataframe tbody tr th:only-of-type {\n",
              "        vertical-align: middle;\n",
              "    }\n",
              "\n",
              "    .dataframe tbody tr th {\n",
              "        vertical-align: top;\n",
              "    }\n",
              "\n",
              "    .dataframe thead tr th {\n",
              "        text-align: left;\n",
              "    }\n",
              "\n",
              "    .dataframe thead tr:last-of-type th {\n",
              "        text-align: right;\n",
              "    }\n",
              "</style>\n",
              "<table border=\"1\" class=\"dataframe\">\n",
              "  <thead>\n",
              "    <tr>\n",
              "      <th></th>\n",
              "      <th colspan=\"2\" halign=\"left\">converted</th>\n",
              "      <th colspan=\"2\" halign=\"left\">revenue</th>\n",
              "    </tr>\n",
              "    <tr>\n",
              "      <th></th>\n",
              "      <th>count</th>\n",
              "      <th>mean</th>\n",
              "      <th>mean</th>\n",
              "      <th>sum</th>\n",
              "    </tr>\n",
              "    <tr>\n",
              "      <th>test</th>\n",
              "      <th></th>\n",
              "      <th></th>\n",
              "      <th></th>\n",
              "      <th></th>\n",
              "    </tr>\n",
              "  </thead>\n",
              "  <tbody>\n",
              "    <tr>\n",
              "      <th>0</th>\n",
              "      <td>202517</td>\n",
              "      <td>0.019900</td>\n",
              "      <td>0.776083</td>\n",
              "      <td>157170</td>\n",
              "    </tr>\n",
              "    <tr>\n",
              "      <th>1</th>\n",
              "      <td>113918</td>\n",
              "      <td>0.015555</td>\n",
              "      <td>0.917748</td>\n",
              "      <td>104548</td>\n",
              "    </tr>\n",
              "  </tbody>\n",
              "</table>\n",
              "</div>"
            ],
            "text/plain": [
              "     converted             revenue        \n",
              "         count      mean      mean     sum\n",
              "test                                      \n",
              "0       202517  0.019900  0.776083  157170\n",
              "1       113918  0.015555  0.917748  104548"
            ]
          },
          "metadata": {
            "tags": []
          },
          "execution_count": 11
        }
      ]
    },
    {
      "cell_type": "code",
      "metadata": {
        "colab": {
          "base_uri": "https://localhost:8080/",
          "height": 78
        },
        "id": "wP9YxSwfQzvv",
        "outputId": "ac90afbb-c5b3-405e-d950-a0bb7fa7c575"
      },
      "source": [
        "t_stat, p_value = ttest_ind(test_results[test_results['test'] == 0]['revenue'],\r\n",
        "                            test_results[test_results['test'] == 1]['revenue'],\r\n",
        "                            equal_var=False)\r\n",
        "\r\n",
        "pd.DataFrame({'p-value': [p_value], 't-stat': [t_stat]})"
      ],
      "execution_count": 12,
      "outputs": [
        {
          "output_type": "execute_result",
          "data": {
            "text/html": [
              "<div>\n",
              "<style scoped>\n",
              "    .dataframe tbody tr th:only-of-type {\n",
              "        vertical-align: middle;\n",
              "    }\n",
              "\n",
              "    .dataframe tbody tr th {\n",
              "        vertical-align: top;\n",
              "    }\n",
              "\n",
              "    .dataframe thead th {\n",
              "        text-align: right;\n",
              "    }\n",
              "</style>\n",
              "<table border=\"1\" class=\"dataframe\">\n",
              "  <thead>\n",
              "    <tr style=\"text-align: right;\">\n",
              "      <th></th>\n",
              "      <th>p-value</th>\n",
              "      <th>t-stat</th>\n",
              "    </tr>\n",
              "  </thead>\n",
              "  <tbody>\n",
              "    <tr>\n",
              "      <th>0</th>\n",
              "      <td>1.097258e-08</td>\n",
              "      <td>-5.715225</td>\n",
              "    </tr>\n",
              "  </tbody>\n",
              "</table>\n",
              "</div>"
            ],
            "text/plain": [
              "        p-value    t-stat\n",
              "0  1.097258e-08 -5.715225"
            ]
          },
          "metadata": {
            "tags": []
          },
          "execution_count": 12
        }
      ]
    },
    {
      "cell_type": "markdown",
      "metadata": {
        "id": "yD9SY_BLSRHz"
      },
      "source": [
        "Based on this t-test alone, we can reject the null hypothesis, however there are issues with the test that must be addressed. We must rerun the test after finding out why `operative_system` and `device` are not randomly split between the test and control groups. We must also find out why a handful of observations had the wrong price point for the test and control groups. Once these issues are corrected we can attempt the test again to see if the higher price point holds."
      ]
    },
    {
      "cell_type": "markdown",
      "metadata": {
        "id": "1AtP6u8msus_"
      },
      "source": [
        "<a name='explore_users'></a>\r\n",
        "# Exploration of User Behavior"
      ]
    },
    {
      "cell_type": "code",
      "metadata": {
        "colab": {
          "base_uri": "https://localhost:8080/",
          "height": 216
        },
        "id": "TfUf34lOxmPT",
        "outputId": "b4335118-2c81-4fdd-835d-d2f99f7c47ad"
      },
      "source": [
        "users = pd.read_csv('https://raw.githubusercontent.com/bundickm/DataMasked---Private/main/CSVs/pricing_user_table.csv?token=ALJ4RGZXDHJUAEZZCI2UGM3ACCHF2')\r\n",
        "print(users.shape)\r\n",
        "users.head()"
      ],
      "execution_count": 13,
      "outputs": [
        {
          "output_type": "stream",
          "text": [
            "(275616, 5)\n"
          ],
          "name": "stdout"
        },
        {
          "output_type": "execute_result",
          "data": {
            "text/html": [
              "<div>\n",
              "<style scoped>\n",
              "    .dataframe tbody tr th:only-of-type {\n",
              "        vertical-align: middle;\n",
              "    }\n",
              "\n",
              "    .dataframe tbody tr th {\n",
              "        vertical-align: top;\n",
              "    }\n",
              "\n",
              "    .dataframe thead th {\n",
              "        text-align: right;\n",
              "    }\n",
              "</style>\n",
              "<table border=\"1\" class=\"dataframe\">\n",
              "  <thead>\n",
              "    <tr style=\"text-align: right;\">\n",
              "      <th></th>\n",
              "      <th>user_id</th>\n",
              "      <th>city</th>\n",
              "      <th>country</th>\n",
              "      <th>lat</th>\n",
              "      <th>long</th>\n",
              "    </tr>\n",
              "  </thead>\n",
              "  <tbody>\n",
              "    <tr>\n",
              "      <th>0</th>\n",
              "      <td>510335</td>\n",
              "      <td>Peabody</td>\n",
              "      <td>USA</td>\n",
              "      <td>42.53</td>\n",
              "      <td>-70.97</td>\n",
              "    </tr>\n",
              "    <tr>\n",
              "      <th>1</th>\n",
              "      <td>89568</td>\n",
              "      <td>Reno</td>\n",
              "      <td>USA</td>\n",
              "      <td>39.54</td>\n",
              "      <td>-119.82</td>\n",
              "    </tr>\n",
              "    <tr>\n",
              "      <th>2</th>\n",
              "      <td>434134</td>\n",
              "      <td>Rialto</td>\n",
              "      <td>USA</td>\n",
              "      <td>34.11</td>\n",
              "      <td>-117.39</td>\n",
              "    </tr>\n",
              "    <tr>\n",
              "      <th>3</th>\n",
              "      <td>289769</td>\n",
              "      <td>Carson City</td>\n",
              "      <td>USA</td>\n",
              "      <td>39.15</td>\n",
              "      <td>-119.74</td>\n",
              "    </tr>\n",
              "    <tr>\n",
              "      <th>4</th>\n",
              "      <td>939586</td>\n",
              "      <td>Chicago</td>\n",
              "      <td>USA</td>\n",
              "      <td>41.84</td>\n",
              "      <td>-87.68</td>\n",
              "    </tr>\n",
              "  </tbody>\n",
              "</table>\n",
              "</div>"
            ],
            "text/plain": [
              "   user_id         city country    lat    long\n",
              "0   510335      Peabody     USA  42.53  -70.97\n",
              "1    89568         Reno     USA  39.54 -119.82\n",
              "2   434134       Rialto     USA  34.11 -117.39\n",
              "3   289769  Carson City     USA  39.15 -119.74\n",
              "4   939586      Chicago     USA  41.84  -87.68"
            ]
          },
          "metadata": {
            "tags": []
          },
          "execution_count": 13
        }
      ]
    },
    {
      "cell_type": "code",
      "metadata": {
        "colab": {
          "base_uri": "https://localhost:8080/",
          "height": 198
        },
        "id": "5GL7iDEeU8pj",
        "outputId": "eacf3dd1-5bc4-45d9-e696-9d834ef01768"
      },
      "source": [
        "df = pd.merge(test_results, users, how='left')\r\n",
        "df.head()"
      ],
      "execution_count": 14,
      "outputs": [
        {
          "output_type": "execute_result",
          "data": {
            "text/html": [
              "<div>\n",
              "<style scoped>\n",
              "    .dataframe tbody tr th:only-of-type {\n",
              "        vertical-align: middle;\n",
              "    }\n",
              "\n",
              "    .dataframe tbody tr th {\n",
              "        vertical-align: top;\n",
              "    }\n",
              "\n",
              "    .dataframe thead th {\n",
              "        text-align: right;\n",
              "    }\n",
              "</style>\n",
              "<table border=\"1\" class=\"dataframe\">\n",
              "  <thead>\n",
              "    <tr style=\"text-align: right;\">\n",
              "      <th></th>\n",
              "      <th>user_id</th>\n",
              "      <th>timestamp</th>\n",
              "      <th>source</th>\n",
              "      <th>device</th>\n",
              "      <th>operative_system</th>\n",
              "      <th>test</th>\n",
              "      <th>price</th>\n",
              "      <th>converted</th>\n",
              "      <th>revenue</th>\n",
              "      <th>city</th>\n",
              "      <th>country</th>\n",
              "      <th>lat</th>\n",
              "      <th>long</th>\n",
              "    </tr>\n",
              "  </thead>\n",
              "  <tbody>\n",
              "    <tr>\n",
              "      <th>0</th>\n",
              "      <td>604839</td>\n",
              "      <td>2015-05-08 03:38:34</td>\n",
              "      <td>ads_facebook</td>\n",
              "      <td>mobile</td>\n",
              "      <td>iOS</td>\n",
              "      <td>0</td>\n",
              "      <td>39</td>\n",
              "      <td>0</td>\n",
              "      <td>0</td>\n",
              "      <td>Buffalo</td>\n",
              "      <td>USA</td>\n",
              "      <td>42.89</td>\n",
              "      <td>-78.86</td>\n",
              "    </tr>\n",
              "    <tr>\n",
              "      <th>1</th>\n",
              "      <td>624057</td>\n",
              "      <td>2015-05-10 21:08:46</td>\n",
              "      <td>seo-google</td>\n",
              "      <td>mobile</td>\n",
              "      <td>android</td>\n",
              "      <td>0</td>\n",
              "      <td>39</td>\n",
              "      <td>0</td>\n",
              "      <td>0</td>\n",
              "      <td>Lakeville</td>\n",
              "      <td>USA</td>\n",
              "      <td>44.68</td>\n",
              "      <td>-93.24</td>\n",
              "    </tr>\n",
              "    <tr>\n",
              "      <th>2</th>\n",
              "      <td>317970</td>\n",
              "      <td>2015-04-04 15:01:23</td>\n",
              "      <td>ads-bing</td>\n",
              "      <td>mobile</td>\n",
              "      <td>android</td>\n",
              "      <td>0</td>\n",
              "      <td>39</td>\n",
              "      <td>0</td>\n",
              "      <td>0</td>\n",
              "      <td>Parma</td>\n",
              "      <td>USA</td>\n",
              "      <td>41.38</td>\n",
              "      <td>-81.73</td>\n",
              "    </tr>\n",
              "    <tr>\n",
              "      <th>3</th>\n",
              "      <td>685636</td>\n",
              "      <td>2015-05-07 07:26:01</td>\n",
              "      <td>direct_traffic</td>\n",
              "      <td>mobile</td>\n",
              "      <td>iOS</td>\n",
              "      <td>1</td>\n",
              "      <td>59</td>\n",
              "      <td>0</td>\n",
              "      <td>0</td>\n",
              "      <td>Fayetteville</td>\n",
              "      <td>USA</td>\n",
              "      <td>35.07</td>\n",
              "      <td>-78.90</td>\n",
              "    </tr>\n",
              "    <tr>\n",
              "      <th>4</th>\n",
              "      <td>820854</td>\n",
              "      <td>2015-05-24 11:04:40</td>\n",
              "      <td>ads_facebook</td>\n",
              "      <td>web</td>\n",
              "      <td>mac</td>\n",
              "      <td>0</td>\n",
              "      <td>39</td>\n",
              "      <td>0</td>\n",
              "      <td>0</td>\n",
              "      <td>Fishers</td>\n",
              "      <td>USA</td>\n",
              "      <td>39.95</td>\n",
              "      <td>-86.02</td>\n",
              "    </tr>\n",
              "  </tbody>\n",
              "</table>\n",
              "</div>"
            ],
            "text/plain": [
              "   user_id           timestamp          source  ... country    lat   long\n",
              "0   604839 2015-05-08 03:38:34    ads_facebook  ...     USA  42.89 -78.86\n",
              "1   624057 2015-05-10 21:08:46      seo-google  ...     USA  44.68 -93.24\n",
              "2   317970 2015-04-04 15:01:23        ads-bing  ...     USA  41.38 -81.73\n",
              "3   685636 2015-05-07 07:26:01  direct_traffic  ...     USA  35.07 -78.90\n",
              "4   820854 2015-05-24 11:04:40    ads_facebook  ...     USA  39.95 -86.02\n",
              "\n",
              "[5 rows x 13 columns]"
            ]
          },
          "metadata": {
            "tags": []
          },
          "execution_count": 14
        }
      ]
    },
    {
      "cell_type": "code",
      "metadata": {
        "id": "YYFB8efuVbsm"
      },
      "source": [
        "df['dayofweek'] = df['timestamp'].dt.dayofweek\r\n",
        "df['hour'] = df['timestamp'].dt.hour"
      ],
      "execution_count": 15,
      "outputs": []
    },
    {
      "cell_type": "markdown",
      "metadata": {
        "id": "Nqk3BFTOBOam"
      },
      "source": [
        "The looking at the user info is a lot of repetition so we'll minimize the amount of repeated code and dump it all in a for loop."
      ]
    },
    {
      "cell_type": "code",
      "metadata": {
        "id": "U_Fpe-dXDunA",
        "outputId": "5b97bf4d-a544-498f-a609-378349ea4319",
        "colab": {
          "base_uri": "https://localhost:8080/",
          "height": 1000
        }
      },
      "source": [
        "for col in ['hour', 'source', 'operative_system', 'device']:\r\n",
        "    print('\\n', col)\r\n",
        "    df[col].value_counts(normalize=True).sort_index().plot.bar()\r\n",
        "    plt.title('% Visitors by ' + col)\r\n",
        "    plt.show()\r\n",
        "    df.groupby(col)['converted'].mean().plot.bar();\r\n",
        "    plt.title('Average Conversion Rate by ' + col + ' (All)')\r\n",
        "    plt.show()\r\n",
        "    df.pivot_table('converted', col, 'price').plot.bar();\r\n",
        "    plt.title('Average Conversion Rate by ' + col + ' and Price')\r\n",
        "    plt.show()\r\n",
        "    df.pivot_table('revenue', col, 'price').plot.bar()\r\n",
        "    plt.title('Average Revenue by ' + col + ' and Price')\r\n",
        "    plt.show()"
      ],
      "execution_count": 51,
      "outputs": [
        {
          "output_type": "stream",
          "text": [
            "\n",
            " hour\n"
          ],
          "name": "stdout"
        },
        {
          "output_type": "display_data",
          "data": {
            "image/png": "[encoded data removed]",
            "text/plain": [
              "<Figure size 432x288 with 1 Axes>"
            ]
          },
          "metadata": {
            "tags": [],
            "needs_background": "light"
          }
        },
        {
          "output_type": "display_data",
          "data": {
            "image/png": "[encoded data removed]",
            "text/plain": [
              "<Figure size 432x288 with 1 Axes>"
            ]
          },
          "metadata": {
            "tags": [],
            "needs_background": "light"
          }
        },
        {
          "output_type": "display_data",
          "data": {
            "image/png": "[encoded data removed]",
            "text/plain": [
              "<Figure size 432x288 with 1 Axes>"
            ]
          },
          "metadata": {
            "tags": [],
            "needs_background": "light"
          }
        },
        {
          "output_type": "display_data",
          "data": {
            "image/png": "[encoded data removed]",
            "text/plain": [
              "<Figure size 432x288 with 1 Axes>"
            ]
          },
          "metadata": {
            "tags": [],
            "needs_background": "light"
          }
        },
        {
          "output_type": "stream",
          "text": [
            "\n",
            " source\n"
          ],
          "name": "stdout"
        },
        {
          "output_type": "display_data",
          "data": {
            "image/png": "[encoded data removed]",
            "text/plain": [
              "<Figure size 432x288 with 1 Axes>"
            ]
          },
          "metadata": {
            "tags": [],
            "needs_background": "light"
          }
        },
        {
          "output_type": "display_data",
          "data": {
            "image/png": "[encoded data removed]",
            "text/plain": [
              "<Figure size 432x288 with 1 Axes>"
            ]
          },
          "metadata": {
            "tags": [],
            "needs_background": "light"
          }
        },
        {
          "output_type": "display_data",
          "data": {
            "image/png": "[encoded data removed]",
            "text/plain": [
              "<Figure size 432x288 with 1 Axes>"
            ]
          },
          "metadata": {
            "tags": [],
            "needs_background": "light"
          }
        },
        {
          "output_type": "display_data",
          "data": {
            "image/png": "[encoded data removed]",
            "text/plain": [
              "<Figure size 432x288 with 1 Axes>"
            ]
          },
          "metadata": {
            "tags": [],
            "needs_background": "light"
          }
        },
        {
          "output_type": "stream",
          "text": [
            "\n",
            " operative_system\n"
          ],
          "name": "stdout"
        },
        {
          "output_type": "display_data",
          "data": {
            "image/png": "[encoded data removed]",
            "text/plain": [
              "<Figure size 432x288 with 1 Axes>"
            ]
          },
          "metadata": {
            "tags": [],
            "needs_background": "light"
          }
        },
        {
          "output_type": "display_data",
          "data": {
            "image/png": "[encoded data removed]",
            "text/plain": [
              "<Figure size 432x288 with 1 Axes>"
            ]
          },
          "metadata": {
            "tags": [],
            "needs_background": "light"
          }
        },
        {
          "output_type": "display_data",
          "data": {
            "image/png": "[encoded data removed]",
            "text/plain": [
              "<Figure size 432x288 with 1 Axes>"
            ]
          },
          "metadata": {
            "tags": [],
            "needs_background": "light"
          }
        },
        {
          "output_type": "display_data",
          "data": {
            "image/png": "[encoded data removed]",
            "text/plain": [
              "<Figure size 432x288 with 1 Axes>"
            ]
          },
          "metadata": {
            "tags": [],
            "needs_background": "light"
          }
        },
        {
          "output_type": "stream",
          "text": [
            "\n",
            " device\n"
          ],
          "name": "stdout"
        },
        {
          "output_type": "display_data",
          "data": {
            "image/png": "[encoded data removed]",
            "text/plain": [
              "<Figure size 432x288 with 1 Axes>"
            ]
          },
          "metadata": {
            "tags": [],
            "needs_background": "light"
          }
        },
        {
          "output_type": "display_data",
          "data": {
            "image/png": "[encoded data removed]",
            "text/plain": [
              "<Figure size 432x288 with 1 Axes>"
            ]
          },
          "metadata": {
            "tags": [],
            "needs_background": "light"
          }
        },
        {
          "output_type": "display_data",
          "data": {
            "image/png": "[encoded data removed]",
            "text/plain": [
              "<Figure size 432x288 with 1 Axes>"
            ]
          },
          "metadata": {
            "tags": [],
            "needs_background": "light"
          }
        },
        {
          "output_type": "display_data",
          "data": {
            "image/png": "[encoded data removed]",
            "text/plain": [
              "<Figure size 432x288 with 1 Axes>"
            ]
          },
          "metadata": {
            "tags": [],
            "needs_background": "light"
          }
        }
      ]
    },
    {
      "cell_type": "markdown",
      "metadata": {
        "id": "AKSEYznpBdkE"
      },
      "source": [
        "Slight variation with `dayofweek` because I want to have the written day and not the numerical designation. Due to this `dayofweek` is separate but still the same sets of graphs as above."
      ]
    },
    {
      "cell_type": "code",
      "metadata": {
        "colab": {
          "base_uri": "https://localhost:8080/",
          "height": 1000
        },
        "id": "UclshgowV3MF",
        "outputId": "df7e9943-f306-4c53-db61-d088078f5221"
      },
      "source": [
        "days_of_week = {0: 'Monday', 1: 'Tuesday', 2: 'Wednesday', 3: 'Thursday',\r\n",
        "                4: 'Friday', 5: 'Saturday', 6: 'Sunday'}\r\n",
        "\r\n",
        "df['dayofweek'].value_counts(normalize=True).sort_index().rename(\r\n",
        "                                                       days_of_week).plot.bar();\r\n",
        "plt.show()\r\n",
        "df.groupby('dayofweek')['converted'].mean().rename(days_of_week).plot.bar();\r\n",
        "plt.show()\r\n",
        "df.pivot_table('converted', 'dayofweek', 'price').rename(days_of_week).plot.bar();\r\n",
        "plt.show()\r\n",
        "df.pivot_table('revenue', 'dayofweek', 'price').rename(days_of_week).plot.bar();\r\n",
        "plt.show()"
      ],
      "execution_count": 17,
      "outputs": [
        {
          "output_type": "display_data",
          "data": {
            "image/png": "[encoded data removed]",
            "text/plain": [
              "<Figure size 432x288 with 1 Axes>"
            ]
          },
          "metadata": {
            "tags": [],
            "needs_background": "light"
          }
        },
        {
          "output_type": "display_data",
          "data": {
            "image/png": "[encoded data removed]",
            "text/plain": [
              "<Figure size 432x288 with 1 Axes>"
            ]
          },
          "metadata": {
            "tags": [],
            "needs_background": "light"
          }
        },
        {
          "output_type": "display_data",
          "data": {
            "image/png": "[encoded data removed]",
            "text/plain": [
              "<Figure size 432x288 with 1 Axes>"
            ]
          },
          "metadata": {
            "tags": [],
            "needs_background": "light"
          }
        },
        {
          "output_type": "display_data",
          "data": {
            "image/png": "[encoded data removed]",
            "text/plain": [
              "<Figure size 432x288 with 1 Axes>"
            ]
          },
          "metadata": {
            "tags": [],
            "needs_background": "light"
          }
        }
      ]
    },
    {
      "cell_type": "markdown",
      "metadata": {
        "id": "TyuAEsGDBxa7"
      },
      "source": [
        "Not expecting too much from city but we don't want to leave it out. Interestingly, North Atlanta loves the software."
      ]
    },
    {
      "cell_type": "code",
      "metadata": {
        "id": "BCP9qXIHJSIZ",
        "outputId": "adf0af76-449e-4c91-97ca-e8bcb1a1ed48",
        "colab": {
          "base_uri": "https://localhost:8080/",
          "height": 379
        }
      },
      "source": [
        "pd.pivot_table(df, 'converted', 'city', 'price',\r\n",
        "               margins='index').sort_values(by='All', ascending=False)[:10]"
      ],
      "execution_count": 37,
      "outputs": [
        {
          "output_type": "execute_result",
          "data": {
            "text/html": [
              "<div>\n",
              "<style scoped>\n",
              "    .dataframe tbody tr th:only-of-type {\n",
              "        vertical-align: middle;\n",
              "    }\n",
              "\n",
              "    .dataframe tbody tr th {\n",
              "        vertical-align: top;\n",
              "    }\n",
              "\n",
              "    .dataframe thead th {\n",
              "        text-align: right;\n",
              "    }\n",
              "</style>\n",
              "<table border=\"1\" class=\"dataframe\">\n",
              "  <thead>\n",
              "    <tr style=\"text-align: right;\">\n",
              "      <th>price</th>\n",
              "      <th>39</th>\n",
              "      <th>59</th>\n",
              "      <th>All</th>\n",
              "    </tr>\n",
              "    <tr>\n",
              "      <th>city</th>\n",
              "      <th></th>\n",
              "      <th></th>\n",
              "      <th></th>\n",
              "    </tr>\n",
              "  </thead>\n",
              "  <tbody>\n",
              "    <tr>\n",
              "      <th>North Atlanta</th>\n",
              "      <td>0.000000</td>\n",
              "      <td>0.250000</td>\n",
              "      <td>0.200000</td>\n",
              "    </tr>\n",
              "    <tr>\n",
              "      <th>Catonsville</th>\n",
              "      <td>0.250000</td>\n",
              "      <td>0.000000</td>\n",
              "      <td>0.153846</td>\n",
              "    </tr>\n",
              "    <tr>\n",
              "      <th>Saint Charles</th>\n",
              "      <td>0.200000</td>\n",
              "      <td>0.000000</td>\n",
              "      <td>0.142857</td>\n",
              "    </tr>\n",
              "    <tr>\n",
              "      <th>Parkway-South Sacramento</th>\n",
              "      <td>0.181818</td>\n",
              "      <td>0.000000</td>\n",
              "      <td>0.117647</td>\n",
              "    </tr>\n",
              "    <tr>\n",
              "      <th>Findlay</th>\n",
              "      <td>0.000000</td>\n",
              "      <td>0.166667</td>\n",
              "      <td>0.111111</td>\n",
              "    </tr>\n",
              "    <tr>\n",
              "      <th>Blue Springs</th>\n",
              "      <td>0.066667</td>\n",
              "      <td>0.166667</td>\n",
              "      <td>0.095238</td>\n",
              "    </tr>\n",
              "    <tr>\n",
              "      <th>Bonita Springs</th>\n",
              "      <td>0.250000</td>\n",
              "      <td>0.000000</td>\n",
              "      <td>0.090909</td>\n",
              "    </tr>\n",
              "    <tr>\n",
              "      <th>Lehigh Acres</th>\n",
              "      <td>0.000000</td>\n",
              "      <td>0.210526</td>\n",
              "      <td>0.086957</td>\n",
              "    </tr>\n",
              "    <tr>\n",
              "      <th>Parsippany-Troy Hills Township</th>\n",
              "      <td>0.074074</td>\n",
              "      <td>0.100000</td>\n",
              "      <td>0.081081</td>\n",
              "    </tr>\n",
              "    <tr>\n",
              "      <th>Sun City</th>\n",
              "      <td>0.109375</td>\n",
              "      <td>0.000000</td>\n",
              "      <td>0.078652</td>\n",
              "    </tr>\n",
              "  </tbody>\n",
              "</table>\n",
              "</div>"
            ],
            "text/plain": [
              "price                                 39        59       All\n",
              "city                                                        \n",
              "North Atlanta                   0.000000  0.250000  0.200000\n",
              "Catonsville                     0.250000  0.000000  0.153846\n",
              "Saint Charles                   0.200000  0.000000  0.142857\n",
              "Parkway-South Sacramento        0.181818  0.000000  0.117647\n",
              "Findlay                         0.000000  0.166667  0.111111\n",
              "Blue Springs                    0.066667  0.166667  0.095238\n",
              "Bonita Springs                  0.250000  0.000000  0.090909\n",
              "Lehigh Acres                    0.000000  0.210526  0.086957\n",
              "Parsippany-Troy Hills Township  0.074074  0.100000  0.081081\n",
              "Sun City                        0.109375  0.000000  0.078652"
            ]
          },
          "metadata": {
            "tags": []
          },
          "execution_count": 37
        }
      ]
    },
    {
      "cell_type": "code",
      "metadata": {
        "id": "oaOETGO6wjR9",
        "outputId": "83f7127b-d322-4805-a2e7-fefe526d3988",
        "colab": {
          "base_uri": "https://localhost:8080/",
          "height": 379
        }
      },
      "source": [
        "pd.pivot_table(df, 'revenue', 'city', 'price',\r\n",
        "               margins='index').sort_values(by='All', ascending=False)[:10]"
      ],
      "execution_count": 36,
      "outputs": [
        {
          "output_type": "execute_result",
          "data": {
            "text/html": [
              "<div>\n",
              "<style scoped>\n",
              "    .dataframe tbody tr th:only-of-type {\n",
              "        vertical-align: middle;\n",
              "    }\n",
              "\n",
              "    .dataframe tbody tr th {\n",
              "        vertical-align: top;\n",
              "    }\n",
              "\n",
              "    .dataframe thead th {\n",
              "        text-align: right;\n",
              "    }\n",
              "</style>\n",
              "<table border=\"1\" class=\"dataframe\">\n",
              "  <thead>\n",
              "    <tr style=\"text-align: right;\">\n",
              "      <th>price</th>\n",
              "      <th>39</th>\n",
              "      <th>59</th>\n",
              "      <th>All</th>\n",
              "    </tr>\n",
              "    <tr>\n",
              "      <th>city</th>\n",
              "      <th></th>\n",
              "      <th></th>\n",
              "      <th></th>\n",
              "    </tr>\n",
              "  </thead>\n",
              "  <tbody>\n",
              "    <tr>\n",
              "      <th>North Atlanta</th>\n",
              "      <td>0.000000</td>\n",
              "      <td>14.750000</td>\n",
              "      <td>11.800000</td>\n",
              "    </tr>\n",
              "    <tr>\n",
              "      <th>Findlay</th>\n",
              "      <td>0.000000</td>\n",
              "      <td>9.833333</td>\n",
              "      <td>6.555556</td>\n",
              "    </tr>\n",
              "    <tr>\n",
              "      <th>Catonsville</th>\n",
              "      <td>9.750000</td>\n",
              "      <td>0.000000</td>\n",
              "      <td>6.000000</td>\n",
              "    </tr>\n",
              "    <tr>\n",
              "      <th>Saint Charles</th>\n",
              "      <td>7.800000</td>\n",
              "      <td>0.000000</td>\n",
              "      <td>5.571429</td>\n",
              "    </tr>\n",
              "    <tr>\n",
              "      <th>Lehigh Acres</th>\n",
              "      <td>0.000000</td>\n",
              "      <td>12.421053</td>\n",
              "      <td>5.130435</td>\n",
              "    </tr>\n",
              "    <tr>\n",
              "      <th>Blue Springs</th>\n",
              "      <td>2.600000</td>\n",
              "      <td>9.833333</td>\n",
              "      <td>4.666667</td>\n",
              "    </tr>\n",
              "    <tr>\n",
              "      <th>Parkway-South Sacramento</th>\n",
              "      <td>7.090909</td>\n",
              "      <td>0.000000</td>\n",
              "      <td>4.588235</td>\n",
              "    </tr>\n",
              "    <tr>\n",
              "      <th>Parsippany-Troy Hills Township</th>\n",
              "      <td>2.888889</td>\n",
              "      <td>5.900000</td>\n",
              "      <td>3.702703</td>\n",
              "    </tr>\n",
              "    <tr>\n",
              "      <th>Bonita Springs</th>\n",
              "      <td>9.750000</td>\n",
              "      <td>0.000000</td>\n",
              "      <td>3.545455</td>\n",
              "    </tr>\n",
              "    <tr>\n",
              "      <th>Great Falls</th>\n",
              "      <td>1.392857</td>\n",
              "      <td>6.555556</td>\n",
              "      <td>3.413043</td>\n",
              "    </tr>\n",
              "  </tbody>\n",
              "</table>\n",
              "</div>"
            ],
            "text/plain": [
              "price                                 39         59        All\n",
              "city                                                          \n",
              "North Atlanta                   0.000000  14.750000  11.800000\n",
              "Findlay                         0.000000   9.833333   6.555556\n",
              "Catonsville                     9.750000   0.000000   6.000000\n",
              "Saint Charles                   7.800000   0.000000   5.571429\n",
              "Lehigh Acres                    0.000000  12.421053   5.130435\n",
              "Blue Springs                    2.600000   9.833333   4.666667\n",
              "Parkway-South Sacramento        7.090909   0.000000   4.588235\n",
              "Parsippany-Troy Hills Township  2.888889   5.900000   3.702703\n",
              "Bonita Springs                  9.750000   0.000000   3.545455\n",
              "Great Falls                     1.392857   6.555556   3.413043"
            ]
          },
          "metadata": {
            "tags": []
          },
          "execution_count": 36
        }
      ]
    },
    {
      "cell_type": "markdown",
      "metadata": {
        "id": "OiWzfB-1Uq1k"
      },
      "source": [
        "<a name='user_results'></a>\r\n",
        "## Evaluating User Behavior"
      ]
    },
    {
      "cell_type": "markdown",
      "metadata": {
        "id": "CsZ76ERd5uoB"
      },
      "source": [
        "Looking at the user behavior we find a couple of properties that increase conversion rate:\r\n",
        "- `source`:`friend_referral`\r\n",
        "- `operative_system`:`mac` and `iOS`\r\n",
        "- `price`:`39`\r\n",
        "- `timestamp`: `hour`\r\n",
        "We also see our user traffic is impacted by `dayofweek` and `hour`.\r\n",
        "\r\n",
        "From what we found we can make a few suggestions to improve conversion rate/revenue.\r\n",
        "- Highlight  friend referrals in some way, such as with a perk for inviting a friend, or altering the UI/UX to draw attention to friend referrals.\r\n",
        "- Increase support of Mac/iOS to foster the community and start an advertising campaign to target those users.\r\n",
        "- Offer some sort of promotion at peak traffic times, such as a Friday at Noon flash sale.\r\n",
        "- Test and offer tiered pricing and the ability to upgrade. Pricing is a major factor on the conversion rate so having price points that appeals to the various segments you are better able to capture each segment.\r\n",
        "- Linux users have a low conversion rate. The development team should check for issues surrounding the OS and maybe provide written support for using the software on Linux.\r\n",
        "- Finally, we see conversion rate varies by city but that even at the higher price point of $59 `North Atlanta` has a conversion rate of 25%. With Atlanta being a major city, spending time to foster a community for the software users in that city may be worthwhile and would pair well with the friend referral suggestion."
      ]
    },
    {
      "cell_type": "markdown",
      "metadata": {
        "id": "-bhDFS5d0bKi"
      },
      "source": [
        "<a name='shorter_test'></a>\r\n",
        "# Shorter A/B Test"
      ]
    },
    {
      "cell_type": "markdown",
      "metadata": {
        "id": "_-iz7lWf0fti"
      },
      "source": [
        "The VP of Product is correct that they could have done a shorter test and still achieved a statistically significant result. The test that was completed ran for 90 days however you could reduce that down to 14 days. I would not recommend going below 2 weeks to ensure you capture possible weekly trends. The test sample size could also be reduced dramatically depending on the minimum effect you are looking to detect. The needed sample size can be calculated or you can use the [tool here](https://www.evanmiller.org/ab-testing/sample-size.html#!1.9;95;1;1;0) to verify.\r\n",
        "\r\n",
        "Assuming a minimum detectable effect of 1% we would need a sample size of at least 7,279 (vs. 113918 used). Spreading that out over the 14 days would require just 520 users each day out of the average 3,515 users/day (14.8% of daily users). By using a smaller sample size we can reduce the impact of a possible failed experiment and it allows us to run additional A/B tests concurrently."
      ]
    }
  ]
}