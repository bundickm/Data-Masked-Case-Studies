{
  "nbformat": 4,
  "nbformat_minor": 0,
  "metadata": {
    "colab": {
      "name": "Employee Retention.ipynb",
      "provenance": [],
      "collapsed_sections": [],
      "authorship_tag": "ABX9TyPvOuP3pkkGXwuzhiw2CPFC"
    },
    "kernelspec": {
      "name": "python3",
      "display_name": "Python 3"
    }
  },
  "cells": [
    {
      "cell_type": "markdown",
      "metadata": {
        "id": "6tN6hiy-g_mU"
      },
      "source": [
        "<a name='*Challenge*'></a>\r\n",
        "# Employee Retention\r\n",
        "\r\n",
        "We got employee data from a few companies. We have data about all employees who joined from 2011-01-24 to 2015-12-13. For each employee, we also know if they are still at the company as of 2015-12-13 or they have quit. Beside that, we have general info about the employee, such as avg salary during her tenure, dept, and yrs of experience.\r\n",
        "\r\n",
        "As said above, the goal is to predict employee retention and understand its main drivers. Specifically, you should:\r\n",
        "\r\n",
        "\r\n",
        "1. Assume, for each company, that the headcount starts from zero on 2011-01-23. Estimate employee headcount, for each company on each day, from 2011-01-24 to 2015-12-13. That is, if by 2012-03-02 2000 people have joined company 1 and 1000 of them have already quit, then company headcount on 2012-03-02 for company 1 would be 1000. You should create a table with 3 columns: day, employee_headcount, company_id\r\n",
        "2. What are the main factors that drive employee churn? Do they make sense? Explain your findings\r\n",
        "3. If you could add to this data set just one variable that could help explain employee churn, what would that be?"
      ]
    },
    {
      "cell_type": "markdown",
      "metadata": {
        "id": "N-mKSd-Vnf_B"
      },
      "source": [
        "<a name='Data'></a>\r\n",
        "# Data Description\r\n",
        "\r\n",
        "- **employee_id:** id of the employee. Unique by employee per company\r\n",
        "- **company_id:** company id. It is unique by company\r\n",
        "- **dept:** employee dept\r\n",
        "- **seniority:** number of yrs of work experience when hired\r\n",
        "- **salary:** avg yearly salary of the employee during her tenure within the company\r\n",
        "- **join_date:** when the employee joined the company, it can only be between 2011/01/24 and 2015/12/13\r\n",
        "- **quit_date:** when the employee left her job (if she is still employed as of 2015/12/13, this field is NA)"
      ]
    },
    {
      "cell_type": "markdown",
      "metadata": {
        "id": "gDmOsc-tnEhd"
      },
      "source": [
        "# Navigation\r\n",
        "1. [Challenge Description](#Challenge)\r\n",
        "2. [Data Description](#Data)\r\n",
        "3. [Initial Exploration](#Exploration)\r\n",
        "4. Challenge Questions\r\n",
        "    1. [Employee Headcounts](#Headcounts)\r\n",
        "    2. [Employee Churn](#Churn)\r\n",
        "        - [Employment Length](#Tenure)\r\n",
        "        - [Salary](#Salary)\r\n",
        "        - [Hire Date](#Join) \r\n",
        "        - [Seniority](#Senority)\r\n",
        "        - [Modeling](#Modeling)\r\n",
        "    3. [Adding to the Dataset](#Adding)\r\n",
        "5. [Conclusions](#Conclusions)\r\n"
      ]
    },
    {
      "cell_type": "markdown",
      "metadata": {
        "id": "wYe8AvROnBo-"
      },
      "source": [
        "<a name='Exploration'></a>\r\n",
        "# Initial Exploration"
      ]
    },
    {
      "cell_type": "code",
      "metadata": {
        "id": "qfyf7vIsifv-"
      },
      "source": [
        "import pandas as pd\r\n",
        "import numpy as np\r\n",
        "import matplotlib.pyplot as plt\r\n",
        "import graphviz\r\n",
        "from sklearn.tree import DecisionTreeClassifier\r\n",
        "from sklearn.tree import export_graphviz\r\n",
        "from graphviz import Source"
      ],
      "execution_count": 17,
      "outputs": []
    },
    {
      "cell_type": "code",
      "metadata": {
        "colab": {
          "base_uri": "https://localhost:8080/",
          "height": 216
        },
        "id": "-yFflHuGijmK",
        "outputId": "ec9f82dc-20b1-471a-976a-b9b6c8124723"
      },
      "source": [
        "df = pd.read_csv('https://raw.githubusercontent.com/bundickm/DataMasked---Private/main/CSVs/employee_retention.csv?token=ALJ4RG3TZVYHYZDNMMRFKIDABR5NM')\r\n",
        "\r\n",
        "print(df.shape)\r\n",
        "df.head()"
      ],
      "execution_count": 18,
      "outputs": [
        {
          "output_type": "stream",
          "text": [
            "(24702, 7)\n"
          ],
          "name": "stdout"
        },
        {
          "output_type": "execute_result",
          "data": {
            "text/html": [
              "<div>\n",
              "<style scoped>\n",
              "    .dataframe tbody tr th:only-of-type {\n",
              "        vertical-align: middle;\n",
              "    }\n",
              "\n",
              "    .dataframe tbody tr th {\n",
              "        vertical-align: top;\n",
              "    }\n",
              "\n",
              "    .dataframe thead th {\n",
              "        text-align: right;\n",
              "    }\n",
              "</style>\n",
              "<table border=\"1\" class=\"dataframe\">\n",
              "  <thead>\n",
              "    <tr style=\"text-align: right;\">\n",
              "      <th></th>\n",
              "      <th>employee_id</th>\n",
              "      <th>company_id</th>\n",
              "      <th>dept</th>\n",
              "      <th>seniority</th>\n",
              "      <th>salary</th>\n",
              "      <th>join_date</th>\n",
              "      <th>quit_date</th>\n",
              "    </tr>\n",
              "  </thead>\n",
              "  <tbody>\n",
              "    <tr>\n",
              "      <th>0</th>\n",
              "      <td>13021.0</td>\n",
              "      <td>7</td>\n",
              "      <td>customer_service</td>\n",
              "      <td>28</td>\n",
              "      <td>89000.0</td>\n",
              "      <td>2014-03-24</td>\n",
              "      <td>2015-10-30</td>\n",
              "    </tr>\n",
              "    <tr>\n",
              "      <th>1</th>\n",
              "      <td>825355.0</td>\n",
              "      <td>7</td>\n",
              "      <td>marketing</td>\n",
              "      <td>20</td>\n",
              "      <td>183000.0</td>\n",
              "      <td>2013-04-29</td>\n",
              "      <td>2014-04-04</td>\n",
              "    </tr>\n",
              "    <tr>\n",
              "      <th>2</th>\n",
              "      <td>927315.0</td>\n",
              "      <td>4</td>\n",
              "      <td>marketing</td>\n",
              "      <td>14</td>\n",
              "      <td>101000.0</td>\n",
              "      <td>2014-10-13</td>\n",
              "      <td>NaN</td>\n",
              "    </tr>\n",
              "    <tr>\n",
              "      <th>3</th>\n",
              "      <td>662910.0</td>\n",
              "      <td>7</td>\n",
              "      <td>customer_service</td>\n",
              "      <td>20</td>\n",
              "      <td>115000.0</td>\n",
              "      <td>2012-05-14</td>\n",
              "      <td>2013-06-07</td>\n",
              "    </tr>\n",
              "    <tr>\n",
              "      <th>4</th>\n",
              "      <td>256971.0</td>\n",
              "      <td>2</td>\n",
              "      <td>data_science</td>\n",
              "      <td>23</td>\n",
              "      <td>276000.0</td>\n",
              "      <td>2011-10-17</td>\n",
              "      <td>2014-08-22</td>\n",
              "    </tr>\n",
              "  </tbody>\n",
              "</table>\n",
              "</div>"
            ],
            "text/plain": [
              "   employee_id  company_id              dept  ...    salary   join_date   quit_date\n",
              "0      13021.0           7  customer_service  ...   89000.0  2014-03-24  2015-10-30\n",
              "1     825355.0           7         marketing  ...  183000.0  2013-04-29  2014-04-04\n",
              "2     927315.0           4         marketing  ...  101000.0  2014-10-13         NaN\n",
              "3     662910.0           7  customer_service  ...  115000.0  2012-05-14  2013-06-07\n",
              "4     256971.0           2      data_science  ...  276000.0  2011-10-17  2014-08-22\n",
              "\n",
              "[5 rows x 7 columns]"
            ]
          },
          "metadata": {
            "tags": []
          },
          "execution_count": 18
        }
      ]
    },
    {
      "cell_type": "code",
      "metadata": {
        "colab": {
          "base_uri": "https://localhost:8080/"
        },
        "id": "svYnnE8oio2m",
        "outputId": "1bce6e28-6cc4-493a-86a1-bf2edab727bc"
      },
      "source": [
        "df.info()"
      ],
      "execution_count": 19,
      "outputs": [
        {
          "output_type": "stream",
          "text": [
            "<class 'pandas.core.frame.DataFrame'>\n",
            "RangeIndex: 24702 entries, 0 to 24701\n",
            "Data columns (total 7 columns):\n",
            " #   Column       Non-Null Count  Dtype  \n",
            "---  ------       --------------  -----  \n",
            " 0   employee_id  24702 non-null  float64\n",
            " 1   company_id   24702 non-null  int64  \n",
            " 2   dept         24702 non-null  object \n",
            " 3   seniority    24702 non-null  int64  \n",
            " 4   salary       24702 non-null  float64\n",
            " 5   join_date    24702 non-null  object \n",
            " 6   quit_date    13510 non-null  object \n",
            "dtypes: float64(2), int64(2), object(3)\n",
            "memory usage: 1.3+ MB\n"
          ],
          "name": "stdout"
        }
      ]
    },
    {
      "cell_type": "code",
      "metadata": {
        "id": "-CWNOMWvjMO7"
      },
      "source": [
        "df['join_date'] = pd.to_datetime(df['join_date'])\r\n",
        "df['quit_date'] = pd.to_datetime(df['quit_date'])"
      ],
      "execution_count": 20,
      "outputs": []
    },
    {
      "cell_type": "code",
      "metadata": {
        "colab": {
          "base_uri": "https://localhost:8080/",
          "height": 288
        },
        "id": "8_DkZMJtjKMg",
        "outputId": "8e5edcb2-c472-423d-e8b1-2216a5eaffb7"
      },
      "source": [
        "df.describe()"
      ],
      "execution_count": 21,
      "outputs": [
        {
          "output_type": "execute_result",
          "data": {
            "text/html": [
              "<div>\n",
              "<style scoped>\n",
              "    .dataframe tbody tr th:only-of-type {\n",
              "        vertical-align: middle;\n",
              "    }\n",
              "\n",
              "    .dataframe tbody tr th {\n",
              "        vertical-align: top;\n",
              "    }\n",
              "\n",
              "    .dataframe thead th {\n",
              "        text-align: right;\n",
              "    }\n",
              "</style>\n",
              "<table border=\"1\" class=\"dataframe\">\n",
              "  <thead>\n",
              "    <tr style=\"text-align: right;\">\n",
              "      <th></th>\n",
              "      <th>employee_id</th>\n",
              "      <th>company_id</th>\n",
              "      <th>seniority</th>\n",
              "      <th>salary</th>\n",
              "    </tr>\n",
              "  </thead>\n",
              "  <tbody>\n",
              "    <tr>\n",
              "      <th>count</th>\n",
              "      <td>24702.000000</td>\n",
              "      <td>24702.000000</td>\n",
              "      <td>24702.000000</td>\n",
              "      <td>24702.000000</td>\n",
              "    </tr>\n",
              "    <tr>\n",
              "      <th>mean</th>\n",
              "      <td>501604.403530</td>\n",
              "      <td>3.426969</td>\n",
              "      <td>14.127803</td>\n",
              "      <td>138183.345478</td>\n",
              "    </tr>\n",
              "    <tr>\n",
              "      <th>std</th>\n",
              "      <td>288909.026101</td>\n",
              "      <td>2.700011</td>\n",
              "      <td>8.089520</td>\n",
              "      <td>76058.184573</td>\n",
              "    </tr>\n",
              "    <tr>\n",
              "      <th>min</th>\n",
              "      <td>36.000000</td>\n",
              "      <td>1.000000</td>\n",
              "      <td>1.000000</td>\n",
              "      <td>17000.000000</td>\n",
              "    </tr>\n",
              "    <tr>\n",
              "      <th>25%</th>\n",
              "      <td>250133.750000</td>\n",
              "      <td>1.000000</td>\n",
              "      <td>7.000000</td>\n",
              "      <td>79000.000000</td>\n",
              "    </tr>\n",
              "    <tr>\n",
              "      <th>50%</th>\n",
              "      <td>500793.000000</td>\n",
              "      <td>2.000000</td>\n",
              "      <td>14.000000</td>\n",
              "      <td>123000.000000</td>\n",
              "    </tr>\n",
              "    <tr>\n",
              "      <th>75%</th>\n",
              "      <td>753137.250000</td>\n",
              "      <td>5.000000</td>\n",
              "      <td>21.000000</td>\n",
              "      <td>187000.000000</td>\n",
              "    </tr>\n",
              "    <tr>\n",
              "      <th>max</th>\n",
              "      <td>999969.000000</td>\n",
              "      <td>12.000000</td>\n",
              "      <td>99.000000</td>\n",
              "      <td>408000.000000</td>\n",
              "    </tr>\n",
              "  </tbody>\n",
              "</table>\n",
              "</div>"
            ],
            "text/plain": [
              "         employee_id    company_id     seniority         salary\n",
              "count   24702.000000  24702.000000  24702.000000   24702.000000\n",
              "mean   501604.403530      3.426969     14.127803  138183.345478\n",
              "std    288909.026101      2.700011      8.089520   76058.184573\n",
              "min        36.000000      1.000000      1.000000   17000.000000\n",
              "25%    250133.750000      1.000000      7.000000   79000.000000\n",
              "50%    500793.000000      2.000000     14.000000  123000.000000\n",
              "75%    753137.250000      5.000000     21.000000  187000.000000\n",
              "max    999969.000000     12.000000     99.000000  408000.000000"
            ]
          },
          "metadata": {
            "tags": []
          },
          "execution_count": 21
        }
      ]
    },
    {
      "cell_type": "markdown",
      "metadata": {
        "id": "EjR6ABzRrxDU"
      },
      "source": [
        "<a name='Headcounts'></a>\r\n",
        "# Finding Company Headcounts"
      ]
    },
    {
      "cell_type": "markdown",
      "metadata": {
        "id": "6JLkqAEcKo0F"
      },
      "source": [
        "Finding the employee headcounts is just a quick and dirty nested loop to get the counts at any given date."
      ]
    },
    {
      "cell_type": "code",
      "metadata": {
        "id": "5KEMLbKp2Uy1"
      },
      "source": [
        "dates = pd.date_range(start='2011/01/24', end='2015/12/13')\r\n",
        "employee_counts = []\r\n",
        "company_list = []\r\n",
        "date_list = []\r\n",
        "\r\n",
        "for company in df['company_id'].unique():\r\n",
        "    for i, date in enumerate(dates):\r\n",
        "        total_joined = len(df[(df['join_date'] <= date) & \r\n",
        "                              (df['company_id'] == company)])\r\n",
        "        total_quit = len(df[(df['quit_date'] <= date) & \r\n",
        "                            (df['company_id'] == company)])\r\n",
        "        employee_counts.append(total_joined - total_quit)\r\n",
        "        company_list.append(company)\r\n",
        "        date_list.append(date)\r\n",
        "headcount_table = pd.DataFrame({'date': date_list, 'company_id': company_list,\r\n",
        "                                'count': employee_counts})"
      ],
      "execution_count": 22,
      "outputs": []
    },
    {
      "cell_type": "code",
      "metadata": {
        "colab": {
          "base_uri": "https://localhost:8080/",
          "height": 198
        },
        "id": "pPGrkf6MAiSd",
        "outputId": "9d58cfb7-9485-43be-8218-f3f72e2333d8"
      },
      "source": [
        "headcount_table[headcount_table['company_id'] == 1].head()"
      ],
      "execution_count": 23,
      "outputs": [
        {
          "output_type": "execute_result",
          "data": {
            "text/html": [
              "<div>\n",
              "<style scoped>\n",
              "    .dataframe tbody tr th:only-of-type {\n",
              "        vertical-align: middle;\n",
              "    }\n",
              "\n",
              "    .dataframe tbody tr th {\n",
              "        vertical-align: top;\n",
              "    }\n",
              "\n",
              "    .dataframe thead th {\n",
              "        text-align: right;\n",
              "    }\n",
              "</style>\n",
              "<table border=\"1\" class=\"dataframe\">\n",
              "  <thead>\n",
              "    <tr style=\"text-align: right;\">\n",
              "      <th></th>\n",
              "      <th>date</th>\n",
              "      <th>company_id</th>\n",
              "      <th>count</th>\n",
              "    </tr>\n",
              "  </thead>\n",
              "  <tbody>\n",
              "    <tr>\n",
              "      <th>7140</th>\n",
              "      <td>2011-01-24</td>\n",
              "      <td>1</td>\n",
              "      <td>25</td>\n",
              "    </tr>\n",
              "    <tr>\n",
              "      <th>7141</th>\n",
              "      <td>2011-01-25</td>\n",
              "      <td>1</td>\n",
              "      <td>27</td>\n",
              "    </tr>\n",
              "    <tr>\n",
              "      <th>7142</th>\n",
              "      <td>2011-01-26</td>\n",
              "      <td>1</td>\n",
              "      <td>29</td>\n",
              "    </tr>\n",
              "    <tr>\n",
              "      <th>7143</th>\n",
              "      <td>2011-01-27</td>\n",
              "      <td>1</td>\n",
              "      <td>29</td>\n",
              "    </tr>\n",
              "    <tr>\n",
              "      <th>7144</th>\n",
              "      <td>2011-01-28</td>\n",
              "      <td>1</td>\n",
              "      <td>29</td>\n",
              "    </tr>\n",
              "  </tbody>\n",
              "</table>\n",
              "</div>"
            ],
            "text/plain": [
              "           date  company_id  count\n",
              "7140 2011-01-24           1     25\n",
              "7141 2011-01-25           1     27\n",
              "7142 2011-01-26           1     29\n",
              "7143 2011-01-27           1     29\n",
              "7144 2011-01-28           1     29"
            ]
          },
          "metadata": {
            "tags": []
          },
          "execution_count": 23
        }
      ]
    },
    {
      "cell_type": "markdown",
      "metadata": {
        "id": "rw0zAJJlsJWy"
      },
      "source": [
        "<a name='Churn'></a>\r\n",
        "# Exploring Employee Churn"
      ]
    },
    {
      "cell_type": "markdown",
      "metadata": {
        "id": "1xQ4fQU_tG9e"
      },
      "source": [
        "<a name='Tenure'></a>\r\n",
        "We are asked to explore empoyee churn so we first need to find employment length for each employee to see when they are leaving."
      ]
    },
    {
      "cell_type": "code",
      "metadata": {
        "colab": {
          "base_uri": "https://localhost:8080/",
          "height": 218
        },
        "id": "AURHLngXGteM",
        "outputId": "d8f8b946-b891-4b01-9dfa-3bdead0272d2"
      },
      "source": [
        "df['employment_length'] = (df['quit_date'] - df['join_date']).astype('timedelta64[D]')\r\n",
        "df.head()"
      ],
      "execution_count": 24,
      "outputs": [
        {
          "output_type": "execute_result",
          "data": {
            "text/html": [
              "<div>\n",
              "<style scoped>\n",
              "    .dataframe tbody tr th:only-of-type {\n",
              "        vertical-align: middle;\n",
              "    }\n",
              "\n",
              "    .dataframe tbody tr th {\n",
              "        vertical-align: top;\n",
              "    }\n",
              "\n",
              "    .dataframe thead th {\n",
              "        text-align: right;\n",
              "    }\n",
              "</style>\n",
              "<table border=\"1\" class=\"dataframe\">\n",
              "  <thead>\n",
              "    <tr style=\"text-align: right;\">\n",
              "      <th></th>\n",
              "      <th>employee_id</th>\n",
              "      <th>company_id</th>\n",
              "      <th>dept</th>\n",
              "      <th>seniority</th>\n",
              "      <th>salary</th>\n",
              "      <th>join_date</th>\n",
              "      <th>quit_date</th>\n",
              "      <th>employment_length</th>\n",
              "    </tr>\n",
              "  </thead>\n",
              "  <tbody>\n",
              "    <tr>\n",
              "      <th>0</th>\n",
              "      <td>13021.0</td>\n",
              "      <td>7</td>\n",
              "      <td>customer_service</td>\n",
              "      <td>28</td>\n",
              "      <td>89000.0</td>\n",
              "      <td>2014-03-24</td>\n",
              "      <td>2015-10-30</td>\n",
              "      <td>585.0</td>\n",
              "    </tr>\n",
              "    <tr>\n",
              "      <th>1</th>\n",
              "      <td>825355.0</td>\n",
              "      <td>7</td>\n",
              "      <td>marketing</td>\n",
              "      <td>20</td>\n",
              "      <td>183000.0</td>\n",
              "      <td>2013-04-29</td>\n",
              "      <td>2014-04-04</td>\n",
              "      <td>340.0</td>\n",
              "    </tr>\n",
              "    <tr>\n",
              "      <th>2</th>\n",
              "      <td>927315.0</td>\n",
              "      <td>4</td>\n",
              "      <td>marketing</td>\n",
              "      <td>14</td>\n",
              "      <td>101000.0</td>\n",
              "      <td>2014-10-13</td>\n",
              "      <td>NaT</td>\n",
              "      <td>NaN</td>\n",
              "    </tr>\n",
              "    <tr>\n",
              "      <th>3</th>\n",
              "      <td>662910.0</td>\n",
              "      <td>7</td>\n",
              "      <td>customer_service</td>\n",
              "      <td>20</td>\n",
              "      <td>115000.0</td>\n",
              "      <td>2012-05-14</td>\n",
              "      <td>2013-06-07</td>\n",
              "      <td>389.0</td>\n",
              "    </tr>\n",
              "    <tr>\n",
              "      <th>4</th>\n",
              "      <td>256971.0</td>\n",
              "      <td>2</td>\n",
              "      <td>data_science</td>\n",
              "      <td>23</td>\n",
              "      <td>276000.0</td>\n",
              "      <td>2011-10-17</td>\n",
              "      <td>2014-08-22</td>\n",
              "      <td>1040.0</td>\n",
              "    </tr>\n",
              "  </tbody>\n",
              "</table>\n",
              "</div>"
            ],
            "text/plain": [
              "   employee_id  company_id  ...  quit_date  employment_length\n",
              "0      13021.0           7  ... 2015-10-30              585.0\n",
              "1     825355.0           7  ... 2014-04-04              340.0\n",
              "2     927315.0           4  ...        NaT                NaN\n",
              "3     662910.0           7  ... 2013-06-07              389.0\n",
              "4     256971.0           2  ... 2014-08-22             1040.0\n",
              "\n",
              "[5 rows x 8 columns]"
            ]
          },
          "metadata": {
            "tags": []
          },
          "execution_count": 24
        }
      ]
    },
    {
      "cell_type": "markdown",
      "metadata": {
        "id": "l3580tzwDY1M"
      },
      "source": [
        "We see that employees are more likely to quit near their hire anniversary and the average employee stays less than 2 years (730 days)."
      ]
    },
    {
      "cell_type": "code",
      "metadata": {
        "colab": {
          "base_uri": "https://localhost:8080/"
        },
        "id": "tjq4BR0EwDp2",
        "outputId": "dad3ba9b-9103-4fb2-994d-8674c1235695"
      },
      "source": [
        "df.groupby('company_id')['employment_length'].mean()"
      ],
      "execution_count": 25,
      "outputs": [
        {
          "output_type": "execute_result",
          "data": {
            "text/plain": [
              "company_id\n",
              "1     616.148886\n",
              "2     628.699909\n",
              "3     609.625735\n",
              "4     599.630529\n",
              "5     609.303154\n",
              "6     603.494382\n",
              "7     609.856936\n",
              "8     592.962003\n",
              "9     622.141777\n",
              "10    612.668750\n",
              "11    550.416667\n",
              "12    465.166667\n",
              "Name: employment_length, dtype: float64"
            ]
          },
          "metadata": {
            "tags": []
          },
          "execution_count": 25
        }
      ]
    },
    {
      "cell_type": "code",
      "metadata": {
        "colab": {
          "base_uri": "https://localhost:8080/"
        },
        "id": "_Rp_vS-8w-Pm",
        "outputId": "e70f29a0-0006-4f9b-f9c1-503e654dbcd4"
      },
      "source": [
        "df.groupby('company_id')['employment_length'].median()"
      ],
      "execution_count": 26,
      "outputs": [
        {
          "output_type": "execute_result",
          "data": {
            "text/plain": [
              "company_id\n",
              "1     417.0\n",
              "2     430.5\n",
              "3     420.0\n",
              "4     415.0\n",
              "5     417.0\n",
              "6     413.0\n",
              "7     424.0\n",
              "8     403.0\n",
              "9     431.0\n",
              "10    410.0\n",
              "11    392.0\n",
              "12    354.0\n",
              "Name: employment_length, dtype: float64"
            ]
          },
          "metadata": {
            "tags": []
          },
          "execution_count": 26
        }
      ]
    },
    {
      "cell_type": "code",
      "metadata": {
        "colab": {
          "base_uri": "https://localhost:8080/",
          "height": 265
        },
        "id": "6OkPK2IcBzB7",
        "outputId": "0d412f85-b133-4afc-b455-2812f05baad5"
      },
      "source": [
        "plt.hist(df['employment_length'].dropna(), bins=50)\r\n",
        "plt.show()"
      ],
      "execution_count": 27,
      "outputs": [
        {
          "output_type": "display_data",
          "data": {
            "image/png": "[encoded data removed]",
            "text/plain": [
              "<Figure size 432x288 with 1 Axes>"
            ]
          },
          "metadata": {
            "tags": [],
            "needs_background": "light"
          }
        }
      ]
    },
    {
      "cell_type": "markdown",
      "metadata": {
        "id": "6z9Pd-qZvJ2b"
      },
      "source": [
        "Next we will define employees that quit early. There is a spike at the 1 year mark skewing the mean left so we'll say anyone that lasts more than a year and one month was a worthwhile hire. This year and one month time frame also lines up fairly closely with the median employment length. This will allow us to better understand the individuals leaving these companies early."
      ]
    },
    {
      "cell_type": "code",
      "metadata": {
        "id": "YdjfXJObC1JU"
      },
      "source": [
        "def early_quit(employment_length, join_date, max_date):\r\n",
        "    if (join_date + pd.Timedelta(days=395)) > max_date:\r\n",
        "        return np.NaN\r\n",
        "    elif (employment_length > 395):\r\n",
        "        return 0.0\r\n",
        "    return 1.0\r\n",
        "\r\n",
        "df['early_quit'] = np.vectorize(early_quit)(df['employment_length'],\r\n",
        "                                            df['join_date'],\r\n",
        "                                            max(df['join_date']))"
      ],
      "execution_count": 28,
      "outputs": []
    },
    {
      "cell_type": "code",
      "metadata": {
        "colab": {
          "base_uri": "https://localhost:8080/",
          "height": 218
        },
        "id": "x-8hyNrmWdX-",
        "outputId": "373af109-ccfc-4ad0-a89c-511630fbc77e"
      },
      "source": [
        "df.head()"
      ],
      "execution_count": 29,
      "outputs": [
        {
          "output_type": "execute_result",
          "data": {
            "text/html": [
              "<div>\n",
              "<style scoped>\n",
              "    .dataframe tbody tr th:only-of-type {\n",
              "        vertical-align: middle;\n",
              "    }\n",
              "\n",
              "    .dataframe tbody tr th {\n",
              "        vertical-align: top;\n",
              "    }\n",
              "\n",
              "    .dataframe thead th {\n",
              "        text-align: right;\n",
              "    }\n",
              "</style>\n",
              "<table border=\"1\" class=\"dataframe\">\n",
              "  <thead>\n",
              "    <tr style=\"text-align: right;\">\n",
              "      <th></th>\n",
              "      <th>employee_id</th>\n",
              "      <th>company_id</th>\n",
              "      <th>dept</th>\n",
              "      <th>seniority</th>\n",
              "      <th>salary</th>\n",
              "      <th>join_date</th>\n",
              "      <th>quit_date</th>\n",
              "      <th>employment_length</th>\n",
              "      <th>early_quit</th>\n",
              "    </tr>\n",
              "  </thead>\n",
              "  <tbody>\n",
              "    <tr>\n",
              "      <th>0</th>\n",
              "      <td>13021.0</td>\n",
              "      <td>7</td>\n",
              "      <td>customer_service</td>\n",
              "      <td>28</td>\n",
              "      <td>89000.0</td>\n",
              "      <td>2014-03-24</td>\n",
              "      <td>2015-10-30</td>\n",
              "      <td>585.0</td>\n",
              "      <td>0.0</td>\n",
              "    </tr>\n",
              "    <tr>\n",
              "      <th>1</th>\n",
              "      <td>825355.0</td>\n",
              "      <td>7</td>\n",
              "      <td>marketing</td>\n",
              "      <td>20</td>\n",
              "      <td>183000.0</td>\n",
              "      <td>2013-04-29</td>\n",
              "      <td>2014-04-04</td>\n",
              "      <td>340.0</td>\n",
              "      <td>1.0</td>\n",
              "    </tr>\n",
              "    <tr>\n",
              "      <th>2</th>\n",
              "      <td>927315.0</td>\n",
              "      <td>4</td>\n",
              "      <td>marketing</td>\n",
              "      <td>14</td>\n",
              "      <td>101000.0</td>\n",
              "      <td>2014-10-13</td>\n",
              "      <td>NaT</td>\n",
              "      <td>NaN</td>\n",
              "      <td>1.0</td>\n",
              "    </tr>\n",
              "    <tr>\n",
              "      <th>3</th>\n",
              "      <td>662910.0</td>\n",
              "      <td>7</td>\n",
              "      <td>customer_service</td>\n",
              "      <td>20</td>\n",
              "      <td>115000.0</td>\n",
              "      <td>2012-05-14</td>\n",
              "      <td>2013-06-07</td>\n",
              "      <td>389.0</td>\n",
              "      <td>1.0</td>\n",
              "    </tr>\n",
              "    <tr>\n",
              "      <th>4</th>\n",
              "      <td>256971.0</td>\n",
              "      <td>2</td>\n",
              "      <td>data_science</td>\n",
              "      <td>23</td>\n",
              "      <td>276000.0</td>\n",
              "      <td>2011-10-17</td>\n",
              "      <td>2014-08-22</td>\n",
              "      <td>1040.0</td>\n",
              "      <td>0.0</td>\n",
              "    </tr>\n",
              "  </tbody>\n",
              "</table>\n",
              "</div>"
            ],
            "text/plain": [
              "   employee_id  company_id  ... employment_length  early_quit\n",
              "0      13021.0           7  ...             585.0         0.0\n",
              "1     825355.0           7  ...             340.0         1.0\n",
              "2     927315.0           4  ...               NaN         1.0\n",
              "3     662910.0           7  ...             389.0         1.0\n",
              "4     256971.0           2  ...            1040.0         0.0\n",
              "\n",
              "[5 rows x 9 columns]"
            ]
          },
          "metadata": {
            "tags": []
          },
          "execution_count": 29
        }
      ]
    },
    {
      "cell_type": "markdown",
      "metadata": {
        "id": "0pFclmsh1jSr"
      },
      "source": [
        "<a name='Salary'></a>\r\n",
        "Companies `11` and `12` have the lowest pay and the highest `early_quit` rates. We know salary is not the only consideration for quitting early thanks to a mix of pay rates and the variation in `early_quit` but it's clear there is a lower limit for pay and that limit is dependent on company and position."
      ]
    },
    {
      "cell_type": "code",
      "metadata": {
        "colab": {
          "base_uri": "https://localhost:8080/",
          "height": 439
        },
        "id": "eFsEa0Oay8ma",
        "outputId": "5a227c69-a57b-4b85-e297-b8dda838f69f"
      },
      "source": [
        "df.groupby('company_id')[['salary', 'early_quit']].mean()"
      ],
      "execution_count": 30,
      "outputs": [
        {
          "output_type": "execute_result",
          "data": {
            "text/html": [
              "<div>\n",
              "<style scoped>\n",
              "    .dataframe tbody tr th:only-of-type {\n",
              "        vertical-align: middle;\n",
              "    }\n",
              "\n",
              "    .dataframe tbody tr th {\n",
              "        vertical-align: top;\n",
              "    }\n",
              "\n",
              "    .dataframe thead th {\n",
              "        text-align: right;\n",
              "    }\n",
              "</style>\n",
              "<table border=\"1\" class=\"dataframe\">\n",
              "  <thead>\n",
              "    <tr style=\"text-align: right;\">\n",
              "      <th></th>\n",
              "      <th>salary</th>\n",
              "      <th>early_quit</th>\n",
              "    </tr>\n",
              "    <tr>\n",
              "      <th>company_id</th>\n",
              "      <th></th>\n",
              "      <th></th>\n",
              "    </tr>\n",
              "  </thead>\n",
              "  <tbody>\n",
              "    <tr>\n",
              "      <th>1</th>\n",
              "      <td>152167.570115</td>\n",
              "      <td>0.597323</td>\n",
              "    </tr>\n",
              "    <tr>\n",
              "      <th>2</th>\n",
              "      <td>155728.090952</td>\n",
              "      <td>0.597708</td>\n",
              "    </tr>\n",
              "    <tr>\n",
              "      <th>3</th>\n",
              "      <td>122118.588578</td>\n",
              "      <td>0.586272</td>\n",
              "    </tr>\n",
              "    <tr>\n",
              "      <th>4</th>\n",
              "      <td>122721.144520</td>\n",
              "      <td>0.601356</td>\n",
              "    </tr>\n",
              "    <tr>\n",
              "      <th>5</th>\n",
              "      <td>123348.717949</td>\n",
              "      <td>0.578909</td>\n",
              "    </tr>\n",
              "    <tr>\n",
              "      <th>6</th>\n",
              "      <td>119925.639040</td>\n",
              "      <td>0.606719</td>\n",
              "    </tr>\n",
              "    <tr>\n",
              "      <th>7</th>\n",
              "      <td>121582.516340</td>\n",
              "      <td>0.591048</td>\n",
              "    </tr>\n",
              "    <tr>\n",
              "      <th>8</th>\n",
              "      <td>122284.622732</td>\n",
              "      <td>0.617073</td>\n",
              "    </tr>\n",
              "    <tr>\n",
              "      <th>9</th>\n",
              "      <td>123905.306972</td>\n",
              "      <td>0.573351</td>\n",
              "    </tr>\n",
              "    <tr>\n",
              "      <th>10</th>\n",
              "      <td>121553.757225</td>\n",
              "      <td>0.590977</td>\n",
              "    </tr>\n",
              "    <tr>\n",
              "      <th>11</th>\n",
              "      <td>109562.500000</td>\n",
              "      <td>0.625000</td>\n",
              "    </tr>\n",
              "    <tr>\n",
              "      <th>12</th>\n",
              "      <td>73000.000000</td>\n",
              "      <td>0.809524</td>\n",
              "    </tr>\n",
              "  </tbody>\n",
              "</table>\n",
              "</div>"
            ],
            "text/plain": [
              "                   salary  early_quit\n",
              "company_id                           \n",
              "1           152167.570115    0.597323\n",
              "2           155728.090952    0.597708\n",
              "3           122118.588578    0.586272\n",
              "4           122721.144520    0.601356\n",
              "5           123348.717949    0.578909\n",
              "6           119925.639040    0.606719\n",
              "7           121582.516340    0.591048\n",
              "8           122284.622732    0.617073\n",
              "9           123905.306972    0.573351\n",
              "10          121553.757225    0.590977\n",
              "11          109562.500000    0.625000\n",
              "12           73000.000000    0.809524"
            ]
          },
          "metadata": {
            "tags": []
          },
          "execution_count": 30
        }
      ]
    },
    {
      "cell_type": "code",
      "metadata": {
        "colab": {
          "base_uri": "https://localhost:8080/",
          "height": 1000
        },
        "id": "YpZXIeoSE2bu",
        "outputId": "2b3d5cfd-6064-42f4-dace-a6691fbe92bf"
      },
      "source": [
        "salary_ranges = pd.cut(df['salary'], 30)\r\n",
        "salary_table = pd.crosstab(salary_ranges, df['early_quit'],\r\n",
        "                           margins=True, dropna=False)\r\n",
        "\r\n",
        "salary_table[0.0] = salary_table[0.0] / salary_table['All']\r\n",
        "salary_table[1.0] = salary_table[1.0] / salary_table['All']\r\n",
        "\r\n",
        "salary_table"
      ],
      "execution_count": 31,
      "outputs": [
        {
          "output_type": "execute_result",
          "data": {
            "text/html": [
              "<div>\n",
              "<style scoped>\n",
              "    .dataframe tbody tr th:only-of-type {\n",
              "        vertical-align: middle;\n",
              "    }\n",
              "\n",
              "    .dataframe tbody tr th {\n",
              "        vertical-align: top;\n",
              "    }\n",
              "\n",
              "    .dataframe thead th {\n",
              "        text-align: right;\n",
              "    }\n",
              "</style>\n",
              "<table border=\"1\" class=\"dataframe\">\n",
              "  <thead>\n",
              "    <tr style=\"text-align: right;\">\n",
              "      <th>early_quit</th>\n",
              "      <th>0.0</th>\n",
              "      <th>1.0</th>\n",
              "      <th>All</th>\n",
              "    </tr>\n",
              "    <tr>\n",
              "      <th>salary</th>\n",
              "      <th></th>\n",
              "      <th></th>\n",
              "      <th></th>\n",
              "    </tr>\n",
              "  </thead>\n",
              "  <tbody>\n",
              "    <tr>\n",
              "      <th>(16609.0, 30033.333]</th>\n",
              "      <td>0.294859</td>\n",
              "      <td>0.490786</td>\n",
              "      <td>1031</td>\n",
              "    </tr>\n",
              "    <tr>\n",
              "      <th>(30033.333, 43066.667]</th>\n",
              "      <td>0.273923</td>\n",
              "      <td>0.476077</td>\n",
              "      <td>836</td>\n",
              "    </tr>\n",
              "    <tr>\n",
              "      <th>(43066.667, 56100.0]</th>\n",
              "      <td>0.308145</td>\n",
              "      <td>0.474975</td>\n",
              "      <td>1019</td>\n",
              "    </tr>\n",
              "    <tr>\n",
              "      <th>(56100.0, 69133.333]</th>\n",
              "      <td>0.322906</td>\n",
              "      <td>0.450050</td>\n",
              "      <td>1982</td>\n",
              "    </tr>\n",
              "    <tr>\n",
              "      <th>(69133.333, 82166.667]</th>\n",
              "      <td>0.318857</td>\n",
              "      <td>0.474437</td>\n",
              "      <td>1819</td>\n",
              "    </tr>\n",
              "    <tr>\n",
              "      <th>(82166.667, 95200.0]</th>\n",
              "      <td>0.318713</td>\n",
              "      <td>0.464327</td>\n",
              "      <td>1710</td>\n",
              "    </tr>\n",
              "    <tr>\n",
              "      <th>(95200.0, 108233.333]</th>\n",
              "      <td>0.307257</td>\n",
              "      <td>0.458569</td>\n",
              "      <td>1943</td>\n",
              "    </tr>\n",
              "    <tr>\n",
              "      <th>(108233.333, 121266.667]</th>\n",
              "      <td>0.326861</td>\n",
              "      <td>0.441748</td>\n",
              "      <td>1854</td>\n",
              "    </tr>\n",
              "    <tr>\n",
              "      <th>(121266.667, 134300.0]</th>\n",
              "      <td>0.328096</td>\n",
              "      <td>0.461345</td>\n",
              "      <td>1591</td>\n",
              "    </tr>\n",
              "    <tr>\n",
              "      <th>(134300.0, 147333.333]</th>\n",
              "      <td>0.311344</td>\n",
              "      <td>0.474658</td>\n",
              "      <td>1243</td>\n",
              "    </tr>\n",
              "    <tr>\n",
              "      <th>(147333.333, 160366.667]</th>\n",
              "      <td>0.331120</td>\n",
              "      <td>0.443154</td>\n",
              "      <td>1205</td>\n",
              "    </tr>\n",
              "    <tr>\n",
              "      <th>(160366.667, 173400.0]</th>\n",
              "      <td>0.298456</td>\n",
              "      <td>0.473413</td>\n",
              "      <td>1166</td>\n",
              "    </tr>\n",
              "    <tr>\n",
              "      <th>(173400.0, 186433.333]</th>\n",
              "      <td>0.319783</td>\n",
              "      <td>0.460705</td>\n",
              "      <td>1107</td>\n",
              "    </tr>\n",
              "    <tr>\n",
              "      <th>(186433.333, 199466.667]</th>\n",
              "      <td>0.338819</td>\n",
              "      <td>0.443369</td>\n",
              "      <td>1033</td>\n",
              "    </tr>\n",
              "    <tr>\n",
              "      <th>(199466.667, 212500.0]</th>\n",
              "      <td>0.300626</td>\n",
              "      <td>0.482255</td>\n",
              "      <td>958</td>\n",
              "    </tr>\n",
              "    <tr>\n",
              "      <th>(212500.0, 225533.333]</th>\n",
              "      <td>0.321871</td>\n",
              "      <td>0.489684</td>\n",
              "      <td>727</td>\n",
              "    </tr>\n",
              "    <tr>\n",
              "      <th>(225533.333, 238566.667]</th>\n",
              "      <td>0.333333</td>\n",
              "      <td>0.479592</td>\n",
              "      <td>588</td>\n",
              "    </tr>\n",
              "    <tr>\n",
              "      <th>(238566.667, 251600.0]</th>\n",
              "      <td>0.342495</td>\n",
              "      <td>0.437632</td>\n",
              "      <td>473</td>\n",
              "    </tr>\n",
              "    <tr>\n",
              "      <th>(251600.0, 264633.333]</th>\n",
              "      <td>0.317734</td>\n",
              "      <td>0.458128</td>\n",
              "      <td>406</td>\n",
              "    </tr>\n",
              "    <tr>\n",
              "      <th>(264633.333, 277666.667]</th>\n",
              "      <td>0.299748</td>\n",
              "      <td>0.483627</td>\n",
              "      <td>397</td>\n",
              "    </tr>\n",
              "    <tr>\n",
              "      <th>(277666.667, 290700.0]</th>\n",
              "      <td>0.310345</td>\n",
              "      <td>0.431034</td>\n",
              "      <td>348</td>\n",
              "    </tr>\n",
              "    <tr>\n",
              "      <th>(290700.0, 303733.333]</th>\n",
              "      <td>0.275949</td>\n",
              "      <td>0.518987</td>\n",
              "      <td>395</td>\n",
              "    </tr>\n",
              "    <tr>\n",
              "      <th>(303733.333, 316766.667]</th>\n",
              "      <td>0.293255</td>\n",
              "      <td>0.466276</td>\n",
              "      <td>341</td>\n",
              "    </tr>\n",
              "    <tr>\n",
              "      <th>(316766.667, 329800.0]</th>\n",
              "      <td>0.321586</td>\n",
              "      <td>0.475771</td>\n",
              "      <td>227</td>\n",
              "    </tr>\n",
              "    <tr>\n",
              "      <th>(329800.0, 342833.333]</th>\n",
              "      <td>0.306122</td>\n",
              "      <td>0.489796</td>\n",
              "      <td>147</td>\n",
              "    </tr>\n",
              "    <tr>\n",
              "      <th>(342833.333, 355866.667]</th>\n",
              "      <td>0.369565</td>\n",
              "      <td>0.434783</td>\n",
              "      <td>92</td>\n",
              "    </tr>\n",
              "    <tr>\n",
              "      <th>(355866.667, 368900.0]</th>\n",
              "      <td>0.382979</td>\n",
              "      <td>0.340426</td>\n",
              "      <td>47</td>\n",
              "    </tr>\n",
              "    <tr>\n",
              "      <th>(368900.0, 381933.333]</th>\n",
              "      <td>0.416667</td>\n",
              "      <td>0.250000</td>\n",
              "      <td>12</td>\n",
              "    </tr>\n",
              "    <tr>\n",
              "      <th>(381933.333, 394966.667]</th>\n",
              "      <td>0.000000</td>\n",
              "      <td>1.000000</td>\n",
              "      <td>2</td>\n",
              "    </tr>\n",
              "    <tr>\n",
              "      <th>(394966.667, 408000.0]</th>\n",
              "      <td>0.000000</td>\n",
              "      <td>0.666667</td>\n",
              "      <td>3</td>\n",
              "    </tr>\n",
              "    <tr>\n",
              "      <th>All</th>\n",
              "      <td>0.315561</td>\n",
              "      <td>0.464213</td>\n",
              "      <td>24702</td>\n",
              "    </tr>\n",
              "  </tbody>\n",
              "</table>\n",
              "</div>"
            ],
            "text/plain": [
              "early_quit                     0.0       1.0    All\n",
              "salary                                             \n",
              "(16609.0, 30033.333]      0.294859  0.490786   1031\n",
              "(30033.333, 43066.667]    0.273923  0.476077    836\n",
              "(43066.667, 56100.0]      0.308145  0.474975   1019\n",
              "(56100.0, 69133.333]      0.322906  0.450050   1982\n",
              "(69133.333, 82166.667]    0.318857  0.474437   1819\n",
              "(82166.667, 95200.0]      0.318713  0.464327   1710\n",
              "(95200.0, 108233.333]     0.307257  0.458569   1943\n",
              "(108233.333, 121266.667]  0.326861  0.441748   1854\n",
              "(121266.667, 134300.0]    0.328096  0.461345   1591\n",
              "(134300.0, 147333.333]    0.311344  0.474658   1243\n",
              "(147333.333, 160366.667]  0.331120  0.443154   1205\n",
              "(160366.667, 173400.0]    0.298456  0.473413   1166\n",
              "(173400.0, 186433.333]    0.319783  0.460705   1107\n",
              "(186433.333, 199466.667]  0.338819  0.443369   1033\n",
              "(199466.667, 212500.0]    0.300626  0.482255    958\n",
              "(212500.0, 225533.333]    0.321871  0.489684    727\n",
              "(225533.333, 238566.667]  0.333333  0.479592    588\n",
              "(238566.667, 251600.0]    0.342495  0.437632    473\n",
              "(251600.0, 264633.333]    0.317734  0.458128    406\n",
              "(264633.333, 277666.667]  0.299748  0.483627    397\n",
              "(277666.667, 290700.0]    0.310345  0.431034    348\n",
              "(290700.0, 303733.333]    0.275949  0.518987    395\n",
              "(303733.333, 316766.667]  0.293255  0.466276    341\n",
              "(316766.667, 329800.0]    0.321586  0.475771    227\n",
              "(329800.0, 342833.333]    0.306122  0.489796    147\n",
              "(342833.333, 355866.667]  0.369565  0.434783     92\n",
              "(355866.667, 368900.0]    0.382979  0.340426     47\n",
              "(368900.0, 381933.333]    0.416667  0.250000     12\n",
              "(381933.333, 394966.667]  0.000000  1.000000      2\n",
              "(394966.667, 408000.0]    0.000000  0.666667      3\n",
              "All                       0.315561  0.464213  24702"
            ]
          },
          "metadata": {
            "tags": []
          },
          "execution_count": 31
        }
      ]
    },
    {
      "cell_type": "code",
      "metadata": {
        "colab": {
          "base_uri": "https://localhost:8080/"
        },
        "id": "7bh86aL54Hww",
        "outputId": "415b47e4-7890-4afa-ea90-aa1b9a2f7f1e"
      },
      "source": [
        "print('Average Salary by Dept. (All Companies)')\r\n",
        "print(df.groupby('dept')[['salary', 'early_quit']].mean().reset_index())\r\n",
        "\r\n",
        "for i in range(1,13):\r\n",
        "    print('\\nCompany:', i)\r\n",
        "    print(df[df['company_id'] == i].groupby('dept')[['salary', 'early_quit']].mean().reset_index())"
      ],
      "execution_count": 32,
      "outputs": [
        {
          "output_type": "stream",
          "text": [
            "Average Salary by Dept. (All Companies)\n",
            "               dept         salary  early_quit\n",
            "0  customer_service   82245.424837    0.596674\n",
            "1      data_science  206885.893417    0.588562\n",
            "2            design  137460.869565    0.581670\n",
            "3          engineer  205544.548016    0.597781\n",
            "4         marketing  135598.042311    0.583129\n",
            "5             sales  135912.358134    0.612645\n",
            "\n",
            "Company: 1\n",
            "               dept         salary  early_quit\n",
            "0  customer_service   90554.006969    0.594947\n",
            "1      data_science  230938.832252    0.581882\n",
            "2            design  150434.869739    0.557841\n",
            "3          engineer  224193.877551    0.624797\n",
            "4         marketing  151084.792627    0.582072\n",
            "5             sales  150912.568306    0.613396\n",
            "\n",
            "Company: 2\n",
            "               dept         salary  early_quit\n",
            "0  customer_service   92073.643411    0.612091\n",
            "1      data_science  234919.014085    0.601382\n",
            "2            design  154556.053812    0.532609\n",
            "3          engineer  227469.240048    0.597064\n",
            "4         marketing  148792.975970    0.554187\n",
            "5             sales  152017.543860    0.625935\n",
            "\n",
            "Company: 3\n",
            "               dept         salary  early_quit\n",
            "0  customer_service   72229.702970    0.571429\n",
            "1      data_science  176616.714697    0.586957\n",
            "2            design  121404.255319    0.645455\n",
            "3          engineer  185306.201550    0.584158\n",
            "4         marketing  122250.000000    0.577855\n",
            "5             sales  119154.269972    0.614035\n",
            "\n",
            "Company: 4\n",
            "               dept         salary  early_quit\n",
            "0  customer_service   72875.160875    0.613377\n",
            "1      data_science  181749.103943    0.588496\n",
            "2            design  114700.934579    0.609195\n",
            "3          engineer  187154.255319    0.565217\n",
            "4         marketing  118126.394052    0.582915\n",
            "5             sales  123228.346457    0.648241\n",
            "\n",
            "Company: 5\n",
            "               dept         salary  early_quit\n",
            "0  customer_service   73796.850394    0.598778\n",
            "1      data_science  186902.777778    0.578313\n",
            "2            design  128972.222222    0.604167\n",
            "3          engineer  183530.158730    0.536000\n",
            "4         marketing  117008.849558    0.595238\n",
            "5             sales  121803.921569    0.558824\n",
            "\n",
            "Company: 6\n",
            "               dept         salary  early_quit\n",
            "0  customer_service   72282.306163    0.604712\n",
            "1      data_science  178084.967320    0.624000\n",
            "2            design  128857.142857    0.587302\n",
            "3          engineer  183126.696833    0.613260\n",
            "4         marketing  117737.142857    0.553957\n",
            "5             sales  124827.160494    0.655738\n",
            "\n",
            "Company: 7\n",
            "               dept         salary  early_quit\n",
            "0  customer_service   74705.756930    0.584000\n",
            "1      data_science  177411.764706    0.541667\n",
            "2            design  118114.285714    0.611111\n",
            "3          engineer  181123.348018    0.607527\n",
            "4         marketing  122737.588652    0.610619\n",
            "5             sales  121628.048780    0.607407\n",
            "\n",
            "Company: 8\n",
            "               dept         salary  early_quit\n",
            "0  customer_service   73574.025974    0.642857\n",
            "1      data_science  183561.643836    0.605263\n",
            "2            design  120264.150943    0.694444\n",
            "3          engineer  188821.989529    0.580000\n",
            "4         marketing  116096.296296    0.657407\n",
            "5             sales  107985.401460    0.550847\n",
            "\n",
            "Company: 9\n",
            "               dept         salary  early_quit\n",
            "0  customer_service   72225.146199    0.545802\n",
            "1      data_science  181328.358209    0.600000\n",
            "2            design  126300.000000    0.560000\n",
            "3          engineer  179851.063830    0.553957\n",
            "4         marketing  120959.677419    0.633333\n",
            "5             sales  121106.194690    0.597826\n",
            "\n",
            "Company: 10\n",
            "               dept         salary  early_quit\n",
            "0  customer_service   74336.309524    0.560784\n",
            "1      data_science  171220.183486    0.617284\n",
            "2            design  112658.536585    0.625000\n",
            "3          engineer  183406.976744    0.589928\n",
            "4         marketing  128854.166667    0.602941\n",
            "5             sales  116837.837838    0.633333\n",
            "\n",
            "Company: 11\n",
            "               dept         salary  early_quit\n",
            "0  customer_service   42833.333333    0.833333\n",
            "1      data_science  153500.000000    0.000000\n",
            "2          engineer  156666.666667    0.833333\n",
            "3         marketing  124500.000000    0.000000\n",
            "\n",
            "Company: 12\n",
            "               dept         salary  early_quit\n",
            "0  customer_service   42583.333333    0.900000\n",
            "1      data_science  131250.000000    0.333333\n",
            "2            design   82000.000000    1.000000\n",
            "3          engineer   80000.000000    1.000000\n",
            "4         marketing  117000.000000    1.000000\n",
            "5             sales   98500.000000    0.500000\n"
          ],
          "name": "stdout"
        }
      ]
    },
    {
      "cell_type": "markdown",
      "metadata": {
        "id": "RVtSlY0_o7iX"
      },
      "source": [
        "<a name='Join'></a>\r\n",
        "Looking by date we see an increase in the turnover rate year over year and that the trend holds when we look at each company individually. We'll make a new feature, `hire_year`, for later modeling.\r\n",
        "\r\n",
        "We also see a trend for quarter, month, week, and day of week so we'll create those features as well. With quarter, month, and week we see a clear trend of starting in the third or fourth quarter being worse for employee retention. It is likely the cause is that most companies are hectic at the end of the year and employees starting in the middle of that are less likely to get the attention they need for a smooth onboarding. With day of week we see that starting on Friday is worse for retention. Again, an indicator that having a smooth uninterrupted onboarding is likely a key factor for retention."
      ]
    },
    {
      "cell_type": "code",
      "metadata": {
        "colab": {
          "base_uri": "https://localhost:8080/"
        },
        "id": "_JovsWbBSM63",
        "outputId": "e15896a3-c716-48b8-9a52-16f1a6c19dcf"
      },
      "source": [
        "print('Early Quit (All Companies)')\r\n",
        "join_table = pd.crosstab(df['join_date'].dt.year,\r\n",
        "                         df['early_quit'], margins=True)\r\n",
        "join_table[0.0] = join_table[0.0] / join_table['All']\r\n",
        "join_table[1.0] = join_table[1.0] / join_table['All']\r\n",
        "print(join_table)\r\n",
        "\r\n",
        "for i in range(1, 13):\r\n",
        "    print('\\nCompany:', i)\r\n",
        "    join_table = pd.crosstab(df['join_date'].dt.year,\r\n",
        "                            df[df['company_id'] == i]['early_quit'],\r\n",
        "                            margins=True)\r\n",
        "    join_table[0.0] = join_table[0.0] / join_table['All']\r\n",
        "    join_table[1.0] = join_table[1.0] / join_table['All']\r\n",
        "    print(join_table)"
      ],
      "execution_count": 33,
      "outputs": [
        {
          "output_type": "stream",
          "text": [
            "Early Quit (All Companies)\n",
            "early_quit       0.0       1.0    All\n",
            "join_date                            \n",
            "2011        0.670053  0.329947   4725\n",
            "2012        0.504912  0.495088   5191\n",
            "2013        0.319281  0.680719   5005\n",
            "2014        0.094448  0.905552   4341\n",
            "All         0.404683  0.595317  19262\n",
            "\n",
            "Company: 1\n",
            "early_quit       0.0       1.0   All\n",
            "join_date                           \n",
            "2011        0.679751  0.320249  1605\n",
            "2012        0.503876  0.496124  1806\n",
            "2013        0.304000  0.696000  1750\n",
            "2014        0.096839  0.903161  1487\n",
            "All         0.402677  0.597323  6648\n",
            "\n",
            "Company: 2\n",
            "early_quit       0.0       1.0   All\n",
            "join_date                           \n",
            "2011        0.669173  0.330827   798\n",
            "2012        0.501129  0.498871   886\n",
            "2013        0.311057  0.688943   823\n",
            "2014        0.090028  0.909972   722\n",
            "All         0.402292  0.597708  3229\n",
            "\n",
            "Company: 3\n",
            "early_quit       0.0       1.0   All\n",
            "join_date                           \n",
            "2011        0.662900  0.337100   531\n",
            "2012        0.514035  0.485965   570\n",
            "2013        0.350814  0.649186   553\n",
            "2014        0.086681  0.913319   473\n",
            "All         0.413728  0.586272  2127\n",
            "\n",
            "Company: 4\n",
            "early_quit       0.0       1.0   All\n",
            "join_date                           \n",
            "2011        0.651399  0.348601   393\n",
            "2012        0.510441  0.489559   431\n",
            "2013        0.316425  0.683575   414\n",
            "2014        0.103896  0.896104   385\n",
            "All         0.398644  0.601356  1623\n",
            "\n",
            "Company: 5\n",
            "early_quit       0.0       1.0   All\n",
            "join_date                           \n",
            "2011        0.690544  0.309456   349\n",
            "2012        0.516216  0.483784   370\n",
            "2013        0.362229  0.637771   323\n",
            "2014        0.090090  0.909910   333\n",
            "All         0.421091  0.578909  1375\n",
            "\n",
            "Company: 6\n",
            "early_quit       0.0       1.0   All\n",
            "join_date                           \n",
            "2011        0.639098  0.360902   266\n",
            "2012        0.505837  0.494163   257\n",
            "2013        0.293233  0.706767   266\n",
            "2014        0.089686  0.910314   223\n",
            "All         0.393281  0.606719  1012\n",
            "\n",
            "Company: 7\n",
            "early_quit       0.0       1.0  All\n",
            "join_date                          \n",
            "2011        0.659389  0.340611  229\n",
            "2012        0.540925  0.459075  281\n",
            "2013        0.307393  0.692607  257\n",
            "2014        0.092593  0.907407  216\n",
            "All         0.408952  0.591048  983\n",
            "\n",
            "Company: 8\n",
            "early_quit       0.0       1.0  All\n",
            "join_date                          \n",
            "2011        0.661836  0.338164  207\n",
            "2012        0.427885  0.572115  208\n",
            "2013        0.324324  0.675676  222\n",
            "2014        0.087432  0.912568  183\n",
            "All         0.382927  0.617073  820\n",
            "\n",
            "Company: 9\n",
            "early_quit       0.0       1.0  All\n",
            "join_date                          \n",
            "2011        0.670391  0.329609  179\n",
            "2012        0.512438  0.487562  201\n",
            "2013        0.369458  0.630542  203\n",
            "2014        0.118750  0.881250  160\n",
            "All         0.426649  0.573351  743\n",
            "\n",
            "Company: 10\n",
            "early_quit       0.0       1.0  All\n",
            "join_date                          \n",
            "2011        0.681250  0.318750  160\n",
            "2012        0.500000  0.500000  172\n",
            "2013        0.338798  0.661202  183\n",
            "2014        0.100000  0.900000  150\n",
            "All         0.409023  0.590977  665\n",
            "\n",
            "Company: 11\n",
            "early_quit    0.0    1.0  All\n",
            "join_date                    \n",
            "2011        1.000  0.000    3\n",
            "2012        0.500  0.500    4\n",
            "2013        0.200  0.800    5\n",
            "2014        0.000  1.000    4\n",
            "All         0.375  0.625   16\n",
            "\n",
            "Company: 12\n",
            "early_quit       0.0       1.0  All\n",
            "join_date                          \n",
            "2011        0.400000  0.600000    5\n",
            "2012        0.200000  0.800000    5\n",
            "2013        0.166667  0.833333    6\n",
            "2014        0.000000  1.000000    5\n",
            "All         0.190476  0.809524   21\n"
          ],
          "name": "stdout"
        }
      ]
    },
    {
      "cell_type": "code",
      "metadata": {
        "colab": {
          "base_uri": "https://localhost:8080/",
          "height": 312
        },
        "id": "zbqmvnHvcMEF",
        "outputId": "a3f684a4-a02e-4609-bc77-5f8d5476ceef"
      },
      "source": [
        "join_table.drop('All').drop(\r\n",
        "    'All', axis='columns').plot.bar(\r\n",
        "    title='Early Quit Rate by Year Joined(All Companies)');"
      ],
      "execution_count": 34,
      "outputs": [
        {
          "output_type": "display_data",
          "data": {
            "image/png": "[encoded data removed]",
            "text/plain": [
              "<Figure size 432x288 with 1 Axes>"
            ]
          },
          "metadata": {
            "tags": [],
            "needs_background": "light"
          }
        }
      ]
    },
    {
      "cell_type": "code",
      "metadata": {
        "colab": {
          "base_uri": "https://localhost:8080/",
          "height": 293
        },
        "id": "uVOqok6rCAw7",
        "outputId": "b8e18185-a869-439d-f114-5e98c72f633e"
      },
      "source": [
        "join_table = pd.crosstab(df['join_date'].dt.quarter,\r\n",
        "                         df['early_quit'], margins=True)\r\n",
        "join_table[0.0] = join_table[0.0] / join_table['All']\r\n",
        "join_table[1.0] = join_table[1.0] / join_table['All']\r\n",
        "\r\n",
        "join_table.drop('All').drop(\r\n",
        "    'All', axis='columns').plot.bar(\r\n",
        "    title='Early Quit Rate by Month Joined(All Companies)');"
      ],
      "execution_count": 35,
      "outputs": [
        {
          "output_type": "display_data",
          "data": {
            "image/png": "[encoded data removed]",
            "text/plain": [
              "<Figure size 432x288 with 1 Axes>"
            ]
          },
          "metadata": {
            "tags": [],
            "needs_background": "light"
          }
        }
      ]
    },
    {
      "cell_type": "code",
      "metadata": {
        "colab": {
          "base_uri": "https://localhost:8080/",
          "height": 355
        },
        "id": "OXPZYaghCmV3",
        "outputId": "eec7d741-5215-4cc5-d09d-4c2c8e9cdca8"
      },
      "source": [
        "join_table = pd.crosstab(df['join_date'].dt.week,\r\n",
        "                         df['early_quit'], margins=True)\r\n",
        "join_table[0.0] = join_table[0.0] / join_table['All']\r\n",
        "join_table[1.0] = join_table[1.0] / join_table['All']\r\n",
        "\r\n",
        "join_table.drop('All').drop(\r\n",
        "    'All', axis='columns').plot.bar(\r\n",
        "    title='Early Quit Rate by Week Joined(All Companies)');"
      ],
      "execution_count": 36,
      "outputs": [
        {
          "output_type": "stream",
          "text": [
            "/usr/local/lib/python3.6/dist-packages/ipykernel_launcher.py:1: FutureWarning: Series.dt.weekofyear and Series.dt.week have been deprecated.  Please use Series.dt.isocalendar().week instead.\n",
            "  \"\"\"Entry point for launching an IPython kernel.\n"
          ],
          "name": "stderr"
        },
        {
          "output_type": "display_data",
          "data": {
            "image/png": "[encoded data removed]",
            "text/plain": [
              "<Figure size 432x288 with 1 Axes>"
            ]
          },
          "metadata": {
            "tags": [],
            "needs_background": "light"
          }
        }
      ]
    },
    {
      "cell_type": "code",
      "metadata": {
        "colab": {
          "base_uri": "https://localhost:8080/",
          "height": 293
        },
        "id": "dBbWQNryCuH0",
        "outputId": "f54dfe3c-2c32-4d37-f5ba-a82573926500"
      },
      "source": [
        "join_table = pd.crosstab(df['join_date'].dt.dayofweek,\r\n",
        "                         df['early_quit'], margins=True)\r\n",
        "join_table[0.0] = join_table[0.0] / join_table['All']\r\n",
        "join_table[1.0] = join_table[1.0] / join_table['All']\r\n",
        "\r\n",
        "join_table.drop('All').drop(\r\n",
        "    'All', axis='columns').plot.bar(\r\n",
        "    title='Early Quit Rate by Day of Week Joined(All Companies)');"
      ],
      "execution_count": 37,
      "outputs": [
        {
          "output_type": "display_data",
          "data": {
            "image/png": "[encoded data removed]",
            "text/plain": [
              "<Figure size 432x288 with 1 Axes>"
            ]
          },
          "metadata": {
            "tags": [],
            "needs_background": "light"
          }
        }
      ]
    },
    {
      "cell_type": "code",
      "metadata": {
        "colab": {
          "base_uri": "https://localhost:8080/"
        },
        "id": "PDlwAAnL9THd",
        "outputId": "6b21eb5e-627b-4921-c9e5-0810b8e842e8"
      },
      "source": [
        "df['hire_year'] = df['join_date'].dt.year\r\n",
        "df['hire_quarter'] = df['join_date'].dt.quarter\r\n",
        "df['hire_month'] = df['join_date'].dt.month\r\n",
        "df['hire_week'] = df['join_date'].dt.week\r\n",
        "df['hire_dayofweek'] = df['join_date'].dt.dayofweek"
      ],
      "execution_count": 38,
      "outputs": [
        {
          "output_type": "stream",
          "text": [
            "/usr/local/lib/python3.6/dist-packages/ipykernel_launcher.py:4: FutureWarning: Series.dt.weekofyear and Series.dt.week have been deprecated.  Please use Series.dt.isocalendar().week instead.\n",
            "  after removing the cwd from sys.path.\n"
          ],
          "name": "stderr"
        }
      ]
    },
    {
      "cell_type": "markdown",
      "metadata": {
        "id": "Hf1nx1P6z275"
      },
      "source": [
        "<a name='Seniority'></a>\r\n",
        "Seniority doesn't seem to have a strong correlation to quitting early."
      ]
    },
    {
      "cell_type": "code",
      "metadata": {
        "colab": {
          "base_uri": "https://localhost:8080/",
          "height": 1000
        },
        "id": "2QeegogBv_TL",
        "outputId": "b84d0939-38dd-4492-8717-07f5896582d4"
      },
      "source": [
        "seniority_table = pd.crosstab(df['seniority'], df['early_quit'], margins='all')\r\n",
        "seniority_table[0.0] = seniority_table[0.0] / seniority_table['All']\r\n",
        "seniority_table[1.0] = seniority_table[1.0] / seniority_table['All']\r\n",
        "seniority_table"
      ],
      "execution_count": 39,
      "outputs": [
        {
          "output_type": "execute_result",
          "data": {
            "text/html": [
              "<div>\n",
              "<style scoped>\n",
              "    .dataframe tbody tr th:only-of-type {\n",
              "        vertical-align: middle;\n",
              "    }\n",
              "\n",
              "    .dataframe tbody tr th {\n",
              "        vertical-align: top;\n",
              "    }\n",
              "\n",
              "    .dataframe thead th {\n",
              "        text-align: right;\n",
              "    }\n",
              "</style>\n",
              "<table border=\"1\" class=\"dataframe\">\n",
              "  <thead>\n",
              "    <tr style=\"text-align: right;\">\n",
              "      <th>early_quit</th>\n",
              "      <th>0.0</th>\n",
              "      <th>1.0</th>\n",
              "      <th>All</th>\n",
              "    </tr>\n",
              "    <tr>\n",
              "      <th>seniority</th>\n",
              "      <th></th>\n",
              "      <th></th>\n",
              "      <th></th>\n",
              "    </tr>\n",
              "  </thead>\n",
              "  <tbody>\n",
              "    <tr>\n",
              "      <th>1</th>\n",
              "      <td>0.386905</td>\n",
              "      <td>0.613095</td>\n",
              "      <td>672</td>\n",
              "    </tr>\n",
              "    <tr>\n",
              "      <th>2</th>\n",
              "      <td>0.406085</td>\n",
              "      <td>0.593915</td>\n",
              "      <td>756</td>\n",
              "    </tr>\n",
              "    <tr>\n",
              "      <th>3</th>\n",
              "      <td>0.389474</td>\n",
              "      <td>0.610526</td>\n",
              "      <td>665</td>\n",
              "    </tr>\n",
              "    <tr>\n",
              "      <th>4</th>\n",
              "      <td>0.361151</td>\n",
              "      <td>0.638849</td>\n",
              "      <td>695</td>\n",
              "    </tr>\n",
              "    <tr>\n",
              "      <th>5</th>\n",
              "      <td>0.424200</td>\n",
              "      <td>0.575800</td>\n",
              "      <td>719</td>\n",
              "    </tr>\n",
              "    <tr>\n",
              "      <th>6</th>\n",
              "      <td>0.411609</td>\n",
              "      <td>0.588391</td>\n",
              "      <td>758</td>\n",
              "    </tr>\n",
              "    <tr>\n",
              "      <th>7</th>\n",
              "      <td>0.406780</td>\n",
              "      <td>0.593220</td>\n",
              "      <td>708</td>\n",
              "    </tr>\n",
              "    <tr>\n",
              "      <th>8</th>\n",
              "      <td>0.428571</td>\n",
              "      <td>0.571429</td>\n",
              "      <td>791</td>\n",
              "    </tr>\n",
              "    <tr>\n",
              "      <th>9</th>\n",
              "      <td>0.391667</td>\n",
              "      <td>0.608333</td>\n",
              "      <td>720</td>\n",
              "    </tr>\n",
              "    <tr>\n",
              "      <th>10</th>\n",
              "      <td>0.396648</td>\n",
              "      <td>0.603352</td>\n",
              "      <td>716</td>\n",
              "    </tr>\n",
              "    <tr>\n",
              "      <th>11</th>\n",
              "      <td>0.408708</td>\n",
              "      <td>0.591292</td>\n",
              "      <td>712</td>\n",
              "    </tr>\n",
              "    <tr>\n",
              "      <th>12</th>\n",
              "      <td>0.439241</td>\n",
              "      <td>0.560759</td>\n",
              "      <td>790</td>\n",
              "    </tr>\n",
              "    <tr>\n",
              "      <th>13</th>\n",
              "      <td>0.387608</td>\n",
              "      <td>0.612392</td>\n",
              "      <td>694</td>\n",
              "    </tr>\n",
              "    <tr>\n",
              "      <th>14</th>\n",
              "      <td>0.395804</td>\n",
              "      <td>0.604196</td>\n",
              "      <td>715</td>\n",
              "    </tr>\n",
              "    <tr>\n",
              "      <th>15</th>\n",
              "      <td>0.434540</td>\n",
              "      <td>0.565460</td>\n",
              "      <td>718</td>\n",
              "    </tr>\n",
              "    <tr>\n",
              "      <th>16</th>\n",
              "      <td>0.406961</td>\n",
              "      <td>0.593039</td>\n",
              "      <td>747</td>\n",
              "    </tr>\n",
              "    <tr>\n",
              "      <th>17</th>\n",
              "      <td>0.431517</td>\n",
              "      <td>0.568483</td>\n",
              "      <td>679</td>\n",
              "    </tr>\n",
              "    <tr>\n",
              "      <th>18</th>\n",
              "      <td>0.367965</td>\n",
              "      <td>0.632035</td>\n",
              "      <td>693</td>\n",
              "    </tr>\n",
              "    <tr>\n",
              "      <th>19</th>\n",
              "      <td>0.419087</td>\n",
              "      <td>0.580913</td>\n",
              "      <td>723</td>\n",
              "    </tr>\n",
              "    <tr>\n",
              "      <th>20</th>\n",
              "      <td>0.410557</td>\n",
              "      <td>0.589443</td>\n",
              "      <td>682</td>\n",
              "    </tr>\n",
              "    <tr>\n",
              "      <th>21</th>\n",
              "      <td>0.418006</td>\n",
              "      <td>0.581994</td>\n",
              "      <td>622</td>\n",
              "    </tr>\n",
              "    <tr>\n",
              "      <th>22</th>\n",
              "      <td>0.393043</td>\n",
              "      <td>0.606957</td>\n",
              "      <td>575</td>\n",
              "    </tr>\n",
              "    <tr>\n",
              "      <th>23</th>\n",
              "      <td>0.424092</td>\n",
              "      <td>0.575908</td>\n",
              "      <td>606</td>\n",
              "    </tr>\n",
              "    <tr>\n",
              "      <th>24</th>\n",
              "      <td>0.391081</td>\n",
              "      <td>0.608919</td>\n",
              "      <td>583</td>\n",
              "    </tr>\n",
              "    <tr>\n",
              "      <th>25</th>\n",
              "      <td>0.421147</td>\n",
              "      <td>0.578853</td>\n",
              "      <td>558</td>\n",
              "    </tr>\n",
              "    <tr>\n",
              "      <th>26</th>\n",
              "      <td>0.390244</td>\n",
              "      <td>0.609756</td>\n",
              "      <td>533</td>\n",
              "    </tr>\n",
              "    <tr>\n",
              "      <th>27</th>\n",
              "      <td>0.410000</td>\n",
              "      <td>0.590000</td>\n",
              "      <td>500</td>\n",
              "    </tr>\n",
              "    <tr>\n",
              "      <th>28</th>\n",
              "      <td>0.377778</td>\n",
              "      <td>0.622222</td>\n",
              "      <td>450</td>\n",
              "    </tr>\n",
              "    <tr>\n",
              "      <th>29</th>\n",
              "      <td>0.375000</td>\n",
              "      <td>0.625000</td>\n",
              "      <td>480</td>\n",
              "    </tr>\n",
              "    <tr>\n",
              "      <th>98</th>\n",
              "      <td>1.000000</td>\n",
              "      <td>0.000000</td>\n",
              "      <td>1</td>\n",
              "    </tr>\n",
              "    <tr>\n",
              "      <th>99</th>\n",
              "      <td>1.000000</td>\n",
              "      <td>0.000000</td>\n",
              "      <td>1</td>\n",
              "    </tr>\n",
              "    <tr>\n",
              "      <th>All</th>\n",
              "      <td>0.404683</td>\n",
              "      <td>0.595317</td>\n",
              "      <td>19262</td>\n",
              "    </tr>\n",
              "  </tbody>\n",
              "</table>\n",
              "</div>"
            ],
            "text/plain": [
              "early_quit       0.0       1.0    All\n",
              "seniority                            \n",
              "1           0.386905  0.613095    672\n",
              "2           0.406085  0.593915    756\n",
              "3           0.389474  0.610526    665\n",
              "4           0.361151  0.638849    695\n",
              "5           0.424200  0.575800    719\n",
              "6           0.411609  0.588391    758\n",
              "7           0.406780  0.593220    708\n",
              "8           0.428571  0.571429    791\n",
              "9           0.391667  0.608333    720\n",
              "10          0.396648  0.603352    716\n",
              "11          0.408708  0.591292    712\n",
              "12          0.439241  0.560759    790\n",
              "13          0.387608  0.612392    694\n",
              "14          0.395804  0.604196    715\n",
              "15          0.434540  0.565460    718\n",
              "16          0.406961  0.593039    747\n",
              "17          0.431517  0.568483    679\n",
              "18          0.367965  0.632035    693\n",
              "19          0.419087  0.580913    723\n",
              "20          0.410557  0.589443    682\n",
              "21          0.418006  0.581994    622\n",
              "22          0.393043  0.606957    575\n",
              "23          0.424092  0.575908    606\n",
              "24          0.391081  0.608919    583\n",
              "25          0.421147  0.578853    558\n",
              "26          0.390244  0.609756    533\n",
              "27          0.410000  0.590000    500\n",
              "28          0.377778  0.622222    450\n",
              "29          0.375000  0.625000    480\n",
              "98          1.000000  0.000000      1\n",
              "99          1.000000  0.000000      1\n",
              "All         0.404683  0.595317  19262"
            ]
          },
          "metadata": {
            "tags": []
          },
          "execution_count": 39
        }
      ]
    },
    {
      "cell_type": "code",
      "metadata": {
        "colab": {
          "base_uri": "https://localhost:8080/",
          "height": 319
        },
        "id": "WcPE_buv0ALc",
        "outputId": "9177904b-09f7-4409-96e4-72776b511da4"
      },
      "source": [
        "seniority_bins = pd.cut(df['seniority'], 20)\r\n",
        "seniority_table = pd.crosstab(seniority_bins, df['early_quit'], margins='all')\r\n",
        "seniority_table[0.0] = seniority_table[0.0] / seniority_table['All']\r\n",
        "seniority_table[1.0] = seniority_table[1.0] / seniority_table['All']\r\n",
        "seniority_table"
      ],
      "execution_count": 40,
      "outputs": [
        {
          "output_type": "execute_result",
          "data": {
            "text/html": [
              "<div>\n",
              "<style scoped>\n",
              "    .dataframe tbody tr th:only-of-type {\n",
              "        vertical-align: middle;\n",
              "    }\n",
              "\n",
              "    .dataframe tbody tr th {\n",
              "        vertical-align: top;\n",
              "    }\n",
              "\n",
              "    .dataframe thead th {\n",
              "        text-align: right;\n",
              "    }\n",
              "</style>\n",
              "<table border=\"1\" class=\"dataframe\">\n",
              "  <thead>\n",
              "    <tr style=\"text-align: right;\">\n",
              "      <th>early_quit</th>\n",
              "      <th>0.0</th>\n",
              "      <th>1.0</th>\n",
              "      <th>All</th>\n",
              "    </tr>\n",
              "    <tr>\n",
              "      <th>seniority</th>\n",
              "      <th></th>\n",
              "      <th></th>\n",
              "      <th></th>\n",
              "    </tr>\n",
              "  </thead>\n",
              "  <tbody>\n",
              "    <tr>\n",
              "      <th>(0.902, 5.9]</th>\n",
              "      <td>0.394069</td>\n",
              "      <td>0.605931</td>\n",
              "      <td>3507</td>\n",
              "    </tr>\n",
              "    <tr>\n",
              "      <th>(5.9, 10.8]</th>\n",
              "      <td>0.407528</td>\n",
              "      <td>0.592472</td>\n",
              "      <td>3693</td>\n",
              "    </tr>\n",
              "    <tr>\n",
              "      <th>(10.8, 15.7]</th>\n",
              "      <td>0.413888</td>\n",
              "      <td>0.586112</td>\n",
              "      <td>3629</td>\n",
              "    </tr>\n",
              "    <tr>\n",
              "      <th>(15.7, 20.6]</th>\n",
              "      <td>0.407208</td>\n",
              "      <td>0.592792</td>\n",
              "      <td>3524</td>\n",
              "    </tr>\n",
              "    <tr>\n",
              "      <th>(20.6, 25.5]</th>\n",
              "      <td>0.409647</td>\n",
              "      <td>0.590353</td>\n",
              "      <td>2944</td>\n",
              "    </tr>\n",
              "    <tr>\n",
              "      <th>(25.5, 30.4]</th>\n",
              "      <td>0.388691</td>\n",
              "      <td>0.611309</td>\n",
              "      <td>1963</td>\n",
              "    </tr>\n",
              "    <tr>\n",
              "      <th>(94.1, 99.0]</th>\n",
              "      <td>1.000000</td>\n",
              "      <td>0.000000</td>\n",
              "      <td>2</td>\n",
              "    </tr>\n",
              "    <tr>\n",
              "      <th>All</th>\n",
              "      <td>0.404683</td>\n",
              "      <td>0.595317</td>\n",
              "      <td>19262</td>\n",
              "    </tr>\n",
              "  </tbody>\n",
              "</table>\n",
              "</div>"
            ],
            "text/plain": [
              "early_quit         0.0       1.0    All\n",
              "seniority                              \n",
              "(0.902, 5.9]  0.394069  0.605931   3507\n",
              "(5.9, 10.8]   0.407528  0.592472   3693\n",
              "(10.8, 15.7]  0.413888  0.586112   3629\n",
              "(15.7, 20.6]  0.407208  0.592792   3524\n",
              "(20.6, 25.5]  0.409647  0.590353   2944\n",
              "(25.5, 30.4]  0.388691  0.611309   1963\n",
              "(94.1, 99.0]  1.000000  0.000000      2\n",
              "All           0.404683  0.595317  19262"
            ]
          },
          "metadata": {
            "tags": []
          },
          "execution_count": 40
        }
      ]
    },
    {
      "cell_type": "markdown",
      "metadata": {
        "id": "zuf0ttFLsQH3"
      },
      "source": [
        "<a name='Modeling'></a>\r\n",
        "Using a decision tree and a visualization we can see what a model is picking up on. The model confirms what we saw above, when you were hired has the largest impact on your retention followed by salary."
      ]
    },
    {
      "cell_type": "code",
      "metadata": {
        "colab": {
          "base_uri": "https://localhost:8080/",
          "height": 1000
        },
        "id": "n65yotqec_pB",
        "outputId": "c9733a59-b93e-45f9-ce79-a1c61040e233"
      },
      "source": [
        "data_dummy = pd.get_dummies(df[['company_id', 'dept', 'seniority', 'hire_year',\r\n",
        "                                'hire_quarter', 'hire_week', 'hire_dayofweek',\r\n",
        "                                'salary', 'early_quit']], drop_first=True)           \r\n",
        "data_dummy = data_dummy.dropna()\r\n",
        "\r\n",
        "model = DecisionTreeClassifier(max_depth=4, min_samples_leaf=10, \r\n",
        "                               class_weight=\"balanced\", \r\n",
        "                               min_impurity_decrease = 0.0001)\r\n",
        "model.fit(data_dummy.drop('early_quit', axis=1), data_dummy['early_quit'])\r\n",
        "  \r\n",
        "# Visualize It\r\n",
        "export_graphviz(model, out_file=\"tree_employee.dot\", feature_names=data_dummy.drop('early_quit', axis=1).columns, proportion=True, rotate=True)\r\n",
        "with open(\"tree_employee.dot\") as f:\r\n",
        "    dot_graph = f.read()\r\n",
        "tree_source = Source.from_file(\"tree_employee.dot\")\r\n",
        "tree_source"
      ],
      "execution_count": 42,
      "outputs": [
        {
          "output_type": "execute_result",
          "data": {
            "text/plain": [
              "<graphviz.files.Source at 0x7f390463f400>"
            ],
            "image/svg+xml": "<?xml version=\"1.0\" encoding=\"UTF-8\" standalone=\"no\"?>\n<!DOCTYPE svg PUBLIC \"-//W3C//DTD SVG 1.1//EN\"\n \"http://www.w3.org/Graphics/SVG/1.1/DTD/svg11.dtd\">\n<!-- Generated by graphviz version 2.40.1 (20161225.0304)\n -->\n<!-- Title: Tree Pages: 1 -->\n<svg width=\"875pt\" height=\"1126pt\"\n viewBox=\"0.00 0.00 875.00 1126.00\" xmlns=\"http://www.w3.org/2000/svg\" xmlns:xlink=\"http://www.w3.org/1999/xlink\">\n<g id=\"graph0\" class=\"graph\" transform=\"scale(1 1) rotate(0) translate(4 1122)\">\n<title>Tree</title>\n<polygon fill=\"#ffffff\" stroke=\"transparent\" points=\"-4,4 -4,-1122 871,-1122 871,4 -4,4\"/>\n<!-- 0 -->\n<g id=\"node1\" class=\"node\">\n<title>0</title>\n<polygon fill=\"none\" stroke=\"#000000\" points=\"135,-636.5 0,-636.5 0,-568.5 135,-568.5 135,-636.5\"/>\n<text text-anchor=\"middle\" x=\"67.5\" y=\"-621.3\" font-family=\"Times,serif\" font-size=\"14.00\" fill=\"#000000\">hire_year &lt;= 2012.5</text>\n<text text-anchor=\"middle\" x=\"67.5\" y=\"-606.3\" font-family=\"Times,serif\" font-size=\"14.00\" fill=\"#000000\">gini = 0.5</text>\n<text text-anchor=\"middle\" x=\"67.5\" y=\"-591.3\" font-family=\"Times,serif\" font-size=\"14.00\" fill=\"#000000\">samples = 100.0%</text>\n<text text-anchor=\"middle\" x=\"67.5\" y=\"-576.3\" font-family=\"Times,serif\" font-size=\"14.00\" fill=\"#000000\">value = [0.5, 0.5]</text>\n</g>\n<!-- 1 -->\n<g id=\"node2\" class=\"node\">\n<title>1</title>\n<polygon fill=\"none\" stroke=\"#000000\" points=\"318,-735.5 171,-735.5 171,-667.5 318,-667.5 318,-735.5\"/>\n<text text-anchor=\"middle\" x=\"244.5\" y=\"-720.3\" font-family=\"Times,serif\" font-size=\"14.00\" fill=\"#000000\">hire_year &lt;= 2011.5</text>\n<text text-anchor=\"middle\" x=\"244.5\" y=\"-705.3\" font-family=\"Times,serif\" font-size=\"14.00\" fill=\"#000000\">gini = 0.44</text>\n<text text-anchor=\"middle\" x=\"244.5\" y=\"-690.3\" font-family=\"Times,serif\" font-size=\"14.00\" fill=\"#000000\">samples = 51.5%</text>\n<text text-anchor=\"middle\" x=\"244.5\" y=\"-675.3\" font-family=\"Times,serif\" font-size=\"14.00\" fill=\"#000000\">value = [0.673, 0.327]</text>\n</g>\n<!-- 0&#45;&gt;1 -->\n<g id=\"edge1\" class=\"edge\">\n<title>0&#45;&gt;1</title>\n<path fill=\"none\" stroke=\"#000000\" d=\"M128.4134,-636.5702C143.293,-644.8927 159.3286,-653.8618 174.5916,-662.3987\"/>\n<polygon fill=\"#000000\" stroke=\"#000000\" points=\"173.0382,-665.5401 183.4744,-667.367 176.4553,-659.4308 173.0382,-665.5401\"/>\n<text text-anchor=\"middle\" x=\"159.4166\" y=\"-670.4659\" font-family=\"Times,serif\" font-size=\"14.00\" fill=\"#000000\">True</text>\n</g>\n<!-- 16 -->\n<g id=\"node17\" class=\"node\">\n<title>16</title>\n<polygon fill=\"none\" stroke=\"#000000\" points=\"318,-451.5 171,-451.5 171,-383.5 318,-383.5 318,-451.5\"/>\n<text text-anchor=\"middle\" x=\"244.5\" y=\"-436.3\" font-family=\"Times,serif\" font-size=\"14.00\" fill=\"#000000\">hire_year &lt;= 2013.5</text>\n<text text-anchor=\"middle\" x=\"244.5\" y=\"-421.3\" font-family=\"Times,serif\" font-size=\"14.00\" fill=\"#000000\">gini = 0.409</text>\n<text text-anchor=\"middle\" x=\"244.5\" y=\"-406.3\" font-family=\"Times,serif\" font-size=\"14.00\" fill=\"#000000\">samples = 48.5%</text>\n<text text-anchor=\"middle\" x=\"244.5\" y=\"-391.3\" font-family=\"Times,serif\" font-size=\"14.00\" fill=\"#000000\">value = [0.287, 0.713]</text>\n</g>\n<!-- 0&#45;&gt;16 -->\n<g id=\"edge16\" class=\"edge\">\n<title>0&#45;&gt;16</title>\n<path fill=\"none\" stroke=\"#000000\" d=\"M100.3775,-568.1365C129.9341,-537.244 173.4103,-491.8027 204.8765,-458.9144\"/>\n<polygon fill=\"#000000\" stroke=\"#000000\" points=\"207.4144,-461.3247 211.7985,-451.6795 202.3564,-456.4855 207.4144,-461.3247\"/>\n<text text-anchor=\"middle\" x=\"186.8046\" y=\"-448.5318\" font-family=\"Times,serif\" font-size=\"14.00\" fill=\"#000000\">False</text>\n</g>\n<!-- 2 -->\n<g id=\"node3\" class=\"node\">\n<title>2</title>\n<polygon fill=\"none\" stroke=\"#000000\" points=\"501,-940.5 354,-940.5 354,-872.5 501,-872.5 501,-940.5\"/>\n<text text-anchor=\"middle\" x=\"427.5\" y=\"-925.3\" font-family=\"Times,serif\" font-size=\"14.00\" fill=\"#000000\">hire_week &lt;= 34.5</text>\n<text text-anchor=\"middle\" x=\"427.5\" y=\"-910.3\" font-family=\"Times,serif\" font-size=\"14.00\" fill=\"#000000\">gini = 0.376</text>\n<text text-anchor=\"middle\" x=\"427.5\" y=\"-895.3\" font-family=\"Times,serif\" font-size=\"14.00\" fill=\"#000000\">samples = 24.5%</text>\n<text text-anchor=\"middle\" x=\"427.5\" y=\"-880.3\" font-family=\"Times,serif\" font-size=\"14.00\" fill=\"#000000\">value = [0.749, 0.251]</text>\n</g>\n<!-- 1&#45;&gt;2 -->\n<g id=\"edge2\" class=\"edge\">\n<title>1&#45;&gt;2</title>\n<path fill=\"none\" stroke=\"#000000\" d=\"M275.1301,-735.8124C306.7626,-771.2477 356.1582,-826.5816 390.0827,-864.5845\"/>\n<polygon fill=\"#000000\" stroke=\"#000000\" points=\"387.8046,-867.2882 397.075,-872.4174 393.0266,-862.6265 387.8046,-867.2882\"/>\n</g>\n<!-- 9 -->\n<g id=\"node10\" class=\"node\">\n<title>9</title>\n<polygon fill=\"none\" stroke=\"#000000\" points=\"490.5,-735.5 364.5,-735.5 364.5,-667.5 490.5,-667.5 490.5,-735.5\"/>\n<text text-anchor=\"middle\" x=\"427.5\" y=\"-720.3\" font-family=\"Times,serif\" font-size=\"14.00\" fill=\"#000000\">hire_week &lt;= 35.5</text>\n<text text-anchor=\"middle\" x=\"427.5\" y=\"-705.3\" font-family=\"Times,serif\" font-size=\"14.00\" fill=\"#000000\">gini = 0.48</text>\n<text text-anchor=\"middle\" x=\"427.5\" y=\"-690.3\" font-family=\"Times,serif\" font-size=\"14.00\" fill=\"#000000\">samples = 26.9%</text>\n<text text-anchor=\"middle\" x=\"427.5\" y=\"-675.3\" font-family=\"Times,serif\" font-size=\"14.00\" fill=\"#000000\">value = [0.6, 0.4]</text>\n</g>\n<!-- 1&#45;&gt;9 -->\n<g id=\"edge9\" class=\"edge\">\n<title>1&#45;&gt;9</title>\n<path fill=\"none\" stroke=\"#000000\" d=\"M318.1421,-701.5C329.9718,-701.5 342.2159,-701.5 354.0413,-701.5\"/>\n<polygon fill=\"#000000\" stroke=\"#000000\" points=\"354.3046,-705.0001 364.3046,-701.5 354.3046,-698.0001 354.3046,-705.0001\"/>\n</g>\n<!-- 3 -->\n<g id=\"node4\" class=\"node\">\n<title>3</title>\n<polygon fill=\"none\" stroke=\"#000000\" points=\"684,-1054.5 537,-1054.5 537,-986.5 684,-986.5 684,-1054.5\"/>\n<text text-anchor=\"middle\" x=\"610.5\" y=\"-1039.3\" font-family=\"Times,serif\" font-size=\"14.00\" fill=\"#000000\">salary &lt;= 240500.0</text>\n<text text-anchor=\"middle\" x=\"610.5\" y=\"-1024.3\" font-family=\"Times,serif\" font-size=\"14.00\" fill=\"#000000\">gini = 0.346</text>\n<text text-anchor=\"middle\" x=\"610.5\" y=\"-1009.3\" font-family=\"Times,serif\" font-size=\"14.00\" fill=\"#000000\">samples = 15.2%</text>\n<text text-anchor=\"middle\" x=\"610.5\" y=\"-994.3\" font-family=\"Times,serif\" font-size=\"14.00\" fill=\"#000000\">value = [0.777, 0.223]</text>\n</g>\n<!-- 2&#45;&gt;3 -->\n<g id=\"edge3\" class=\"edge\">\n<title>2&#45;&gt;3</title>\n<path fill=\"none\" stroke=\"#000000\" d=\"M482.406,-940.7038C502.7631,-953.3852 526.0134,-967.869 547.0683,-980.9852\"/>\n<polygon fill=\"#000000\" stroke=\"#000000\" points=\"545.2943,-984.0036 555.6327,-986.3204 548.9955,-978.0621 545.2943,-984.0036\"/>\n</g>\n<!-- 6 -->\n<g id=\"node7\" class=\"node\">\n<title>6</title>\n<polygon fill=\"none\" stroke=\"#000000\" points=\"684,-940.5 537,-940.5 537,-872.5 684,-872.5 684,-940.5\"/>\n<text text-anchor=\"middle\" x=\"610.5\" y=\"-925.3\" font-family=\"Times,serif\" font-size=\"14.00\" fill=\"#000000\">salary &lt;= 309000.0</text>\n<text text-anchor=\"middle\" x=\"610.5\" y=\"-910.3\" font-family=\"Times,serif\" font-size=\"14.00\" fill=\"#000000\">gini = 0.418</text>\n<text text-anchor=\"middle\" x=\"610.5\" y=\"-895.3\" font-family=\"Times,serif\" font-size=\"14.00\" fill=\"#000000\">samples = 9.3%</text>\n<text text-anchor=\"middle\" x=\"610.5\" y=\"-880.3\" font-family=\"Times,serif\" font-size=\"14.00\" fill=\"#000000\">value = [0.702, 0.298]</text>\n</g>\n<!-- 2&#45;&gt;6 -->\n<g id=\"edge6\" class=\"edge\">\n<title>2&#45;&gt;6</title>\n<path fill=\"none\" stroke=\"#000000\" d=\"M501.1421,-906.5C509.4739,-906.5 518.0113,-906.5 526.4632,-906.5\"/>\n<polygon fill=\"#000000\" stroke=\"#000000\" points=\"526.7108,-910.0001 536.7107,-906.5 526.7107,-903.0001 526.7108,-910.0001\"/>\n</g>\n<!-- 4 -->\n<g id=\"node5\" class=\"node\">\n<title>4</title>\n<polygon fill=\"none\" stroke=\"#000000\" points=\"867,-1118 720,-1118 720,-1065 867,-1065 867,-1118\"/>\n<text text-anchor=\"middle\" x=\"793.5\" y=\"-1102.8\" font-family=\"Times,serif\" font-size=\"14.00\" fill=\"#000000\">gini = 0.36</text>\n<text text-anchor=\"middle\" x=\"793.5\" y=\"-1087.8\" font-family=\"Times,serif\" font-size=\"14.00\" fill=\"#000000\">samples = 13.5%</text>\n<text text-anchor=\"middle\" x=\"793.5\" y=\"-1072.8\" font-family=\"Times,serif\" font-size=\"14.00\" fill=\"#000000\">value = [0.764, 0.236]</text>\n</g>\n<!-- 3&#45;&gt;4 -->\n<g id=\"edge4\" class=\"edge\">\n<title>3&#45;&gt;4</title>\n<path fill=\"none\" stroke=\"#000000\" d=\"M684.1421,-1049.0715C694.4836,-1053.0838 705.1417,-1057.2189 715.56,-1061.261\"/>\n<polygon fill=\"#000000\" stroke=\"#000000\" points=\"714.4555,-1064.5866 725.0444,-1064.9407 716.9875,-1058.0606 714.4555,-1064.5866\"/>\n</g>\n<!-- 5 -->\n<g id=\"node6\" class=\"node\">\n<title>5</title>\n<polygon fill=\"none\" stroke=\"#000000\" points=\"867,-1047 720,-1047 720,-994 867,-994 867,-1047\"/>\n<text text-anchor=\"middle\" x=\"793.5\" y=\"-1031.8\" font-family=\"Times,serif\" font-size=\"14.00\" fill=\"#000000\">gini = 0.217</text>\n<text text-anchor=\"middle\" x=\"793.5\" y=\"-1016.8\" font-family=\"Times,serif\" font-size=\"14.00\" fill=\"#000000\">samples = 1.7%</text>\n<text text-anchor=\"middle\" x=\"793.5\" y=\"-1001.8\" font-family=\"Times,serif\" font-size=\"14.00\" fill=\"#000000\">value = [0.876, 0.124]</text>\n</g>\n<!-- 3&#45;&gt;5 -->\n<g id=\"edge5\" class=\"edge\">\n<title>3&#45;&gt;5</title>\n<path fill=\"none\" stroke=\"#000000\" d=\"M684.1421,-1020.5C692.4739,-1020.5 701.0113,-1020.5 709.4632,-1020.5\"/>\n<polygon fill=\"#000000\" stroke=\"#000000\" points=\"709.7108,-1024.0001 719.7107,-1020.5 709.7107,-1017.0001 709.7108,-1024.0001\"/>\n</g>\n<!-- 7 -->\n<g id=\"node8\" class=\"node\">\n<title>7</title>\n<polygon fill=\"none\" stroke=\"#000000\" points=\"867,-976 720,-976 720,-923 867,-923 867,-976\"/>\n<text text-anchor=\"middle\" x=\"793.5\" y=\"-960.8\" font-family=\"Times,serif\" font-size=\"14.00\" fill=\"#000000\">gini = 0.422</text>\n<text text-anchor=\"middle\" x=\"793.5\" y=\"-945.8\" font-family=\"Times,serif\" font-size=\"14.00\" fill=\"#000000\">samples = 9.1%</text>\n<text text-anchor=\"middle\" x=\"793.5\" y=\"-930.8\" font-family=\"Times,serif\" font-size=\"14.00\" fill=\"#000000\">value = [0.697, 0.303]</text>\n</g>\n<!-- 6&#45;&gt;7 -->\n<g id=\"edge7\" class=\"edge\">\n<title>6&#45;&gt;7</title>\n<path fill=\"none\" stroke=\"#000000\" d=\"M684.1421,-923.8039C692.5655,-925.7831 701.199,-927.8118 709.7418,-929.8191\"/>\n<polygon fill=\"#000000\" stroke=\"#000000\" points=\"709.1752,-933.2812 719.7107,-932.1615 710.7765,-926.4668 709.1752,-933.2812\"/>\n</g>\n<!-- 8 -->\n<g id=\"node9\" class=\"node\">\n<title>8</title>\n<polygon fill=\"none\" stroke=\"#000000\" points=\"867,-905 720,-905 720,-852 867,-852 867,-905\"/>\n<text text-anchor=\"middle\" x=\"793.5\" y=\"-889.8\" font-family=\"Times,serif\" font-size=\"14.00\" fill=\"#000000\">gini = 0.215</text>\n<text text-anchor=\"middle\" x=\"793.5\" y=\"-874.8\" font-family=\"Times,serif\" font-size=\"14.00\" fill=\"#000000\">samples = 0.2%</text>\n<text text-anchor=\"middle\" x=\"793.5\" y=\"-859.8\" font-family=\"Times,serif\" font-size=\"14.00\" fill=\"#000000\">value = [0.878, 0.122]</text>\n</g>\n<!-- 6&#45;&gt;8 -->\n<g id=\"edge8\" class=\"edge\">\n<title>6&#45;&gt;8</title>\n<path fill=\"none\" stroke=\"#000000\" d=\"M684.1421,-895.2324C692.5655,-893.9435 701.199,-892.6226 709.7418,-891.3155\"/>\n<polygon fill=\"#000000\" stroke=\"#000000\" points=\"710.3552,-894.7624 719.7107,-889.7902 709.2964,-887.843 710.3552,-894.7624\"/>\n</g>\n<!-- 10 -->\n<g id=\"node11\" class=\"node\">\n<title>10</title>\n<polygon fill=\"none\" stroke=\"#000000\" points=\"684,-778.5 537,-778.5 537,-710.5 684,-710.5 684,-778.5\"/>\n<text text-anchor=\"middle\" x=\"610.5\" y=\"-763.3\" font-family=\"Times,serif\" font-size=\"14.00\" fill=\"#000000\">hire_quarter &lt;= 1.5</text>\n<text text-anchor=\"middle\" x=\"610.5\" y=\"-748.3\" font-family=\"Times,serif\" font-size=\"14.00\" fill=\"#000000\">gini = 0.464</text>\n<text text-anchor=\"middle\" x=\"610.5\" y=\"-733.3\" font-family=\"Times,serif\" font-size=\"14.00\" fill=\"#000000\">samples = 18.6%</text>\n<text text-anchor=\"middle\" x=\"610.5\" y=\"-718.3\" font-family=\"Times,serif\" font-size=\"14.00\" fill=\"#000000\">value = [0.633, 0.367]</text>\n</g>\n<!-- 9&#45;&gt;10 -->\n<g id=\"edge10\" class=\"edge\">\n<title>9&#45;&gt;10</title>\n<path fill=\"none\" stroke=\"#000000\" d=\"M490.7345,-716.3584C502.4732,-719.1167 514.9002,-722.0367 527.1319,-724.9108\"/>\n<polygon fill=\"#000000\" stroke=\"#000000\" points=\"526.3471,-728.3216 536.8826,-727.2019 527.9484,-721.5072 526.3471,-728.3216\"/>\n</g>\n<!-- 13 -->\n<g id=\"node14\" class=\"node\">\n<title>13</title>\n<polygon fill=\"none\" stroke=\"#000000\" points=\"684,-692.5 537,-692.5 537,-624.5 684,-624.5 684,-692.5\"/>\n<text text-anchor=\"middle\" x=\"610.5\" y=\"-677.3\" font-family=\"Times,serif\" font-size=\"14.00\" fill=\"#000000\">dept_design &lt;= 0.5</text>\n<text text-anchor=\"middle\" x=\"610.5\" y=\"-662.3\" font-family=\"Times,serif\" font-size=\"14.00\" fill=\"#000000\">gini = 0.499</text>\n<text text-anchor=\"middle\" x=\"610.5\" y=\"-647.3\" font-family=\"Times,serif\" font-size=\"14.00\" fill=\"#000000\">samples = 8.3%</text>\n<text text-anchor=\"middle\" x=\"610.5\" y=\"-632.3\" font-family=\"Times,serif\" font-size=\"14.00\" fill=\"#000000\">value = [0.522, 0.478]</text>\n</g>\n<!-- 9&#45;&gt;13 -->\n<g id=\"edge13\" class=\"edge\">\n<title>9&#45;&gt;13</title>\n<path fill=\"none\" stroke=\"#000000\" d=\"M490.7345,-686.6416C502.4732,-683.8833 514.9002,-680.9633 527.1319,-678.0892\"/>\n<polygon fill=\"#000000\" stroke=\"#000000\" points=\"527.9484,-681.4928 536.8826,-675.7981 526.3471,-674.6784 527.9484,-681.4928\"/>\n</g>\n<!-- 11 -->\n<g id=\"node12\" class=\"node\">\n<title>11</title>\n<polygon fill=\"none\" stroke=\"#000000\" points=\"867,-834 720,-834 720,-781 867,-781 867,-834\"/>\n<text text-anchor=\"middle\" x=\"793.5\" y=\"-818.8\" font-family=\"Times,serif\" font-size=\"14.00\" fill=\"#000000\">gini = 0.446</text>\n<text text-anchor=\"middle\" x=\"793.5\" y=\"-803.8\" font-family=\"Times,serif\" font-size=\"14.00\" fill=\"#000000\">samples = 6.8%</text>\n<text text-anchor=\"middle\" x=\"793.5\" y=\"-788.8\" font-family=\"Times,serif\" font-size=\"14.00\" fill=\"#000000\">value = [0.665, 0.335]</text>\n</g>\n<!-- 10&#45;&gt;11 -->\n<g id=\"edge11\" class=\"edge\">\n<title>10&#45;&gt;11</title>\n<path fill=\"none\" stroke=\"#000000\" d=\"M684.1421,-769.8522C692.657,-772.7836 701.3867,-775.7889 710.0204,-778.7611\"/>\n<polygon fill=\"#000000\" stroke=\"#000000\" points=\"709.116,-782.1513 719.7107,-782.0971 711.3947,-775.5326 709.116,-782.1513\"/>\n</g>\n<!-- 12 -->\n<g id=\"node13\" class=\"node\">\n<title>12</title>\n<polygon fill=\"none\" stroke=\"#000000\" points=\"867,-763 720,-763 720,-710 867,-710 867,-763\"/>\n<text text-anchor=\"middle\" x=\"793.5\" y=\"-747.8\" font-family=\"Times,serif\" font-size=\"14.00\" fill=\"#000000\">gini = 0.474</text>\n<text text-anchor=\"middle\" x=\"793.5\" y=\"-732.8\" font-family=\"Times,serif\" font-size=\"14.00\" fill=\"#000000\">samples = 11.8%</text>\n<text text-anchor=\"middle\" x=\"793.5\" y=\"-717.8\" font-family=\"Times,serif\" font-size=\"14.00\" fill=\"#000000\">value = [0.615, 0.385]</text>\n</g>\n<!-- 10&#45;&gt;12 -->\n<g id=\"edge12\" class=\"edge\">\n<title>10&#45;&gt;12</title>\n<path fill=\"none\" stroke=\"#000000\" d=\"M684.1421,-741.2807C692.4739,-740.9164 701.0113,-740.5432 709.4632,-740.1737\"/>\n<polygon fill=\"#000000\" stroke=\"#000000\" points=\"709.8732,-743.6593 719.7107,-739.7258 709.5674,-736.6659 709.8732,-743.6593\"/>\n</g>\n<!-- 14 -->\n<g id=\"node15\" class=\"node\">\n<title>14</title>\n<polygon fill=\"none\" stroke=\"#000000\" points=\"867,-692 720,-692 720,-639 867,-639 867,-692\"/>\n<text text-anchor=\"middle\" x=\"793.5\" y=\"-676.8\" font-family=\"Times,serif\" font-size=\"14.00\" fill=\"#000000\">gini = 0.5</text>\n<text text-anchor=\"middle\" x=\"793.5\" y=\"-661.8\" font-family=\"Times,serif\" font-size=\"14.00\" fill=\"#000000\">samples = 7.9%</text>\n<text text-anchor=\"middle\" x=\"793.5\" y=\"-646.8\" font-family=\"Times,serif\" font-size=\"14.00\" fill=\"#000000\">value = [0.514, 0.486]</text>\n</g>\n<!-- 13&#45;&gt;14 -->\n<g id=\"edge14\" class=\"edge\">\n<title>13&#45;&gt;14</title>\n<path fill=\"none\" stroke=\"#000000\" d=\"M684.1421,-661.3169C692.4739,-661.6356 701.0113,-661.9622 709.4632,-662.2855\"/>\n<polygon fill=\"#000000\" stroke=\"#000000\" points=\"709.5842,-665.7926 719.7107,-662.6775 709.8519,-658.7977 709.5842,-665.7926\"/>\n</g>\n<!-- 15 -->\n<g id=\"node16\" class=\"node\">\n<title>15</title>\n<polygon fill=\"none\" stroke=\"#000000\" points=\"867,-621 720,-621 720,-568 867,-568 867,-621\"/>\n<text text-anchor=\"middle\" x=\"793.5\" y=\"-605.8\" font-family=\"Times,serif\" font-size=\"14.00\" fill=\"#000000\">gini = 0.447</text>\n<text text-anchor=\"middle\" x=\"793.5\" y=\"-590.8\" font-family=\"Times,serif\" font-size=\"14.00\" fill=\"#000000\">samples = 0.4%</text>\n<text text-anchor=\"middle\" x=\"793.5\" y=\"-575.8\" font-family=\"Times,serif\" font-size=\"14.00\" fill=\"#000000\">value = [0.662, 0.338]</text>\n</g>\n<!-- 13&#45;&gt;15 -->\n<g id=\"edge15\" class=\"edge\">\n<title>13&#45;&gt;15</title>\n<path fill=\"none\" stroke=\"#000000\" d=\"M684.1421,-632.7454C692.657,-629.7675 701.3867,-626.7145 710.0204,-623.6951\"/>\n<polygon fill=\"#000000\" stroke=\"#000000\" points=\"711.4268,-626.9111 719.7107,-620.3061 709.1159,-620.3036 711.4268,-626.9111\"/>\n</g>\n<!-- 17 -->\n<g id=\"node18\" class=\"node\">\n<title>17</title>\n<polygon fill=\"none\" stroke=\"#000000\" points=\"501,-451.5 354,-451.5 354,-383.5 501,-383.5 501,-451.5\"/>\n<text text-anchor=\"middle\" x=\"427.5\" y=\"-436.3\" font-family=\"Times,serif\" font-size=\"14.00\" fill=\"#000000\">hire_quarter &lt;= 3.5</text>\n<text text-anchor=\"middle\" x=\"427.5\" y=\"-421.3\" font-family=\"Times,serif\" font-size=\"14.00\" fill=\"#000000\">gini = 0.483</text>\n<text text-anchor=\"middle\" x=\"427.5\" y=\"-406.3\" font-family=\"Times,serif\" font-size=\"14.00\" fill=\"#000000\">samples = 26.0%</text>\n<text text-anchor=\"middle\" x=\"427.5\" y=\"-391.3\" font-family=\"Times,serif\" font-size=\"14.00\" fill=\"#000000\">value = [0.408, 0.592]</text>\n</g>\n<!-- 16&#45;&gt;17 -->\n<g id=\"edge17\" class=\"edge\">\n<title>16&#45;&gt;17</title>\n<path fill=\"none\" stroke=\"#000000\" d=\"M318.1421,-417.5C326.4739,-417.5 335.0113,-417.5 343.4632,-417.5\"/>\n<polygon fill=\"#000000\" stroke=\"#000000\" points=\"343.7108,-421.0001 353.7107,-417.5 343.7107,-414.0001 343.7108,-421.0001\"/>\n</g>\n<!-- 24 -->\n<g id=\"node25\" class=\"node\">\n<title>24</title>\n<polygon fill=\"none\" stroke=\"#000000\" points=\"501,-245.5 354,-245.5 354,-177.5 501,-177.5 501,-245.5\"/>\n<text text-anchor=\"middle\" x=\"427.5\" y=\"-230.3\" font-family=\"Times,serif\" font-size=\"14.00\" fill=\"#000000\">hire_week &lt;= 5.5</text>\n<text text-anchor=\"middle\" x=\"427.5\" y=\"-215.3\" font-family=\"Times,serif\" font-size=\"14.00\" fill=\"#000000\">gini = 0.231</text>\n<text text-anchor=\"middle\" x=\"427.5\" y=\"-200.3\" font-family=\"Times,serif\" font-size=\"14.00\" fill=\"#000000\">samples = 22.5%</text>\n<text text-anchor=\"middle\" x=\"427.5\" y=\"-185.3\" font-family=\"Times,serif\" font-size=\"14.00\" fill=\"#000000\">value = [0.133, 0.867]</text>\n</g>\n<!-- 16&#45;&gt;24 -->\n<g id=\"edge24\" class=\"edge\">\n<title>16&#45;&gt;24</title>\n<path fill=\"none\" stroke=\"#000000\" d=\"M274.7187,-383.4833C306.3741,-347.8494 356.1398,-291.829 390.2153,-253.4707\"/>\n<polygon fill=\"#000000\" stroke=\"#000000\" points=\"393.2116,-255.3679 397.2364,-245.5672 387.9783,-250.7189 393.2116,-255.3679\"/>\n</g>\n<!-- 18 -->\n<g id=\"node19\" class=\"node\">\n<title>18</title>\n<polygon fill=\"none\" stroke=\"#000000\" points=\"684,-494.5 537,-494.5 537,-426.5 684,-426.5 684,-494.5\"/>\n<text text-anchor=\"middle\" x=\"610.5\" y=\"-479.3\" font-family=\"Times,serif\" font-size=\"14.00\" fill=\"#000000\">salary &lt;= 207500.0</text>\n<text text-anchor=\"middle\" x=\"610.5\" y=\"-464.3\" font-family=\"Times,serif\" font-size=\"14.00\" fill=\"#000000\">gini = 0.494</text>\n<text text-anchor=\"middle\" x=\"610.5\" y=\"-449.3\" font-family=\"Times,serif\" font-size=\"14.00\" fill=\"#000000\">samples = 19.5%</text>\n<text text-anchor=\"middle\" x=\"610.5\" y=\"-434.3\" font-family=\"Times,serif\" font-size=\"14.00\" fill=\"#000000\">value = [0.444, 0.556]</text>\n</g>\n<!-- 17&#45;&gt;18 -->\n<g id=\"edge18\" class=\"edge\">\n<title>17&#45;&gt;18</title>\n<path fill=\"none\" stroke=\"#000000\" d=\"M501.1421,-434.8039C509.5655,-436.7831 518.199,-438.8118 526.7418,-440.8191\"/>\n<polygon fill=\"#000000\" stroke=\"#000000\" points=\"526.1752,-444.2812 536.7107,-443.1615 527.7765,-437.4668 526.1752,-444.2812\"/>\n</g>\n<!-- 21 -->\n<g id=\"node22\" class=\"node\">\n<title>21</title>\n<polygon fill=\"none\" stroke=\"#000000\" points=\"684,-408.5 537,-408.5 537,-340.5 684,-340.5 684,-408.5\"/>\n<text text-anchor=\"middle\" x=\"610.5\" y=\"-393.3\" font-family=\"Times,serif\" font-size=\"14.00\" fill=\"#000000\">salary &lt;= 261500.0</text>\n<text text-anchor=\"middle\" x=\"610.5\" y=\"-378.3\" font-family=\"Times,serif\" font-size=\"14.00\" fill=\"#000000\">gini = 0.414</text>\n<text text-anchor=\"middle\" x=\"610.5\" y=\"-363.3\" font-family=\"Times,serif\" font-size=\"14.00\" fill=\"#000000\">samples = 6.5%</text>\n<text text-anchor=\"middle\" x=\"610.5\" y=\"-348.3\" font-family=\"Times,serif\" font-size=\"14.00\" fill=\"#000000\">value = [0.293, 0.707]</text>\n</g>\n<!-- 17&#45;&gt;21 -->\n<g id=\"edge21\" class=\"edge\">\n<title>17&#45;&gt;21</title>\n<path fill=\"none\" stroke=\"#000000\" d=\"M501.1421,-400.1961C509.5655,-398.2169 518.199,-396.1882 526.7418,-394.1809\"/>\n<polygon fill=\"#000000\" stroke=\"#000000\" points=\"527.7765,-397.5332 536.7107,-391.8385 526.1752,-390.7188 527.7765,-397.5332\"/>\n</g>\n<!-- 19 -->\n<g id=\"node20\" class=\"node\">\n<title>19</title>\n<polygon fill=\"none\" stroke=\"#000000\" points=\"867,-550 720,-550 720,-497 867,-497 867,-550\"/>\n<text text-anchor=\"middle\" x=\"793.5\" y=\"-534.8\" font-family=\"Times,serif\" font-size=\"14.00\" fill=\"#000000\">gini = 0.497</text>\n<text text-anchor=\"middle\" x=\"793.5\" y=\"-519.8\" font-family=\"Times,serif\" font-size=\"14.00\" fill=\"#000000\">samples = 15.9%</text>\n<text text-anchor=\"middle\" x=\"793.5\" y=\"-504.8\" font-family=\"Times,serif\" font-size=\"14.00\" fill=\"#000000\">value = [0.463, 0.537]</text>\n</g>\n<!-- 18&#45;&gt;19 -->\n<g id=\"edge19\" class=\"edge\">\n<title>18&#45;&gt;19</title>\n<path fill=\"none\" stroke=\"#000000\" d=\"M684.1421,-485.8522C692.657,-488.7836 701.3867,-491.7889 710.0204,-494.7611\"/>\n<polygon fill=\"#000000\" stroke=\"#000000\" points=\"709.116,-498.1513 719.7107,-498.0971 711.3947,-491.5326 709.116,-498.1513\"/>\n</g>\n<!-- 20 -->\n<g id=\"node21\" class=\"node\">\n<title>20</title>\n<polygon fill=\"none\" stroke=\"#000000\" points=\"867,-479 720,-479 720,-426 867,-426 867,-479\"/>\n<text text-anchor=\"middle\" x=\"793.5\" y=\"-463.8\" font-family=\"Times,serif\" font-size=\"14.00\" fill=\"#000000\">gini = 0.459</text>\n<text text-anchor=\"middle\" x=\"793.5\" y=\"-448.8\" font-family=\"Times,serif\" font-size=\"14.00\" fill=\"#000000\">samples = 3.6%</text>\n<text text-anchor=\"middle\" x=\"793.5\" y=\"-433.8\" font-family=\"Times,serif\" font-size=\"14.00\" fill=\"#000000\">value = [0.357, 0.643]</text>\n</g>\n<!-- 18&#45;&gt;20 -->\n<g id=\"edge20\" class=\"edge\">\n<title>18&#45;&gt;20</title>\n<path fill=\"none\" stroke=\"#000000\" d=\"M684.1421,-457.2807C692.4739,-456.9164 701.0113,-456.5432 709.4632,-456.1737\"/>\n<polygon fill=\"#000000\" stroke=\"#000000\" points=\"709.8732,-459.6593 719.7107,-455.7258 709.5674,-452.6659 709.8732,-459.6593\"/>\n</g>\n<!-- 22 -->\n<g id=\"node23\" class=\"node\">\n<title>22</title>\n<polygon fill=\"none\" stroke=\"#000000\" points=\"867,-408 720,-408 720,-355 867,-355 867,-408\"/>\n<text text-anchor=\"middle\" x=\"793.5\" y=\"-392.8\" font-family=\"Times,serif\" font-size=\"14.00\" fill=\"#000000\">gini = 0.427</text>\n<text text-anchor=\"middle\" x=\"793.5\" y=\"-377.8\" font-family=\"Times,serif\" font-size=\"14.00\" fill=\"#000000\">samples = 5.8%</text>\n<text text-anchor=\"middle\" x=\"793.5\" y=\"-362.8\" font-family=\"Times,serif\" font-size=\"14.00\" fill=\"#000000\">value = [0.308, 0.692]</text>\n</g>\n<!-- 21&#45;&gt;22 -->\n<g id=\"edge22\" class=\"edge\">\n<title>21&#45;&gt;22</title>\n<path fill=\"none\" stroke=\"#000000\" d=\"M684.1421,-377.3169C692.4739,-377.6356 701.0113,-377.9622 709.4632,-378.2855\"/>\n<polygon fill=\"#000000\" stroke=\"#000000\" points=\"709.5842,-381.7926 719.7107,-378.6775 709.8519,-374.7977 709.5842,-381.7926\"/>\n</g>\n<!-- 23 -->\n<g id=\"node24\" class=\"node\">\n<title>23</title>\n<polygon fill=\"none\" stroke=\"#000000\" points=\"867,-337 720,-337 720,-284 867,-284 867,-337\"/>\n<text text-anchor=\"middle\" x=\"793.5\" y=\"-321.8\" font-family=\"Times,serif\" font-size=\"14.00\" fill=\"#000000\">gini = 0.259</text>\n<text text-anchor=\"middle\" x=\"793.5\" y=\"-306.8\" font-family=\"Times,serif\" font-size=\"14.00\" fill=\"#000000\">samples = 0.7%</text>\n<text text-anchor=\"middle\" x=\"793.5\" y=\"-291.8\" font-family=\"Times,serif\" font-size=\"14.00\" fill=\"#000000\">value = [0.153, 0.847]</text>\n</g>\n<!-- 21&#45;&gt;23 -->\n<g id=\"edge23\" class=\"edge\">\n<title>21&#45;&gt;23</title>\n<path fill=\"none\" stroke=\"#000000\" d=\"M684.1421,-348.7454C692.657,-345.7675 701.3867,-342.7145 710.0204,-339.6951\"/>\n<polygon fill=\"#000000\" stroke=\"#000000\" points=\"711.4268,-342.9111 719.7107,-336.3061 709.1159,-336.3036 711.4268,-342.9111\"/>\n</g>\n<!-- 25 -->\n<g id=\"node26\" class=\"node\">\n<title>25</title>\n<polygon fill=\"none\" stroke=\"#000000\" points=\"684,-245.5 537,-245.5 537,-177.5 684,-177.5 684,-245.5\"/>\n<text text-anchor=\"middle\" x=\"610.5\" y=\"-230.3\" font-family=\"Times,serif\" font-size=\"14.00\" fill=\"#000000\">salary &lt;= 262000.0</text>\n<text text-anchor=\"middle\" x=\"610.5\" y=\"-215.3\" font-family=\"Times,serif\" font-size=\"14.00\" fill=\"#000000\">gini = 0.397</text>\n<text text-anchor=\"middle\" x=\"610.5\" y=\"-200.3\" font-family=\"Times,serif\" font-size=\"14.00\" fill=\"#000000\">samples = 2.2%</text>\n<text text-anchor=\"middle\" x=\"610.5\" y=\"-185.3\" font-family=\"Times,serif\" font-size=\"14.00\" fill=\"#000000\">value = [0.273, 0.727]</text>\n</g>\n<!-- 24&#45;&gt;25 -->\n<g id=\"edge25\" class=\"edge\">\n<title>24&#45;&gt;25</title>\n<path fill=\"none\" stroke=\"#000000\" d=\"M501.1421,-211.5C509.4739,-211.5 518.0113,-211.5 526.4632,-211.5\"/>\n<polygon fill=\"#000000\" stroke=\"#000000\" points=\"526.7108,-215.0001 536.7107,-211.5 526.7107,-208.0001 526.7108,-215.0001\"/>\n</g>\n<!-- 28 -->\n<g id=\"node29\" class=\"node\">\n<title>28</title>\n<polygon fill=\"none\" stroke=\"#000000\" points=\"683.5,-131.5 537.5,-131.5 537.5,-63.5 683.5,-63.5 683.5,-131.5\"/>\n<text text-anchor=\"middle\" x=\"610.5\" y=\"-116.3\" font-family=\"Times,serif\" font-size=\"14.00\" fill=\"#000000\">hire_week &lt;= 39.5</text>\n<text text-anchor=\"middle\" x=\"610.5\" y=\"-101.3\" font-family=\"Times,serif\" font-size=\"14.00\" fill=\"#000000\">gini = 0.206</text>\n<text text-anchor=\"middle\" x=\"610.5\" y=\"-86.3\" font-family=\"Times,serif\" font-size=\"14.00\" fill=\"#000000\">samples = 20.3%</text>\n<text text-anchor=\"middle\" x=\"610.5\" y=\"-71.3\" font-family=\"Times,serif\" font-size=\"14.00\" fill=\"#000000\">value = [0.117, 0.883]</text>\n</g>\n<!-- 24&#45;&gt;28 -->\n<g id=\"edge28\" class=\"edge\">\n<title>24&#45;&gt;28</title>\n<path fill=\"none\" stroke=\"#000000\" d=\"M482.406,-177.2962C502.7631,-164.6148 526.0134,-150.131 547.0683,-137.0148\"/>\n<polygon fill=\"#000000\" stroke=\"#000000\" points=\"548.9955,-139.9379 555.6327,-131.6796 545.2943,-133.9964 548.9955,-139.9379\"/>\n</g>\n<!-- 26 -->\n<g id=\"node27\" class=\"node\">\n<title>26</title>\n<polygon fill=\"none\" stroke=\"#000000\" points=\"866.5,-266 720.5,-266 720.5,-213 866.5,-213 866.5,-266\"/>\n<text text-anchor=\"middle\" x=\"793.5\" y=\"-250.8\" font-family=\"Times,serif\" font-size=\"14.00\" fill=\"#000000\">gini = 0.411</text>\n<text text-anchor=\"middle\" x=\"793.5\" y=\"-235.8\" font-family=\"Times,serif\" font-size=\"14.00\" fill=\"#000000\">samples = 2.1%</text>\n<text text-anchor=\"middle\" x=\"793.5\" y=\"-220.8\" font-family=\"Times,serif\" font-size=\"14.00\" fill=\"#000000\">value = [0.289, 0.711]</text>\n</g>\n<!-- 25&#45;&gt;26 -->\n<g id=\"edge26\" class=\"edge\">\n<title>25&#45;&gt;26</title>\n<path fill=\"none\" stroke=\"#000000\" d=\"M684.1421,-222.7676C692.7083,-224.0783 701.4917,-225.4222 710.1761,-226.751\"/>\n<polygon fill=\"#000000\" stroke=\"#000000\" points=\"709.8921,-230.2482 720.3065,-228.301 710.9509,-223.3287 709.8921,-230.2482\"/>\n</g>\n<!-- 27 -->\n<g id=\"node28\" class=\"node\">\n<title>27</title>\n<polygon fill=\"none\" stroke=\"#000000\" points=\"867,-195 720,-195 720,-142 867,-142 867,-195\"/>\n<text text-anchor=\"middle\" x=\"793.5\" y=\"-179.8\" font-family=\"Times,serif\" font-size=\"14.00\" fill=\"#000000\">gini = 0.092</text>\n<text text-anchor=\"middle\" x=\"793.5\" y=\"-164.8\" font-family=\"Times,serif\" font-size=\"14.00\" fill=\"#000000\">samples = 0.2%</text>\n<text text-anchor=\"middle\" x=\"793.5\" y=\"-149.8\" font-family=\"Times,serif\" font-size=\"14.00\" fill=\"#000000\">value = [0.048, 0.952]</text>\n</g>\n<!-- 25&#45;&gt;27 -->\n<g id=\"edge27\" class=\"edge\">\n<title>25&#45;&gt;27</title>\n<path fill=\"none\" stroke=\"#000000\" d=\"M684.1421,-194.1961C692.5655,-192.2169 701.199,-190.1882 709.7418,-188.1809\"/>\n<polygon fill=\"#000000\" stroke=\"#000000\" points=\"710.7765,-191.5332 719.7107,-185.8385 709.1752,-184.7188 710.7765,-191.5332\"/>\n</g>\n<!-- 29 -->\n<g id=\"node30\" class=\"node\">\n<title>29</title>\n<polygon fill=\"none\" stroke=\"#000000\" points=\"867,-124 720,-124 720,-71 867,-71 867,-124\"/>\n<text text-anchor=\"middle\" x=\"793.5\" y=\"-108.8\" font-family=\"Times,serif\" font-size=\"14.00\" fill=\"#000000\">gini = 0.225</text>\n<text text-anchor=\"middle\" x=\"793.5\" y=\"-93.8\" font-family=\"Times,serif\" font-size=\"14.00\" fill=\"#000000\">samples = 17.1%</text>\n<text text-anchor=\"middle\" x=\"793.5\" y=\"-78.8\" font-family=\"Times,serif\" font-size=\"14.00\" fill=\"#000000\">value = [0.129, 0.871]</text>\n</g>\n<!-- 28&#45;&gt;29 -->\n<g id=\"edge29\" class=\"edge\">\n<title>28&#45;&gt;29</title>\n<path fill=\"none\" stroke=\"#000000\" d=\"M683.6154,-97.5C692.2021,-97.5 701.0141,-97.5 709.7318,-97.5\"/>\n<polygon fill=\"#000000\" stroke=\"#000000\" points=\"709.9032,-101.0001 719.9032,-97.5 709.9032,-94.0001 709.9032,-101.0001\"/>\n</g>\n<!-- 30 -->\n<g id=\"node31\" class=\"node\">\n<title>30</title>\n<polygon fill=\"none\" stroke=\"#000000\" points=\"867,-53 720,-53 720,0 867,0 867,-53\"/>\n<text text-anchor=\"middle\" x=\"793.5\" y=\"-37.8\" font-family=\"Times,serif\" font-size=\"14.00\" fill=\"#000000\">gini = 0.093</text>\n<text text-anchor=\"middle\" x=\"793.5\" y=\"-22.8\" font-family=\"Times,serif\" font-size=\"14.00\" fill=\"#000000\">samples = 3.2%</text>\n<text text-anchor=\"middle\" x=\"793.5\" y=\"-7.8\" font-family=\"Times,serif\" font-size=\"14.00\" fill=\"#000000\">value = [0.049, 0.951]</text>\n</g>\n<!-- 28&#45;&gt;30 -->\n<g id=\"edge30\" class=\"edge\">\n<title>28&#45;&gt;30</title>\n<path fill=\"none\" stroke=\"#000000\" d=\"M683.6154,-69.1328C694.0579,-65.0814 704.8336,-60.9006 715.3677,-56.8136\"/>\n<polygon fill=\"#000000\" stroke=\"#000000\" points=\"716.9006,-59.9732 724.9575,-53.093 714.3685,-53.4471 716.9006,-59.9732\"/>\n</g>\n</g>\n</svg>\n"
          },
          "metadata": {
            "tags": []
          },
          "execution_count": 42
        }
      ]
    },
    {
      "cell_type": "code",
      "metadata": {
        "colab": {
          "base_uri": "https://localhost:8080/",
          "height": 428
        },
        "id": "6EMXQAf6dsiU",
        "outputId": "31b494c7-a913-43a1-fc82-7ea170331c33"
      },
      "source": [
        "data_dummy"
      ],
      "execution_count": 43,
      "outputs": [
        {
          "output_type": "execute_result",
          "data": {
            "text/html": [
              "<div>\n",
              "<style scoped>\n",
              "    .dataframe tbody tr th:only-of-type {\n",
              "        vertical-align: middle;\n",
              "    }\n",
              "\n",
              "    .dataframe tbody tr th {\n",
              "        vertical-align: top;\n",
              "    }\n",
              "\n",
              "    .dataframe thead th {\n",
              "        text-align: right;\n",
              "    }\n",
              "</style>\n",
              "<table border=\"1\" class=\"dataframe\">\n",
              "  <thead>\n",
              "    <tr style=\"text-align: right;\">\n",
              "      <th></th>\n",
              "      <th>company_id</th>\n",
              "      <th>seniority</th>\n",
              "      <th>hire_year</th>\n",
              "      <th>hire_quarter</th>\n",
              "      <th>hire_week</th>\n",
              "      <th>hire_dayofweek</th>\n",
              "      <th>salary</th>\n",
              "      <th>early_quit</th>\n",
              "      <th>dept_data_science</th>\n",
              "      <th>dept_design</th>\n",
              "      <th>dept_engineer</th>\n",
              "      <th>dept_marketing</th>\n",
              "      <th>dept_sales</th>\n",
              "    </tr>\n",
              "  </thead>\n",
              "  <tbody>\n",
              "    <tr>\n",
              "      <th>0</th>\n",
              "      <td>7</td>\n",
              "      <td>28</td>\n",
              "      <td>2014</td>\n",
              "      <td>1</td>\n",
              "      <td>13</td>\n",
              "      <td>0</td>\n",
              "      <td>89000.0</td>\n",
              "      <td>0.0</td>\n",
              "      <td>0</td>\n",
              "      <td>0</td>\n",
              "      <td>0</td>\n",
              "      <td>0</td>\n",
              "      <td>0</td>\n",
              "    </tr>\n",
              "    <tr>\n",
              "      <th>1</th>\n",
              "      <td>7</td>\n",
              "      <td>20</td>\n",
              "      <td>2013</td>\n",
              "      <td>2</td>\n",
              "      <td>18</td>\n",
              "      <td>0</td>\n",
              "      <td>183000.0</td>\n",
              "      <td>1.0</td>\n",
              "      <td>0</td>\n",
              "      <td>0</td>\n",
              "      <td>0</td>\n",
              "      <td>1</td>\n",
              "      <td>0</td>\n",
              "    </tr>\n",
              "    <tr>\n",
              "      <th>2</th>\n",
              "      <td>4</td>\n",
              "      <td>14</td>\n",
              "      <td>2014</td>\n",
              "      <td>4</td>\n",
              "      <td>42</td>\n",
              "      <td>0</td>\n",
              "      <td>101000.0</td>\n",
              "      <td>1.0</td>\n",
              "      <td>0</td>\n",
              "      <td>0</td>\n",
              "      <td>0</td>\n",
              "      <td>1</td>\n",
              "      <td>0</td>\n",
              "    </tr>\n",
              "    <tr>\n",
              "      <th>3</th>\n",
              "      <td>7</td>\n",
              "      <td>20</td>\n",
              "      <td>2012</td>\n",
              "      <td>2</td>\n",
              "      <td>20</td>\n",
              "      <td>0</td>\n",
              "      <td>115000.0</td>\n",
              "      <td>1.0</td>\n",
              "      <td>0</td>\n",
              "      <td>0</td>\n",
              "      <td>0</td>\n",
              "      <td>0</td>\n",
              "      <td>0</td>\n",
              "    </tr>\n",
              "    <tr>\n",
              "      <th>4</th>\n",
              "      <td>2</td>\n",
              "      <td>23</td>\n",
              "      <td>2011</td>\n",
              "      <td>4</td>\n",
              "      <td>42</td>\n",
              "      <td>0</td>\n",
              "      <td>276000.0</td>\n",
              "      <td>0.0</td>\n",
              "      <td>1</td>\n",
              "      <td>0</td>\n",
              "      <td>0</td>\n",
              "      <td>0</td>\n",
              "      <td>0</td>\n",
              "    </tr>\n",
              "    <tr>\n",
              "      <th>...</th>\n",
              "      <td>...</td>\n",
              "      <td>...</td>\n",
              "      <td>...</td>\n",
              "      <td>...</td>\n",
              "      <td>...</td>\n",
              "      <td>...</td>\n",
              "      <td>...</td>\n",
              "      <td>...</td>\n",
              "      <td>...</td>\n",
              "      <td>...</td>\n",
              "      <td>...</td>\n",
              "      <td>...</td>\n",
              "      <td>...</td>\n",
              "    </tr>\n",
              "    <tr>\n",
              "      <th>24695</th>\n",
              "      <td>1</td>\n",
              "      <td>5</td>\n",
              "      <td>2012</td>\n",
              "      <td>2</td>\n",
              "      <td>18</td>\n",
              "      <td>1</td>\n",
              "      <td>172000.0</td>\n",
              "      <td>0.0</td>\n",
              "      <td>1</td>\n",
              "      <td>0</td>\n",
              "      <td>0</td>\n",
              "      <td>0</td>\n",
              "      <td>0</td>\n",
              "    </tr>\n",
              "    <tr>\n",
              "      <th>24696</th>\n",
              "      <td>6</td>\n",
              "      <td>7</td>\n",
              "      <td>2012</td>\n",
              "      <td>1</td>\n",
              "      <td>4</td>\n",
              "      <td>3</td>\n",
              "      <td>88000.0</td>\n",
              "      <td>1.0</td>\n",
              "      <td>0</td>\n",
              "      <td>0</td>\n",
              "      <td>0</td>\n",
              "      <td>1</td>\n",
              "      <td>0</td>\n",
              "    </tr>\n",
              "    <tr>\n",
              "      <th>24699</th>\n",
              "      <td>4</td>\n",
              "      <td>11</td>\n",
              "      <td>2013</td>\n",
              "      <td>3</td>\n",
              "      <td>36</td>\n",
              "      <td>1</td>\n",
              "      <td>67000.0</td>\n",
              "      <td>0.0</td>\n",
              "      <td>0</td>\n",
              "      <td>0</td>\n",
              "      <td>0</td>\n",
              "      <td>0</td>\n",
              "      <td>0</td>\n",
              "    </tr>\n",
              "    <tr>\n",
              "      <th>24700</th>\n",
              "      <td>10</td>\n",
              "      <td>98</td>\n",
              "      <td>2011</td>\n",
              "      <td>4</td>\n",
              "      <td>50</td>\n",
              "      <td>1</td>\n",
              "      <td>266000.0</td>\n",
              "      <td>0.0</td>\n",
              "      <td>0</td>\n",
              "      <td>0</td>\n",
              "      <td>1</td>\n",
              "      <td>0</td>\n",
              "      <td>0</td>\n",
              "    </tr>\n",
              "    <tr>\n",
              "      <th>24701</th>\n",
              "      <td>1</td>\n",
              "      <td>99</td>\n",
              "      <td>2011</td>\n",
              "      <td>3</td>\n",
              "      <td>30</td>\n",
              "      <td>1</td>\n",
              "      <td>185000.0</td>\n",
              "      <td>0.0</td>\n",
              "      <td>0</td>\n",
              "      <td>0</td>\n",
              "      <td>0</td>\n",
              "      <td>1</td>\n",
              "      <td>0</td>\n",
              "    </tr>\n",
              "  </tbody>\n",
              "</table>\n",
              "<p>19262 rows × 13 columns</p>\n",
              "</div>"
            ],
            "text/plain": [
              "       company_id  seniority  ...  dept_marketing  dept_sales\n",
              "0               7         28  ...               0           0\n",
              "1               7         20  ...               1           0\n",
              "2               4         14  ...               1           0\n",
              "3               7         20  ...               0           0\n",
              "4               2         23  ...               0           0\n",
              "...           ...        ...  ...             ...         ...\n",
              "24695           1          5  ...               0           0\n",
              "24696           6          7  ...               1           0\n",
              "24699           4         11  ...               0           0\n",
              "24700          10         98  ...               0           0\n",
              "24701           1         99  ...               1           0\n",
              "\n",
              "[19262 rows x 13 columns]"
            ]
          },
          "metadata": {
            "tags": []
          },
          "execution_count": 43
        }
      ]
    },
    {
      "cell_type": "markdown",
      "metadata": {
        "id": "rxSPFlPTv39m"
      },
      "source": [
        "<a name='Adding'></a>\r\n",
        "# Adding to the Dataset"
      ]
    },
    {
      "cell_type": "markdown",
      "metadata": {
        "id": "sqrGZzPluPEC"
      },
      "source": [
        "The final question we are being asked to consider in this case study is what feature would we add to this dataset to better predict churn. We saw through the data exploration that there were many factors that interact to impact employee retention. To capture the many competing factors in one metric, I would recommend a feature that acts a summary for the job as a whole, either `job satisfaction` or a `net promoter score`."
      ]
    },
    {
      "cell_type": "markdown",
      "metadata": {
        "id": "ZbKScgBDvm4X"
      },
      "source": [
        "<a name='Conclusions'></a>\r\n",
        "# Conclusions"
      ]
    },
    {
      "cell_type": "markdown",
      "metadata": {
        "id": "qtr62THUwFv7"
      },
      "source": [
        "Looking at the dataset we learn a lot of actionable insights that can be used to impact employee retention.\r\n",
        "\r\n",
        "1. We see a negative trend in employee retention as each year passes. With how costly it is to lose an employee, this should be a high priority and investigated immediately. Did the company cultures or org charts change? Have the companies undergone rapid growth?\r\n",
        "2. Looking at the hire date beyond the hire year, we see effects on employee retention by quarter, month, week, and day of week. Based on the cylical nature of business, I believe these trends are due to employees starting in the middle of things. To fix this you can't simply avoid hiring in the third and fourth quarter. Instead, the companies must rework their onboarding process for each department. Onboarding should look to ensure new hires start at the start of new projects or have a gradual increase in workload as they acclimate to the job. Don't throw employees in the deep end on day one. Additionally, implementing a support/mentor program for the first 90 or 180 days to help guide new hires would likely reduce churn as well.\r\n",
        "3. We see salary impacts retention as well. Companies should be looking to make sure they are paying employees a competitive rate.\r\n",
        "4. Finally, companies should be collecting a lot more data points on their employees and the company as a whole. `Employee Satisfaction` should be the first feature added as it impacts so much. A dissatisfied employee is less productive, cost more to retain, has poorer interpersonal skills, and can spread dissatisfaction to others. Additional features to collect might be `NPS`, `peer ratings`, `department ratings`, `department average employee satisfaction`, `payed at market rate`, etc. The more features you can add, the clearer the picture you'll be able to paint from the data, thus allowing you to address root causes of churn."
      ]
    }
  ]
}