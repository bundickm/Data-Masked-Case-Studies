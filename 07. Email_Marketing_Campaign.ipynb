{
  "nbformat": 4,
  "nbformat_minor": 0,
  "metadata": {
    "colab": {
      "name": "Email Marketing Campaign.ipynb",
      "provenance": [],
      "authorship_tag": "ABX9TyMplbhfBCNrRJysKufcwZ98"
    },
    "kernelspec": {
      "name": "python3",
      "display_name": "Python 3"
    }
  },
  "cells": [
    {
      "cell_type": "markdown",
      "metadata": {
        "id": "OwQEIBv9artJ"
      },
      "source": [
        "# Email Marketing Campaign\r\n",
        "\r\n",
        "The marketing team of an e-commerce site has launched an email campaign. This site has email addresses from all the users who created an account in the past.\r\n",
        "\r\n",
        "They have chosen a random sample of users and emailed them. The email lets the user know about a new feature implemented on the site. From the marketing team perspective, success is if the user clicks on the link inside of the email. This link takes the user to the company site.\r\n",
        "\r\n",
        "You are in charge of figuring out how the email campaign performed and were asked the following questions:\r\n",
        "- What percentage of users opened the email and what percentage clicked on the link within the email?\r\n",
        "- The VP of marketing thinks that it is stupid to send emails in a random way. Based on all the information you have about the emails that were sent, can you build a model to optimize in future how to send emails to maximize the probability of users clicking on the link inside the email?\r\n",
        "- By how much do you think your model would improve click through rate (defined as # of users who click on the link/total users who receive the email). How would you test that?\r\n",
        "- Did you find any interesting pattern on how the email campaign performed for different segments of users? Explain."
      ]
    },
    {
      "cell_type": "markdown",
      "metadata": {
        "id": "HROf59MUbyRV"
      },
      "source": [
        "# Index"
      ]
    },
    {
      "cell_type": "markdown",
      "metadata": {
        "id": "9E-JKXy7b0K3"
      },
      "source": [
        "1. [Initial Exploration](#explore)\r\n",
        "2. [Click Through Rate](#clickthrough)\r\n",
        "3. [Modeling](#model)"
      ]
    },
    {
      "cell_type": "markdown",
      "metadata": {
        "id": "Xu95g_3jb7Bp"
      },
      "source": [
        "<a name='explore'></a>\r\n",
        "# Initial Exploration"
      ]
    },
    {
      "cell_type": "code",
      "metadata": {
        "id": "o48WP84fWRUr"
      },
      "source": [
        "import pandas as pd\r\n",
        "import numpy as np\r\n",
        "import matplotlib.pyplot as plt\r\n",
        "from sklearn.model_selection import train_test_split\r\n",
        "from sklearn.ensemble import RandomForestClassifier\r\n",
        "from sklearn.tree import DecisionTreeClassifier\r\n",
        "from sklearn.tree import export_graphviz\r\n",
        "from sklearn.metrics import confusion_matrix"
      ],
      "execution_count": null,
      "outputs": []
    },
    {
      "cell_type": "code",
      "metadata": {
        "colab": {
          "base_uri": "https://localhost:8080/",
          "height": 216
        },
        "id": "9LJDzTsXlRgo",
        "outputId": "b32528fe-e64b-4012-c2db-804ec7829f10"
      },
      "source": [
        "emails = pd.read_csv('https://raw.githubusercontent.com/bundickm/DataMasked---Private/main/CSVs/email_table.csv?token=ALJ4RG5HJWWQXNJKDRSXDADAFQJ76')\r\n",
        "print(emails.shape)\r\n",
        "emails.head()"
      ],
      "execution_count": null,
      "outputs": [
        {
          "output_type": "stream",
          "text": [
            "(100000, 7)\n"
          ],
          "name": "stdout"
        },
        {
          "output_type": "execute_result",
          "data": {
            "text/html": [
              "<div>\n",
              "<style scoped>\n",
              "    .dataframe tbody tr th:only-of-type {\n",
              "        vertical-align: middle;\n",
              "    }\n",
              "\n",
              "    .dataframe tbody tr th {\n",
              "        vertical-align: top;\n",
              "    }\n",
              "\n",
              "    .dataframe thead th {\n",
              "        text-align: right;\n",
              "    }\n",
              "</style>\n",
              "<table border=\"1\" class=\"dataframe\">\n",
              "  <thead>\n",
              "    <tr style=\"text-align: right;\">\n",
              "      <th></th>\n",
              "      <th>email_id</th>\n",
              "      <th>email_text</th>\n",
              "      <th>email_version</th>\n",
              "      <th>hour</th>\n",
              "      <th>weekday</th>\n",
              "      <th>user_country</th>\n",
              "      <th>user_past_purchases</th>\n",
              "    </tr>\n",
              "  </thead>\n",
              "  <tbody>\n",
              "    <tr>\n",
              "      <th>0</th>\n",
              "      <td>85120</td>\n",
              "      <td>short_email</td>\n",
              "      <td>personalized</td>\n",
              "      <td>2</td>\n",
              "      <td>Sunday</td>\n",
              "      <td>US</td>\n",
              "      <td>5</td>\n",
              "    </tr>\n",
              "    <tr>\n",
              "      <th>1</th>\n",
              "      <td>966622</td>\n",
              "      <td>long_email</td>\n",
              "      <td>personalized</td>\n",
              "      <td>12</td>\n",
              "      <td>Sunday</td>\n",
              "      <td>UK</td>\n",
              "      <td>2</td>\n",
              "    </tr>\n",
              "    <tr>\n",
              "      <th>2</th>\n",
              "      <td>777221</td>\n",
              "      <td>long_email</td>\n",
              "      <td>personalized</td>\n",
              "      <td>11</td>\n",
              "      <td>Wednesday</td>\n",
              "      <td>US</td>\n",
              "      <td>2</td>\n",
              "    </tr>\n",
              "    <tr>\n",
              "      <th>3</th>\n",
              "      <td>493711</td>\n",
              "      <td>short_email</td>\n",
              "      <td>generic</td>\n",
              "      <td>6</td>\n",
              "      <td>Monday</td>\n",
              "      <td>UK</td>\n",
              "      <td>1</td>\n",
              "    </tr>\n",
              "    <tr>\n",
              "      <th>4</th>\n",
              "      <td>106887</td>\n",
              "      <td>long_email</td>\n",
              "      <td>generic</td>\n",
              "      <td>14</td>\n",
              "      <td>Monday</td>\n",
              "      <td>US</td>\n",
              "      <td>6</td>\n",
              "    </tr>\n",
              "  </tbody>\n",
              "</table>\n",
              "</div>"
            ],
            "text/plain": [
              "   email_id   email_text  ... user_country  user_past_purchases\n",
              "0     85120  short_email  ...           US                    5\n",
              "1    966622   long_email  ...           UK                    2\n",
              "2    777221   long_email  ...           US                    2\n",
              "3    493711  short_email  ...           UK                    1\n",
              "4    106887   long_email  ...           US                    6\n",
              "\n",
              "[5 rows x 7 columns]"
            ]
          },
          "metadata": {
            "tags": []
          },
          "execution_count": 2
        }
      ]
    },
    {
      "cell_type": "code",
      "metadata": {
        "colab": {
          "base_uri": "https://localhost:8080/"
        },
        "id": "2ds3bLkdrFLm",
        "outputId": "75e378aa-62ba-48d2-b780-ef16c63425ac"
      },
      "source": [
        "emails.info()"
      ],
      "execution_count": null,
      "outputs": [
        {
          "output_type": "stream",
          "text": [
            "<class 'pandas.core.frame.DataFrame'>\n",
            "RangeIndex: 100000 entries, 0 to 99999\n",
            "Data columns (total 7 columns):\n",
            " #   Column               Non-Null Count   Dtype \n",
            "---  ------               --------------   ----- \n",
            " 0   email_id             100000 non-null  int64 \n",
            " 1   email_text           100000 non-null  object\n",
            " 2   email_version        100000 non-null  object\n",
            " 3   hour                 100000 non-null  int64 \n",
            " 4   weekday              100000 non-null  object\n",
            " 5   user_country         100000 non-null  object\n",
            " 6   user_past_purchases  100000 non-null  int64 \n",
            "dtypes: int64(3), object(4)\n",
            "memory usage: 5.3+ MB\n"
          ],
          "name": "stdout"
        }
      ]
    },
    {
      "cell_type": "code",
      "metadata": {
        "colab": {
          "base_uri": "https://localhost:8080/",
          "height": 288
        },
        "id": "2oRfMFAdrDRy",
        "outputId": "6ad4ad54-98a1-4970-fa16-c69cc8b28ee1"
      },
      "source": [
        "emails.describe()"
      ],
      "execution_count": null,
      "outputs": [
        {
          "output_type": "execute_result",
          "data": {
            "text/html": [
              "<div>\n",
              "<style scoped>\n",
              "    .dataframe tbody tr th:only-of-type {\n",
              "        vertical-align: middle;\n",
              "    }\n",
              "\n",
              "    .dataframe tbody tr th {\n",
              "        vertical-align: top;\n",
              "    }\n",
              "\n",
              "    .dataframe thead th {\n",
              "        text-align: right;\n",
              "    }\n",
              "</style>\n",
              "<table border=\"1\" class=\"dataframe\">\n",
              "  <thead>\n",
              "    <tr style=\"text-align: right;\">\n",
              "      <th></th>\n",
              "      <th>email_id</th>\n",
              "      <th>hour</th>\n",
              "      <th>user_past_purchases</th>\n",
              "    </tr>\n",
              "  </thead>\n",
              "  <tbody>\n",
              "    <tr>\n",
              "      <th>count</th>\n",
              "      <td>100000.000000</td>\n",
              "      <td>100000.000000</td>\n",
              "      <td>100000.00000</td>\n",
              "    </tr>\n",
              "    <tr>\n",
              "      <th>mean</th>\n",
              "      <td>498690.196160</td>\n",
              "      <td>9.059300</td>\n",
              "      <td>3.87845</td>\n",
              "    </tr>\n",
              "    <tr>\n",
              "      <th>std</th>\n",
              "      <td>289230.727534</td>\n",
              "      <td>4.439637</td>\n",
              "      <td>3.19611</td>\n",
              "    </tr>\n",
              "    <tr>\n",
              "      <th>min</th>\n",
              "      <td>8.000000</td>\n",
              "      <td>1.000000</td>\n",
              "      <td>0.00000</td>\n",
              "    </tr>\n",
              "    <tr>\n",
              "      <th>25%</th>\n",
              "      <td>246708.250000</td>\n",
              "      <td>6.000000</td>\n",
              "      <td>1.00000</td>\n",
              "    </tr>\n",
              "    <tr>\n",
              "      <th>50%</th>\n",
              "      <td>498447.000000</td>\n",
              "      <td>9.000000</td>\n",
              "      <td>3.00000</td>\n",
              "    </tr>\n",
              "    <tr>\n",
              "      <th>75%</th>\n",
              "      <td>749942.750000</td>\n",
              "      <td>12.000000</td>\n",
              "      <td>6.00000</td>\n",
              "    </tr>\n",
              "    <tr>\n",
              "      <th>max</th>\n",
              "      <td>999998.000000</td>\n",
              "      <td>24.000000</td>\n",
              "      <td>22.00000</td>\n",
              "    </tr>\n",
              "  </tbody>\n",
              "</table>\n",
              "</div>"
            ],
            "text/plain": [
              "            email_id           hour  user_past_purchases\n",
              "count  100000.000000  100000.000000         100000.00000\n",
              "mean   498690.196160       9.059300              3.87845\n",
              "std    289230.727534       4.439637              3.19611\n",
              "min         8.000000       1.000000              0.00000\n",
              "25%    246708.250000       6.000000              1.00000\n",
              "50%    498447.000000       9.000000              3.00000\n",
              "75%    749942.750000      12.000000              6.00000\n",
              "max    999998.000000      24.000000             22.00000"
            ]
          },
          "metadata": {
            "tags": []
          },
          "execution_count": 4
        }
      ]
    },
    {
      "cell_type": "code",
      "metadata": {
        "colab": {
          "base_uri": "https://localhost:8080/",
          "height": 216
        },
        "id": "5c5w67D7lqA1",
        "outputId": "da0e83cd-a583-44fd-ad41-e2888bd31666"
      },
      "source": [
        "clicked_link = pd.read_csv('https://raw.githubusercontent.com/bundickm/DataMasked---Private/main/CSVs/link_clicked_table.csv?token=ALJ4RG6PXJ2PMUB6I7BFAWTAFQKDG')\r\n",
        "print(clicked_link.shape)\r\n",
        "clicked_link.head()"
      ],
      "execution_count": null,
      "outputs": [
        {
          "output_type": "stream",
          "text": [
            "(2119, 1)\n"
          ],
          "name": "stdout"
        },
        {
          "output_type": "execute_result",
          "data": {
            "text/html": [
              "<div>\n",
              "<style scoped>\n",
              "    .dataframe tbody tr th:only-of-type {\n",
              "        vertical-align: middle;\n",
              "    }\n",
              "\n",
              "    .dataframe tbody tr th {\n",
              "        vertical-align: top;\n",
              "    }\n",
              "\n",
              "    .dataframe thead th {\n",
              "        text-align: right;\n",
              "    }\n",
              "</style>\n",
              "<table border=\"1\" class=\"dataframe\">\n",
              "  <thead>\n",
              "    <tr style=\"text-align: right;\">\n",
              "      <th></th>\n",
              "      <th>email_id</th>\n",
              "    </tr>\n",
              "  </thead>\n",
              "  <tbody>\n",
              "    <tr>\n",
              "      <th>0</th>\n",
              "      <td>609056</td>\n",
              "    </tr>\n",
              "    <tr>\n",
              "      <th>1</th>\n",
              "      <td>870980</td>\n",
              "    </tr>\n",
              "    <tr>\n",
              "      <th>2</th>\n",
              "      <td>935124</td>\n",
              "    </tr>\n",
              "    <tr>\n",
              "      <th>3</th>\n",
              "      <td>158501</td>\n",
              "    </tr>\n",
              "    <tr>\n",
              "      <th>4</th>\n",
              "      <td>177561</td>\n",
              "    </tr>\n",
              "  </tbody>\n",
              "</table>\n",
              "</div>"
            ],
            "text/plain": [
              "   email_id\n",
              "0    609056\n",
              "1    870980\n",
              "2    935124\n",
              "3    158501\n",
              "4    177561"
            ]
          },
          "metadata": {
            "tags": []
          },
          "execution_count": 5
        }
      ]
    },
    {
      "cell_type": "code",
      "metadata": {
        "colab": {
          "base_uri": "https://localhost:8080/",
          "height": 216
        },
        "id": "iPRhgnvHl4aX",
        "outputId": "97f249c0-8876-4b3b-ee13-6beda512c8a1"
      },
      "source": [
        "email_opened = pd.read_csv('https://raw.githubusercontent.com/bundickm/DataMasked---Private/main/CSVs/email_opened_table.csv?token=ALJ4RG6BM4YX2LMV4KB4IH3AFQKE4')\r\n",
        "print(email_opened.shape)\r\n",
        "email_opened.head()"
      ],
      "execution_count": null,
      "outputs": [
        {
          "output_type": "stream",
          "text": [
            "(10345, 1)\n"
          ],
          "name": "stdout"
        },
        {
          "output_type": "execute_result",
          "data": {
            "text/html": [
              "<div>\n",
              "<style scoped>\n",
              "    .dataframe tbody tr th:only-of-type {\n",
              "        vertical-align: middle;\n",
              "    }\n",
              "\n",
              "    .dataframe tbody tr th {\n",
              "        vertical-align: top;\n",
              "    }\n",
              "\n",
              "    .dataframe thead th {\n",
              "        text-align: right;\n",
              "    }\n",
              "</style>\n",
              "<table border=\"1\" class=\"dataframe\">\n",
              "  <thead>\n",
              "    <tr style=\"text-align: right;\">\n",
              "      <th></th>\n",
              "      <th>email_id</th>\n",
              "    </tr>\n",
              "  </thead>\n",
              "  <tbody>\n",
              "    <tr>\n",
              "      <th>0</th>\n",
              "      <td>284534</td>\n",
              "    </tr>\n",
              "    <tr>\n",
              "      <th>1</th>\n",
              "      <td>609056</td>\n",
              "    </tr>\n",
              "    <tr>\n",
              "      <th>2</th>\n",
              "      <td>220820</td>\n",
              "    </tr>\n",
              "    <tr>\n",
              "      <th>3</th>\n",
              "      <td>905936</td>\n",
              "    </tr>\n",
              "    <tr>\n",
              "      <th>4</th>\n",
              "      <td>164034</td>\n",
              "    </tr>\n",
              "  </tbody>\n",
              "</table>\n",
              "</div>"
            ],
            "text/plain": [
              "   email_id\n",
              "0    284534\n",
              "1    609056\n",
              "2    220820\n",
              "3    905936\n",
              "4    164034"
            ]
          },
          "metadata": {
            "tags": []
          },
          "execution_count": 6
        }
      ]
    },
    {
      "cell_type": "code",
      "metadata": {
        "colab": {
          "base_uri": "https://localhost:8080/",
          "height": 198
        },
        "id": "Lq3AB6F6mIqL",
        "outputId": "229074e2-790f-4177-82fd-71588c334e09"
      },
      "source": [
        "email_opened['email_opened'] = 1\r\n",
        "clicked_link['clicked_link'] = 1\r\n",
        "emails = emails.merge(email_opened, how='left').merge(clicked_link, how='left')\r\n",
        "emails = emails.fillna(0)\r\n",
        "\r\n",
        "emails['short_email'] = np.where(emails['email_text'] == 'short_email', True, False)\r\n",
        "emails['personalized'] = np.where(emails['email_version'] == 'personalized', True, False)\r\n",
        "\r\n",
        "weekdays = {\"Monday\": 1, \"Tuesday\": 2, \"Wednesday\": 3, \"Thursday\": 4,\r\n",
        "            \"Friday\": 5, \"Saturday\": 6, \"Sunday\": 7}\r\n",
        "emails[\"weekday\"] = emails['weekday'].map(weekdays)\r\n",
        "\r\n",
        "\r\n",
        "emails = emails.drop(['email_text', 'email_version'], axis='columns')\r\n",
        "\r\n",
        "emails.head()"
      ],
      "execution_count": null,
      "outputs": [
        {
          "output_type": "execute_result",
          "data": {
            "text/html": [
              "<div>\n",
              "<style scoped>\n",
              "    .dataframe tbody tr th:only-of-type {\n",
              "        vertical-align: middle;\n",
              "    }\n",
              "\n",
              "    .dataframe tbody tr th {\n",
              "        vertical-align: top;\n",
              "    }\n",
              "\n",
              "    .dataframe thead th {\n",
              "        text-align: right;\n",
              "    }\n",
              "</style>\n",
              "<table border=\"1\" class=\"dataframe\">\n",
              "  <thead>\n",
              "    <tr style=\"text-align: right;\">\n",
              "      <th></th>\n",
              "      <th>email_id</th>\n",
              "      <th>hour</th>\n",
              "      <th>weekday</th>\n",
              "      <th>user_country</th>\n",
              "      <th>user_past_purchases</th>\n",
              "      <th>email_opened</th>\n",
              "      <th>clicked_link</th>\n",
              "      <th>short_email</th>\n",
              "      <th>personalized</th>\n",
              "    </tr>\n",
              "  </thead>\n",
              "  <tbody>\n",
              "    <tr>\n",
              "      <th>0</th>\n",
              "      <td>85120</td>\n",
              "      <td>2</td>\n",
              "      <td>7</td>\n",
              "      <td>US</td>\n",
              "      <td>5</td>\n",
              "      <td>0.0</td>\n",
              "      <td>0.0</td>\n",
              "      <td>True</td>\n",
              "      <td>True</td>\n",
              "    </tr>\n",
              "    <tr>\n",
              "      <th>1</th>\n",
              "      <td>966622</td>\n",
              "      <td>12</td>\n",
              "      <td>7</td>\n",
              "      <td>UK</td>\n",
              "      <td>2</td>\n",
              "      <td>1.0</td>\n",
              "      <td>1.0</td>\n",
              "      <td>False</td>\n",
              "      <td>True</td>\n",
              "    </tr>\n",
              "    <tr>\n",
              "      <th>2</th>\n",
              "      <td>777221</td>\n",
              "      <td>11</td>\n",
              "      <td>3</td>\n",
              "      <td>US</td>\n",
              "      <td>2</td>\n",
              "      <td>0.0</td>\n",
              "      <td>0.0</td>\n",
              "      <td>False</td>\n",
              "      <td>True</td>\n",
              "    </tr>\n",
              "    <tr>\n",
              "      <th>3</th>\n",
              "      <td>493711</td>\n",
              "      <td>6</td>\n",
              "      <td>1</td>\n",
              "      <td>UK</td>\n",
              "      <td>1</td>\n",
              "      <td>0.0</td>\n",
              "      <td>0.0</td>\n",
              "      <td>True</td>\n",
              "      <td>False</td>\n",
              "    </tr>\n",
              "    <tr>\n",
              "      <th>4</th>\n",
              "      <td>106887</td>\n",
              "      <td>14</td>\n",
              "      <td>1</td>\n",
              "      <td>US</td>\n",
              "      <td>6</td>\n",
              "      <td>0.0</td>\n",
              "      <td>0.0</td>\n",
              "      <td>False</td>\n",
              "      <td>False</td>\n",
              "    </tr>\n",
              "  </tbody>\n",
              "</table>\n",
              "</div>"
            ],
            "text/plain": [
              "   email_id  hour  weekday  ... clicked_link  short_email  personalized\n",
              "0     85120     2        7  ...          0.0         True          True\n",
              "1    966622    12        7  ...          1.0        False          True\n",
              "2    777221    11        3  ...          0.0        False          True\n",
              "3    493711     6        1  ...          0.0         True         False\n",
              "4    106887    14        1  ...          0.0        False         False\n",
              "\n",
              "[5 rows x 9 columns]"
            ]
          },
          "metadata": {
            "tags": []
          },
          "execution_count": 7
        }
      ]
    },
    {
      "cell_type": "code",
      "metadata": {
        "colab": {
          "base_uri": "https://localhost:8080/"
        },
        "id": "qPITR3Cxt58h",
        "outputId": "8b1fa61a-0f85-4202-eb9d-4bb9eb52b2ac"
      },
      "source": [
        "for col in ['short_email', 'personalized', 'hour', 'weekday', 'user_country']:\r\n",
        "    print(col)\r\n",
        "    print(emails[col].value_counts(normalize=True).sort_values(ascending=False))\r\n",
        "    print()"
      ],
      "execution_count": null,
      "outputs": [
        {
          "output_type": "stream",
          "text": [
            "short_email\n",
            "False    0.50276\n",
            "True     0.49724\n",
            "Name: short_email, dtype: float64\n",
            "\n",
            "personalized\n",
            "False    0.50209\n",
            "True     0.49791\n",
            "Name: personalized, dtype: float64\n",
            "\n",
            "hour\n",
            "9     0.08529\n",
            "8     0.08398\n",
            "7     0.08204\n",
            "10    0.08180\n",
            "11    0.07483\n",
            "6     0.07465\n",
            "5     0.06551\n",
            "12    0.06508\n",
            "4     0.05622\n",
            "13    0.05581\n",
            "3     0.04610\n",
            "14    0.04580\n",
            "2     0.03676\n",
            "15    0.03493\n",
            "16    0.02759\n",
            "1     0.02703\n",
            "17    0.01893\n",
            "18    0.01421\n",
            "19    0.00905\n",
            "20    0.00656\n",
            "21    0.00365\n",
            "22    0.00204\n",
            "23    0.00145\n",
            "24    0.00069\n",
            "Name: hour, dtype: float64\n",
            "\n",
            "weekday\n",
            "6    0.14569\n",
            "7    0.14387\n",
            "1    0.14363\n",
            "4    0.14277\n",
            "5    0.14177\n",
            "2    0.14143\n",
            "3    0.14084\n",
            "Name: weekday, dtype: float64\n",
            "\n",
            "user_country\n",
            "US    0.60099\n",
            "UK    0.19939\n",
            "FR    0.09995\n",
            "ES    0.09967\n",
            "Name: user_country, dtype: float64\n",
            "\n"
          ],
          "name": "stdout"
        }
      ]
    },
    {
      "cell_type": "code",
      "metadata": {
        "colab": {
          "base_uri": "https://localhost:8080/",
          "height": 1000
        },
        "id": "2XRL5A-hLdfI",
        "outputId": "9bb2161a-fe41-4df8-e6cc-20883ddcff54"
      },
      "source": [
        "for col in ['user_country', 'personalized', 'weekday', 'hour', 'short_email', 'user_past_purchases']:\r\n",
        "    emails.groupby(col)['email_opened', 'clicked_link'].mean().plot.bar();\r\n",
        "    plt.show()"
      ],
      "execution_count": null,
      "outputs": [
        {
          "output_type": "stream",
          "text": [
            "/usr/local/lib/python3.6/dist-packages/ipykernel_launcher.py:2: FutureWarning: Indexing with multiple keys (implicitly converted to a tuple of keys) will be deprecated, use a list instead.\n",
            "  \n"
          ],
          "name": "stderr"
        },
        {
          "output_type": "display_data",
          "data": {
            "image/png": "[encoded data removed]",
            "text/plain": [
              "<Figure size 432x288 with 1 Axes>"
            ]
          },
          "metadata": {
            "tags": [],
            "needs_background": "light"
          }
        },
        {
          "output_type": "display_data",
          "data": {
            "image/png": "[encoded data removed]",
            "text/plain": [
              "<Figure size 432x288 with 1 Axes>"
            ]
          },
          "metadata": {
            "tags": [],
            "needs_background": "light"
          }
        },
        {
          "output_type": "display_data",
          "data": {
            "image/png": "[encoded data removed]",
            "text/plain": [
              "<Figure size 432x288 with 1 Axes>"
            ]
          },
          "metadata": {
            "tags": [],
            "needs_background": "light"
          }
        },
        {
          "output_type": "display_data",
          "data": {
            "image/png": "[encoded data removed]",
            "text/plain": [
              "<Figure size 432x288 with 1 Axes>"
            ]
          },
          "metadata": {
            "tags": [],
            "needs_background": "light"
          }
        },
        {
          "output_type": "display_data",
          "data": {
            "image/png": "[encoded data removed]",
            "text/plain": [
              "<Figure size 432x288 with 1 Axes>"
            ]
          },
          "metadata": {
            "tags": [],
            "needs_background": "light"
          }
        },
        {
          "output_type": "display_data",
          "data": {
            "image/png": "[encoded data removed]",
            "text/plain": [
              "<Figure size 432x288 with 1 Axes>"
            ]
          },
          "metadata": {
            "tags": [],
            "needs_background": "light"
          }
        }
      ]
    },
    {
      "cell_type": "markdown",
      "metadata": {
        "id": "Xa6bQPNSPbjj"
      },
      "source": [
        "Takeaways from Exploration\r\n",
        "- Majority of users are from the US (60%), follow by UK (20%)\r\n",
        "- Emails are sent evenly throughout the week even though more interactions (`email_opened` and `clicked_link`) occur during Monday to Thursday\r\n",
        "- Afternoon emails are the optimal time to send them (12 PM  to 5 PM)\r\n",
        "- Short personalized emails are best contrary to the even splits currently\r\n",
        "- As users make more purchases they are more likely to interact with the emails"
      ]
    },
    {
      "cell_type": "code",
      "metadata": {
        "colab": {
          "base_uri": "https://localhost:8080/",
          "height": 429
        },
        "id": "b_sh6d9XMG9q",
        "outputId": "455d1507-be75-4592-e415-89d926315ec2"
      },
      "source": [
        "emails = pd.get_dummies(emails, columns=['user_country'])\r\n",
        "emails.corr()"
      ],
      "execution_count": null,
      "outputs": [
        {
          "output_type": "execute_result",
          "data": {
            "text/html": [
              "<div>\n",
              "<style scoped>\n",
              "    .dataframe tbody tr th:only-of-type {\n",
              "        vertical-align: middle;\n",
              "    }\n",
              "\n",
              "    .dataframe tbody tr th {\n",
              "        vertical-align: top;\n",
              "    }\n",
              "\n",
              "    .dataframe thead th {\n",
              "        text-align: right;\n",
              "    }\n",
              "</style>\n",
              "<table border=\"1\" class=\"dataframe\">\n",
              "  <thead>\n",
              "    <tr style=\"text-align: right;\">\n",
              "      <th></th>\n",
              "      <th>email_id</th>\n",
              "      <th>hour</th>\n",
              "      <th>weekday</th>\n",
              "      <th>user_past_purchases</th>\n",
              "      <th>email_opened</th>\n",
              "      <th>clicked_link</th>\n",
              "      <th>short_email</th>\n",
              "      <th>personalized</th>\n",
              "      <th>user_country_ES</th>\n",
              "      <th>user_country_FR</th>\n",
              "      <th>user_country_UK</th>\n",
              "      <th>user_country_US</th>\n",
              "    </tr>\n",
              "  </thead>\n",
              "  <tbody>\n",
              "    <tr>\n",
              "      <th>email_id</th>\n",
              "      <td>1.000000</td>\n",
              "      <td>-0.003563</td>\n",
              "      <td>-0.005948</td>\n",
              "      <td>0.002099</td>\n",
              "      <td>0.000443</td>\n",
              "      <td>-0.001198</td>\n",
              "      <td>0.001249</td>\n",
              "      <td>-0.000241</td>\n",
              "      <td>0.000176</td>\n",
              "      <td>0.000045</td>\n",
              "      <td>-0.001023</td>\n",
              "      <td>0.000700</td>\n",
              "    </tr>\n",
              "    <tr>\n",
              "      <th>hour</th>\n",
              "      <td>-0.003563</td>\n",
              "      <td>1.000000</td>\n",
              "      <td>0.003560</td>\n",
              "      <td>0.002986</td>\n",
              "      <td>0.025972</td>\n",
              "      <td>0.011047</td>\n",
              "      <td>-0.001611</td>\n",
              "      <td>-0.000827</td>\n",
              "      <td>0.001188</td>\n",
              "      <td>-0.002363</td>\n",
              "      <td>-0.001930</td>\n",
              "      <td>0.002296</td>\n",
              "    </tr>\n",
              "    <tr>\n",
              "      <th>weekday</th>\n",
              "      <td>-0.005948</td>\n",
              "      <td>0.003560</td>\n",
              "      <td>1.000000</td>\n",
              "      <td>-0.005769</td>\n",
              "      <td>-0.046195</td>\n",
              "      <td>-0.022846</td>\n",
              "      <td>0.000093</td>\n",
              "      <td>-0.002029</td>\n",
              "      <td>-0.002021</td>\n",
              "      <td>-0.000959</td>\n",
              "      <td>0.000777</td>\n",
              "      <td>0.001190</td>\n",
              "    </tr>\n",
              "    <tr>\n",
              "      <th>user_past_purchases</th>\n",
              "      <td>0.002099</td>\n",
              "      <td>0.002986</td>\n",
              "      <td>-0.005769</td>\n",
              "      <td>1.000000</td>\n",
              "      <td>0.085934</td>\n",
              "      <td>0.105445</td>\n",
              "      <td>-0.003217</td>\n",
              "      <td>-0.001914</td>\n",
              "      <td>0.006199</td>\n",
              "      <td>0.004537</td>\n",
              "      <td>-0.005430</td>\n",
              "      <td>-0.002140</td>\n",
              "    </tr>\n",
              "    <tr>\n",
              "      <th>email_opened</th>\n",
              "      <td>0.000443</td>\n",
              "      <td>0.025972</td>\n",
              "      <td>-0.046195</td>\n",
              "      <td>0.085934</td>\n",
              "      <td>1.000000</td>\n",
              "      <td>0.421750</td>\n",
              "      <td>0.040523</td>\n",
              "      <td>0.079471</td>\n",
              "      <td>-0.070272</td>\n",
              "      <td>-0.068750</td>\n",
              "      <td>0.027393</td>\n",
              "      <td>0.062746</td>\n",
              "    </tr>\n",
              "    <tr>\n",
              "      <th>clicked_link</th>\n",
              "      <td>-0.001198</td>\n",
              "      <td>0.011047</td>\n",
              "      <td>-0.022846</td>\n",
              "      <td>0.105445</td>\n",
              "      <td>0.421750</td>\n",
              "      <td>1.000000</td>\n",
              "      <td>0.018519</td>\n",
              "      <td>0.042208</td>\n",
              "      <td>-0.029716</td>\n",
              "      <td>-0.030511</td>\n",
              "      <td>0.012077</td>\n",
              "      <td>0.027012</td>\n",
              "    </tr>\n",
              "    <tr>\n",
              "      <th>short_email</th>\n",
              "      <td>0.001249</td>\n",
              "      <td>-0.001611</td>\n",
              "      <td>0.000093</td>\n",
              "      <td>-0.003217</td>\n",
              "      <td>0.040523</td>\n",
              "      <td>0.018519</td>\n",
              "      <td>1.000000</td>\n",
              "      <td>-0.000283</td>\n",
              "      <td>0.002204</td>\n",
              "      <td>0.000606</td>\n",
              "      <td>-0.001675</td>\n",
              "      <td>-0.000352</td>\n",
              "    </tr>\n",
              "    <tr>\n",
              "      <th>personalized</th>\n",
              "      <td>-0.000241</td>\n",
              "      <td>-0.000827</td>\n",
              "      <td>-0.002029</td>\n",
              "      <td>-0.001914</td>\n",
              "      <td>0.079471</td>\n",
              "      <td>0.042208</td>\n",
              "      <td>-0.000283</td>\n",
              "      <td>1.000000</td>\n",
              "      <td>0.001825</td>\n",
              "      <td>-0.000974</td>\n",
              "      <td>0.002261</td>\n",
              "      <td>-0.002364</td>\n",
              "    </tr>\n",
              "    <tr>\n",
              "      <th>user_country_ES</th>\n",
              "      <td>0.000176</td>\n",
              "      <td>0.001188</td>\n",
              "      <td>-0.002021</td>\n",
              "      <td>0.006199</td>\n",
              "      <td>-0.070272</td>\n",
              "      <td>-0.029716</td>\n",
              "      <td>0.002204</td>\n",
              "      <td>0.001825</td>\n",
              "      <td>1.000000</td>\n",
              "      <td>-0.110876</td>\n",
              "      <td>-0.166044</td>\n",
              "      <td>-0.408341</td>\n",
              "    </tr>\n",
              "    <tr>\n",
              "      <th>user_country_FR</th>\n",
              "      <td>0.000045</td>\n",
              "      <td>-0.002363</td>\n",
              "      <td>-0.000959</td>\n",
              "      <td>0.004537</td>\n",
              "      <td>-0.068750</td>\n",
              "      <td>-0.030511</td>\n",
              "      <td>0.000606</td>\n",
              "      <td>-0.000974</td>\n",
              "      <td>-0.110876</td>\n",
              "      <td>1.000000</td>\n",
              "      <td>-0.166303</td>\n",
              "      <td>-0.408978</td>\n",
              "    </tr>\n",
              "    <tr>\n",
              "      <th>user_country_UK</th>\n",
              "      <td>-0.001023</td>\n",
              "      <td>-0.001930</td>\n",
              "      <td>0.000777</td>\n",
              "      <td>-0.005430</td>\n",
              "      <td>0.027393</td>\n",
              "      <td>0.012077</td>\n",
              "      <td>-0.001675</td>\n",
              "      <td>0.002261</td>\n",
              "      <td>-0.166044</td>\n",
              "      <td>-0.166303</td>\n",
              "      <td>1.000000</td>\n",
              "      <td>-0.612467</td>\n",
              "    </tr>\n",
              "    <tr>\n",
              "      <th>user_country_US</th>\n",
              "      <td>0.000700</td>\n",
              "      <td>0.002296</td>\n",
              "      <td>0.001190</td>\n",
              "      <td>-0.002140</td>\n",
              "      <td>0.062746</td>\n",
              "      <td>0.027012</td>\n",
              "      <td>-0.000352</td>\n",
              "      <td>-0.002364</td>\n",
              "      <td>-0.408341</td>\n",
              "      <td>-0.408978</td>\n",
              "      <td>-0.612467</td>\n",
              "      <td>1.000000</td>\n",
              "    </tr>\n",
              "  </tbody>\n",
              "</table>\n",
              "</div>"
            ],
            "text/plain": [
              "                     email_id      hour  ...  user_country_UK  user_country_US\n",
              "email_id             1.000000 -0.003563  ...        -0.001023         0.000700\n",
              "hour                -0.003563  1.000000  ...        -0.001930         0.002296\n",
              "weekday             -0.005948  0.003560  ...         0.000777         0.001190\n",
              "user_past_purchases  0.002099  0.002986  ...        -0.005430        -0.002140\n",
              "email_opened         0.000443  0.025972  ...         0.027393         0.062746\n",
              "clicked_link        -0.001198  0.011047  ...         0.012077         0.027012\n",
              "short_email          0.001249 -0.001611  ...        -0.001675        -0.000352\n",
              "personalized        -0.000241 -0.000827  ...         0.002261        -0.002364\n",
              "user_country_ES      0.000176  0.001188  ...        -0.166044        -0.408341\n",
              "user_country_FR      0.000045 -0.002363  ...        -0.166303        -0.408978\n",
              "user_country_UK     -0.001023 -0.001930  ...         1.000000        -0.612467\n",
              "user_country_US      0.000700  0.002296  ...        -0.612467         1.000000\n",
              "\n",
              "[12 rows x 12 columns]"
            ]
          },
          "metadata": {
            "tags": []
          },
          "execution_count": 10
        }
      ]
    },
    {
      "cell_type": "markdown",
      "metadata": {
        "id": "8CllVdWAsC84"
      },
      "source": [
        "<a name='clickthrough'></a>\r\n",
        "# Click Through Rate"
      ]
    },
    {
      "cell_type": "markdown",
      "metadata": {
        "id": "cdIMPHvutNRE"
      },
      "source": [
        "Finding the click through rates for opening and clicking the link are both just simple calculations. The drop in percent of users we see from `Open %` to `Clicked %` is in line with what we would expect from any sales/marketing funnel."
      ]
    },
    {
      "cell_type": "code",
      "metadata": {
        "colab": {
          "base_uri": "https://localhost:8080/",
          "height": 78
        },
        "id": "PTkqVrKTq6-5",
        "outputId": "2167020f-aa05-462a-910a-bd87f91dd69e"
      },
      "source": [
        "pd.DataFrame({'Open %': [emails['email_opened'].sum()/len(emails)*100],\r\n",
        "              'Clicked %': [emails['clicked_link'].sum()/len(emails)*100]})"
      ],
      "execution_count": null,
      "outputs": [
        {
          "output_type": "execute_result",
          "data": {
            "text/html": [
              "<div>\n",
              "<style scoped>\n",
              "    .dataframe tbody tr th:only-of-type {\n",
              "        vertical-align: middle;\n",
              "    }\n",
              "\n",
              "    .dataframe tbody tr th {\n",
              "        vertical-align: top;\n",
              "    }\n",
              "\n",
              "    .dataframe thead th {\n",
              "        text-align: right;\n",
              "    }\n",
              "</style>\n",
              "<table border=\"1\" class=\"dataframe\">\n",
              "  <thead>\n",
              "    <tr style=\"text-align: right;\">\n",
              "      <th></th>\n",
              "      <th>Open %</th>\n",
              "      <th>Clicked %</th>\n",
              "    </tr>\n",
              "  </thead>\n",
              "  <tbody>\n",
              "    <tr>\n",
              "      <th>0</th>\n",
              "      <td>10.345</td>\n",
              "      <td>2.119</td>\n",
              "    </tr>\n",
              "  </tbody>\n",
              "</table>\n",
              "</div>"
            ],
            "text/plain": [
              "   Open %  Clicked %\n",
              "0  10.345      2.119"
            ]
          },
          "metadata": {
            "tags": []
          },
          "execution_count": 11
        }
      ]
    },
    {
      "cell_type": "markdown",
      "metadata": {
        "id": "q6Ojr3U_sKzo"
      },
      "source": [
        "<a name='model'></a>\r\n",
        "# Modeling"
      ]
    },
    {
      "cell_type": "code",
      "metadata": {
        "colab": {
          "base_uri": "https://localhost:8080/",
          "height": 218
        },
        "id": "X5l6db7HIz98",
        "outputId": "68fc5759-4516-424a-9f63-c601ffe8c603"
      },
      "source": [
        "emails.head()"
      ],
      "execution_count": null,
      "outputs": [
        {
          "output_type": "execute_result",
          "data": {
            "text/html": [
              "<div>\n",
              "<style scoped>\n",
              "    .dataframe tbody tr th:only-of-type {\n",
              "        vertical-align: middle;\n",
              "    }\n",
              "\n",
              "    .dataframe tbody tr th {\n",
              "        vertical-align: top;\n",
              "    }\n",
              "\n",
              "    .dataframe thead th {\n",
              "        text-align: right;\n",
              "    }\n",
              "</style>\n",
              "<table border=\"1\" class=\"dataframe\">\n",
              "  <thead>\n",
              "    <tr style=\"text-align: right;\">\n",
              "      <th></th>\n",
              "      <th>email_id</th>\n",
              "      <th>hour</th>\n",
              "      <th>weekday</th>\n",
              "      <th>user_past_purchases</th>\n",
              "      <th>email_opened</th>\n",
              "      <th>clicked_link</th>\n",
              "      <th>short_email</th>\n",
              "      <th>personalized</th>\n",
              "      <th>user_country_ES</th>\n",
              "      <th>user_country_FR</th>\n",
              "      <th>user_country_UK</th>\n",
              "      <th>user_country_US</th>\n",
              "    </tr>\n",
              "  </thead>\n",
              "  <tbody>\n",
              "    <tr>\n",
              "      <th>0</th>\n",
              "      <td>85120</td>\n",
              "      <td>2</td>\n",
              "      <td>7</td>\n",
              "      <td>5</td>\n",
              "      <td>0.0</td>\n",
              "      <td>0.0</td>\n",
              "      <td>True</td>\n",
              "      <td>True</td>\n",
              "      <td>0</td>\n",
              "      <td>0</td>\n",
              "      <td>0</td>\n",
              "      <td>1</td>\n",
              "    </tr>\n",
              "    <tr>\n",
              "      <th>1</th>\n",
              "      <td>966622</td>\n",
              "      <td>12</td>\n",
              "      <td>7</td>\n",
              "      <td>2</td>\n",
              "      <td>1.0</td>\n",
              "      <td>1.0</td>\n",
              "      <td>False</td>\n",
              "      <td>True</td>\n",
              "      <td>0</td>\n",
              "      <td>0</td>\n",
              "      <td>1</td>\n",
              "      <td>0</td>\n",
              "    </tr>\n",
              "    <tr>\n",
              "      <th>2</th>\n",
              "      <td>777221</td>\n",
              "      <td>11</td>\n",
              "      <td>3</td>\n",
              "      <td>2</td>\n",
              "      <td>0.0</td>\n",
              "      <td>0.0</td>\n",
              "      <td>False</td>\n",
              "      <td>True</td>\n",
              "      <td>0</td>\n",
              "      <td>0</td>\n",
              "      <td>0</td>\n",
              "      <td>1</td>\n",
              "    </tr>\n",
              "    <tr>\n",
              "      <th>3</th>\n",
              "      <td>493711</td>\n",
              "      <td>6</td>\n",
              "      <td>1</td>\n",
              "      <td>1</td>\n",
              "      <td>0.0</td>\n",
              "      <td>0.0</td>\n",
              "      <td>True</td>\n",
              "      <td>False</td>\n",
              "      <td>0</td>\n",
              "      <td>0</td>\n",
              "      <td>1</td>\n",
              "      <td>0</td>\n",
              "    </tr>\n",
              "    <tr>\n",
              "      <th>4</th>\n",
              "      <td>106887</td>\n",
              "      <td>14</td>\n",
              "      <td>1</td>\n",
              "      <td>6</td>\n",
              "      <td>0.0</td>\n",
              "      <td>0.0</td>\n",
              "      <td>False</td>\n",
              "      <td>False</td>\n",
              "      <td>0</td>\n",
              "      <td>0</td>\n",
              "      <td>0</td>\n",
              "      <td>1</td>\n",
              "    </tr>\n",
              "  </tbody>\n",
              "</table>\n",
              "</div>"
            ],
            "text/plain": [
              "   email_id  hour  weekday  ...  user_country_FR  user_country_UK  user_country_US\n",
              "0     85120     2        7  ...                0                0                1\n",
              "1    966622    12        7  ...                0                1                0\n",
              "2    777221    11        3  ...                0                0                1\n",
              "3    493711     6        1  ...                0                1                0\n",
              "4    106887    14        1  ...                0                0                1\n",
              "\n",
              "[5 rows x 12 columns]"
            ]
          },
          "metadata": {
            "tags": []
          },
          "execution_count": 12
        }
      ]
    },
    {
      "cell_type": "code",
      "metadata": {
        "colab": {
          "base_uri": "https://localhost:8080/"
        },
        "id": "XKOYq0-cJLP9",
        "outputId": "f746e0f4-4a7d-41cd-9275-da5a30fd4108"
      },
      "source": [
        "X, y = emails.drop(['email_id', 'clicked_link'], axis='columns'), emails['clicked_link']\r\n",
        "X_train, X_test, y_train, y_test = train_test_split(X, y, test_size=.33)\r\n",
        "\r\n",
        "rf_model = RandomForestClassifier(n_jobs=-1, oob_score=True,)\r\n",
        "rf_model.fit(X_train, y_train)"
      ],
      "execution_count": null,
      "outputs": [
        {
          "output_type": "execute_result",
          "data": {
            "text/plain": [
              "RandomForestClassifier(bootstrap=True, ccp_alpha=0.0, class_weight=None,\n",
              "                       criterion='gini', max_depth=None, max_features='auto',\n",
              "                       max_leaf_nodes=None, max_samples=None,\n",
              "                       min_impurity_decrease=0.0, min_impurity_split=None,\n",
              "                       min_samples_leaf=1, min_samples_split=2,\n",
              "                       min_weight_fraction_leaf=0.0, n_estimators=100,\n",
              "                       n_jobs=-1, oob_score=True, random_state=None, verbose=0,\n",
              "                       warm_start=False)"
            ]
          },
          "metadata": {
            "tags": []
          },
          "execution_count": 13
        }
      ]
    },
    {
      "cell_type": "code",
      "metadata": {
        "colab": {
          "base_uri": "https://localhost:8080/"
        },
        "id": "kD-3MAAQTyZz",
        "outputId": "75e0521d-511d-4c65-c590-ed231634c57f"
      },
      "source": [
        "print('OOB accuracy:', rf_model.oob_score_)\r\n",
        "print('\\nConfusion Matrix')\r\n",
        "print(pd.DataFrame(confusion_matrix(y_train, \r\n",
        "                   rf_model.oob_decision_function_[:,1].round(),\r\n",
        "                   labels=[0, 1])))"
      ],
      "execution_count": null,
      "outputs": [
        {
          "output_type": "stream",
          "text": [
            "OOB accuracy: 0.971955223880597\n",
            "\n",
            "Confusion Matrix\n",
            "       0    1\n",
            "0  64935  657\n",
            "1   1222  186\n"
          ],
          "name": "stdout"
        }
      ]
    },
    {
      "cell_type": "code",
      "metadata": {
        "colab": {
          "base_uri": "https://localhost:8080/"
        },
        "id": "-McTmzxPT8eb",
        "outputId": "384d74d0-6c11-42d4-8769-655ab745db52"
      },
      "source": [
        "print('Test accuracy:', rf_model.score(X_test, y_test))\r\n",
        "print('\\nConfusion Matrix')\r\n",
        "print(pd.DataFrame(confusion_matrix(y_test, \r\n",
        "                   rf_model.predict(X_test),\r\n",
        "                   labels=[0, 1])))"
      ],
      "execution_count": null,
      "outputs": [
        {
          "output_type": "stream",
          "text": [
            "Test accuracy: 0.9732727272727273\n",
            "\n",
            "Confusion Matrix\n",
            "       0    1\n",
            "0  32001  288\n",
            "1    594  117\n"
          ],
          "name": "stdout"
        }
      ]
    },
    {
      "cell_type": "code",
      "metadata": {
        "colab": {
          "base_uri": "https://localhost:8080/",
          "height": 349
        },
        "id": "yVlcuFOwUAaA",
        "outputId": "169ae4d7-e640-4c26-d7f9-f10ab29efe9f"
      },
      "source": [
        "pd.DataFrame({'column': X.columns, 'feature_importance': rf_model.feature_importances_})"
      ],
      "execution_count": null,
      "outputs": [
        {
          "output_type": "execute_result",
          "data": {
            "text/html": [
              "<div>\n",
              "<style scoped>\n",
              "    .dataframe tbody tr th:only-of-type {\n",
              "        vertical-align: middle;\n",
              "    }\n",
              "\n",
              "    .dataframe tbody tr th {\n",
              "        vertical-align: top;\n",
              "    }\n",
              "\n",
              "    .dataframe thead th {\n",
              "        text-align: right;\n",
              "    }\n",
              "</style>\n",
              "<table border=\"1\" class=\"dataframe\">\n",
              "  <thead>\n",
              "    <tr style=\"text-align: right;\">\n",
              "      <th></th>\n",
              "      <th>column</th>\n",
              "      <th>feature_importance</th>\n",
              "    </tr>\n",
              "  </thead>\n",
              "  <tbody>\n",
              "    <tr>\n",
              "      <th>0</th>\n",
              "      <td>hour</td>\n",
              "      <td>0.348758</td>\n",
              "    </tr>\n",
              "    <tr>\n",
              "      <th>1</th>\n",
              "      <td>weekday</td>\n",
              "      <td>0.147191</td>\n",
              "    </tr>\n",
              "    <tr>\n",
              "      <th>2</th>\n",
              "      <td>user_past_purchases</td>\n",
              "      <td>0.206489</td>\n",
              "    </tr>\n",
              "    <tr>\n",
              "      <th>3</th>\n",
              "      <td>email_opened</td>\n",
              "      <td>0.228131</td>\n",
              "    </tr>\n",
              "    <tr>\n",
              "      <th>4</th>\n",
              "      <td>short_email</td>\n",
              "      <td>0.027190</td>\n",
              "    </tr>\n",
              "    <tr>\n",
              "      <th>5</th>\n",
              "      <td>personalized</td>\n",
              "      <td>0.015969</td>\n",
              "    </tr>\n",
              "    <tr>\n",
              "      <th>6</th>\n",
              "      <td>user_country_ES</td>\n",
              "      <td>0.005155</td>\n",
              "    </tr>\n",
              "    <tr>\n",
              "      <th>7</th>\n",
              "      <td>user_country_FR</td>\n",
              "      <td>0.004450</td>\n",
              "    </tr>\n",
              "    <tr>\n",
              "      <th>8</th>\n",
              "      <td>user_country_UK</td>\n",
              "      <td>0.007812</td>\n",
              "    </tr>\n",
              "    <tr>\n",
              "      <th>9</th>\n",
              "      <td>user_country_US</td>\n",
              "      <td>0.008855</td>\n",
              "    </tr>\n",
              "  </tbody>\n",
              "</table>\n",
              "</div>"
            ],
            "text/plain": [
              "                column  feature_importance\n",
              "0                 hour            0.348758\n",
              "1              weekday            0.147191\n",
              "2  user_past_purchases            0.206489\n",
              "3         email_opened            0.228131\n",
              "4          short_email            0.027190\n",
              "5         personalized            0.015969\n",
              "6      user_country_ES            0.005155\n",
              "7      user_country_FR            0.004450\n",
              "8      user_country_UK            0.007812\n",
              "9      user_country_US            0.008855"
            ]
          },
          "metadata": {
            "tags": []
          },
          "execution_count": 16
        }
      ]
    },
    {
      "cell_type": "code",
      "metadata": {
        "id": "Nh4OysCVVs8E"
      },
      "source": [
        "from sklearn.metrics import f1_score, roc_auc_score, classification_report, precision_score"
      ],
      "execution_count": null,
      "outputs": []
    },
    {
      "cell_type": "code",
      "metadata": {
        "colab": {
          "base_uri": "https://localhost:8080/"
        },
        "id": "HEhh3kwNYz1e",
        "outputId": "b4071018-ff9e-4898-a0e9-88a392417b76"
      },
      "source": [
        "f1_score(y_test, predictions)"
      ],
      "execution_count": null,
      "outputs": [
        {
          "output_type": "execute_result",
          "data": {
            "text/plain": [
              "0.343005630142919"
            ]
          },
          "metadata": {
            "tags": []
          },
          "execution_count": 68
        }
      ]
    },
    {
      "cell_type": "code",
      "metadata": {
        "colab": {
          "base_uri": "https://localhost:8080/"
        },
        "id": "8A-GooOxY64W",
        "outputId": "c0816a83-d80d-4a84-eb23-52a75b6b7fa9"
      },
      "source": [
        "roc_auc_score(y_test, predictions)"
      ],
      "execution_count": null,
      "outputs": [
        {
          "output_type": "execute_result",
          "data": {
            "text/plain": [
              "0.7598678626690674"
            ]
          },
          "metadata": {
            "tags": []
          },
          "execution_count": 69
        }
      ]
    },
    {
      "cell_type": "code",
      "metadata": {
        "id": "PjHazeFBZGg6"
      },
      "source": [
        "temp = rf_model.predict_proba(X_test)"
      ],
      "execution_count": null,
      "outputs": []
    },
    {
      "cell_type": "code",
      "metadata": {
        "colab": {
          "base_uri": "https://localhost:8080/"
        },
        "id": "en9tdri-ypKX",
        "outputId": "ede6374f-471c-4947-d349-73c826920750"
      },
      "source": [
        "for threshold in [.29, .3, .31]:\r\n",
        "    predictions = []\r\n",
        "    for item in temp:\r\n",
        "        if item[0] > threshold:\r\n",
        "            predictions.append(0)\r\n",
        "        else:\r\n",
        "            predictions.append(1)\r\n",
        "    print('Threshold:', threshold)\r\n",
        "    print('rocauc:', roc_auc_score(y_test, predictions))\r\n",
        "    print('Precision:', precision_score(y_test, predictions))\r\n",
        "    print()"
      ],
      "execution_count": null,
      "outputs": [
        {
          "output_type": "stream",
          "text": [
            "Threshold: 0.29\n",
            "rocauc: 0.5274699369212099\n",
            "Precision: 0.3178294573643411\n",
            "\n",
            "Threshold: 0.3\n",
            "rocauc: 0.5287060700349546\n",
            "Precision: 0.3028169014084507\n",
            "\n",
            "Threshold: 0.31\n",
            "rocauc: 0.5320054523408254\n",
            "Precision: 0.2981366459627329\n",
            "\n"
          ],
          "name": "stdout"
        }
      ]
    },
    {
      "cell_type": "code",
      "metadata": {
        "colab": {
          "base_uri": "https://localhost:8080/",
          "height": 279
        },
        "id": "ZVjHEQopzB_6",
        "outputId": "90bb2138-361f-4b20-d360-b331413f5b8f"
      },
      "source": [
        "from sklearn.metrics import plot_roc_curve\r\n",
        "\r\n",
        "ax = plt.gca()\r\n",
        "rfc_disp = plot_roc_curve(rf_model, X_test, y_test, ax=ax, alpha=0.8)\r\n",
        "plt.show()"
      ],
      "execution_count": null,
      "outputs": [
        {
          "output_type": "display_data",
          "data": {
            "image/png": "[encoded data removed]",
            "text/plain": [
              "<Figure size 432x288 with 1 Axes>"
            ]
          },
          "metadata": {
            "tags": [],
            "needs_background": "light"
          }
        }
      ]
    },
    {
      "cell_type": "code",
      "metadata": {
        "id": "OkWcEm_a33Sm"
      },
      "source": [
        ""
      ],
      "execution_count": null,
      "outputs": []
    }
  ]
}