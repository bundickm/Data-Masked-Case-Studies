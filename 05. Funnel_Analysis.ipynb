{
  "nbformat": 4,
  "nbformat_minor": 0,
  "metadata": {
    "colab": {
      "name": "05. Funnel Analysis.ipynb",
      "provenance": [],
      "collapsed_sections": [],
      "authorship_tag": "ABX9TyOaYiJGphbyeso2h7reWa0b"
    },
    "kernelspec": {
      "name": "python3",
      "display_name": "Python 3"
    }
  },
  "cells": [
    {
      "cell_type": "markdown",
      "metadata": {
        "id": "PTQNDvqtXoKp"
      },
      "source": [
        "# Funnel Analysis\r\n",
        "\r\n",
        "We are given data from a simple e-commerce site with only 4 pages that are traversed in a linear fashion.\r\n",
        "1. **Home Page:** You can only land on the home page as a first page.\r\n",
        "2. **Search Page:** The user can perform a search and land on the search page.\r\n",
        "3. **Payment Page:** If the user clicks on a product, they will get to the payment page\r\n",
        "4. **Confirmation Page:** If the user decides to buy, they end up on a confirmation page\r\n",
        "\r\n",
        "The company CEO isn’t very happy with the company sales and, especially, sales coming from new users. Therefore, she asked you to investigate whether there is something wrong in the conversion funnel or, in general, if you can create hypotheses on how conversion rate could be improved.\r\n",
        "\r\n",
        "Specifically, she is interested in :\r\n",
        "- A full picture of funnel conversion rate for both desktop and mobile\r\n",
        "- Some insights on what the product team should focus on in order to improve conversion rate as well as anything you might discover that could help improve conversion rate."
      ]
    },
    {
      "cell_type": "markdown",
      "metadata": {
        "id": "bB0-ffg2CEv_"
      },
      "source": [
        "# Data Description\r\n",
        "We have 5 tables. All the tables refer to only the user first experience on the site.\r\n",
        "\r\n",
        "1. **user_table - info about the user**\r\n",
        " - user_id: the Id of the user. It is unique by user and can be joined to user id in all other tables\r\n",
        " - date: the date when the user firstly landed on the site\r\n",
        " - device: user device. Can be mobile or desktop\r\n",
        " - sex: male/female\r\n",
        "2. **home_page_table - Users who landed on the home page**\r\n",
        " - user_id: the Id of the user. It is unique by user and can be joined to user id in all other tables\r\n",
        " - page: it is always home_page.\r\n",
        "3. **search_page_table - Users who landed on the search_page**\r\n",
        " - user_id: the Id of the user. It is unique by user and can be joined to user id in all other tables\r\n",
        " - page: it is always search_page\r\n",
        "4. **payment_page_table - Users who landed on the payment_page**\r\n",
        " - user_id: the Id of the user. It is unique by user and can be joined to user id in all other tables\r\n",
        " - page: it is always payment_page\r\n",
        "5. **payment_confirmation_table - Users who landed on the payment_confirmation_table. That is, these are the users who bought the product.**\r\n",
        " - user_id: the Id of the user. It is unique by user and can be joined to user id in all other tables\r\n",
        " - page: it is always payment_confirmation_page"
      ]
    },
    {
      "cell_type": "markdown",
      "metadata": {
        "id": "BkKC-r2SjDhx"
      },
      "source": [
        "# Initial Exploration"
      ]
    },
    {
      "cell_type": "code",
      "metadata": {
        "id": "9uK9lT98XnRR"
      },
      "source": [
        "import pandas as pd\r\n",
        "import numpy as np\r\n",
        "from scipy.stats import ttest_ind"
      ],
      "execution_count": null,
      "outputs": []
    },
    {
      "cell_type": "code",
      "metadata": {
        "colab": {
          "base_uri": "https://localhost:8080/",
          "height": 216
        },
        "id": "tnNmbG_lctw4",
        "outputId": "62465e97-e5ca-4e1e-ec7f-788f750fdde2"
      },
      "source": [
        "user_df = pd.read_csv('PRIVATE CSV')\r\n",
        "print(user_df.shape)\r\n",
        "user_df['date'] = pd.to_datetime(user_df['date'])\r\n",
        "user_df.head()"
      ],
      "execution_count": 128,
      "outputs": [
        {
          "output_type": "stream",
          "text": [
            "(90400, 4)\n"
          ],
          "name": "stdout"
        },
        {
          "output_type": "execute_result",
          "data": {
            "text/html": [
              "<div>\n",
              "<style scoped>\n",
              "    .dataframe tbody tr th:only-of-type {\n",
              "        vertical-align: middle;\n",
              "    }\n",
              "\n",
              "    .dataframe tbody tr th {\n",
              "        vertical-align: top;\n",
              "    }\n",
              "\n",
              "    .dataframe thead th {\n",
              "        text-align: right;\n",
              "    }\n",
              "</style>\n",
              "<table border=\"1\" class=\"dataframe\">\n",
              "  <thead>\n",
              "    <tr style=\"text-align: right;\">\n",
              "      <th></th>\n",
              "      <th>user_id</th>\n",
              "      <th>date</th>\n",
              "      <th>device</th>\n",
              "      <th>sex</th>\n",
              "    </tr>\n",
              "  </thead>\n",
              "  <tbody>\n",
              "    <tr>\n",
              "      <th>0</th>\n",
              "      <td>450007</td>\n",
              "      <td>2015-02-28</td>\n",
              "      <td>Desktop</td>\n",
              "      <td>Female</td>\n",
              "    </tr>\n",
              "    <tr>\n",
              "      <th>1</th>\n",
              "      <td>756838</td>\n",
              "      <td>2015-01-13</td>\n",
              "      <td>Desktop</td>\n",
              "      <td>Male</td>\n",
              "    </tr>\n",
              "    <tr>\n",
              "      <th>2</th>\n",
              "      <td>568983</td>\n",
              "      <td>2015-04-09</td>\n",
              "      <td>Desktop</td>\n",
              "      <td>Male</td>\n",
              "    </tr>\n",
              "    <tr>\n",
              "      <th>3</th>\n",
              "      <td>190794</td>\n",
              "      <td>2015-02-18</td>\n",
              "      <td>Desktop</td>\n",
              "      <td>Female</td>\n",
              "    </tr>\n",
              "    <tr>\n",
              "      <th>4</th>\n",
              "      <td>537909</td>\n",
              "      <td>2015-01-15</td>\n",
              "      <td>Desktop</td>\n",
              "      <td>Male</td>\n",
              "    </tr>\n",
              "  </tbody>\n",
              "</table>\n",
              "</div>"
            ],
            "text/plain": [
              "   user_id       date   device     sex\n",
              "0   450007 2015-02-28  Desktop  Female\n",
              "1   756838 2015-01-13  Desktop    Male\n",
              "2   568983 2015-04-09  Desktop    Male\n",
              "3   190794 2015-02-18  Desktop  Female\n",
              "4   537909 2015-01-15  Desktop    Male"
            ]
          },
          "metadata": {
            "tags": []
          },
          "execution_count": 128
        }
      ]
    },
    {
      "cell_type": "code",
      "metadata": {
        "colab": {
          "base_uri": "https://localhost:8080/"
        },
        "id": "QjderwX-DmSi",
        "outputId": "3d1b4b20-2c84-4d82-b3f3-efe0ecece637"
      },
      "source": [
        "user_df['user_id'].nunique()"
      ],
      "execution_count": null,
      "outputs": [
        {
          "output_type": "execute_result",
          "data": {
            "text/plain": [
              "90400"
            ]
          },
          "metadata": {
            "tags": []
          },
          "execution_count": 89
        }
      ]
    },
    {
      "cell_type": "code",
      "metadata": {
        "colab": {
          "base_uri": "https://localhost:8080/"
        },
        "id": "2DVxsLN-dPMp",
        "outputId": "2201651d-bdd3-4f21-b2ce-ba905392c132"
      },
      "source": [
        "user_df.info()"
      ],
      "execution_count": null,
      "outputs": [
        {
          "output_type": "stream",
          "text": [
            "<class 'pandas.core.frame.DataFrame'>\n",
            "RangeIndex: 90400 entries, 0 to 90399\n",
            "Data columns (total 4 columns):\n",
            " #   Column   Non-Null Count  Dtype         \n",
            "---  ------   --------------  -----         \n",
            " 0   user_id  90400 non-null  int64         \n",
            " 1   date     90400 non-null  datetime64[ns]\n",
            " 2   device   90400 non-null  object        \n",
            " 3   sex      90400 non-null  object        \n",
            "dtypes: datetime64[ns](1), int64(1), object(2)\n",
            "memory usage: 2.8+ MB\n"
          ],
          "name": "stdout"
        }
      ]
    },
    {
      "cell_type": "code",
      "metadata": {
        "colab": {
          "base_uri": "https://localhost:8080/"
        },
        "id": "nFTl6o7H1hl0",
        "outputId": "e7877199-a7cb-42af-dbf4-5854df209812"
      },
      "source": [
        "user_df['device'].value_counts()"
      ],
      "execution_count": null,
      "outputs": [
        {
          "output_type": "execute_result",
          "data": {
            "text/plain": [
              "Desktop    60200\n",
              "Mobile     30200\n",
              "Name: device, dtype: int64"
            ]
          },
          "metadata": {
            "tags": []
          },
          "execution_count": 91
        }
      ]
    },
    {
      "cell_type": "code",
      "metadata": {
        "colab": {
          "base_uri": "https://localhost:8080/"
        },
        "id": "NCoT-90x1nM_",
        "outputId": "5956ce18-f409-414a-8a14-b3dbdde4766a"
      },
      "source": [
        "user_df['sex'].value_counts()"
      ],
      "execution_count": null,
      "outputs": [
        {
          "output_type": "execute_result",
          "data": {
            "text/plain": [
              "Male      45325\n",
              "Female    45075\n",
              "Name: sex, dtype: int64"
            ]
          },
          "metadata": {
            "tags": []
          },
          "execution_count": 92
        }
      ]
    },
    {
      "cell_type": "code",
      "metadata": {
        "id": "V18t6OU3bAVx"
      },
      "source": [
        "home_df = pd.read_csv('PRIVATE CSV')\r\n",
        "search_df = pd.read_csv('PRIVATE CSV')\r\n",
        "pay_page_df = pd.read_csv('PRIVATE CSV')\r\n",
        "pay_conf_df = pd.read_csv('PRIVATE CSV')"
      ],
      "execution_count": null,
      "outputs": []
    },
    {
      "cell_type": "markdown",
      "metadata": {
        "id": "5u7Sm_RtF3Rd"
      },
      "source": [
        "## Combine all of the dataframes"
      ]
    },
    {
      "cell_type": "markdown",
      "metadata": {
        "id": "sLOymOYLsXzg"
      },
      "source": [
        "Combine all of the dataframes by merging on `user_id` and using a series of left joins to `user_df`. This will make it easier to look at conversion rates for the entire site."
      ]
    },
    {
      "cell_type": "code",
      "metadata": {
        "colab": {
          "base_uri": "https://localhost:8080/",
          "height": 198
        },
        "id": "KVOqiPoSfooL",
        "outputId": "fa189ac0-df5f-4b08-9b17-bf231d5ab62a"
      },
      "source": [
        "if set(user_df['user_id']) == set(home_df['user_id']):\r\n",
        "    user_df['home_page'] = True\r\n",
        "user_df.head()"
      ],
      "execution_count": null,
      "outputs": [
        {
          "output_type": "execute_result",
          "data": {
            "text/html": [
              "<div>\n",
              "<style scoped>\n",
              "    .dataframe tbody tr th:only-of-type {\n",
              "        vertical-align: middle;\n",
              "    }\n",
              "\n",
              "    .dataframe tbody tr th {\n",
              "        vertical-align: top;\n",
              "    }\n",
              "\n",
              "    .dataframe thead th {\n",
              "        text-align: right;\n",
              "    }\n",
              "</style>\n",
              "<table border=\"1\" class=\"dataframe\">\n",
              "  <thead>\n",
              "    <tr style=\"text-align: right;\">\n",
              "      <th></th>\n",
              "      <th>user_id</th>\n",
              "      <th>date</th>\n",
              "      <th>device</th>\n",
              "      <th>sex</th>\n",
              "      <th>home_page</th>\n",
              "    </tr>\n",
              "  </thead>\n",
              "  <tbody>\n",
              "    <tr>\n",
              "      <th>0</th>\n",
              "      <td>450007</td>\n",
              "      <td>2015-02-28</td>\n",
              "      <td>Desktop</td>\n",
              "      <td>Female</td>\n",
              "      <td>True</td>\n",
              "    </tr>\n",
              "    <tr>\n",
              "      <th>1</th>\n",
              "      <td>756838</td>\n",
              "      <td>2015-01-13</td>\n",
              "      <td>Desktop</td>\n",
              "      <td>Male</td>\n",
              "      <td>True</td>\n",
              "    </tr>\n",
              "    <tr>\n",
              "      <th>2</th>\n",
              "      <td>568983</td>\n",
              "      <td>2015-04-09</td>\n",
              "      <td>Desktop</td>\n",
              "      <td>Male</td>\n",
              "      <td>True</td>\n",
              "    </tr>\n",
              "    <tr>\n",
              "      <th>3</th>\n",
              "      <td>190794</td>\n",
              "      <td>2015-02-18</td>\n",
              "      <td>Desktop</td>\n",
              "      <td>Female</td>\n",
              "      <td>True</td>\n",
              "    </tr>\n",
              "    <tr>\n",
              "      <th>4</th>\n",
              "      <td>537909</td>\n",
              "      <td>2015-01-15</td>\n",
              "      <td>Desktop</td>\n",
              "      <td>Male</td>\n",
              "      <td>True</td>\n",
              "    </tr>\n",
              "  </tbody>\n",
              "</table>\n",
              "</div>"
            ],
            "text/plain": [
              "   user_id       date   device     sex  home_page\n",
              "0   450007 2015-02-28  Desktop  Female       True\n",
              "1   756838 2015-01-13  Desktop    Male       True\n",
              "2   568983 2015-04-09  Desktop    Male       True\n",
              "3   190794 2015-02-18  Desktop  Female       True\n",
              "4   537909 2015-01-15  Desktop    Male       True"
            ]
          },
          "metadata": {
            "tags": []
          },
          "execution_count": 94
        }
      ]
    },
    {
      "cell_type": "code",
      "metadata": {
        "colab": {
          "base_uri": "https://localhost:8080/",
          "height": 408
        },
        "id": "mkVY98mPjQv4",
        "outputId": "86e4df1e-9371-4b84-d71b-a59bbeada25c"
      },
      "source": [
        "conv_dict = {'search_page': search_df,\r\n",
        "             'pay_page': pay_page_df,\r\n",
        "             'conf_page': pay_conf_df}\r\n",
        "\r\n",
        "for col, df in conv_dict.items():\r\n",
        "    df.columns = ['user_id', col]\r\n",
        "    df.loc[df[col].notnull(), col] = True\r\n",
        "    user_df = user_df.merge(df, how='left', on='user_id')\r\n",
        "user_df = user_df.fillna(False)\r\n",
        "\r\n",
        "user_df"
      ],
      "execution_count": null,
      "outputs": [
        {
          "output_type": "execute_result",
          "data": {
            "text/html": [
              "<div>\n",
              "<style scoped>\n",
              "    .dataframe tbody tr th:only-of-type {\n",
              "        vertical-align: middle;\n",
              "    }\n",
              "\n",
              "    .dataframe tbody tr th {\n",
              "        vertical-align: top;\n",
              "    }\n",
              "\n",
              "    .dataframe thead th {\n",
              "        text-align: right;\n",
              "    }\n",
              "</style>\n",
              "<table border=\"1\" class=\"dataframe\">\n",
              "  <thead>\n",
              "    <tr style=\"text-align: right;\">\n",
              "      <th></th>\n",
              "      <th>user_id</th>\n",
              "      <th>date</th>\n",
              "      <th>device</th>\n",
              "      <th>sex</th>\n",
              "      <th>home_page</th>\n",
              "      <th>search_page</th>\n",
              "      <th>pay_page</th>\n",
              "      <th>conf_page</th>\n",
              "    </tr>\n",
              "  </thead>\n",
              "  <tbody>\n",
              "    <tr>\n",
              "      <th>0</th>\n",
              "      <td>450007</td>\n",
              "      <td>2015-02-28</td>\n",
              "      <td>Desktop</td>\n",
              "      <td>Female</td>\n",
              "      <td>True</td>\n",
              "      <td>False</td>\n",
              "      <td>False</td>\n",
              "      <td>False</td>\n",
              "    </tr>\n",
              "    <tr>\n",
              "      <th>1</th>\n",
              "      <td>756838</td>\n",
              "      <td>2015-01-13</td>\n",
              "      <td>Desktop</td>\n",
              "      <td>Male</td>\n",
              "      <td>True</td>\n",
              "      <td>False</td>\n",
              "      <td>False</td>\n",
              "      <td>False</td>\n",
              "    </tr>\n",
              "    <tr>\n",
              "      <th>2</th>\n",
              "      <td>568983</td>\n",
              "      <td>2015-04-09</td>\n",
              "      <td>Desktop</td>\n",
              "      <td>Male</td>\n",
              "      <td>True</td>\n",
              "      <td>True</td>\n",
              "      <td>False</td>\n",
              "      <td>False</td>\n",
              "    </tr>\n",
              "    <tr>\n",
              "      <th>3</th>\n",
              "      <td>190794</td>\n",
              "      <td>2015-02-18</td>\n",
              "      <td>Desktop</td>\n",
              "      <td>Female</td>\n",
              "      <td>True</td>\n",
              "      <td>True</td>\n",
              "      <td>False</td>\n",
              "      <td>False</td>\n",
              "    </tr>\n",
              "    <tr>\n",
              "      <th>4</th>\n",
              "      <td>537909</td>\n",
              "      <td>2015-01-15</td>\n",
              "      <td>Desktop</td>\n",
              "      <td>Male</td>\n",
              "      <td>True</td>\n",
              "      <td>False</td>\n",
              "      <td>False</td>\n",
              "      <td>False</td>\n",
              "    </tr>\n",
              "    <tr>\n",
              "      <th>...</th>\n",
              "      <td>...</td>\n",
              "      <td>...</td>\n",
              "      <td>...</td>\n",
              "      <td>...</td>\n",
              "      <td>...</td>\n",
              "      <td>...</td>\n",
              "      <td>...</td>\n",
              "      <td>...</td>\n",
              "    </tr>\n",
              "    <tr>\n",
              "      <th>90395</th>\n",
              "      <td>307667</td>\n",
              "      <td>2015-03-30</td>\n",
              "      <td>Desktop</td>\n",
              "      <td>Female</td>\n",
              "      <td>True</td>\n",
              "      <td>False</td>\n",
              "      <td>False</td>\n",
              "      <td>False</td>\n",
              "    </tr>\n",
              "    <tr>\n",
              "      <th>90396</th>\n",
              "      <td>642989</td>\n",
              "      <td>2015-02-08</td>\n",
              "      <td>Desktop</td>\n",
              "      <td>Female</td>\n",
              "      <td>True</td>\n",
              "      <td>True</td>\n",
              "      <td>False</td>\n",
              "      <td>False</td>\n",
              "    </tr>\n",
              "    <tr>\n",
              "      <th>90397</th>\n",
              "      <td>659645</td>\n",
              "      <td>2015-04-13</td>\n",
              "      <td>Desktop</td>\n",
              "      <td>Male</td>\n",
              "      <td>True</td>\n",
              "      <td>True</td>\n",
              "      <td>False</td>\n",
              "      <td>False</td>\n",
              "    </tr>\n",
              "    <tr>\n",
              "      <th>90398</th>\n",
              "      <td>359779</td>\n",
              "      <td>2015-03-23</td>\n",
              "      <td>Desktop</td>\n",
              "      <td>Male</td>\n",
              "      <td>True</td>\n",
              "      <td>False</td>\n",
              "      <td>False</td>\n",
              "      <td>False</td>\n",
              "    </tr>\n",
              "    <tr>\n",
              "      <th>90399</th>\n",
              "      <td>438929</td>\n",
              "      <td>2015-03-26</td>\n",
              "      <td>Mobile</td>\n",
              "      <td>Female</td>\n",
              "      <td>True</td>\n",
              "      <td>False</td>\n",
              "      <td>False</td>\n",
              "      <td>False</td>\n",
              "    </tr>\n",
              "  </tbody>\n",
              "</table>\n",
              "<p>90400 rows × 8 columns</p>\n",
              "</div>"
            ],
            "text/plain": [
              "       user_id       date   device  ... search_page  pay_page  conf_page\n",
              "0       450007 2015-02-28  Desktop  ...       False     False      False\n",
              "1       756838 2015-01-13  Desktop  ...       False     False      False\n",
              "2       568983 2015-04-09  Desktop  ...        True     False      False\n",
              "3       190794 2015-02-18  Desktop  ...        True     False      False\n",
              "4       537909 2015-01-15  Desktop  ...       False     False      False\n",
              "...        ...        ...      ...  ...         ...       ...        ...\n",
              "90395   307667 2015-03-30  Desktop  ...       False     False      False\n",
              "90396   642989 2015-02-08  Desktop  ...        True     False      False\n",
              "90397   659645 2015-04-13  Desktop  ...        True     False      False\n",
              "90398   359779 2015-03-23  Desktop  ...       False     False      False\n",
              "90399   438929 2015-03-26   Mobile  ...       False     False      False\n",
              "\n",
              "[90400 rows x 8 columns]"
            ]
          },
          "metadata": {
            "tags": []
          },
          "execution_count": 95
        }
      ]
    },
    {
      "cell_type": "markdown",
      "metadata": {
        "id": "dKMHHummjX-8"
      },
      "source": [
        "# Explore Conversion Rates"
      ]
    },
    {
      "cell_type": "markdown",
      "metadata": {
        "id": "imQGJDGItrfI"
      },
      "source": [
        "Look at the visitation rate for each of the pages. The site's total conversion rate is a measly .5%. We lose half of the visitors before the search, and then almost all of the rest after the search."
      ]
    },
    {
      "cell_type": "code",
      "metadata": {
        "colab": {
          "base_uri": "https://localhost:8080/",
          "height": 168
        },
        "id": "gNATTyZ2IGlL",
        "outputId": "115fd630-2406-433f-80a2-45fb016bf487"
      },
      "source": [
        "visit_rate = pd.DataFrame((user_df == True).sum()).rename(\r\n",
        "                                       columns={0: 'visit_rate'}) / len(user_df)\r\n",
        "visit_rate = visit_rate.reset_index()[4:]\r\n",
        "visit_rate"
      ],
      "execution_count": null,
      "outputs": [
        {
          "output_type": "execute_result",
          "data": {
            "text/html": [
              "<div>\n",
              "<style scoped>\n",
              "    .dataframe tbody tr th:only-of-type {\n",
              "        vertical-align: middle;\n",
              "    }\n",
              "\n",
              "    .dataframe tbody tr th {\n",
              "        vertical-align: top;\n",
              "    }\n",
              "\n",
              "    .dataframe thead th {\n",
              "        text-align: right;\n",
              "    }\n",
              "</style>\n",
              "<table border=\"1\" class=\"dataframe\">\n",
              "  <thead>\n",
              "    <tr style=\"text-align: right;\">\n",
              "      <th></th>\n",
              "      <th>index</th>\n",
              "      <th>visit_rate</th>\n",
              "    </tr>\n",
              "  </thead>\n",
              "  <tbody>\n",
              "    <tr>\n",
              "      <th>4</th>\n",
              "      <td>home_page</td>\n",
              "      <td>1.000000</td>\n",
              "    </tr>\n",
              "    <tr>\n",
              "      <th>5</th>\n",
              "      <td>search_page</td>\n",
              "      <td>0.500000</td>\n",
              "    </tr>\n",
              "    <tr>\n",
              "      <th>6</th>\n",
              "      <td>pay_page</td>\n",
              "      <td>0.066704</td>\n",
              "    </tr>\n",
              "    <tr>\n",
              "      <th>7</th>\n",
              "      <td>conf_page</td>\n",
              "      <td>0.005000</td>\n",
              "    </tr>\n",
              "  </tbody>\n",
              "</table>\n",
              "</div>"
            ],
            "text/plain": [
              "         index  visit_rate\n",
              "4    home_page    1.000000\n",
              "5  search_page    0.500000\n",
              "6     pay_page    0.066704\n",
              "7    conf_page    0.005000"
            ]
          },
          "metadata": {
            "tags": []
          },
          "execution_count": 96
        }
      ]
    },
    {
      "cell_type": "code",
      "metadata": {
        "id": "aqffw4VtLDcC"
      },
      "source": [
        "def calculate_conversion_rates(df, conv_rate_seg):\r\n",
        "    rates = {}\r\n",
        "    rates['home'] = [len(df[df['search_page']]) / len(df[df['home_page']])]\r\n",
        "    rates['search'] = [len(df[df['pay_page']]) / len(df[df['search_page']])]\r\n",
        "    rates['payment'] = [len(df[df['conf_page']]) / len(df[user_df['pay_page']])]\r\n",
        "\r\n",
        "    conv_rates = pd.DataFrame.from_dict(rates).T.reset_index()\r\n",
        "    conv_rates.columns = ['page', conv_rate_seg]\r\n",
        "    \r\n",
        "    return conv_rates"
      ],
      "execution_count": null,
      "outputs": []
    },
    {
      "cell_type": "markdown",
      "metadata": {
        "id": "jfmWJQvluKWg"
      },
      "source": [
        "Looking at the conversion rate split out amongst mobile and desktop users and we already see a significant difference. Desktop users have a lower conversion rate than mobile. Collecting more data on the desktop experience is recommended."
      ]
    },
    {
      "cell_type": "code",
      "metadata": {
        "colab": {
          "base_uri": "https://localhost:8080/",
          "height": 194
        },
        "id": "JfnhdkQ1PkMg",
        "outputId": "22acb9e2-f1b2-4237-a3c8-403eba916a85"
      },
      "source": [
        "device_rate_table = calculate_conversion_rates(user_df, 'overall_conv')\r\n",
        "\r\n",
        "device_rate_table = device_rate_table.merge(calculate_conversion_rates(\r\n",
        "                       user_df[user_df['device'] == 'Desktop'], 'desktop_conv'))\r\n",
        "device_rate_table = device_rate_table.merge(calculate_conversion_rates(\r\n",
        "                       user_df[user_df['device'] == 'Mobile'], 'mobile_conv'))\r\n",
        "device_rate_table"
      ],
      "execution_count": null,
      "outputs": [
        {
          "output_type": "stream",
          "text": [
            "/usr/local/lib/python3.6/dist-packages/ipykernel_launcher.py:5: UserWarning: Boolean Series key will be reindexed to match DataFrame index.\n",
            "  \"\"\"\n"
          ],
          "name": "stderr"
        },
        {
          "output_type": "execute_result",
          "data": {
            "text/html": [
              "<div>\n",
              "<style scoped>\n",
              "    .dataframe tbody tr th:only-of-type {\n",
              "        vertical-align: middle;\n",
              "    }\n",
              "\n",
              "    .dataframe tbody tr th {\n",
              "        vertical-align: top;\n",
              "    }\n",
              "\n",
              "    .dataframe thead th {\n",
              "        text-align: right;\n",
              "    }\n",
              "</style>\n",
              "<table border=\"1\" class=\"dataframe\">\n",
              "  <thead>\n",
              "    <tr style=\"text-align: right;\">\n",
              "      <th></th>\n",
              "      <th>page</th>\n",
              "      <th>overall_conv</th>\n",
              "      <th>desktop_conv</th>\n",
              "      <th>mobile_conv</th>\n",
              "    </tr>\n",
              "  </thead>\n",
              "  <tbody>\n",
              "    <tr>\n",
              "      <th>0</th>\n",
              "      <td>home</td>\n",
              "      <td>0.500000</td>\n",
              "      <td>0.500000</td>\n",
              "      <td>0.5</td>\n",
              "    </tr>\n",
              "    <tr>\n",
              "      <th>1</th>\n",
              "      <td>search</td>\n",
              "      <td>0.133407</td>\n",
              "      <td>0.100000</td>\n",
              "      <td>0.2</td>\n",
              "    </tr>\n",
              "    <tr>\n",
              "      <th>2</th>\n",
              "      <td>payment</td>\n",
              "      <td>0.074959</td>\n",
              "      <td>0.049834</td>\n",
              "      <td>0.1</td>\n",
              "    </tr>\n",
              "  </tbody>\n",
              "</table>\n",
              "</div>"
            ],
            "text/plain": [
              "      page  overall_conv  desktop_conv  mobile_conv\n",
              "0     home      0.500000      0.500000          0.5\n",
              "1   search      0.133407      0.100000          0.2\n",
              "2  payment      0.074959      0.049834          0.1"
            ]
          },
          "metadata": {
            "tags": []
          },
          "execution_count": 98
        }
      ]
    },
    {
      "cell_type": "markdown",
      "metadata": {
        "id": "pu4mZXcp9ARz"
      },
      "source": [
        "Two-thirds of the sales are from one-third of the user base."
      ]
    },
    {
      "cell_type": "code",
      "metadata": {
        "colab": {
          "base_uri": "https://localhost:8080/"
        },
        "id": "WNH6yyDc8tGB",
        "outputId": "ec8c4f6b-40b9-4586-88cd-95b5b82c4863"
      },
      "source": [
        "user_df.groupby('device')['conf_page'].sum()"
      ],
      "execution_count": null,
      "outputs": [
        {
          "output_type": "execute_result",
          "data": {
            "text/plain": [
              "device\n",
              "Desktop    150\n",
              "Mobile     302\n",
              "Name: conf_page, dtype: int64"
            ]
          },
          "metadata": {
            "tags": []
          },
          "execution_count": 99
        }
      ]
    },
    {
      "cell_type": "code",
      "metadata": {
        "colab": {
          "base_uri": "https://localhost:8080/",
          "height": 262
        },
        "id": "pM8Evbg4e8g6",
        "outputId": "676e2347-47de-48b0-c5ef-0c02f36e3f17"
      },
      "source": [
        "device_rate_table.plot.bar();"
      ],
      "execution_count": null,
      "outputs": [
        {
          "output_type": "display_data",
          "data": {
            "image/png": "[encoded data removed]",
            "text/plain": [
              "<Figure size 432x288 with 1 Axes>"
            ]
          },
          "metadata": {
            "tags": [],
            "needs_background": "light"
          }
        }
      ]
    },
    {
      "cell_type": "markdown",
      "metadata": {
        "id": "nBaq7TJUu9Zd"
      },
      "source": [
        "Double check that there is a significant difference between mobile and desktop users like we suspected."
      ]
    },
    {
      "cell_type": "code",
      "metadata": {
        "colab": {
          "base_uri": "https://localhost:8080/"
        },
        "id": "uLYJM8GRg0Yk",
        "outputId": "2dee7276-7696-4109-b773-0816dc704dd5"
      },
      "source": [
        "ttest_ind(user_df[user_df['device'] == 'Desktop']['conf_page'],\r\n",
        "          user_df[user_df['device'] == 'Mobile']['conf_page'])"
      ],
      "execution_count": null,
      "outputs": [
        {
          "output_type": "execute_result",
          "data": {
            "text/plain": [
              "Ttest_indResult(statistic=-15.114932029234419, pvalue=1.493037980910914e-51)"
            ]
          },
          "metadata": {
            "tags": []
          },
          "execution_count": 101
        }
      ]
    },
    {
      "cell_type": "markdown",
      "metadata": {
        "id": "ktndgjuYvKe3"
      },
      "source": [
        "Now we look at the conversion rate for `sex`. The difference between male and female users seems to be minor."
      ]
    },
    {
      "cell_type": "code",
      "metadata": {
        "colab": {
          "base_uri": "https://localhost:8080/",
          "height": 194
        },
        "id": "ThOhKFUwJ_2a",
        "outputId": "ffaff993-dc3e-4f72-d8d8-700683dc9c8b"
      },
      "source": [
        "sex_rate_table = calculate_conversion_rates(user_df, 'overall_conv')\r\n",
        "\r\n",
        "sex_rate_table = sex_rate_table.merge(calculate_conversion_rates(\r\n",
        "                       user_df[user_df['sex'] == 'Male'], 'male_conv'))\r\n",
        "sex_rate_table = sex_rate_table.merge(calculate_conversion_rates(\r\n",
        "                       user_df[user_df['sex'] == 'Female'], 'female_conv'))\r\n",
        "sex_rate_table"
      ],
      "execution_count": null,
      "outputs": [
        {
          "output_type": "stream",
          "text": [
            "/usr/local/lib/python3.6/dist-packages/ipykernel_launcher.py:5: UserWarning: Boolean Series key will be reindexed to match DataFrame index.\n",
            "  \"\"\"\n"
          ],
          "name": "stderr"
        },
        {
          "output_type": "execute_result",
          "data": {
            "text/html": [
              "<div>\n",
              "<style scoped>\n",
              "    .dataframe tbody tr th:only-of-type {\n",
              "        vertical-align: middle;\n",
              "    }\n",
              "\n",
              "    .dataframe tbody tr th {\n",
              "        vertical-align: top;\n",
              "    }\n",
              "\n",
              "    .dataframe thead th {\n",
              "        text-align: right;\n",
              "    }\n",
              "</style>\n",
              "<table border=\"1\" class=\"dataframe\">\n",
              "  <thead>\n",
              "    <tr style=\"text-align: right;\">\n",
              "      <th></th>\n",
              "      <th>page</th>\n",
              "      <th>overall_conv</th>\n",
              "      <th>male_conv</th>\n",
              "      <th>female_conv</th>\n",
              "    </tr>\n",
              "  </thead>\n",
              "  <tbody>\n",
              "    <tr>\n",
              "      <th>0</th>\n",
              "      <td>home</td>\n",
              "      <td>0.500000</td>\n",
              "      <td>0.496944</td>\n",
              "      <td>0.503073</td>\n",
              "    </tr>\n",
              "    <tr>\n",
              "      <th>1</th>\n",
              "      <td>search</td>\n",
              "      <td>0.133407</td>\n",
              "      <td>0.130083</td>\n",
              "      <td>0.136708</td>\n",
              "    </tr>\n",
              "    <tr>\n",
              "      <th>2</th>\n",
              "      <td>payment</td>\n",
              "      <td>0.074959</td>\n",
              "      <td>0.072014</td>\n",
              "      <td>0.077742</td>\n",
              "    </tr>\n",
              "  </tbody>\n",
              "</table>\n",
              "</div>"
            ],
            "text/plain": [
              "      page  overall_conv  male_conv  female_conv\n",
              "0     home      0.500000   0.496944     0.503073\n",
              "1   search      0.133407   0.130083     0.136708\n",
              "2  payment      0.074959   0.072014     0.077742"
            ]
          },
          "metadata": {
            "tags": []
          },
          "execution_count": 102
        }
      ]
    },
    {
      "cell_type": "code",
      "metadata": {
        "colab": {
          "base_uri": "https://localhost:8080/"
        },
        "id": "TTEQdIDl9LTX",
        "outputId": "cdbfcbd3-667b-4dd3-ae95-353d68c53c74"
      },
      "source": [
        "user_df.groupby('sex')['conf_page'].sum()"
      ],
      "execution_count": null,
      "outputs": [
        {
          "output_type": "execute_result",
          "data": {
            "text/plain": [
              "sex\n",
              "Female    241\n",
              "Male      211\n",
              "Name: conf_page, dtype: int64"
            ]
          },
          "metadata": {
            "tags": []
          },
          "execution_count": 103
        }
      ]
    },
    {
      "cell_type": "code",
      "metadata": {
        "colab": {
          "base_uri": "https://localhost:8080/",
          "height": 262
        },
        "id": "nfZ5ZKOofGNo",
        "outputId": "a6b418d6-57ee-4d34-a07a-75217ce05a4b"
      },
      "source": [
        "sex_rate_table.plot.bar();"
      ],
      "execution_count": null,
      "outputs": [
        {
          "output_type": "display_data",
          "data": {
            "image/png": "[encoded data removed]",
            "text/plain": [
              "<Figure size 432x288 with 1 Axes>"
            ]
          },
          "metadata": {
            "tags": [],
            "needs_background": "light"
          }
        }
      ]
    },
    {
      "cell_type": "markdown",
      "metadata": {
        "id": "-LoOc1tgvhZb"
      },
      "source": [
        "Once again confirming our suspicions, no real difference between the sexes."
      ]
    },
    {
      "cell_type": "code",
      "metadata": {
        "colab": {
          "base_uri": "https://localhost:8080/"
        },
        "id": "mOeYvLXRiN9Z",
        "outputId": "efc6769a-bda6-4c73-f585-d786cbbc2d3d"
      },
      "source": [
        "ttest_ind(user_df[user_df['sex'] == 'Male']['conf_page'],\r\n",
        "          user_df[user_df['sex'] == 'Female']['conf_page'])"
      ],
      "execution_count": null,
      "outputs": [
        {
          "output_type": "execute_result",
          "data": {
            "text/plain": [
              "Ttest_indResult(statistic=-1.473571917457817, pvalue=0.14060036909365287)"
            ]
          },
          "metadata": {
            "tags": []
          },
          "execution_count": 105
        }
      ]
    },
    {
      "cell_type": "markdown",
      "metadata": {
        "id": "fBh1AVz7vr3o"
      },
      "source": [
        "Finally, lets take a look at the various combinations. We see what one might expect, the differences above persist and add to each other. Simply correcting the desktop experience would correct most of these differences."
      ]
    },
    {
      "cell_type": "code",
      "metadata": {
        "colab": {
          "base_uri": "https://localhost:8080/",
          "height": 194
        },
        "id": "WIk12iP5bYIs",
        "outputId": "bc32875e-5f40-48c7-e873-a08e0bc6c6ae"
      },
      "source": [
        "conv_rate_table = calculate_conversion_rates(user_df, 'overall_conv')\r\n",
        "\r\n",
        "conv_rate_table = conv_rate_table.merge(calculate_conversion_rates(\r\n",
        "                       user_df[(user_df['device'] == 'Desktop') &\r\n",
        "                              (user_df['sex'] == 'Male')], 'desktop_m_conv'))\r\n",
        "conv_rate_table = conv_rate_table.merge(calculate_conversion_rates(\r\n",
        "                       user_df[(user_df['device'] == 'Desktop') &\r\n",
        "                              (user_df['sex'] == 'Female')], 'desktop_f_conv'))\r\n",
        "conv_rate_table = conv_rate_table.merge(calculate_conversion_rates(\r\n",
        "                       user_df[(user_df['device'] == 'Mobile') &\r\n",
        "                              (user_df['sex'] == 'Male')], 'mobile_m_conv'))\r\n",
        "conv_rate_table = conv_rate_table.merge(calculate_conversion_rates(\r\n",
        "                       user_df[(user_df['device'] == 'Mobile') &\r\n",
        "                              (user_df['sex'] == 'Female')], 'mobile_f_conv'))\r\n",
        "\r\n",
        "conv_rate_table"
      ],
      "execution_count": null,
      "outputs": [
        {
          "output_type": "stream",
          "text": [
            "/usr/local/lib/python3.6/dist-packages/ipykernel_launcher.py:5: UserWarning: Boolean Series key will be reindexed to match DataFrame index.\n",
            "  \"\"\"\n"
          ],
          "name": "stderr"
        },
        {
          "output_type": "execute_result",
          "data": {
            "text/html": [
              "<div>\n",
              "<style scoped>\n",
              "    .dataframe tbody tr th:only-of-type {\n",
              "        vertical-align: middle;\n",
              "    }\n",
              "\n",
              "    .dataframe tbody tr th {\n",
              "        vertical-align: top;\n",
              "    }\n",
              "\n",
              "    .dataframe thead th {\n",
              "        text-align: right;\n",
              "    }\n",
              "</style>\n",
              "<table border=\"1\" class=\"dataframe\">\n",
              "  <thead>\n",
              "    <tr style=\"text-align: right;\">\n",
              "      <th></th>\n",
              "      <th>page</th>\n",
              "      <th>overall_conv</th>\n",
              "      <th>desktop_m_conv</th>\n",
              "      <th>desktop_f_conv</th>\n",
              "      <th>mobile_m_conv</th>\n",
              "      <th>mobile_f_conv</th>\n",
              "    </tr>\n",
              "  </thead>\n",
              "  <tbody>\n",
              "    <tr>\n",
              "      <th>0</th>\n",
              "      <td>home</td>\n",
              "      <td>0.500000</td>\n",
              "      <td>0.496937</td>\n",
              "      <td>0.503084</td>\n",
              "      <td>0.496958</td>\n",
              "      <td>0.503051</td>\n",
              "    </tr>\n",
              "    <tr>\n",
              "      <th>1</th>\n",
              "      <td>search</td>\n",
              "      <td>0.133407</td>\n",
              "      <td>0.098608</td>\n",
              "      <td>0.101385</td>\n",
              "      <td>0.192947</td>\n",
              "      <td>0.206987</td>\n",
              "    </tr>\n",
              "    <tr>\n",
              "      <th>2</th>\n",
              "      <td>payment</td>\n",
              "      <td>0.074959</td>\n",
              "      <td>0.051351</td>\n",
              "      <td>0.048366</td>\n",
              "      <td>0.093103</td>\n",
              "      <td>0.106369</td>\n",
              "    </tr>\n",
              "  </tbody>\n",
              "</table>\n",
              "</div>"
            ],
            "text/plain": [
              "      page  overall_conv  ...  mobile_m_conv  mobile_f_conv\n",
              "0     home      0.500000  ...       0.496958       0.503051\n",
              "1   search      0.133407  ...       0.192947       0.206987\n",
              "2  payment      0.074959  ...       0.093103       0.106369\n",
              "\n",
              "[3 rows x 6 columns]"
            ]
          },
          "metadata": {
            "tags": []
          },
          "execution_count": 106
        }
      ]
    },
    {
      "cell_type": "code",
      "metadata": {
        "colab": {
          "base_uri": "https://localhost:8080/",
          "height": 262
        },
        "id": "8wGFMyuzfLLN",
        "outputId": "cec3dc4e-dc76-4c7a-bb1b-9bd9906592bc"
      },
      "source": [
        "conv_rate_table.plot.bar();"
      ],
      "execution_count": null,
      "outputs": [
        {
          "output_type": "display_data",
          "data": {
            "image/png": "[encoded data removed]",
            "text/plain": [
              "<Figure size 432x288 with 1 Axes>"
            ]
          },
          "metadata": {
            "tags": [],
            "needs_background": "light"
          }
        }
      ]
    },
    {
      "cell_type": "markdown",
      "metadata": {
        "id": "Zu-F4jj32IVB"
      },
      "source": [
        "## Date"
      ]
    },
    {
      "cell_type": "markdown",
      "metadata": {
        "id": "2NbJWzEDwFgW"
      },
      "source": [
        "Last on the list of variables to check is conversion rate by date. Surprisingly we see a drop in the site's conversion rate starting in March. This could be a seasonality thing, but likely not since we were asked to look into this problem."
      ]
    },
    {
      "cell_type": "code",
      "metadata": {
        "colab": {
          "base_uri": "https://localhost:8080/",
          "height": 291
        },
        "id": "sh9bocoib_yY",
        "outputId": "e3de542d-a71e-4658-b1e6-7061d795245e"
      },
      "source": [
        "user_df.groupby('date')['conf_page'].mean().plot();"
      ],
      "execution_count": null,
      "outputs": [
        {
          "output_type": "display_data",
          "data": {
            "image/png": "[encoded data removed]",
            "text/plain": [
              "<Figure size 432x288 with 1 Axes>"
            ]
          },
          "metadata": {
            "tags": [],
            "needs_background": "light"
          }
        }
      ]
    },
    {
      "cell_type": "markdown",
      "metadata": {
        "id": "Wq5SZ6hxzf2a"
      },
      "source": [
        "Taking a look at total users each day we see a different trend. The total users jumped in February and then returned to normal levels. The return to normal levels coincides with the drop in conversion rate."
      ]
    },
    {
      "cell_type": "code",
      "metadata": {
        "colab": {
          "base_uri": "https://localhost:8080/",
          "height": 291
        },
        "id": "cONs8gwmzGRM",
        "outputId": "5d2e5dd7-7d27-43a7-b3a0-f7663262234c"
      },
      "source": [
        "user_df.groupby('date')['home_page'].count().plot();"
      ],
      "execution_count": null,
      "outputs": [
        {
          "output_type": "display_data",
          "data": {
            "image/png": "[encoded data removed]",
            "text/plain": [
              "<Figure size 432x288 with 1 Axes>"
            ]
          },
          "metadata": {
            "tags": [],
            "needs_background": "light"
          }
        }
      ]
    },
    {
      "cell_type": "markdown",
      "metadata": {
        "id": "gOaqd2tj2ULq"
      },
      "source": [
        "Breaking out by device, we see the same drop in March with both Desktop and Mobile users."
      ]
    },
    {
      "cell_type": "code",
      "metadata": {
        "colab": {
          "base_uri": "https://localhost:8080/",
          "height": 291
        },
        "id": "6UY96shM0sp_",
        "outputId": "08019fca-2dba-4a91-b7ae-501f1e48d462"
      },
      "source": [
        "user_df[user_df['device'] == 'Desktop'].groupby('date')['conf_page'].mean().plot();\r\n",
        "user_df[user_df['device'] == 'Mobile'].groupby('date')['conf_page'].mean().plot();"
      ],
      "execution_count": null,
      "outputs": [
        {
          "output_type": "display_data",
          "data": {
            "image/png": "[encoded data removed]",
            "text/plain": [
              "<Figure size 432x288 with 1 Axes>"
            ]
          },
          "metadata": {
            "tags": [],
            "needs_background": "light"
          }
        }
      ]
    },
    {
      "cell_type": "markdown",
      "metadata": {
        "id": "Gvagl6Di3qEj"
      },
      "source": [
        "Break out the data based on before and after the drop to better understand how big of an impact the March drop was. Right away we see that overall, the drop was from a conversion rate of .8% to .2%. Pretty impactful when the conversion rate was already weak to begin with."
      ]
    },
    {
      "cell_type": "code",
      "metadata": {
        "colab": {
          "base_uri": "https://localhost:8080/"
        },
        "id": "l-Nvgr6_2kWV",
        "outputId": "daf911cd-4a5a-4728-d226-bfd6406277d1"
      },
      "source": [
        "jan_feb = user_df[user_df['date'] < np.datetime64('2015-03-01')]\r\n",
        "mar_apr = user_df[user_df['date'] >= np.datetime64('2015-03-01')]\r\n",
        "\r\n",
        "print('January to March Conversion:', jan_feb['conf_page'].mean() * 100)\r\n",
        "print('March to End Conversion:', mar_apr['conf_page'].mean() * 100)"
      ],
      "execution_count": null,
      "outputs": [
        {
          "output_type": "stream",
          "text": [
            "January to March Conversion: 0.8008849557522124\n",
            "March to End Conversion: 0.19911504424778761\n"
          ],
          "name": "stdout"
        }
      ]
    },
    {
      "cell_type": "code",
      "metadata": {
        "colab": {
          "base_uri": "https://localhost:8080/"
        },
        "id": "9TV34sl-9nVY",
        "outputId": "2e036a55-eb34-4920-fd61-514e5b30ec55"
      },
      "source": [
        "print('Total Sales by Period')\r\n",
        "print('===============================')\r\n",
        "print('January and February:', jan_feb['conf_page'].sum())\r\n",
        "print('March and April:', mar_apr['conf_page'].sum())\r\n",
        "print('Total:', user_df['conf_page'].sum())"
      ],
      "execution_count": null,
      "outputs": [
        {
          "output_type": "stream",
          "text": [
            "Total Sales by Period\n",
            "===============================\n",
            "January and February: 362\n",
            "March and April: 90\n",
            "Total: 452\n"
          ],
          "name": "stdout"
        }
      ]
    },
    {
      "cell_type": "markdown",
      "metadata": {
        "id": "3YxgTJYU6lrl"
      },
      "source": [
        "Mobile conversions crashed from 1.6% down to .35% after March. Desktop conversions took a dip too, but without much room to drop it only moved from .37% to .12%."
      ]
    },
    {
      "cell_type": "code",
      "metadata": {
        "colab": {
          "base_uri": "https://localhost:8080/"
        },
        "id": "y4uNSOF-4Rtx",
        "outputId": "ff3dacdc-d1f8-421c-ebe3-e1a991c6e462"
      },
      "source": [
        "print('Jan-March Conversion Rates')\r\n",
        "print('================================')\r\n",
        "print('Desktop:', jan_feb[jan_feb['device'] == 'Desktop']['conf_page'].mean() * 100)\r\n",
        "print('Mobile:', jan_feb[jan_feb['device'] == 'Mobile']['conf_page'].mean() * 100)"
      ],
      "execution_count": null,
      "outputs": [
        {
          "output_type": "stream",
          "text": [
            "Jan-March Conversion Rates\n",
            "================================\n",
            "Desktop: 0.37873754152823924\n",
            "Mobile: 1.642384105960265\n"
          ],
          "name": "stdout"
        }
      ]
    },
    {
      "cell_type": "code",
      "metadata": {
        "colab": {
          "base_uri": "https://localhost:8080/"
        },
        "id": "c9I3WGzM5FBI",
        "outputId": "7a801b2d-da6c-41c8-84f9-9f824f2361ec"
      },
      "source": [
        "print('March-End Conversion Rates')\r\n",
        "print('================================')\r\n",
        "print('Desktop:', mar_apr[mar_apr['device'] == 'Desktop']['conf_page'].mean() * 100)\r\n",
        "print('Mobile:', mar_apr[mar_apr['device'] == 'Mobile']['conf_page'].mean() * 100)"
      ],
      "execution_count": null,
      "outputs": [
        {
          "output_type": "stream",
          "text": [
            "March-End Conversion Rates\n",
            "================================\n",
            "Desktop: 0.11960132890365448\n",
            "Mobile: 0.3576158940397351\n"
          ],
          "name": "stdout"
        }
      ]
    },
    {
      "cell_type": "markdown",
      "metadata": {
        "id": "GMXUF-W07EK_"
      },
      "source": [
        "It looks like both sexes saw a similar dip after March."
      ]
    },
    {
      "cell_type": "code",
      "metadata": {
        "colab": {
          "base_uri": "https://localhost:8080/"
        },
        "id": "EblFEzyd575Q",
        "outputId": "9cbf1acd-b51b-4efe-83da-11e061c31ff1"
      },
      "source": [
        "print('Jan-March Conversion Rates')\r\n",
        "print('================================')\r\n",
        "print('Male:', jan_feb[jan_feb['sex'] == 'Male']['conf_page'].mean() * 100)\r\n",
        "print('Female:', jan_feb[jan_feb['sex'] == 'Female']['conf_page'].mean() * 100)"
      ],
      "execution_count": null,
      "outputs": [
        {
          "output_type": "stream",
          "text": [
            "Jan-March Conversion Rates\n",
            "================================\n",
            "Male: 0.7393633505999025\n",
            "Female: 0.8623358245257152\n"
          ],
          "name": "stdout"
        }
      ]
    },
    {
      "cell_type": "code",
      "metadata": {
        "colab": {
          "base_uri": "https://localhost:8080/"
        },
        "id": "hgR-zBKp5lwN",
        "outputId": "ef6d779e-4d60-4ec1-8044-45658a89d249"
      },
      "source": [
        "print('March-End Conversion Rates')\r\n",
        "print('================================')\r\n",
        "print('Male:', mar_apr[mar_apr['sex'] == 'Male']['conf_page'].mean() * 100)\r\n",
        "print('Female:', mar_apr[mar_apr['sex'] == 'Female']['conf_page'].mean() * 100)"
      ],
      "execution_count": null,
      "outputs": [
        {
          "output_type": "stream",
          "text": [
            "March-End Conversion Rates\n",
            "================================\n",
            "Male: 0.19350866391063418\n",
            "Female: 0.20479031252782476\n"
          ],
          "name": "stdout"
        }
      ]
    },
    {
      "cell_type": "markdown",
      "metadata": {
        "id": "vVfSxHg8UjH2"
      },
      "source": [
        "The funnel took a hit to the home page (Conversion rate drop of 20%) and the search page (drop of 11%). Payment to confirmation page seems unaffected by the drop at the start of March."
      ]
    },
    {
      "cell_type": "code",
      "metadata": {
        "colab": {
          "base_uri": "https://localhost:8080/",
          "height": 194
        },
        "id": "dVKXYTURPfFC",
        "outputId": "61a2a450-3c06-4707-ba08-60e3915af45a"
      },
      "source": [
        "conv_table_by_date = calculate_conversion_rates(user_df, 'overall')\r\n",
        "conv_table_by_date = conv_table_by_date.merge(calculate_conversion_rates(jan_feb, 'jan_feb'))\r\n",
        "conv_table_by_date = conv_table_by_date.merge(calculate_conversion_rates(mar_apr, 'mar_apr'))\r\n",
        "\r\n",
        "conv_table_by_date"
      ],
      "execution_count": null,
      "outputs": [
        {
          "output_type": "stream",
          "text": [
            "/usr/local/lib/python3.6/dist-packages/ipykernel_launcher.py:5: UserWarning: Boolean Series key will be reindexed to match DataFrame index.\n",
            "  \"\"\"\n"
          ],
          "name": "stderr"
        },
        {
          "output_type": "execute_result",
          "data": {
            "text/html": [
              "<div>\n",
              "<style scoped>\n",
              "    .dataframe tbody tr th:only-of-type {\n",
              "        vertical-align: middle;\n",
              "    }\n",
              "\n",
              "    .dataframe tbody tr th {\n",
              "        vertical-align: top;\n",
              "    }\n",
              "\n",
              "    .dataframe thead th {\n",
              "        text-align: right;\n",
              "    }\n",
              "</style>\n",
              "<table border=\"1\" class=\"dataframe\">\n",
              "  <thead>\n",
              "    <tr style=\"text-align: right;\">\n",
              "      <th></th>\n",
              "      <th>page</th>\n",
              "      <th>overall</th>\n",
              "      <th>jan_feb</th>\n",
              "      <th>mar_apr</th>\n",
              "    </tr>\n",
              "  </thead>\n",
              "  <tbody>\n",
              "    <tr>\n",
              "      <th>0</th>\n",
              "      <td>home</td>\n",
              "      <td>0.500000</td>\n",
              "      <td>0.602677</td>\n",
              "      <td>0.397323</td>\n",
              "    </tr>\n",
              "    <tr>\n",
              "      <th>1</th>\n",
              "      <td>search</td>\n",
              "      <td>0.133407</td>\n",
              "      <td>0.176278</td>\n",
              "      <td>0.068378</td>\n",
              "    </tr>\n",
              "    <tr>\n",
              "      <th>2</th>\n",
              "      <td>payment</td>\n",
              "      <td>0.074959</td>\n",
              "      <td>0.075385</td>\n",
              "      <td>0.073290</td>\n",
              "    </tr>\n",
              "  </tbody>\n",
              "</table>\n",
              "</div>"
            ],
            "text/plain": [
              "      page   overall   jan_feb   mar_apr\n",
              "0     home  0.500000  0.602677  0.397323\n",
              "1   search  0.133407  0.176278  0.068378\n",
              "2  payment  0.074959  0.075385  0.073290"
            ]
          },
          "metadata": {
            "tags": []
          },
          "execution_count": 123
        }
      ]
    },
    {
      "cell_type": "markdown",
      "metadata": {
        "id": "wGTEGVsyjgpI"
      },
      "source": [
        "# Conclusions"
      ]
    },
    {
      "cell_type": "markdown",
      "metadata": {
        "id": "eIytA46dEfkQ"
      },
      "source": [
        "Looking at the data, we have two major points of concern that need to be addressed.\r\n",
        "\r\n",
        "First, it appears the site underwent some change in February which led to a drop in the site's conversion rate by the start of March. This change led to an increase in visitors to the site's homepage that also dropped off in March."
      ]
    },
    {
      "cell_type": "code",
      "metadata": {
        "colab": {
          "base_uri": "https://localhost:8080/",
          "height": 291
        },
        "id": "YWqW-gH-RUvr",
        "outputId": "c73887c1-c362-488c-d36f-4d550bf67777"
      },
      "source": [
        "user_df.groupby('date')['conf_page'].mean().plot();"
      ],
      "execution_count": null,
      "outputs": [
        {
          "output_type": "display_data",
          "data": {
            "image/png": "[encoded data removed]",
            "text/plain": [
              "<Figure size 432x288 with 1 Axes>"
            ]
          },
          "metadata": {
            "tags": [],
            "needs_background": "light"
          }
        }
      ]
    },
    {
      "cell_type": "code",
      "metadata": {
        "colab": {
          "base_uri": "https://localhost:8080/",
          "height": 291
        },
        "id": "Y5Ij6C_pSjJA",
        "outputId": "3df891c7-f810-4f2b-e76a-8116d1baf288"
      },
      "source": [
        "user_df.groupby('date')['home_page'].count().plot();"
      ],
      "execution_count": null,
      "outputs": [
        {
          "output_type": "display_data",
          "data": {
            "image/png": "[encoded data removed]",
            "text/plain": [
              "<Figure size 432x288 with 1 Axes>"
            ]
          },
          "metadata": {
            "tags": [],
            "needs_background": "light"
          }
        }
      ]
    },
    {
      "cell_type": "markdown",
      "metadata": {
        "id": "i4dH5QkBRaVC"
      },
      "source": [
        "We see the drop in site conversions is mostly the result of a 20% loss in the home page's conversion rate and a similar drop of 11% for the search page."
      ]
    },
    {
      "cell_type": "code",
      "metadata": {
        "colab": {
          "base_uri": "https://localhost:8080/",
          "height": 138
        },
        "id": "vzcBsPVaS0LB",
        "outputId": "232f57be-11f2-4918-8270-2d8710a853ba"
      },
      "source": [
        "conv_table_by_date"
      ],
      "execution_count": null,
      "outputs": [
        {
          "output_type": "execute_result",
          "data": {
            "text/html": [
              "<div>\n",
              "<style scoped>\n",
              "    .dataframe tbody tr th:only-of-type {\n",
              "        vertical-align: middle;\n",
              "    }\n",
              "\n",
              "    .dataframe tbody tr th {\n",
              "        vertical-align: top;\n",
              "    }\n",
              "\n",
              "    .dataframe thead th {\n",
              "        text-align: right;\n",
              "    }\n",
              "</style>\n",
              "<table border=\"1\" class=\"dataframe\">\n",
              "  <thead>\n",
              "    <tr style=\"text-align: right;\">\n",
              "      <th></th>\n",
              "      <th>page</th>\n",
              "      <th>overall</th>\n",
              "      <th>jan_feb</th>\n",
              "      <th>mar_apr</th>\n",
              "    </tr>\n",
              "  </thead>\n",
              "  <tbody>\n",
              "    <tr>\n",
              "      <th>0</th>\n",
              "      <td>home</td>\n",
              "      <td>0.500000</td>\n",
              "      <td>0.602677</td>\n",
              "      <td>0.397323</td>\n",
              "    </tr>\n",
              "    <tr>\n",
              "      <th>1</th>\n",
              "      <td>search</td>\n",
              "      <td>0.133407</td>\n",
              "      <td>0.176278</td>\n",
              "      <td>0.068378</td>\n",
              "    </tr>\n",
              "    <tr>\n",
              "      <th>2</th>\n",
              "      <td>payment</td>\n",
              "      <td>0.074959</td>\n",
              "      <td>0.075385</td>\n",
              "      <td>0.073290</td>\n",
              "    </tr>\n",
              "  </tbody>\n",
              "</table>\n",
              "</div>"
            ],
            "text/plain": [
              "      page   overall   jan_feb   mar_apr\n",
              "0     home  0.500000  0.602677  0.397323\n",
              "1   search  0.133407  0.176278  0.068378\n",
              "2  payment  0.074959  0.075385  0.073290"
            ]
          },
          "metadata": {
            "tags": []
          },
          "execution_count": 126
        }
      ]
    },
    {
      "cell_type": "markdown",
      "metadata": {
        "id": "_d0AfgtoTJ0u"
      },
      "source": [
        "The graphs paired with each page's conversion rates before and after the start of March leads to the conclusion that changes were made to the Home page and possibly the Search page. These changes should be reverted immediately due to the fact that 80% of the sales in this 4 month period occured in the 2 months prior to the change."
      ]
    },
    {
      "cell_type": "markdown",
      "metadata": {
        "id": "kESpzJCYRN10"
      },
      "source": [
        "Next is that the conversion rate for desktop users is significantly lower than that of mobile users. This should be another significant concern as two-thirds of visitors to the site are desktop. The product team should rework the desktop experience to increase the conversion rate so it is comprable to mobile. Worth noting, the problem with desktop vs mobile conversion rates holds for the entire four months indicating this is separate issue to address."
      ]
    },
    {
      "cell_type": "code",
      "metadata": {
        "colab": {
          "base_uri": "https://localhost:8080/",
          "height": 262
        },
        "id": "zdZZZlKTEgrJ",
        "outputId": "67e6a44e-6d95-4a55-b7f3-ccb6b85fd6c4"
      },
      "source": [
        "device_rate_table.plot.bar();"
      ],
      "execution_count": null,
      "outputs": [
        {
          "output_type": "display_data",
          "data": {
            "image/png": "[encoded data removed]",
            "text/plain": [
              "<Figure size 432x288 with 1 Axes>"
            ]
          },
          "metadata": {
            "tags": [],
            "needs_background": "light"
          }
        }
      ]
    }
  ]
}
