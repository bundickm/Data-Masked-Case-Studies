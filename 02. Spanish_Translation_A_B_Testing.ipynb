{
  "nbformat": 4,
  "nbformat_minor": 0,
  "metadata": {
    "colab": {
      "name": "02. Spanish Translation - A/B Testing.ipynb",
      "provenance": [],
      "collapsed_sections": [
        "P6h5SjOaPH4k",
        "OlZqsQmQPO-q"
      ],
      "authorship_tag": "ABX9TyPJIs++VjhFYr5nk+jSFFkI"
    },
    "kernelspec": {
      "name": "python3",
      "display_name": "Python 3"
    }
  },
  "cells": [
    {
      "cell_type": "markdown",
      "metadata": {
        "id": "P6h5SjOaPH4k"
      },
      "source": [
        "# Challenge Description\r\n",
        "\r\n",
        "Company XYZ is a worldwide e-commerce site with localized versions of the site.\r\n",
        "\r\n",
        "A data scientist at XYZ noticed that Spain-based users have a much higher conversion rate than any other Spanish-speaking country.\r\n",
        "\r\n",
        "Spain and LatAm country manager suggested that one reason could be translation. All Spanish-speaking countries had the same translation of the site which was written by a Spaniard. Therefore, they agreed to try a test where each country would have its own translation written by a local. That is, Argentinian users would see a translation written by an Argentinian, Mexican users written by a Mexican and so on. Obviously, nothing would change for users from Spain.\r\n",
        "\r\n",
        "After they run the test however, they are really surprised because the test is negative. That is, it appears that the non-highly localized translation was doing better!\r\n",
        "\r\n",
        "You are asked to:\r\n",
        "- Confirm that test is actually negative. I.e., the old version of the site with just one translation across Spain and LatAm performs better\r\n",
        "\r\n",
        "- Explain why that might be happening. Are the localized translations really worse?\r\n",
        "- If you identified what was wrong, design an algorithm that would return FALSE if the same problem is happening in the future and TRUE if everything is good and results can be trusted.\r\n"
      ]
    },
    {
      "cell_type": "markdown",
      "metadata": {
        "id": "OlZqsQmQPO-q"
      },
      "source": [
        "# Data Description\r\n",
        "\r\n",
        "## test_table\r\n",
        "General information about the test results\r\n",
        "\r\n",
        "Columns:\r\n",
        "- **user_id:** the id of the user. Unique by user. Can be joined to user id in the other table. For each user, we just check whether conversion happens the first time they land on the site since the test started.\r\n",
        "- **date:** when they came to the site for the first time since the test started\r\n",
        "- **source:** marketing channel: Ads, SEO, Direct. Direct means everything except for ads and SEO, such as directly typing site URL on the browser, downloading the app w/o coming from SEO or Ads, referral friend, etc.\r\n",
        "- **device:** device used by the user. It can be mobile or web\r\n",
        "- **browser_language:** in browser or app settings, the language chosen by the user. It can be EN, ES, Other (Other means any language except for English and Spanish)\r\n",
        "- **ads_channel:** if marketing channel is ads, this is the site where the ad was displayed. It can be: Google, Facebook, Bing, Yahoo ,Other. If the user didn’t come via an ad, this field is NA\r\n",
        "- **browser:** user browser. It can be: IE, Chrome, Android_App, FireFox, Iphone_App, Safari, Opera\r\n",
        "- **conversion:** whether the user converted (1) or not (0). This is our label. A test is considered successful if it increases the proportion of users who convert.\r\n",
        "- **test:** users are randomly split into test (1) and control (0). Test users see the new translation and control the old one. For Spain-based users, this is obviously always 0 since there is no change there.\r\n",
        "\r\n",
        "---\r\n",
        "\r\n",
        "## user_table\r\n",
        "Some information about the user\r\n",
        "\r\n",
        "Columns:\r\n",
        "- **user_id:** the id of the user. It can be joined to user id in the other table\r\n",
        "- **sex:** user sex: Male or Female\r\n",
        "- **age:** user age (self-reported)\r\n",
        "- **country:** user country based on ip address"
      ]
    },
    {
      "cell_type": "markdown",
      "metadata": {
        "id": "YYvU0oS4XTon"
      },
      "source": [
        "# Initial Exploration"
      ]
    },
    {
      "cell_type": "code",
      "metadata": {
        "id": "uzekd6ofNsTN"
      },
      "source": [
        "import pandas as pd\r\n",
        "from scipy.stats import ttest_ind"
      ],
      "execution_count": null,
      "outputs": []
    },
    {
      "cell_type": "code",
      "metadata": {
        "id": "DlVTfBg2QqWK"
      },
      "source": [
        "df_tt = pd.read_csv('PRIVATE CSV')\r\n",
        "df_ut = pd.read_csv('PRIVATE CSV')"
      ],
      "execution_count": null,
      "outputs": []
    },
    {
      "cell_type": "code",
      "metadata": {
        "colab": {
          "base_uri": "https://localhost:8080/",
          "height": 216
        },
        "id": "G7ew_eI7Q7xv",
        "outputId": "0e21ea6c-3a18-4df8-b366-0cdd6201114c"
      },
      "source": [
        "print(df_tt.shape)\r\n",
        "df_tt.head()"
      ],
      "execution_count": null,
      "outputs": [
        {
          "output_type": "stream",
          "text": [
            "(453321, 9)\n"
          ],
          "name": "stdout"
        },
        {
          "output_type": "execute_result",
          "data": {
            "text/html": [
              "<div>\n",
              "<style scoped>\n",
              "    .dataframe tbody tr th:only-of-type {\n",
              "        vertical-align: middle;\n",
              "    }\n",
              "\n",
              "    .dataframe tbody tr th {\n",
              "        vertical-align: top;\n",
              "    }\n",
              "\n",
              "    .dataframe thead th {\n",
              "        text-align: right;\n",
              "    }\n",
              "</style>\n",
              "<table border=\"1\" class=\"dataframe\">\n",
              "  <thead>\n",
              "    <tr style=\"text-align: right;\">\n",
              "      <th></th>\n",
              "      <th>user_id</th>\n",
              "      <th>date</th>\n",
              "      <th>source</th>\n",
              "      <th>device</th>\n",
              "      <th>browser_language</th>\n",
              "      <th>ads_channel</th>\n",
              "      <th>browser</th>\n",
              "      <th>conversion</th>\n",
              "      <th>test</th>\n",
              "    </tr>\n",
              "  </thead>\n",
              "  <tbody>\n",
              "    <tr>\n",
              "      <th>0</th>\n",
              "      <td>315281</td>\n",
              "      <td>2015-12-03</td>\n",
              "      <td>Direct</td>\n",
              "      <td>Web</td>\n",
              "      <td>ES</td>\n",
              "      <td>NaN</td>\n",
              "      <td>IE</td>\n",
              "      <td>1</td>\n",
              "      <td>0</td>\n",
              "    </tr>\n",
              "    <tr>\n",
              "      <th>1</th>\n",
              "      <td>497851</td>\n",
              "      <td>2015-12-04</td>\n",
              "      <td>Ads</td>\n",
              "      <td>Web</td>\n",
              "      <td>ES</td>\n",
              "      <td>Google</td>\n",
              "      <td>IE</td>\n",
              "      <td>0</td>\n",
              "      <td>1</td>\n",
              "    </tr>\n",
              "    <tr>\n",
              "      <th>2</th>\n",
              "      <td>848402</td>\n",
              "      <td>2015-12-04</td>\n",
              "      <td>Ads</td>\n",
              "      <td>Web</td>\n",
              "      <td>ES</td>\n",
              "      <td>Facebook</td>\n",
              "      <td>Chrome</td>\n",
              "      <td>0</td>\n",
              "      <td>0</td>\n",
              "    </tr>\n",
              "    <tr>\n",
              "      <th>3</th>\n",
              "      <td>290051</td>\n",
              "      <td>2015-12-03</td>\n",
              "      <td>Ads</td>\n",
              "      <td>Mobile</td>\n",
              "      <td>Other</td>\n",
              "      <td>Facebook</td>\n",
              "      <td>Android_App</td>\n",
              "      <td>0</td>\n",
              "      <td>1</td>\n",
              "    </tr>\n",
              "    <tr>\n",
              "      <th>4</th>\n",
              "      <td>548435</td>\n",
              "      <td>2015-11-30</td>\n",
              "      <td>Ads</td>\n",
              "      <td>Web</td>\n",
              "      <td>ES</td>\n",
              "      <td>Google</td>\n",
              "      <td>FireFox</td>\n",
              "      <td>0</td>\n",
              "      <td>1</td>\n",
              "    </tr>\n",
              "  </tbody>\n",
              "</table>\n",
              "</div>"
            ],
            "text/plain": [
              "   user_id        date  source  ...      browser conversion test\n",
              "0   315281  2015-12-03  Direct  ...           IE          1    0\n",
              "1   497851  2015-12-04     Ads  ...           IE          0    1\n",
              "2   848402  2015-12-04     Ads  ...       Chrome          0    0\n",
              "3   290051  2015-12-03     Ads  ...  Android_App          0    1\n",
              "4   548435  2015-11-30     Ads  ...      FireFox          0    1\n",
              "\n",
              "[5 rows x 9 columns]"
            ]
          },
          "metadata": {
            "tags": []
          },
          "execution_count": 3
        }
      ]
    },
    {
      "cell_type": "code",
      "metadata": {
        "colab": {
          "base_uri": "https://localhost:8080/",
          "height": 216
        },
        "id": "Bjjrk1eNQ_Em",
        "outputId": "6d586cf2-2eb6-4c8c-c5ed-eb14b5578d18"
      },
      "source": [
        "print(df_tt.shape)\r\n",
        "df_ut.head()"
      ],
      "execution_count": null,
      "outputs": [
        {
          "output_type": "stream",
          "text": [
            "(453321, 9)\n"
          ],
          "name": "stdout"
        },
        {
          "output_type": "execute_result",
          "data": {
            "text/html": [
              "<div>\n",
              "<style scoped>\n",
              "    .dataframe tbody tr th:only-of-type {\n",
              "        vertical-align: middle;\n",
              "    }\n",
              "\n",
              "    .dataframe tbody tr th {\n",
              "        vertical-align: top;\n",
              "    }\n",
              "\n",
              "    .dataframe thead th {\n",
              "        text-align: right;\n",
              "    }\n",
              "</style>\n",
              "<table border=\"1\" class=\"dataframe\">\n",
              "  <thead>\n",
              "    <tr style=\"text-align: right;\">\n",
              "      <th></th>\n",
              "      <th>user_id</th>\n",
              "      <th>sex</th>\n",
              "      <th>age</th>\n",
              "      <th>country</th>\n",
              "    </tr>\n",
              "  </thead>\n",
              "  <tbody>\n",
              "    <tr>\n",
              "      <th>0</th>\n",
              "      <td>765821</td>\n",
              "      <td>M</td>\n",
              "      <td>20</td>\n",
              "      <td>Mexico</td>\n",
              "    </tr>\n",
              "    <tr>\n",
              "      <th>1</th>\n",
              "      <td>343561</td>\n",
              "      <td>F</td>\n",
              "      <td>27</td>\n",
              "      <td>Nicaragua</td>\n",
              "    </tr>\n",
              "    <tr>\n",
              "      <th>2</th>\n",
              "      <td>118744</td>\n",
              "      <td>M</td>\n",
              "      <td>23</td>\n",
              "      <td>Colombia</td>\n",
              "    </tr>\n",
              "    <tr>\n",
              "      <th>3</th>\n",
              "      <td>987753</td>\n",
              "      <td>F</td>\n",
              "      <td>27</td>\n",
              "      <td>Venezuela</td>\n",
              "    </tr>\n",
              "    <tr>\n",
              "      <th>4</th>\n",
              "      <td>554597</td>\n",
              "      <td>F</td>\n",
              "      <td>20</td>\n",
              "      <td>Spain</td>\n",
              "    </tr>\n",
              "  </tbody>\n",
              "</table>\n",
              "</div>"
            ],
            "text/plain": [
              "   user_id sex  age    country\n",
              "0   765821   M   20     Mexico\n",
              "1   343561   F   27  Nicaragua\n",
              "2   118744   M   23   Colombia\n",
              "3   987753   F   27  Venezuela\n",
              "4   554597   F   20      Spain"
            ]
          },
          "metadata": {
            "tags": []
          },
          "execution_count": 4
        }
      ]
    },
    {
      "cell_type": "code",
      "metadata": {
        "colab": {
          "base_uri": "https://localhost:8080/"
        },
        "id": "ULmXcaDzRDSs",
        "outputId": "59e40555-8ba1-4c22-c128-9461b16ec3c2"
      },
      "source": [
        "print(df_tt.isnull().sum(),'\\n')\r\n",
        "print(df_tt.info())"
      ],
      "execution_count": null,
      "outputs": [
        {
          "output_type": "stream",
          "text": [
            "user_id                  0\n",
            "date                     0\n",
            "source                   0\n",
            "device                   0\n",
            "browser_language         0\n",
            "ads_channel         271444\n",
            "browser                  0\n",
            "conversion               0\n",
            "test                     0\n",
            "dtype: int64 \n",
            "\n",
            "<class 'pandas.core.frame.DataFrame'>\n",
            "RangeIndex: 453321 entries, 0 to 453320\n",
            "Data columns (total 9 columns):\n",
            " #   Column            Non-Null Count   Dtype \n",
            "---  ------            --------------   ----- \n",
            " 0   user_id           453321 non-null  int64 \n",
            " 1   date              453321 non-null  object\n",
            " 2   source            453321 non-null  object\n",
            " 3   device            453321 non-null  object\n",
            " 4   browser_language  453321 non-null  object\n",
            " 5   ads_channel       181877 non-null  object\n",
            " 6   browser           453321 non-null  object\n",
            " 7   conversion        453321 non-null  int64 \n",
            " 8   test              453321 non-null  int64 \n",
            "dtypes: int64(3), object(6)\n",
            "memory usage: 31.1+ MB\n",
            "None\n"
          ],
          "name": "stdout"
        }
      ]
    },
    {
      "cell_type": "code",
      "metadata": {
        "colab": {
          "base_uri": "https://localhost:8080/"
        },
        "id": "QT9uA425RQs-",
        "outputId": "68eee3eb-9f7a-41bf-adec-dfff18b250c1"
      },
      "source": [
        "print(df_ut.isnull().sum(), '\\n')\r\n",
        "print(df_ut.info())"
      ],
      "execution_count": null,
      "outputs": [
        {
          "output_type": "stream",
          "text": [
            "user_id    0\n",
            "sex        0\n",
            "age        0\n",
            "country    0\n",
            "dtype: int64 \n",
            "\n",
            "<class 'pandas.core.frame.DataFrame'>\n",
            "RangeIndex: 452867 entries, 0 to 452866\n",
            "Data columns (total 4 columns):\n",
            " #   Column   Non-Null Count   Dtype \n",
            "---  ------   --------------   ----- \n",
            " 0   user_id  452867 non-null  int64 \n",
            " 1   sex      452867 non-null  object\n",
            " 2   age      452867 non-null  int64 \n",
            " 3   country  452867 non-null  object\n",
            "dtypes: int64(2), object(2)\n",
            "memory usage: 13.8+ MB\n",
            "None\n"
          ],
          "name": "stdout"
        }
      ]
    },
    {
      "cell_type": "markdown",
      "metadata": {
        "id": "Y1yVcBovVOeq"
      },
      "source": [
        "`.info()` showed the `user_id` count in the two tables don't match. Double check below. With such a small difference we'll go ahead and drop them in the merge but the company should take a look at why there is a discrepancy later."
      ]
    },
    {
      "cell_type": "code",
      "metadata": {
        "colab": {
          "base_uri": "https://localhost:8080/"
        },
        "id": "oXaO-UnYR2Oe",
        "outputId": "880ffd4e-873a-4305-b7c1-8713fcbe3c58"
      },
      "source": [
        "print('user table:', df_ut['user_id'].count(), df_ut['user_id'].nunique())\r\n",
        "print('test table:', df_tt['user_id'].count(), df_tt['user_id'].nunique())"
      ],
      "execution_count": null,
      "outputs": [
        {
          "output_type": "stream",
          "text": [
            "user table: 452867 452867\n",
            "test table: 453321 453321\n"
          ],
          "name": "stdout"
        }
      ]
    },
    {
      "cell_type": "code",
      "metadata": {
        "colab": {
          "base_uri": "https://localhost:8080/",
          "height": 216
        },
        "id": "hV5qY8N0Uepc",
        "outputId": "6acbf4a6-1626-4cc8-ccfa-c2eadf2bdfa4"
      },
      "source": [
        "df = df_ut.merge(df_tt, on='user_id')\r\n",
        "\r\n",
        "print(df.shape)\r\n",
        "df.head()"
      ],
      "execution_count": null,
      "outputs": [
        {
          "output_type": "stream",
          "text": [
            "(452867, 12)\n"
          ],
          "name": "stdout"
        },
        {
          "output_type": "execute_result",
          "data": {
            "text/html": [
              "<div>\n",
              "<style scoped>\n",
              "    .dataframe tbody tr th:only-of-type {\n",
              "        vertical-align: middle;\n",
              "    }\n",
              "\n",
              "    .dataframe tbody tr th {\n",
              "        vertical-align: top;\n",
              "    }\n",
              "\n",
              "    .dataframe thead th {\n",
              "        text-align: right;\n",
              "    }\n",
              "</style>\n",
              "<table border=\"1\" class=\"dataframe\">\n",
              "  <thead>\n",
              "    <tr style=\"text-align: right;\">\n",
              "      <th></th>\n",
              "      <th>user_id</th>\n",
              "      <th>sex</th>\n",
              "      <th>age</th>\n",
              "      <th>country</th>\n",
              "      <th>date</th>\n",
              "      <th>source</th>\n",
              "      <th>device</th>\n",
              "      <th>browser_language</th>\n",
              "      <th>ads_channel</th>\n",
              "      <th>browser</th>\n",
              "      <th>conversion</th>\n",
              "      <th>test</th>\n",
              "    </tr>\n",
              "  </thead>\n",
              "  <tbody>\n",
              "    <tr>\n",
              "      <th>0</th>\n",
              "      <td>765821</td>\n",
              "      <td>M</td>\n",
              "      <td>20</td>\n",
              "      <td>Mexico</td>\n",
              "      <td>2015-12-02</td>\n",
              "      <td>Ads</td>\n",
              "      <td>Mobile</td>\n",
              "      <td>ES</td>\n",
              "      <td>Yahoo</td>\n",
              "      <td>Android_App</td>\n",
              "      <td>0</td>\n",
              "      <td>1</td>\n",
              "    </tr>\n",
              "    <tr>\n",
              "      <th>1</th>\n",
              "      <td>343561</td>\n",
              "      <td>F</td>\n",
              "      <td>27</td>\n",
              "      <td>Nicaragua</td>\n",
              "      <td>2015-12-04</td>\n",
              "      <td>Ads</td>\n",
              "      <td>Web</td>\n",
              "      <td>ES</td>\n",
              "      <td>Facebook</td>\n",
              "      <td>Safari</td>\n",
              "      <td>0</td>\n",
              "      <td>0</td>\n",
              "    </tr>\n",
              "    <tr>\n",
              "      <th>2</th>\n",
              "      <td>118744</td>\n",
              "      <td>M</td>\n",
              "      <td>23</td>\n",
              "      <td>Colombia</td>\n",
              "      <td>2015-11-30</td>\n",
              "      <td>Ads</td>\n",
              "      <td>Mobile</td>\n",
              "      <td>ES</td>\n",
              "      <td>Facebook</td>\n",
              "      <td>Android_App</td>\n",
              "      <td>0</td>\n",
              "      <td>1</td>\n",
              "    </tr>\n",
              "    <tr>\n",
              "      <th>3</th>\n",
              "      <td>987753</td>\n",
              "      <td>F</td>\n",
              "      <td>27</td>\n",
              "      <td>Venezuela</td>\n",
              "      <td>2015-12-04</td>\n",
              "      <td>SEO</td>\n",
              "      <td>Web</td>\n",
              "      <td>ES</td>\n",
              "      <td>NaN</td>\n",
              "      <td>IE</td>\n",
              "      <td>0</td>\n",
              "      <td>1</td>\n",
              "    </tr>\n",
              "    <tr>\n",
              "      <th>4</th>\n",
              "      <td>554597</td>\n",
              "      <td>F</td>\n",
              "      <td>20</td>\n",
              "      <td>Spain</td>\n",
              "      <td>2015-12-04</td>\n",
              "      <td>Direct</td>\n",
              "      <td>Web</td>\n",
              "      <td>ES</td>\n",
              "      <td>NaN</td>\n",
              "      <td>Chrome</td>\n",
              "      <td>0</td>\n",
              "      <td>0</td>\n",
              "    </tr>\n",
              "  </tbody>\n",
              "</table>\n",
              "</div>"
            ],
            "text/plain": [
              "   user_id sex  age    country  ... ads_channel      browser conversion test\n",
              "0   765821   M   20     Mexico  ...       Yahoo  Android_App          0    1\n",
              "1   343561   F   27  Nicaragua  ...    Facebook       Safari          0    0\n",
              "2   118744   M   23   Colombia  ...    Facebook  Android_App          0    1\n",
              "3   987753   F   27  Venezuela  ...         NaN           IE          0    1\n",
              "4   554597   F   20      Spain  ...         NaN       Chrome          0    0\n",
              "\n",
              "[5 rows x 12 columns]"
            ]
          },
          "metadata": {
            "tags": []
          },
          "execution_count": 8
        }
      ]
    },
    {
      "cell_type": "markdown",
      "metadata": {
        "id": "iMrbsjvkXbDz"
      },
      "source": [
        "# Testing and Exploration"
      ]
    },
    {
      "cell_type": "markdown",
      "metadata": {
        "id": "7YVEhhwZ1cjH"
      },
      "source": [
        "Verify the initial claim that kicked all this off, does Spain have an abnormally high conversion rate? Yep. Also, Argentina and Uruguay have abnormally low conversion rates as well."
      ]
    },
    {
      "cell_type": "code",
      "metadata": {
        "colab": {
          "base_uri": "https://localhost:8080/"
        },
        "id": "QHNusJbRWi1F",
        "outputId": "1896bb1d-fa69-4934-f0ab-39cd840fc317"
      },
      "source": [
        "df.groupby('country')['conversion'].mean().sort_values(ascending=False)"
      ],
      "execution_count": null,
      "outputs": [
        {
          "output_type": "execute_result",
          "data": {
            "text/plain": [
              "country\n",
              "Spain          0.079719\n",
              "Costa Rica     0.053494\n",
              "Nicaragua      0.053399\n",
              "Colombia       0.051332\n",
              "El Salvador    0.050765\n",
              "Mexico         0.050341\n",
              "Peru           0.050258\n",
              "Chile          0.049704\n",
              "Venezuela      0.049666\n",
              "Guatemala      0.049653\n",
              "Honduras       0.049253\n",
              "Ecuador        0.049072\n",
              "Paraguay       0.048863\n",
              "Bolivia        0.048634\n",
              "Panama         0.048089\n",
              "Argentina      0.013994\n",
              "Uruguay        0.012821\n",
              "Name: conversion, dtype: float64"
            ]
          },
          "metadata": {
            "tags": []
          },
          "execution_count": 9
        }
      ]
    },
    {
      "cell_type": "markdown",
      "metadata": {
        "id": "d4LuGlkj4Gi3"
      },
      "source": [
        "Verify the test. Significant difference in the conversion rate between the control group and the test group. Verified by the t-test, the test group performed worse than leaving things the same."
      ]
    },
    {
      "cell_type": "code",
      "metadata": {
        "colab": {
          "base_uri": "https://localhost:8080/"
        },
        "id": "M4TUhqyo8tgB",
        "outputId": "ac68390c-6963-4136-80c5-33e10c847eab"
      },
      "source": [
        "df[df['test'] == 1]['conversion'].mean(), df[df['test'] == 0]['conversion'].mean()"
      ],
      "execution_count": null,
      "outputs": [
        {
          "output_type": "execute_result",
          "data": {
            "text/plain": [
              "(0.043411161678422794, 0.05515557186420519)"
            ]
          },
          "metadata": {
            "tags": []
          },
          "execution_count": 10
        }
      ]
    },
    {
      "cell_type": "code",
      "metadata": {
        "id": "Ccy0V5lVXxI8",
        "colab": {
          "base_uri": "https://localhost:8080/"
        },
        "outputId": "d3be7cdc-0579-4c00-8534-50939ae75d51"
      },
      "source": [
        "test_results =  ttest_ind(df[(df['test'] == 1) & (df['country'] != 'Spain')]['conversion'],\r\n",
        "                            df[(df['test'] == 0) & (df['country'] != 'Spain')]['conversion'],\r\n",
        "                            equal_var=False)\r\n",
        "\r\n",
        "print('P-Value:', test_results.pvalue)\r\n",
        "print('T-Stat:', test_results.statistic)"
      ],
      "execution_count": null,
      "outputs": [
        {
          "output_type": "stream",
          "text": [
            "P-Value: 1.928917857779903e-13\n",
            "T-Stat: -7.353895203080277\n"
          ],
          "name": "stdout"
        }
      ]
    },
    {
      "cell_type": "markdown",
      "metadata": {
        "id": "0nciZK3J99hl"
      },
      "source": [
        "It seems unlikely that localized sites would perform worse, especially by so much, so we need to look for potential causes.\r\n",
        "\r\n",
        "We have almost half a million observations so it is unlikely that our sample size is too small. The next likely culprit is that the test and control groups were not split evenly on one or more variables. Ideally, our control and test groups should only differ on one variable."
      ]
    },
    {
      "cell_type": "code",
      "metadata": {
        "id": "ZJilJhtx72kd"
      },
      "source": [
        "df_one_hot = pd.get_dummies(df)"
      ],
      "execution_count": null,
      "outputs": []
    },
    {
      "cell_type": "code",
      "metadata": {
        "id": "msq44_zn97KW",
        "colab": {
          "base_uri": "https://localhost:8080/"
        },
        "outputId": "0e1ce3bf-8e13-4e50-bde2-6ad2c0e596bd"
      },
      "source": [
        "for col in df_one_hot.columns:\r\n",
        "    print(col)\r\n",
        "    print(df_one_hot.groupby('test')[col].mean(), '\\n')"
      ],
      "execution_count": null,
      "outputs": [
        {
          "output_type": "stream",
          "text": [
            "user_id\n",
            "test\n",
            "0    500364.345278\n",
            "1    499483.813462\n",
            "Name: user_id, dtype: float64 \n",
            "\n",
            "age\n",
            "test\n",
            "0    27.144850\n",
            "1    27.115236\n",
            "Name: age, dtype: float64 \n",
            "\n",
            "conversion\n",
            "test\n",
            "0    0.055156\n",
            "1    0.043411\n",
            "Name: conversion, dtype: float64 \n",
            "\n",
            "test\n",
            "test\n",
            "0    0\n",
            "1    1\n",
            "Name: test, dtype: int64 \n",
            "\n",
            "sex_F\n",
            "test\n",
            "0    0.415335\n",
            "1    0.416681\n",
            "Name: sex_F, dtype: float64 \n",
            "\n",
            "sex_M\n",
            "test\n",
            "0    0.584665\n",
            "1    0.583319\n",
            "Name: sex_M, dtype: float64 \n",
            "\n",
            "country_Argentina\n",
            "test\n",
            "0    0.039461\n",
            "1    0.173223\n",
            "Name: country_Argentina, dtype: float64 \n",
            "\n",
            "country_Bolivia\n",
            "test\n",
            "0    0.023409\n",
            "1    0.025833\n",
            "Name: country_Bolivia, dtype: float64 \n",
            "\n",
            "country_Chile\n",
            "test\n",
            "0    0.041558\n",
            "1    0.045807\n",
            "Name: country_Chile, dtype: float64 \n",
            "\n",
            "country_Colombia\n",
            "test\n",
            "0    0.114251\n",
            "1    0.125001\n",
            "Name: country_Colombia, dtype: float64 \n",
            "\n",
            "country_Costa Rica\n",
            "test\n",
            "0    0.011219\n",
            "1    0.012277\n",
            "Name: country_Costa Rica, dtype: float64 \n",
            "\n",
            "country_Ecuador\n",
            "test\n",
            "0    0.033894\n",
            "1    0.036422\n",
            "Name: country_Ecuador, dtype: float64 \n",
            "\n",
            "country_El Salvador\n",
            "test\n",
            "0    0.017327\n",
            "1    0.018848\n",
            "Name: country_El Salvador, dtype: float64 \n",
            "\n",
            "country_Guatemala\n",
            "test\n",
            "0    0.032148\n",
            "1    0.034772\n",
            "Name: country_Guatemala, dtype: float64 \n",
            "\n",
            "country_Honduras\n",
            "test\n",
            "0    0.018394\n",
            "1    0.019497\n",
            "Name: country_Honduras, dtype: float64 \n",
            "\n",
            "country_Mexico\n",
            "test\n",
            "0    0.270818\n",
            "1    0.297881\n",
            "Name: country_Mexico, dtype: float64 \n",
            "\n",
            "country_Nicaragua\n",
            "test\n",
            "0    0.014421\n",
            "1    0.015312\n",
            "Name: country_Nicaragua, dtype: float64 \n",
            "\n",
            "country_Panama\n",
            "test\n",
            "0    0.008292\n",
            "1    0.009199\n",
            "Name: country_Panama, dtype: float64 \n",
            "\n",
            "country_Paraguay\n",
            "test\n",
            "0    0.015395\n",
            "1    0.017134\n",
            "Name: country_Paraguay, dtype: float64 \n",
            "\n",
            "country_Peru\n",
            "test\n",
            "0    0.071149\n",
            "1    0.077845\n",
            "Name: country_Peru, dtype: float64 \n",
            "\n",
            "country_Spain\n",
            "test\n",
            "0    0.218404\n",
            "1    0.000000\n",
            "Name: country_Spain, dtype: float64 \n",
            "\n",
            "country_Uruguay\n",
            "test\n",
            "0    0.001750\n",
            "1    0.017236\n",
            "Name: country_Uruguay, dtype: float64 \n",
            "\n",
            "country_Venezuela\n",
            "test\n",
            "0    0.068113\n",
            "1    0.073711\n",
            "Name: country_Venezuela, dtype: float64 \n",
            "\n",
            "date_2015-11-30\n",
            "test\n",
            "0    0.156496\n",
            "1    0.156849\n",
            "Name: date_2015-11-30, dtype: float64 \n",
            "\n",
            "date_2015-12-01\n",
            "test\n",
            "0    0.156373\n",
            "1    0.156831\n",
            "Name: date_2015-12-01, dtype: float64 \n",
            "\n",
            "date_2015-12-02\n",
            "test\n",
            "0    0.156327\n",
            "1    0.155334\n",
            "Name: date_2015-12-02, dtype: float64 \n",
            "\n",
            "date_2015-12-03\n",
            "test\n",
            "0    0.219391\n",
            "1    0.219596\n",
            "Name: date_2015-12-03, dtype: float64 \n",
            "\n",
            "date_2015-12-04\n",
            "test\n",
            "0    0.311414\n",
            "1    0.311391\n",
            "Name: date_2015-12-04, dtype: float64 \n",
            "\n",
            "source_Ads\n",
            "test\n",
            "0    0.401720\n",
            "1    0.400641\n",
            "Name: source_Ads, dtype: float64 \n",
            "\n",
            "source_Direct\n",
            "test\n",
            "0    0.201149\n",
            "1    0.199500\n",
            "Name: source_Direct, dtype: float64 \n",
            "\n",
            "source_SEO\n",
            "test\n",
            "0    0.397131\n",
            "1    0.399858\n",
            "Name: source_SEO, dtype: float64 \n",
            "\n",
            "device_Mobile\n",
            "test\n",
            "0    0.444108\n",
            "1    0.446096\n",
            "Name: device_Mobile, dtype: float64 \n",
            "\n",
            "device_Web\n",
            "test\n",
            "0    0.555892\n",
            "1    0.553904\n",
            "Name: device_Web, dtype: float64 \n",
            "\n",
            "browser_language_EN\n",
            "test\n",
            "0    0.139072\n",
            "1    0.139526\n",
            "Name: browser_language_EN, dtype: float64 \n",
            "\n",
            "browser_language_ES\n",
            "test\n",
            "0    0.833268\n",
            "1    0.832343\n",
            "Name: browser_language_ES, dtype: float64 \n",
            "\n",
            "browser_language_Other\n",
            "test\n",
            "0    0.027660\n",
            "1    0.028131\n",
            "Name: browser_language_Other, dtype: float64 \n",
            "\n",
            "ads_channel_Bing\n",
            "test\n",
            "0    0.030208\n",
            "1    0.030161\n",
            "Name: ads_channel_Bing, dtype: float64 \n",
            "\n",
            "ads_channel_Facebook\n",
            "test\n",
            "0    0.150789\n",
            "1    0.151116\n",
            "Name: ads_channel_Facebook, dtype: float64 \n",
            "\n",
            "ads_channel_Google\n",
            "test\n",
            "0    0.150721\n",
            "1    0.150055\n",
            "Name: ads_channel_Google, dtype: float64 \n",
            "\n",
            "ads_channel_Other\n",
            "test\n",
            "0    0.009334\n",
            "1    0.008945\n",
            "Name: ads_channel_Other, dtype: float64 \n",
            "\n",
            "ads_channel_Yahoo\n",
            "test\n",
            "0    0.060668\n",
            "1    0.060364\n",
            "Name: ads_channel_Yahoo, dtype: float64 \n",
            "\n",
            "browser_Android_App\n",
            "test\n",
            "0    0.341090\n",
            "1    0.343447\n",
            "Name: browser_Android_App, dtype: float64 \n",
            "\n",
            "browser_Chrome\n",
            "test\n",
            "0    0.223824\n",
            "1    0.225954\n",
            "Name: browser_Chrome, dtype: float64 \n",
            "\n",
            "browser_FireFox\n",
            "test\n",
            "0    0.090100\n",
            "1    0.089719\n",
            "Name: browser_FireFox, dtype: float64 \n",
            "\n",
            "browser_IE\n",
            "test\n",
            "0    0.136816\n",
            "1    0.135410\n",
            "Name: browser_IE, dtype: float64 \n",
            "\n",
            "browser_Iphone_App\n",
            "test\n",
            "0    0.103019\n",
            "1    0.102649\n",
            "Name: browser_Iphone_App, dtype: float64 \n",
            "\n",
            "browser_Opera\n",
            "test\n",
            "0    0.013501\n",
            "1    0.013361\n",
            "Name: browser_Opera, dtype: float64 \n",
            "\n",
            "browser_Safari\n",
            "test\n",
            "0    0.091652\n",
            "1    0.089459\n",
            "Name: browser_Safari, dtype: float64 \n",
            "\n"
          ],
          "name": "stdout"
        }
      ]
    },
    {
      "cell_type": "markdown",
      "metadata": {
        "id": "8qtnE890RQOI"
      },
      "source": [
        "Looking at each of the variables, we see that Uruguay and Argentina are the culprits. There seems a relatively large difference of the mean between the test and control groups for those two countries. We can test this further by removing those two countries from the A/B test and seeing if we get the test results we expected."
      ]
    },
    {
      "cell_type": "code",
      "metadata": {
        "colab": {
          "base_uri": "https://localhost:8080/",
          "height": 138
        },
        "id": "un4Il8iDRz3z",
        "outputId": "53a4a13a-e7ca-4a04-de47-656fca05dfad"
      },
      "source": [
        "df_one_hot.groupby('test')[['country_Argentina', 'country_Uruguay']].mean()"
      ],
      "execution_count": null,
      "outputs": [
        {
          "output_type": "execute_result",
          "data": {
            "text/html": [
              "<div>\n",
              "<style scoped>\n",
              "    .dataframe tbody tr th:only-of-type {\n",
              "        vertical-align: middle;\n",
              "    }\n",
              "\n",
              "    .dataframe tbody tr th {\n",
              "        vertical-align: top;\n",
              "    }\n",
              "\n",
              "    .dataframe thead th {\n",
              "        text-align: right;\n",
              "    }\n",
              "</style>\n",
              "<table border=\"1\" class=\"dataframe\">\n",
              "  <thead>\n",
              "    <tr style=\"text-align: right;\">\n",
              "      <th></th>\n",
              "      <th>country_Argentina</th>\n",
              "      <th>country_Uruguay</th>\n",
              "    </tr>\n",
              "    <tr>\n",
              "      <th>test</th>\n",
              "      <th></th>\n",
              "      <th></th>\n",
              "    </tr>\n",
              "  </thead>\n",
              "  <tbody>\n",
              "    <tr>\n",
              "      <th>0</th>\n",
              "      <td>0.039461</td>\n",
              "      <td>0.001750</td>\n",
              "    </tr>\n",
              "    <tr>\n",
              "      <th>1</th>\n",
              "      <td>0.173223</td>\n",
              "      <td>0.017236</td>\n",
              "    </tr>\n",
              "  </tbody>\n",
              "</table>\n",
              "</div>"
            ],
            "text/plain": [
              "      country_Argentina  country_Uruguay\n",
              "test                                    \n",
              "0              0.039461         0.001750\n",
              "1              0.173223         0.017236"
            ]
          },
          "metadata": {
            "tags": []
          },
          "execution_count": 14
        }
      ]
    },
    {
      "cell_type": "markdown",
      "metadata": {
        "id": "dvX1TTGvak_7"
      },
      "source": [
        "Remove Uruguay and Argentina to remove the irregularity and still removing Spain since it doesn't change. Run the test and we see a non-significant result. We found and confirmed the problem but its a bit underwhelming when we were trying to improve conversion rate."
      ]
    },
    {
      "cell_type": "code",
      "metadata": {
        "id": "-aTh_sc1SeLB"
      },
      "source": [
        "df_correction = df[(df['country'] != 'Argentina') & \r\n",
        "                   (df['country'] != 'Uruguay') & \r\n",
        "                   (df['country'] != 'Spain')]"
      ],
      "execution_count": null,
      "outputs": []
    },
    {
      "cell_type": "code",
      "metadata": {
        "colab": {
          "base_uri": "https://localhost:8080/"
        },
        "id": "3Cw8eHW6P9mS",
        "outputId": "233cd510-6759-45cc-f39b-b04ad479f13d"
      },
      "source": [
        "ttest_ind(df_correction[df_correction['test'] == 1]['conversion'],\r\n",
        "                        df_correction[df_correction['test'] == 0]['conversion'],\r\n",
        "                        equal_var=False)"
      ],
      "execution_count": null,
      "outputs": [
        {
          "output_type": "execute_result",
          "data": {
            "text/plain": [
              "Ttest_indResult(statistic=0.35834557944814466, pvalue=0.7200849282884503)"
            ]
          },
          "metadata": {
            "tags": []
          },
          "execution_count": 16
        }
      ]
    },
    {
      "cell_type": "markdown",
      "metadata": {
        "id": "HPceQE4CgQ9w"
      },
      "source": [
        "Per the final prompt, create a function to catch this issue in the future."
      ]
    },
    {
      "cell_type": "code",
      "metadata": {
        "id": "LrFqQcZNYczc"
      },
      "source": [
        "def verify_distributions(df_one_hot):\r\n",
        "    for col in df_one_hot.columns:\r\n",
        "        splits = df_one_hot.groupby('test')[col].mean()\r\n",
        "        percent_diff = (1-(splits[0]/splits[1]))\r\n",
        "        if percent_diff > .1:\r\n",
        "            return False\r\n",
        "    return True"
      ],
      "execution_count": null,
      "outputs": []
    }
  ]
}